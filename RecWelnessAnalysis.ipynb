{
 "cells": [
  {
   "cell_type": "markdown",
   "id": "6a025a0d-e746-474c-8679-a3ba23c5ee18",
   "metadata": {},
   "source": [
    "This chart measures engagment trends over time from 2021 to 2024, and shows a clear upward trend of views thanks to the introduction of Instagram Reels and the subsquent posting of reels to the Recreation and Wellness account. For refrence, the Recreation and Wellness center saw an increased amount of Reels uploads staring in the back-half of 2023, which is exactly when we see a large uptake in view count. Disappointingly, it doens't seem that engagment has risen to meet this increase in views, at least at this current rate. "
   ]
  },
  {
   "cell_type": "code",
   "execution_count": null,
   "id": "bfb7b4b6-36c7-442b-997d-5be815c8db88",
   "metadata": {},
   "outputs": [],
   "source": [
    "Discoverability"
   ]
  },
  {
   "cell_type": "code",
   "execution_count": 127,
   "id": "98bb1b4b-a615-47cf-b20a-7d30793e4135",
   "metadata": {
    "jupyter": {
     "source_hidden": true
    }
   },
   "outputs": [
    {
     "data": {
      "application/vnd.plotly.v1+json": {
       "config": {
        "plotlyServerURL": "https://plot.ly"
       },
       "data": [
        {
         "hovertemplate": "variable=Average View Count<br>Month=%{x}<br>Average Engagement=%{y}<extra></extra>",
         "legendgroup": "Average View Count",
         "line": {
          "color": "#636efa",
          "dash": "solid"
         },
         "marker": {
          "symbol": "circle"
         },
         "mode": "lines",
         "name": "Average View Count",
         "orientation": "v",
         "showlegend": true,
         "type": "scatter",
         "x": [
          "2020-10",
          "2020-11",
          "2021-11",
          "2022-02",
          "2022-03",
          "2022-11",
          "2023-03",
          "2023-06",
          "2023-09",
          "2023-10",
          "2023-11",
          "2023-12",
          "2024-01",
          "2024-02",
          "2024-03",
          "2024-04",
          "2024-05"
         ],
         "xaxis": "x",
         "y": [
          359.6666666666667,
          288.75,
          77,
          67.33333333333333,
          81,
          292,
          224,
          490,
          963,
          428,
          700,
          1166.3333333333333,
          191.5,
          1031,
          699,
          713.75,
          534
         ],
         "yaxis": "y"
        },
        {
         "hovertemplate": "variable=Average Like Count<br>Month=%{x}<br>Average Engagement=%{y}<extra></extra>",
         "legendgroup": "Average Like Count",
         "line": {
          "color": "#EF553B",
          "dash": "solid"
         },
         "marker": {
          "symbol": "circle"
         },
         "mode": "lines",
         "name": "Average Like Count",
         "orientation": "v",
         "showlegend": true,
         "type": "scatter",
         "x": [
          "2020-10",
          "2020-11",
          "2021-11",
          "2022-02",
          "2022-03",
          "2022-11",
          "2023-03",
          "2023-06",
          "2023-09",
          "2023-10",
          "2023-11",
          "2023-12",
          "2024-01",
          "2024-02",
          "2024-03",
          "2024-04",
          "2024-05"
         ],
         "xaxis": "x",
         "y": [
          33.666666666666664,
          29,
          7,
          7.333333333333333,
          6,
          24,
          30,
          45,
          132,
          69,
          76,
          124.66666666666667,
          11.75,
          68,
          -1,
          98.5,
          30
         ],
         "yaxis": "y"
        },
        {
         "hovertemplate": "variable=Average Comment Count<br>Month=%{x}<br>Average Engagement=%{y}<extra></extra>",
         "legendgroup": "Average Comment Count",
         "line": {
          "color": "#00cc96",
          "dash": "solid"
         },
         "marker": {
          "symbol": "circle"
         },
         "mode": "lines",
         "name": "Average Comment Count",
         "orientation": "v",
         "showlegend": true,
         "type": "scatter",
         "x": [
          "2020-10",
          "2020-11",
          "2021-11",
          "2022-02",
          "2022-03",
          "2022-11",
          "2023-03",
          "2023-06",
          "2023-09",
          "2023-10",
          "2023-11",
          "2023-12",
          "2024-01",
          "2024-02",
          "2024-03",
          "2024-04",
          "2024-05"
         ],
         "xaxis": "x",
         "y": [
          1,
          0.25,
          0,
          0,
          0,
          0,
          0,
          0,
          2,
          1,
          0,
          5,
          0,
          0,
          0,
          0.5,
          2
         ],
         "yaxis": "y"
        }
       ],
       "layout": {
        "autosize": true,
        "legend": {
         "title": {
          "text": "Metrics"
         },
         "tracegroupgap": 0
        },
        "template": {
         "data": {
          "bar": [
           {
            "error_x": {
             "color": "#2a3f5f"
            },
            "error_y": {
             "color": "#2a3f5f"
            },
            "marker": {
             "line": {
              "color": "#E5ECF6",
              "width": 0.5
             },
             "pattern": {
              "fillmode": "overlay",
              "size": 10,
              "solidity": 0.2
             }
            },
            "type": "bar"
           }
          ],
          "barpolar": [
           {
            "marker": {
             "line": {
              "color": "#E5ECF6",
              "width": 0.5
             },
             "pattern": {
              "fillmode": "overlay",
              "size": 10,
              "solidity": 0.2
             }
            },
            "type": "barpolar"
           }
          ],
          "carpet": [
           {
            "aaxis": {
             "endlinecolor": "#2a3f5f",
             "gridcolor": "white",
             "linecolor": "white",
             "minorgridcolor": "white",
             "startlinecolor": "#2a3f5f"
            },
            "baxis": {
             "endlinecolor": "#2a3f5f",
             "gridcolor": "white",
             "linecolor": "white",
             "minorgridcolor": "white",
             "startlinecolor": "#2a3f5f"
            },
            "type": "carpet"
           }
          ],
          "choropleth": [
           {
            "colorbar": {
             "outlinewidth": 0,
             "ticks": ""
            },
            "type": "choropleth"
           }
          ],
          "contour": [
           {
            "colorbar": {
             "outlinewidth": 0,
             "ticks": ""
            },
            "colorscale": [
             [
              0,
              "#0d0887"
             ],
             [
              0.1111111111111111,
              "#46039f"
             ],
             [
              0.2222222222222222,
              "#7201a8"
             ],
             [
              0.3333333333333333,
              "#9c179e"
             ],
             [
              0.4444444444444444,
              "#bd3786"
             ],
             [
              0.5555555555555556,
              "#d8576b"
             ],
             [
              0.6666666666666666,
              "#ed7953"
             ],
             [
              0.7777777777777778,
              "#fb9f3a"
             ],
             [
              0.8888888888888888,
              "#fdca26"
             ],
             [
              1,
              "#f0f921"
             ]
            ],
            "type": "contour"
           }
          ],
          "contourcarpet": [
           {
            "colorbar": {
             "outlinewidth": 0,
             "ticks": ""
            },
            "type": "contourcarpet"
           }
          ],
          "heatmap": [
           {
            "colorbar": {
             "outlinewidth": 0,
             "ticks": ""
            },
            "colorscale": [
             [
              0,
              "#0d0887"
             ],
             [
              0.1111111111111111,
              "#46039f"
             ],
             [
              0.2222222222222222,
              "#7201a8"
             ],
             [
              0.3333333333333333,
              "#9c179e"
             ],
             [
              0.4444444444444444,
              "#bd3786"
             ],
             [
              0.5555555555555556,
              "#d8576b"
             ],
             [
              0.6666666666666666,
              "#ed7953"
             ],
             [
              0.7777777777777778,
              "#fb9f3a"
             ],
             [
              0.8888888888888888,
              "#fdca26"
             ],
             [
              1,
              "#f0f921"
             ]
            ],
            "type": "heatmap"
           }
          ],
          "heatmapgl": [
           {
            "colorbar": {
             "outlinewidth": 0,
             "ticks": ""
            },
            "colorscale": [
             [
              0,
              "#0d0887"
             ],
             [
              0.1111111111111111,
              "#46039f"
             ],
             [
              0.2222222222222222,
              "#7201a8"
             ],
             [
              0.3333333333333333,
              "#9c179e"
             ],
             [
              0.4444444444444444,
              "#bd3786"
             ],
             [
              0.5555555555555556,
              "#d8576b"
             ],
             [
              0.6666666666666666,
              "#ed7953"
             ],
             [
              0.7777777777777778,
              "#fb9f3a"
             ],
             [
              0.8888888888888888,
              "#fdca26"
             ],
             [
              1,
              "#f0f921"
             ]
            ],
            "type": "heatmapgl"
           }
          ],
          "histogram": [
           {
            "marker": {
             "pattern": {
              "fillmode": "overlay",
              "size": 10,
              "solidity": 0.2
             }
            },
            "type": "histogram"
           }
          ],
          "histogram2d": [
           {
            "colorbar": {
             "outlinewidth": 0,
             "ticks": ""
            },
            "colorscale": [
             [
              0,
              "#0d0887"
             ],
             [
              0.1111111111111111,
              "#46039f"
             ],
             [
              0.2222222222222222,
              "#7201a8"
             ],
             [
              0.3333333333333333,
              "#9c179e"
             ],
             [
              0.4444444444444444,
              "#bd3786"
             ],
             [
              0.5555555555555556,
              "#d8576b"
             ],
             [
              0.6666666666666666,
              "#ed7953"
             ],
             [
              0.7777777777777778,
              "#fb9f3a"
             ],
             [
              0.8888888888888888,
              "#fdca26"
             ],
             [
              1,
              "#f0f921"
             ]
            ],
            "type": "histogram2d"
           }
          ],
          "histogram2dcontour": [
           {
            "colorbar": {
             "outlinewidth": 0,
             "ticks": ""
            },
            "colorscale": [
             [
              0,
              "#0d0887"
             ],
             [
              0.1111111111111111,
              "#46039f"
             ],
             [
              0.2222222222222222,
              "#7201a8"
             ],
             [
              0.3333333333333333,
              "#9c179e"
             ],
             [
              0.4444444444444444,
              "#bd3786"
             ],
             [
              0.5555555555555556,
              "#d8576b"
             ],
             [
              0.6666666666666666,
              "#ed7953"
             ],
             [
              0.7777777777777778,
              "#fb9f3a"
             ],
             [
              0.8888888888888888,
              "#fdca26"
             ],
             [
              1,
              "#f0f921"
             ]
            ],
            "type": "histogram2dcontour"
           }
          ],
          "mesh3d": [
           {
            "colorbar": {
             "outlinewidth": 0,
             "ticks": ""
            },
            "type": "mesh3d"
           }
          ],
          "parcoords": [
           {
            "line": {
             "colorbar": {
              "outlinewidth": 0,
              "ticks": ""
             }
            },
            "type": "parcoords"
           }
          ],
          "pie": [
           {
            "automargin": true,
            "type": "pie"
           }
          ],
          "scatter": [
           {
            "fillpattern": {
             "fillmode": "overlay",
             "size": 10,
             "solidity": 0.2
            },
            "type": "scatter"
           }
          ],
          "scatter3d": [
           {
            "line": {
             "colorbar": {
              "outlinewidth": 0,
              "ticks": ""
             }
            },
            "marker": {
             "colorbar": {
              "outlinewidth": 0,
              "ticks": ""
             }
            },
            "type": "scatter3d"
           }
          ],
          "scattercarpet": [
           {
            "marker": {
             "colorbar": {
              "outlinewidth": 0,
              "ticks": ""
             }
            },
            "type": "scattercarpet"
           }
          ],
          "scattergeo": [
           {
            "marker": {
             "colorbar": {
              "outlinewidth": 0,
              "ticks": ""
             }
            },
            "type": "scattergeo"
           }
          ],
          "scattergl": [
           {
            "marker": {
             "colorbar": {
              "outlinewidth": 0,
              "ticks": ""
             }
            },
            "type": "scattergl"
           }
          ],
          "scattermapbox": [
           {
            "marker": {
             "colorbar": {
              "outlinewidth": 0,
              "ticks": ""
             }
            },
            "type": "scattermapbox"
           }
          ],
          "scatterpolar": [
           {
            "marker": {
             "colorbar": {
              "outlinewidth": 0,
              "ticks": ""
             }
            },
            "type": "scatterpolar"
           }
          ],
          "scatterpolargl": [
           {
            "marker": {
             "colorbar": {
              "outlinewidth": 0,
              "ticks": ""
             }
            },
            "type": "scatterpolargl"
           }
          ],
          "scatterternary": [
           {
            "marker": {
             "colorbar": {
              "outlinewidth": 0,
              "ticks": ""
             }
            },
            "type": "scatterternary"
           }
          ],
          "surface": [
           {
            "colorbar": {
             "outlinewidth": 0,
             "ticks": ""
            },
            "colorscale": [
             [
              0,
              "#0d0887"
             ],
             [
              0.1111111111111111,
              "#46039f"
             ],
             [
              0.2222222222222222,
              "#7201a8"
             ],
             [
              0.3333333333333333,
              "#9c179e"
             ],
             [
              0.4444444444444444,
              "#bd3786"
             ],
             [
              0.5555555555555556,
              "#d8576b"
             ],
             [
              0.6666666666666666,
              "#ed7953"
             ],
             [
              0.7777777777777778,
              "#fb9f3a"
             ],
             [
              0.8888888888888888,
              "#fdca26"
             ],
             [
              1,
              "#f0f921"
             ]
            ],
            "type": "surface"
           }
          ],
          "table": [
           {
            "cells": {
             "fill": {
              "color": "#EBF0F8"
             },
             "line": {
              "color": "white"
             }
            },
            "header": {
             "fill": {
              "color": "#C8D4E3"
             },
             "line": {
              "color": "white"
             }
            },
            "type": "table"
           }
          ]
         },
         "layout": {
          "annotationdefaults": {
           "arrowcolor": "#2a3f5f",
           "arrowhead": 0,
           "arrowwidth": 1
          },
          "autotypenumbers": "strict",
          "coloraxis": {
           "colorbar": {
            "outlinewidth": 0,
            "ticks": ""
           }
          },
          "colorscale": {
           "diverging": [
            [
             0,
             "#8e0152"
            ],
            [
             0.1,
             "#c51b7d"
            ],
            [
             0.2,
             "#de77ae"
            ],
            [
             0.3,
             "#f1b6da"
            ],
            [
             0.4,
             "#fde0ef"
            ],
            [
             0.5,
             "#f7f7f7"
            ],
            [
             0.6,
             "#e6f5d0"
            ],
            [
             0.7,
             "#b8e186"
            ],
            [
             0.8,
             "#7fbc41"
            ],
            [
             0.9,
             "#4d9221"
            ],
            [
             1,
             "#276419"
            ]
           ],
           "sequential": [
            [
             0,
             "#0d0887"
            ],
            [
             0.1111111111111111,
             "#46039f"
            ],
            [
             0.2222222222222222,
             "#7201a8"
            ],
            [
             0.3333333333333333,
             "#9c179e"
            ],
            [
             0.4444444444444444,
             "#bd3786"
            ],
            [
             0.5555555555555556,
             "#d8576b"
            ],
            [
             0.6666666666666666,
             "#ed7953"
            ],
            [
             0.7777777777777778,
             "#fb9f3a"
            ],
            [
             0.8888888888888888,
             "#fdca26"
            ],
            [
             1,
             "#f0f921"
            ]
           ],
           "sequentialminus": [
            [
             0,
             "#0d0887"
            ],
            [
             0.1111111111111111,
             "#46039f"
            ],
            [
             0.2222222222222222,
             "#7201a8"
            ],
            [
             0.3333333333333333,
             "#9c179e"
            ],
            [
             0.4444444444444444,
             "#bd3786"
            ],
            [
             0.5555555555555556,
             "#d8576b"
            ],
            [
             0.6666666666666666,
             "#ed7953"
            ],
            [
             0.7777777777777778,
             "#fb9f3a"
            ],
            [
             0.8888888888888888,
             "#fdca26"
            ],
            [
             1,
             "#f0f921"
            ]
           ]
          },
          "colorway": [
           "#636efa",
           "#EF553B",
           "#00cc96",
           "#ab63fa",
           "#FFA15A",
           "#19d3f3",
           "#FF6692",
           "#B6E880",
           "#FF97FF",
           "#FECB52"
          ],
          "font": {
           "color": "#2a3f5f"
          },
          "geo": {
           "bgcolor": "white",
           "lakecolor": "white",
           "landcolor": "#E5ECF6",
           "showlakes": true,
           "showland": true,
           "subunitcolor": "white"
          },
          "hoverlabel": {
           "align": "left"
          },
          "hovermode": "closest",
          "mapbox": {
           "style": "light"
          },
          "paper_bgcolor": "white",
          "plot_bgcolor": "#E5ECF6",
          "polar": {
           "angularaxis": {
            "gridcolor": "white",
            "linecolor": "white",
            "ticks": ""
           },
           "bgcolor": "#E5ECF6",
           "radialaxis": {
            "gridcolor": "white",
            "linecolor": "white",
            "ticks": ""
           }
          },
          "scene": {
           "xaxis": {
            "backgroundcolor": "#E5ECF6",
            "gridcolor": "white",
            "gridwidth": 2,
            "linecolor": "white",
            "showbackground": true,
            "ticks": "",
            "zerolinecolor": "white"
           },
           "yaxis": {
            "backgroundcolor": "#E5ECF6",
            "gridcolor": "white",
            "gridwidth": 2,
            "linecolor": "white",
            "showbackground": true,
            "ticks": "",
            "zerolinecolor": "white"
           },
           "zaxis": {
            "backgroundcolor": "#E5ECF6",
            "gridcolor": "white",
            "gridwidth": 2,
            "linecolor": "white",
            "showbackground": true,
            "ticks": "",
            "zerolinecolor": "white"
           }
          },
          "shapedefaults": {
           "line": {
            "color": "#2a3f5f"
           }
          },
          "ternary": {
           "aaxis": {
            "gridcolor": "white",
            "linecolor": "white",
            "ticks": ""
           },
           "baxis": {
            "gridcolor": "white",
            "linecolor": "white",
            "ticks": ""
           },
           "bgcolor": "#E5ECF6",
           "caxis": {
            "gridcolor": "white",
            "linecolor": "white",
            "ticks": ""
           }
          },
          "title": {
           "x": 0.05
          },
          "xaxis": {
           "automargin": true,
           "gridcolor": "white",
           "linecolor": "white",
           "ticks": "",
           "title": {
            "standoff": 15
           },
           "zerolinecolor": "white",
           "zerolinewidth": 2
          },
          "yaxis": {
           "automargin": true,
           "gridcolor": "white",
           "linecolor": "white",
           "ticks": "",
           "title": {
            "standoff": 15
           },
           "zerolinecolor": "white",
           "zerolinewidth": 2
          }
         }
        },
        "title": {
         "text": "Engagement Trends (2021 to 2024)",
         "x": 0.5
        },
        "xaxis": {
         "anchor": "y",
         "autorange": true,
         "domain": [
          0,
          1
         ],
         "range": [
          "2020-10-01",
          "2024-05-01"
         ],
         "showspikes": false,
         "title": {
          "text": "Month"
         },
         "type": "date"
        },
        "yaxis": {
         "anchor": "x",
         "autorange": true,
         "domain": [
          0,
          1
         ],
         "range": [
          -65.85185185185185,
          1231.1851851851852
         ],
         "showspikes": false,
         "title": {
          "text": "Average Engagement Metrics"
         },
         "type": "linear"
        }
       }
      },
      "image/png": "[encoded data removed]",
      "text/html": [
       "<div>                            <div id=\"b22e8969-cccb-4dbd-9df7-e0ef5d3fbe4f\" class=\"plotly-graph-div\" style=\"height:525px; width:100%;\"></div>            <script type=\"text/javascript\">                require([\"plotly\"], function(Plotly) {                    window.PLOTLYENV=window.PLOTLYENV || {};                                    if (document.getElementById(\"b22e8969-cccb-4dbd-9df7-e0ef5d3fbe4f\")) {                    Plotly.newPlot(                        \"b22e8969-cccb-4dbd-9df7-e0ef5d3fbe4f\",                        [{\"hovertemplate\":\"variable=Average View Count\\u003cbr\\u003eMonth=%{x}\\u003cbr\\u003eAverage Engagement=%{y}\\u003cextra\\u003e\\u003c\\u002fextra\\u003e\",\"legendgroup\":\"Average View Count\",\"line\":{\"color\":\"#636efa\",\"dash\":\"solid\"},\"marker\":{\"symbol\":\"circle\"},\"mode\":\"lines\",\"name\":\"Average View Count\",\"orientation\":\"v\",\"showlegend\":true,\"x\":[\"2020-10\",\"2020-11\",\"2021-11\",\"2022-02\",\"2022-03\",\"2022-11\",\"2023-03\",\"2023-06\",\"2023-09\",\"2023-10\",\"2023-11\",\"2023-12\",\"2024-01\",\"2024-02\",\"2024-03\",\"2024-04\",\"2024-05\"],\"xaxis\":\"x\",\"y\":[359.6666666666667,288.75,77.0,67.33333333333333,81.0,292.0,224.0,490.0,963.0,428.0,700.0,1166.3333333333333,191.5,1031.0,699.0,713.75,534.0],\"yaxis\":\"y\",\"type\":\"scatter\"},{\"hovertemplate\":\"variable=Average Like Count\\u003cbr\\u003eMonth=%{x}\\u003cbr\\u003eAverage Engagement=%{y}\\u003cextra\\u003e\\u003c\\u002fextra\\u003e\",\"legendgroup\":\"Average Like Count\",\"line\":{\"color\":\"#EF553B\",\"dash\":\"solid\"},\"marker\":{\"symbol\":\"circle\"},\"mode\":\"lines\",\"name\":\"Average Like Count\",\"orientation\":\"v\",\"showlegend\":true,\"x\":[\"2020-10\",\"2020-11\",\"2021-11\",\"2022-02\",\"2022-03\",\"2022-11\",\"2023-03\",\"2023-06\",\"2023-09\",\"2023-10\",\"2023-11\",\"2023-12\",\"2024-01\",\"2024-02\",\"2024-03\",\"2024-04\",\"2024-05\"],\"xaxis\":\"x\",\"y\":[33.666666666666664,29.0,7.0,7.333333333333333,6.0,24.0,30.0,45.0,132.0,69.0,76.0,124.66666666666667,11.75,68.0,-1.0,98.5,30.0],\"yaxis\":\"y\",\"type\":\"scatter\"},{\"hovertemplate\":\"variable=Average Comment Count\\u003cbr\\u003eMonth=%{x}\\u003cbr\\u003eAverage Engagement=%{y}\\u003cextra\\u003e\\u003c\\u002fextra\\u003e\",\"legendgroup\":\"Average Comment Count\",\"line\":{\"color\":\"#00cc96\",\"dash\":\"solid\"},\"marker\":{\"symbol\":\"circle\"},\"mode\":\"lines\",\"name\":\"Average Comment Count\",\"orientation\":\"v\",\"showlegend\":true,\"x\":[\"2020-10\",\"2020-11\",\"2021-11\",\"2022-02\",\"2022-03\",\"2022-11\",\"2023-03\",\"2023-06\",\"2023-09\",\"2023-10\",\"2023-11\",\"2023-12\",\"2024-01\",\"2024-02\",\"2024-03\",\"2024-04\",\"2024-05\"],\"xaxis\":\"x\",\"y\":[1.0,0.25,0.0,0.0,0.0,0.0,0.0,0.0,2.0,1.0,0.0,5.0,0.0,0.0,0.0,0.5,2.0],\"yaxis\":\"y\",\"type\":\"scatter\"}],                        {\"template\":{\"data\":{\"histogram2dcontour\":[{\"type\":\"histogram2dcontour\",\"colorbar\":{\"outlinewidth\":0,\"ticks\":\"\"},\"colorscale\":[[0.0,\"#0d0887\"],[0.1111111111111111,\"#46039f\"],[0.2222222222222222,\"#7201a8\"],[0.3333333333333333,\"#9c179e\"],[0.4444444444444444,\"#bd3786\"],[0.5555555555555556,\"#d8576b\"],[0.6666666666666666,\"#ed7953\"],[0.7777777777777778,\"#fb9f3a\"],[0.8888888888888888,\"#fdca26\"],[1.0,\"#f0f921\"]]}],\"choropleth\":[{\"type\":\"choropleth\",\"colorbar\":{\"outlinewidth\":0,\"ticks\":\"\"}}],\"histogram2d\":[{\"type\":\"histogram2d\",\"colorbar\":{\"outlinewidth\":0,\"ticks\":\"\"},\"colorscale\":[[0.0,\"#0d0887\"],[0.1111111111111111,\"#46039f\"],[0.2222222222222222,\"#7201a8\"],[0.3333333333333333,\"#9c179e\"],[0.4444444444444444,\"#bd3786\"],[0.5555555555555556,\"#d8576b\"],[0.6666666666666666,\"#ed7953\"],[0.7777777777777778,\"#fb9f3a\"],[0.8888888888888888,\"#fdca26\"],[1.0,\"#f0f921\"]]}],\"heatmap\":[{\"type\":\"heatmap\",\"colorbar\":{\"outlinewidth\":0,\"ticks\":\"\"},\"colorscale\":[[0.0,\"#0d0887\"],[0.1111111111111111,\"#46039f\"],[0.2222222222222222,\"#7201a8\"],[0.3333333333333333,\"#9c179e\"],[0.4444444444444444,\"#bd3786\"],[0.5555555555555556,\"#d8576b\"],[0.6666666666666666,\"#ed7953\"],[0.7777777777777778,\"#fb9f3a\"],[0.8888888888888888,\"#fdca26\"],[1.0,\"#f0f921\"]]}],\"heatmapgl\":[{\"type\":\"heatmapgl\",\"colorbar\":{\"outlinewidth\":0,\"ticks\":\"\"},\"colorscale\":[[0.0,\"#0d0887\"],[0.1111111111111111,\"#46039f\"],[0.2222222222222222,\"#7201a8\"],[0.3333333333333333,\"#9c179e\"],[0.4444444444444444,\"#bd3786\"],[0.5555555555555556,\"#d8576b\"],[0.6666666666666666,\"#ed7953\"],[0.7777777777777778,\"#fb9f3a\"],[0.8888888888888888,\"#fdca26\"],[1.0,\"#f0f921\"]]}],\"contourcarpet\":[{\"type\":\"contourcarpet\",\"colorbar\":{\"outlinewidth\":0,\"ticks\":\"\"}}],\"contour\":[{\"type\":\"contour\",\"colorbar\":{\"outlinewidth\":0,\"ticks\":\"\"},\"colorscale\":[[0.0,\"#0d0887\"],[0.1111111111111111,\"#46039f\"],[0.2222222222222222,\"#7201a8\"],[0.3333333333333333,\"#9c179e\"],[0.4444444444444444,\"#bd3786\"],[0.5555555555555556,\"#d8576b\"],[0.6666666666666666,\"#ed7953\"],[0.7777777777777778,\"#fb9f3a\"],[0.8888888888888888,\"#fdca26\"],[1.0,\"#f0f921\"]]}],\"surface\":[{\"type\":\"surface\",\"colorbar\":{\"outlinewidth\":0,\"ticks\":\"\"},\"colorscale\":[[0.0,\"#0d0887\"],[0.1111111111111111,\"#46039f\"],[0.2222222222222222,\"#7201a8\"],[0.3333333333333333,\"#9c179e\"],[0.4444444444444444,\"#bd3786\"],[0.5555555555555556,\"#d8576b\"],[0.6666666666666666,\"#ed7953\"],[0.7777777777777778,\"#fb9f3a\"],[0.8888888888888888,\"#fdca26\"],[1.0,\"#f0f921\"]]}],\"mesh3d\":[{\"type\":\"mesh3d\",\"colorbar\":{\"outlinewidth\":0,\"ticks\":\"\"}}],\"scatter\":[{\"fillpattern\":{\"fillmode\":\"overlay\",\"size\":10,\"solidity\":0.2},\"type\":\"scatter\"}],\"parcoords\":[{\"type\":\"parcoords\",\"line\":{\"colorbar\":{\"outlinewidth\":0,\"ticks\":\"\"}}}],\"scatterpolargl\":[{\"type\":\"scatterpolargl\",\"marker\":{\"colorbar\":{\"outlinewidth\":0,\"ticks\":\"\"}}}],\"bar\":[{\"error_x\":{\"color\":\"#2a3f5f\"},\"error_y\":{\"color\":\"#2a3f5f\"},\"marker\":{\"line\":{\"color\":\"#E5ECF6\",\"width\":0.5},\"pattern\":{\"fillmode\":\"overlay\",\"size\":10,\"solidity\":0.2}},\"type\":\"bar\"}],\"scattergeo\":[{\"type\":\"scattergeo\",\"marker\":{\"colorbar\":{\"outlinewidth\":0,\"ticks\":\"\"}}}],\"scatterpolar\":[{\"type\":\"scatterpolar\",\"marker\":{\"colorbar\":{\"outlinewidth\":0,\"ticks\":\"\"}}}],\"histogram\":[{\"marker\":{\"pattern\":{\"fillmode\":\"overlay\",\"size\":10,\"solidity\":0.2}},\"type\":\"histogram\"}],\"scattergl\":[{\"type\":\"scattergl\",\"marker\":{\"colorbar\":{\"outlinewidth\":0,\"ticks\":\"\"}}}],\"scatter3d\":[{\"type\":\"scatter3d\",\"line\":{\"colorbar\":{\"outlinewidth\":0,\"ticks\":\"\"}},\"marker\":{\"colorbar\":{\"outlinewidth\":0,\"ticks\":\"\"}}}],\"scattermapbox\":[{\"type\":\"scattermapbox\",\"marker\":{\"colorbar\":{\"outlinewidth\":0,\"ticks\":\"\"}}}],\"scatterternary\":[{\"type\":\"scatterternary\",\"marker\":{\"colorbar\":{\"outlinewidth\":0,\"ticks\":\"\"}}}],\"scattercarpet\":[{\"type\":\"scattercarpet\",\"marker\":{\"colorbar\":{\"outlinewidth\":0,\"ticks\":\"\"}}}],\"carpet\":[{\"aaxis\":{\"endlinecolor\":\"#2a3f5f\",\"gridcolor\":\"white\",\"linecolor\":\"white\",\"minorgridcolor\":\"white\",\"startlinecolor\":\"#2a3f5f\"},\"baxis\":{\"endlinecolor\":\"#2a3f5f\",\"gridcolor\":\"white\",\"linecolor\":\"white\",\"minorgridcolor\":\"white\",\"startlinecolor\":\"#2a3f5f\"},\"type\":\"carpet\"}],\"table\":[{\"cells\":{\"fill\":{\"color\":\"#EBF0F8\"},\"line\":{\"color\":\"white\"}},\"header\":{\"fill\":{\"color\":\"#C8D4E3\"},\"line\":{\"color\":\"white\"}},\"type\":\"table\"}],\"barpolar\":[{\"marker\":{\"line\":{\"color\":\"#E5ECF6\",\"width\":0.5},\"pattern\":{\"fillmode\":\"overlay\",\"size\":10,\"solidity\":0.2}},\"type\":\"barpolar\"}],\"pie\":[{\"automargin\":true,\"type\":\"pie\"}]},\"layout\":{\"autotypenumbers\":\"strict\",\"colorway\":[\"#636efa\",\"#EF553B\",\"#00cc96\",\"#ab63fa\",\"#FFA15A\",\"#19d3f3\",\"#FF6692\",\"#B6E880\",\"#FF97FF\",\"#FECB52\"],\"font\":{\"color\":\"#2a3f5f\"},\"hovermode\":\"closest\",\"hoverlabel\":{\"align\":\"left\"},\"paper_bgcolor\":\"white\",\"plot_bgcolor\":\"#E5ECF6\",\"polar\":{\"bgcolor\":\"#E5ECF6\",\"angularaxis\":{\"gridcolor\":\"white\",\"linecolor\":\"white\",\"ticks\":\"\"},\"radialaxis\":{\"gridcolor\":\"white\",\"linecolor\":\"white\",\"ticks\":\"\"}},\"ternary\":{\"bgcolor\":\"#E5ECF6\",\"aaxis\":{\"gridcolor\":\"white\",\"linecolor\":\"white\",\"ticks\":\"\"},\"baxis\":{\"gridcolor\":\"white\",\"linecolor\":\"white\",\"ticks\":\"\"},\"caxis\":{\"gridcolor\":\"white\",\"linecolor\":\"white\",\"ticks\":\"\"}},\"coloraxis\":{\"colorbar\":{\"outlinewidth\":0,\"ticks\":\"\"}},\"colorscale\":{\"sequential\":[[0.0,\"#0d0887\"],[0.1111111111111111,\"#46039f\"],[0.2222222222222222,\"#7201a8\"],[0.3333333333333333,\"#9c179e\"],[0.4444444444444444,\"#bd3786\"],[0.5555555555555556,\"#d8576b\"],[0.6666666666666666,\"#ed7953\"],[0.7777777777777778,\"#fb9f3a\"],[0.8888888888888888,\"#fdca26\"],[1.0,\"#f0f921\"]],\"sequentialminus\":[[0.0,\"#0d0887\"],[0.1111111111111111,\"#46039f\"],[0.2222222222222222,\"#7201a8\"],[0.3333333333333333,\"#9c179e\"],[0.4444444444444444,\"#bd3786\"],[0.5555555555555556,\"#d8576b\"],[0.6666666666666666,\"#ed7953\"],[0.7777777777777778,\"#fb9f3a\"],[0.8888888888888888,\"#fdca26\"],[1.0,\"#f0f921\"]],\"diverging\":[[0,\"#8e0152\"],[0.1,\"#c51b7d\"],[0.2,\"#de77ae\"],[0.3,\"#f1b6da\"],[0.4,\"#fde0ef\"],[0.5,\"#f7f7f7\"],[0.6,\"#e6f5d0\"],[0.7,\"#b8e186\"],[0.8,\"#7fbc41\"],[0.9,\"#4d9221\"],[1,\"#276419\"]]},\"xaxis\":{\"gridcolor\":\"white\",\"linecolor\":\"white\",\"ticks\":\"\",\"title\":{\"standoff\":15},\"zerolinecolor\":\"white\",\"automargin\":true,\"zerolinewidth\":2},\"yaxis\":{\"gridcolor\":\"white\",\"linecolor\":\"white\",\"ticks\":\"\",\"title\":{\"standoff\":15},\"zerolinecolor\":\"white\",\"automargin\":true,\"zerolinewidth\":2},\"scene\":{\"xaxis\":{\"backgroundcolor\":\"#E5ECF6\",\"gridcolor\":\"white\",\"linecolor\":\"white\",\"showbackground\":true,\"ticks\":\"\",\"zerolinecolor\":\"white\",\"gridwidth\":2},\"yaxis\":{\"backgroundcolor\":\"#E5ECF6\",\"gridcolor\":\"white\",\"linecolor\":\"white\",\"showbackground\":true,\"ticks\":\"\",\"zerolinecolor\":\"white\",\"gridwidth\":2},\"zaxis\":{\"backgroundcolor\":\"#E5ECF6\",\"gridcolor\":\"white\",\"linecolor\":\"white\",\"showbackground\":true,\"ticks\":\"\",\"zerolinecolor\":\"white\",\"gridwidth\":2}},\"shapedefaults\":{\"line\":{\"color\":\"#2a3f5f\"}},\"annotationdefaults\":{\"arrowcolor\":\"#2a3f5f\",\"arrowhead\":0,\"arrowwidth\":1},\"geo\":{\"bgcolor\":\"white\",\"landcolor\":\"#E5ECF6\",\"subunitcolor\":\"white\",\"showland\":true,\"showlakes\":true,\"lakecolor\":\"white\"},\"title\":{\"x\":0.05},\"mapbox\":{\"style\":\"light\"}}},\"xaxis\":{\"anchor\":\"y\",\"domain\":[0.0,1.0],\"title\":{\"text\":\"Month\"}},\"yaxis\":{\"anchor\":\"x\",\"domain\":[0.0,1.0],\"title\":{\"text\":\"Average Engagement Metrics\"}},\"legend\":{\"title\":{\"text\":\"Metrics\"},\"tracegroupgap\":0},\"title\":{\"text\":\"Engagement Trends (2021 to 2024)\",\"x\":0.5}},                        {\"responsive\": true}                    ).then(function(){\n",
       "                            \n",
       "var gd = document.getElementById('b22e8969-cccb-4dbd-9df7-e0ef5d3fbe4f');\n",
       "var x = new MutationObserver(function (mutations, observer) {{\n",
       "        var display = window.getComputedStyle(gd).display;\n",
       "        if (!display || display === 'none') {{\n",
       "            console.log([gd, 'removed!']);\n",
       "            Plotly.purge(gd);\n",
       "            observer.disconnect();\n",
       "        }}\n",
       "}});\n",
       "\n",
       "// Listen for the removal of the full notebook cells\n",
       "var notebookContainer = gd.closest('#notebook-container');\n",
       "if (notebookContainer) {{\n",
       "    x.observe(notebookContainer, {childList: true});\n",
       "}}\n",
       "\n",
       "// Listen for the clearing of the current output cell\n",
       "var outputEl = gd.closest('.output');\n",
       "if (outputEl) {{\n",
       "    x.observe(outputEl, {childList: true});\n",
       "}}\n",
       "\n",
       "                        })                };                });            </script>        </div>"
      ]
     },
     "metadata": {},
     "output_type": "display_data"
    }
   ],
   "source": [
    "import pandas as pd\n",
    "import plotly.express as px\n",
    "\n",
    "# Define the dataset file path\n",
    "file_path = 'Downloads/dataset_instagram-scraper_2025-03-25_16-31-50-146.csv'\n",
    "\n",
    "# Load the Instagram data into a DataFrame\n",
    "instagram_data = pd.read_csv(file_path)\n",
    "\n",
    "# Check for required columns\n",
    "required_columns = {'timestamp', 'videoViewCount', 'likesCount', 'commentsCount'}\n",
    "if required_columns.issubset(instagram_data.columns):\n",
    "    # Convert 'timestamp' to datetime format and remove timezone info\n",
    "    instagram_data['timestamp'] = pd.to_datetime(instagram_data['timestamp'], errors='coerce').dt.tz_localize(None)\n",
    "\n",
    "    # Ensure all relevant columns are strictly numeric and clean the data\n",
    "    for column in ['videoViewCount', 'likesCount', 'commentsCount']:\n",
    "        instagram_data[column] = pd.to_numeric(instagram_data[column], errors='coerce')\n",
    "    instagram_data = instagram_data.dropna(subset=['timestamp', 'videoViewCount', 'likesCount', 'commentsCount'])\n",
    "\n",
    "    # Extract month and year, and convert to string\n",
    "    instagram_data['month'] = instagram_data['timestamp'].dt.to_period('M').astype(str)\n",
    "\n",
    "    # Filter data to only include posts between 2019 and August 1, 2024\n",
    "    filtered_data = instagram_data[(instagram_data['timestamp'] >= '2019-01-01') & (instagram_data['timestamp'] < '2024-08-01')]\n",
    "\n",
    "    # Check if filtered data is empty\n",
    "    if filtered_data.empty:\n",
    "        print(\"No data exists within the specified date range (2019 to 2024).\")\n",
    "    else:\n",
    "        # Group by month and calculate averages for the relevant columns\n",
    "        monthly_trends = filtered_data.groupby('month')[['videoViewCount', 'likesCount', 'commentsCount']].mean().reset_index()\n",
    "\n",
    "        # Rename columns for clarity\n",
    "        monthly_trends.columns = ['Month', 'Average View Count', 'Average Like Count', 'Average Comment Count']\n",
    "\n",
    "        # Create line charts for trends using Plotly\n",
    "        fig = px.line(\n",
    "            monthly_trends,\n",
    "            x='Month',\n",
    "            y=['Average View Count', 'Average Like Count', 'Average Comment Count'],\n",
    "            labels={\"value\": \"Average Engagement\", \"Month\": \"Month\"},\n",
    "            title=\"Engagement Trends (2021 to 2024)\"\n",
    "        )\n",
    "\n",
    "        # Customize the layout for clarity\n",
    "        fig.update_layout(\n",
    "            xaxis_title=\"Month\",\n",
    "            yaxis_title=\"Average Engagement Metrics\",\n",
    "            title_x=0.5,  # Center the title\n",
    "            legend_title=\"Metrics\"\n",
    "        )\n",
    "\n",
    "        # Show the plot\n",
    "        fig.show()\n",
    "else:\n",
    "    print(\"The dataset does not contain the required columns ('timestamp', 'videoViewCount', 'likesCount', 'commentsCount'). Please check the column names.\")"
   ]
  },
  {
   "cell_type": "markdown",
   "id": "e4566c53-45f4-467c-87e6-eb835bfd7c40",
   "metadata": {},
   "source": [
    "As per this breakdown on the Instagram Discoverabilty by Medium, \"Aim to post content consistently. Whether that's daily, every other day, or three times a week, consistency helps your content become more discoverable as Instagram rewards frequent and regular posting with higher engagement and better algorithm placement.\" https://medium.com/@trulydigitalmedia/how-to-optimize-your-instagram-profile-for-discoverability-13d0b200f0eb\n",
    "\n",
    "Consistency in regards to the frequency of posts is extremley important to the algorith and your discoverability options, and the posts on the Kent State Recreation and Wellness Instagram page still lack somewhat. Despite a clear uptake in frequency, the amount of posts still vary wildly on a month-to-month basis. This harms discoverabillity and places you in an unfavorable position with the reccomendation algorightm. "
   ]
  },
  {
   "cell_type": "code",
   "execution_count": 187,
   "id": "3347ef45-f612-4fc1-89dd-b7c3cd6e4470",
   "metadata": {
    "jupyter": {
     "source_hidden": true
    }
   },
   "outputs": [
    {
     "name": "stderr",
     "output_type": "stream",
     "text": [
      "C:\\Users\\johnc\\AppData\\Local\\Temp\\ipykernel_26260\\1200997897.py:19: SettingWithCopyWarning:\n",
      "\n",
      "\n",
      "A value is trying to be set on a copy of a slice from a DataFrame.\n",
      "Try using .loc[row_indexer,col_indexer] = value instead\n",
      "\n",
      "See the caveats in the documentation: https://pandas.pydata.org/pandas-docs/stable/user_guide/indexing.html#returning-a-view-versus-a-copy\n",
      "\n"
     ]
    },
    {
     "data": {
      "application/vnd.plotly.v1+json": {
       "config": {
        "plotlyServerURL": "https://plot.ly"
       },
       "data": [
        {
         "alignmentgroup": "True",
         "hovertemplate": "Month=%{x}<br>Number of Posts=%{y}<extra></extra>",
         "legendgroup": "",
         "marker": {
          "color": "#636efa",
          "pattern": {
           "shape": ""
          }
         },
         "name": "",
         "offsetgroup": "",
         "orientation": "v",
         "showlegend": false,
         "textposition": "auto",
         "type": "bar",
         "x": [
          "2022-01-01T00:00:00",
          "2022-02-01T00:00:00",
          "2022-03-01T00:00:00",
          "2022-04-01T00:00:00",
          "2022-05-01T00:00:00",
          "2022-06-01T00:00:00",
          "2022-08-01T00:00:00",
          "2022-09-01T00:00:00",
          "2022-10-01T00:00:00",
          "2022-11-01T00:00:00",
          "2023-01-01T00:00:00",
          "2023-02-01T00:00:00",
          "2023-03-01T00:00:00",
          "2023-04-01T00:00:00",
          "2023-05-01T00:00:00",
          "2023-06-01T00:00:00",
          "2023-08-01T00:00:00",
          "2023-09-01T00:00:00",
          "2023-10-01T00:00:00",
          "2023-11-01T00:00:00",
          "2023-12-01T00:00:00",
          "2024-01-01T00:00:00",
          "2024-02-01T00:00:00",
          "2024-03-01T00:00:00",
          "2024-04-01T00:00:00",
          "2024-05-01T00:00:00",
          "2024-06-01T00:00:00",
          "2024-08-01T00:00:00",
          "2024-09-01T00:00:00",
          "2024-10-01T00:00:00",
          "2024-11-01T00:00:00",
          "2024-12-01T00:00:00",
          "2025-01-01T00:00:00",
          "2025-02-01T00:00:00",
          "2025-03-01T00:00:00"
         ],
         "xaxis": "x",
         "y": [
          4,
          7,
          4,
          6,
          1,
          1,
          1,
          6,
          2,
          2,
          2,
          9,
          16,
          18,
          1,
          1,
          4,
          17,
          9,
          5,
          6,
          11,
          12,
          12,
          17,
          6,
          3,
          14,
          40,
          37,
          30,
          20,
          23,
          40,
          27
         ],
         "yaxis": "y"
        }
       ],
       "layout": {
        "autosize": true,
        "barmode": "relative",
        "legend": {
         "tracegroupgap": 0
        },
        "margin": {
         "b": 50,
         "l": 50,
         "r": 50,
         "t": 50
        },
        "template": {
         "data": {
          "bar": [
           {
            "error_x": {
             "color": "#2a3f5f"
            },
            "error_y": {
             "color": "#2a3f5f"
            },
            "marker": {
             "line": {
              "color": "#E5ECF6",
              "width": 0.5
             },
             "pattern": {
              "fillmode": "overlay",
              "size": 10,
              "solidity": 0.2
             }
            },
            "type": "bar"
           }
          ],
          "barpolar": [
           {
            "marker": {
             "line": {
              "color": "#E5ECF6",
              "width": 0.5
             },
             "pattern": {
              "fillmode": "overlay",
              "size": 10,
              "solidity": 0.2
             }
            },
            "type": "barpolar"
           }
          ],
          "carpet": [
           {
            "aaxis": {
             "endlinecolor": "#2a3f5f",
             "gridcolor": "white",
             "linecolor": "white",
             "minorgridcolor": "white",
             "startlinecolor": "#2a3f5f"
            },
            "baxis": {
             "endlinecolor": "#2a3f5f",
             "gridcolor": "white",
             "linecolor": "white",
             "minorgridcolor": "white",
             "startlinecolor": "#2a3f5f"
            },
            "type": "carpet"
           }
          ],
          "choropleth": [
           {
            "colorbar": {
             "outlinewidth": 0,
             "ticks": ""
            },
            "type": "choropleth"
           }
          ],
          "contour": [
           {
            "colorbar": {
             "outlinewidth": 0,
             "ticks": ""
            },
            "colorscale": [
             [
              0,
              "#0d0887"
             ],
             [
              0.1111111111111111,
              "#46039f"
             ],
             [
              0.2222222222222222,
              "#7201a8"
             ],
             [
              0.3333333333333333,
              "#9c179e"
             ],
             [
              0.4444444444444444,
              "#bd3786"
             ],
             [
              0.5555555555555556,
              "#d8576b"
             ],
             [
              0.6666666666666666,
              "#ed7953"
             ],
             [
              0.7777777777777778,
              "#fb9f3a"
             ],
             [
              0.8888888888888888,
              "#fdca26"
             ],
             [
              1,
              "#f0f921"
             ]
            ],
            "type": "contour"
           }
          ],
          "contourcarpet": [
           {
            "colorbar": {
             "outlinewidth": 0,
             "ticks": ""
            },
            "type": "contourcarpet"
           }
          ],
          "heatmap": [
           {
            "colorbar": {
             "outlinewidth": 0,
             "ticks": ""
            },
            "colorscale": [
             [
              0,
              "#0d0887"
             ],
             [
              0.1111111111111111,
              "#46039f"
             ],
             [
              0.2222222222222222,
              "#7201a8"
             ],
             [
              0.3333333333333333,
              "#9c179e"
             ],
             [
              0.4444444444444444,
              "#bd3786"
             ],
             [
              0.5555555555555556,
              "#d8576b"
             ],
             [
              0.6666666666666666,
              "#ed7953"
             ],
             [
              0.7777777777777778,
              "#fb9f3a"
             ],
             [
              0.8888888888888888,
              "#fdca26"
             ],
             [
              1,
              "#f0f921"
             ]
            ],
            "type": "heatmap"
           }
          ],
          "heatmapgl": [
           {
            "colorbar": {
             "outlinewidth": 0,
             "ticks": ""
            },
            "colorscale": [
             [
              0,
              "#0d0887"
             ],
             [
              0.1111111111111111,
              "#46039f"
             ],
             [
              0.2222222222222222,
              "#7201a8"
             ],
             [
              0.3333333333333333,
              "#9c179e"
             ],
             [
              0.4444444444444444,
              "#bd3786"
             ],
             [
              0.5555555555555556,
              "#d8576b"
             ],
             [
              0.6666666666666666,
              "#ed7953"
             ],
             [
              0.7777777777777778,
              "#fb9f3a"
             ],
             [
              0.8888888888888888,
              "#fdca26"
             ],
             [
              1,
              "#f0f921"
             ]
            ],
            "type": "heatmapgl"
           }
          ],
          "histogram": [
           {
            "marker": {
             "pattern": {
              "fillmode": "overlay",
              "size": 10,
              "solidity": 0.2
             }
            },
            "type": "histogram"
           }
          ],
          "histogram2d": [
           {
            "colorbar": {
             "outlinewidth": 0,
             "ticks": ""
            },
            "colorscale": [
             [
              0,
              "#0d0887"
             ],
             [
              0.1111111111111111,
              "#46039f"
             ],
             [
              0.2222222222222222,
              "#7201a8"
             ],
             [
              0.3333333333333333,
              "#9c179e"
             ],
             [
              0.4444444444444444,
              "#bd3786"
             ],
             [
              0.5555555555555556,
              "#d8576b"
             ],
             [
              0.6666666666666666,
              "#ed7953"
             ],
             [
              0.7777777777777778,
              "#fb9f3a"
             ],
             [
              0.8888888888888888,
              "#fdca26"
             ],
             [
              1,
              "#f0f921"
             ]
            ],
            "type": "histogram2d"
           }
          ],
          "histogram2dcontour": [
           {
            "colorbar": {
             "outlinewidth": 0,
             "ticks": ""
            },
            "colorscale": [
             [
              0,
              "#0d0887"
             ],
             [
              0.1111111111111111,
              "#46039f"
             ],
             [
              0.2222222222222222,
              "#7201a8"
             ],
             [
              0.3333333333333333,
              "#9c179e"
             ],
             [
              0.4444444444444444,
              "#bd3786"
             ],
             [
              0.5555555555555556,
              "#d8576b"
             ],
             [
              0.6666666666666666,
              "#ed7953"
             ],
             [
              0.7777777777777778,
              "#fb9f3a"
             ],
             [
              0.8888888888888888,
              "#fdca26"
             ],
             [
              1,
              "#f0f921"
             ]
            ],
            "type": "histogram2dcontour"
           }
          ],
          "mesh3d": [
           {
            "colorbar": {
             "outlinewidth": 0,
             "ticks": ""
            },
            "type": "mesh3d"
           }
          ],
          "parcoords": [
           {
            "line": {
             "colorbar": {
              "outlinewidth": 0,
              "ticks": ""
             }
            },
            "type": "parcoords"
           }
          ],
          "pie": [
           {
            "automargin": true,
            "type": "pie"
           }
          ],
          "scatter": [
           {
            "fillpattern": {
             "fillmode": "overlay",
             "size": 10,
             "solidity": 0.2
            },
            "type": "scatter"
           }
          ],
          "scatter3d": [
           {
            "line": {
             "colorbar": {
              "outlinewidth": 0,
              "ticks": ""
             }
            },
            "marker": {
             "colorbar": {
              "outlinewidth": 0,
              "ticks": ""
             }
            },
            "type": "scatter3d"
           }
          ],
          "scattercarpet": [
           {
            "marker": {
             "colorbar": {
              "outlinewidth": 0,
              "ticks": ""
             }
            },
            "type": "scattercarpet"
           }
          ],
          "scattergeo": [
           {
            "marker": {
             "colorbar": {
              "outlinewidth": 0,
              "ticks": ""
             }
            },
            "type": "scattergeo"
           }
          ],
          "scattergl": [
           {
            "marker": {
             "colorbar": {
              "outlinewidth": 0,
              "ticks": ""
             }
            },
            "type": "scattergl"
           }
          ],
          "scattermapbox": [
           {
            "marker": {
             "colorbar": {
              "outlinewidth": 0,
              "ticks": ""
             }
            },
            "type": "scattermapbox"
           }
          ],
          "scatterpolar": [
           {
            "marker": {
             "colorbar": {
              "outlinewidth": 0,
              "ticks": ""
             }
            },
            "type": "scatterpolar"
           }
          ],
          "scatterpolargl": [
           {
            "marker": {
             "colorbar": {
              "outlinewidth": 0,
              "ticks": ""
             }
            },
            "type": "scatterpolargl"
           }
          ],
          "scatterternary": [
           {
            "marker": {
             "colorbar": {
              "outlinewidth": 0,
              "ticks": ""
             }
            },
            "type": "scatterternary"
           }
          ],
          "surface": [
           {
            "colorbar": {
             "outlinewidth": 0,
             "ticks": ""
            },
            "colorscale": [
             [
              0,
              "#0d0887"
             ],
             [
              0.1111111111111111,
              "#46039f"
             ],
             [
              0.2222222222222222,
              "#7201a8"
             ],
             [
              0.3333333333333333,
              "#9c179e"
             ],
             [
              0.4444444444444444,
              "#bd3786"
             ],
             [
              0.5555555555555556,
              "#d8576b"
             ],
             [
              0.6666666666666666,
              "#ed7953"
             ],
             [
              0.7777777777777778,
              "#fb9f3a"
             ],
             [
              0.8888888888888888,
              "#fdca26"
             ],
             [
              1,
              "#f0f921"
             ]
            ],
            "type": "surface"
           }
          ],
          "table": [
           {
            "cells": {
             "fill": {
              "color": "#EBF0F8"
             },
             "line": {
              "color": "white"
             }
            },
            "header": {
             "fill": {
              "color": "#C8D4E3"
             },
             "line": {
              "color": "white"
             }
            },
            "type": "table"
           }
          ]
         },
         "layout": {
          "annotationdefaults": {
           "arrowcolor": "#2a3f5f",
           "arrowhead": 0,
           "arrowwidth": 1
          },
          "autotypenumbers": "strict",
          "coloraxis": {
           "colorbar": {
            "outlinewidth": 0,
            "ticks": ""
           }
          },
          "colorscale": {
           "diverging": [
            [
             0,
             "#8e0152"
            ],
            [
             0.1,
             "#c51b7d"
            ],
            [
             0.2,
             "#de77ae"
            ],
            [
             0.3,
             "#f1b6da"
            ],
            [
             0.4,
             "#fde0ef"
            ],
            [
             0.5,
             "#f7f7f7"
            ],
            [
             0.6,
             "#e6f5d0"
            ],
            [
             0.7,
             "#b8e186"
            ],
            [
             0.8,
             "#7fbc41"
            ],
            [
             0.9,
             "#4d9221"
            ],
            [
             1,
             "#276419"
            ]
           ],
           "sequential": [
            [
             0,
             "#0d0887"
            ],
            [
             0.1111111111111111,
             "#46039f"
            ],
            [
             0.2222222222222222,
             "#7201a8"
            ],
            [
             0.3333333333333333,
             "#9c179e"
            ],
            [
             0.4444444444444444,
             "#bd3786"
            ],
            [
             0.5555555555555556,
             "#d8576b"
            ],
            [
             0.6666666666666666,
             "#ed7953"
            ],
            [
             0.7777777777777778,
             "#fb9f3a"
            ],
            [
             0.8888888888888888,
             "#fdca26"
            ],
            [
             1,
             "#f0f921"
            ]
           ],
           "sequentialminus": [
            [
             0,
             "#0d0887"
            ],
            [
             0.1111111111111111,
             "#46039f"
            ],
            [
             0.2222222222222222,
             "#7201a8"
            ],
            [
             0.3333333333333333,
             "#9c179e"
            ],
            [
             0.4444444444444444,
             "#bd3786"
            ],
            [
             0.5555555555555556,
             "#d8576b"
            ],
            [
             0.6666666666666666,
             "#ed7953"
            ],
            [
             0.7777777777777778,
             "#fb9f3a"
            ],
            [
             0.8888888888888888,
             "#fdca26"
            ],
            [
             1,
             "#f0f921"
            ]
           ]
          },
          "colorway": [
           "#636efa",
           "#EF553B",
           "#00cc96",
           "#ab63fa",
           "#FFA15A",
           "#19d3f3",
           "#FF6692",
           "#B6E880",
           "#FF97FF",
           "#FECB52"
          ],
          "font": {
           "color": "#2a3f5f"
          },
          "geo": {
           "bgcolor": "white",
           "lakecolor": "white",
           "landcolor": "#E5ECF6",
           "showlakes": true,
           "showland": true,
           "subunitcolor": "white"
          },
          "hoverlabel": {
           "align": "left"
          },
          "hovermode": "closest",
          "mapbox": {
           "style": "light"
          },
          "paper_bgcolor": "white",
          "plot_bgcolor": "#E5ECF6",
          "polar": {
           "angularaxis": {
            "gridcolor": "white",
            "linecolor": "white",
            "ticks": ""
           },
           "bgcolor": "#E5ECF6",
           "radialaxis": {
            "gridcolor": "white",
            "linecolor": "white",
            "ticks": ""
           }
          },
          "scene": {
           "xaxis": {
            "backgroundcolor": "#E5ECF6",
            "gridcolor": "white",
            "gridwidth": 2,
            "linecolor": "white",
            "showbackground": true,
            "ticks": "",
            "zerolinecolor": "white"
           },
           "yaxis": {
            "backgroundcolor": "#E5ECF6",
            "gridcolor": "white",
            "gridwidth": 2,
            "linecolor": "white",
            "showbackground": true,
            "ticks": "",
            "zerolinecolor": "white"
           },
           "zaxis": {
            "backgroundcolor": "#E5ECF6",
            "gridcolor": "white",
            "gridwidth": 2,
            "linecolor": "white",
            "showbackground": true,
            "ticks": "",
            "zerolinecolor": "white"
           }
          },
          "shapedefaults": {
           "line": {
            "color": "#2a3f5f"
           }
          },
          "ternary": {
           "aaxis": {
            "gridcolor": "white",
            "linecolor": "white",
            "ticks": ""
           },
           "baxis": {
            "gridcolor": "white",
            "linecolor": "white",
            "ticks": ""
           },
           "bgcolor": "#E5ECF6",
           "caxis": {
            "gridcolor": "white",
            "linecolor": "white",
            "ticks": ""
           }
          },
          "title": {
           "x": 0.05
          },
          "xaxis": {
           "automargin": true,
           "gridcolor": "white",
           "linecolor": "white",
           "ticks": "",
           "title": {
            "standoff": 15
           },
           "zerolinecolor": "white",
           "zerolinewidth": 2
          },
          "yaxis": {
           "automargin": true,
           "gridcolor": "white",
           "linecolor": "white",
           "ticks": "",
           "title": {
            "standoff": 15
           },
           "zerolinecolor": "white",
           "zerolinewidth": 2
          }
         }
        },
        "title": {
         "text": "Number of Posts Per Month Since December 2021",
         "x": 0.5
        },
        "xaxis": {
         "anchor": "y",
         "autorange": true,
         "domain": [
          0,
          1
         ],
         "range": [
          "2021-12-18",
          "2025-03-15"
         ],
         "tickangle": -45,
         "title": {
          "text": "Month"
         },
         "type": "date"
        },
        "yaxis": {
         "anchor": "x",
         "autorange": true,
         "domain": [
          0,
          1
         ],
         "range": [
          0,
          42.10526315789474
         ],
         "title": {
          "text": "Number of Posts"
         },
         "type": "linear"
        }
       }
      },
      "image/png": "[encoded data removed]",
      "text/html": [
       "<div>                            <div id=\"35b41ded-ea62-416e-9709-2381ce5566d4\" class=\"plotly-graph-div\" style=\"height:525px; width:100%;\"></div>            <script type=\"text/javascript\">                require([\"plotly\"], function(Plotly) {                    window.PLOTLYENV=window.PLOTLYENV || {};                                    if (document.getElementById(\"35b41ded-ea62-416e-9709-2381ce5566d4\")) {                    Plotly.newPlot(                        \"35b41ded-ea62-416e-9709-2381ce5566d4\",                        [{\"alignmentgroup\":\"True\",\"hovertemplate\":\"Month=%{x}\\u003cbr\\u003eNumber of Posts=%{y}\\u003cextra\\u003e\\u003c\\u002fextra\\u003e\",\"legendgroup\":\"\",\"marker\":{\"color\":\"#636efa\",\"pattern\":{\"shape\":\"\"}},\"name\":\"\",\"offsetgroup\":\"\",\"orientation\":\"v\",\"showlegend\":false,\"textposition\":\"auto\",\"x\":[\"2022-01-01T00:00:00\",\"2022-02-01T00:00:00\",\"2022-03-01T00:00:00\",\"2022-04-01T00:00:00\",\"2022-05-01T00:00:00\",\"2022-06-01T00:00:00\",\"2022-08-01T00:00:00\",\"2022-09-01T00:00:00\",\"2022-10-01T00:00:00\",\"2022-11-01T00:00:00\",\"2023-01-01T00:00:00\",\"2023-02-01T00:00:00\",\"2023-03-01T00:00:00\",\"2023-04-01T00:00:00\",\"2023-05-01T00:00:00\",\"2023-06-01T00:00:00\",\"2023-08-01T00:00:00\",\"2023-09-01T00:00:00\",\"2023-10-01T00:00:00\",\"2023-11-01T00:00:00\",\"2023-12-01T00:00:00\",\"2024-01-01T00:00:00\",\"2024-02-01T00:00:00\",\"2024-03-01T00:00:00\",\"2024-04-01T00:00:00\",\"2024-05-01T00:00:00\",\"2024-06-01T00:00:00\",\"2024-08-01T00:00:00\",\"2024-09-01T00:00:00\",\"2024-10-01T00:00:00\",\"2024-11-01T00:00:00\",\"2024-12-01T00:00:00\",\"2025-01-01T00:00:00\",\"2025-02-01T00:00:00\",\"2025-03-01T00:00:00\"],\"xaxis\":\"x\",\"y\":[4,7,4,6,1,1,1,6,2,2,2,9,16,18,1,1,4,17,9,5,6,11,12,12,17,6,3,14,40,37,30,20,23,40,27],\"yaxis\":\"y\",\"type\":\"bar\"}],                        {\"template\":{\"data\":{\"histogram2dcontour\":[{\"type\":\"histogram2dcontour\",\"colorbar\":{\"outlinewidth\":0,\"ticks\":\"\"},\"colorscale\":[[0.0,\"#0d0887\"],[0.1111111111111111,\"#46039f\"],[0.2222222222222222,\"#7201a8\"],[0.3333333333333333,\"#9c179e\"],[0.4444444444444444,\"#bd3786\"],[0.5555555555555556,\"#d8576b\"],[0.6666666666666666,\"#ed7953\"],[0.7777777777777778,\"#fb9f3a\"],[0.8888888888888888,\"#fdca26\"],[1.0,\"#f0f921\"]]}],\"choropleth\":[{\"type\":\"choropleth\",\"colorbar\":{\"outlinewidth\":0,\"ticks\":\"\"}}],\"histogram2d\":[{\"type\":\"histogram2d\",\"colorbar\":{\"outlinewidth\":0,\"ticks\":\"\"},\"colorscale\":[[0.0,\"#0d0887\"],[0.1111111111111111,\"#46039f\"],[0.2222222222222222,\"#7201a8\"],[0.3333333333333333,\"#9c179e\"],[0.4444444444444444,\"#bd3786\"],[0.5555555555555556,\"#d8576b\"],[0.6666666666666666,\"#ed7953\"],[0.7777777777777778,\"#fb9f3a\"],[0.8888888888888888,\"#fdca26\"],[1.0,\"#f0f921\"]]}],\"heatmap\":[{\"type\":\"heatmap\",\"colorbar\":{\"outlinewidth\":0,\"ticks\":\"\"},\"colorscale\":[[0.0,\"#0d0887\"],[0.1111111111111111,\"#46039f\"],[0.2222222222222222,\"#7201a8\"],[0.3333333333333333,\"#9c179e\"],[0.4444444444444444,\"#bd3786\"],[0.5555555555555556,\"#d8576b\"],[0.6666666666666666,\"#ed7953\"],[0.7777777777777778,\"#fb9f3a\"],[0.8888888888888888,\"#fdca26\"],[1.0,\"#f0f921\"]]}],\"heatmapgl\":[{\"type\":\"heatmapgl\",\"colorbar\":{\"outlinewidth\":0,\"ticks\":\"\"},\"colorscale\":[[0.0,\"#0d0887\"],[0.1111111111111111,\"#46039f\"],[0.2222222222222222,\"#7201a8\"],[0.3333333333333333,\"#9c179e\"],[0.4444444444444444,\"#bd3786\"],[0.5555555555555556,\"#d8576b\"],[0.6666666666666666,\"#ed7953\"],[0.7777777777777778,\"#fb9f3a\"],[0.8888888888888888,\"#fdca26\"],[1.0,\"#f0f921\"]]}],\"contourcarpet\":[{\"type\":\"contourcarpet\",\"colorbar\":{\"outlinewidth\":0,\"ticks\":\"\"}}],\"contour\":[{\"type\":\"contour\",\"colorbar\":{\"outlinewidth\":0,\"ticks\":\"\"},\"colorscale\":[[0.0,\"#0d0887\"],[0.1111111111111111,\"#46039f\"],[0.2222222222222222,\"#7201a8\"],[0.3333333333333333,\"#9c179e\"],[0.4444444444444444,\"#bd3786\"],[0.5555555555555556,\"#d8576b\"],[0.6666666666666666,\"#ed7953\"],[0.7777777777777778,\"#fb9f3a\"],[0.8888888888888888,\"#fdca26\"],[1.0,\"#f0f921\"]]}],\"surface\":[{\"type\":\"surface\",\"colorbar\":{\"outlinewidth\":0,\"ticks\":\"\"},\"colorscale\":[[0.0,\"#0d0887\"],[0.1111111111111111,\"#46039f\"],[0.2222222222222222,\"#7201a8\"],[0.3333333333333333,\"#9c179e\"],[0.4444444444444444,\"#bd3786\"],[0.5555555555555556,\"#d8576b\"],[0.6666666666666666,\"#ed7953\"],[0.7777777777777778,\"#fb9f3a\"],[0.8888888888888888,\"#fdca26\"],[1.0,\"#f0f921\"]]}],\"mesh3d\":[{\"type\":\"mesh3d\",\"colorbar\":{\"outlinewidth\":0,\"ticks\":\"\"}}],\"scatter\":[{\"fillpattern\":{\"fillmode\":\"overlay\",\"size\":10,\"solidity\":0.2},\"type\":\"scatter\"}],\"parcoords\":[{\"type\":\"parcoords\",\"line\":{\"colorbar\":{\"outlinewidth\":0,\"ticks\":\"\"}}}],\"scatterpolargl\":[{\"type\":\"scatterpolargl\",\"marker\":{\"colorbar\":{\"outlinewidth\":0,\"ticks\":\"\"}}}],\"bar\":[{\"error_x\":{\"color\":\"#2a3f5f\"},\"error_y\":{\"color\":\"#2a3f5f\"},\"marker\":{\"line\":{\"color\":\"#E5ECF6\",\"width\":0.5},\"pattern\":{\"fillmode\":\"overlay\",\"size\":10,\"solidity\":0.2}},\"type\":\"bar\"}],\"scattergeo\":[{\"type\":\"scattergeo\",\"marker\":{\"colorbar\":{\"outlinewidth\":0,\"ticks\":\"\"}}}],\"scatterpolar\":[{\"type\":\"scatterpolar\",\"marker\":{\"colorbar\":{\"outlinewidth\":0,\"ticks\":\"\"}}}],\"histogram\":[{\"marker\":{\"pattern\":{\"fillmode\":\"overlay\",\"size\":10,\"solidity\":0.2}},\"type\":\"histogram\"}],\"scattergl\":[{\"type\":\"scattergl\",\"marker\":{\"colorbar\":{\"outlinewidth\":0,\"ticks\":\"\"}}}],\"scatter3d\":[{\"type\":\"scatter3d\",\"line\":{\"colorbar\":{\"outlinewidth\":0,\"ticks\":\"\"}},\"marker\":{\"colorbar\":{\"outlinewidth\":0,\"ticks\":\"\"}}}],\"scattermapbox\":[{\"type\":\"scattermapbox\",\"marker\":{\"colorbar\":{\"outlinewidth\":0,\"ticks\":\"\"}}}],\"scatterternary\":[{\"type\":\"scatterternary\",\"marker\":{\"colorbar\":{\"outlinewidth\":0,\"ticks\":\"\"}}}],\"scattercarpet\":[{\"type\":\"scattercarpet\",\"marker\":{\"colorbar\":{\"outlinewidth\":0,\"ticks\":\"\"}}}],\"carpet\":[{\"aaxis\":{\"endlinecolor\":\"#2a3f5f\",\"gridcolor\":\"white\",\"linecolor\":\"white\",\"minorgridcolor\":\"white\",\"startlinecolor\":\"#2a3f5f\"},\"baxis\":{\"endlinecolor\":\"#2a3f5f\",\"gridcolor\":\"white\",\"linecolor\":\"white\",\"minorgridcolor\":\"white\",\"startlinecolor\":\"#2a3f5f\"},\"type\":\"carpet\"}],\"table\":[{\"cells\":{\"fill\":{\"color\":\"#EBF0F8\"},\"line\":{\"color\":\"white\"}},\"header\":{\"fill\":{\"color\":\"#C8D4E3\"},\"line\":{\"color\":\"white\"}},\"type\":\"table\"}],\"barpolar\":[{\"marker\":{\"line\":{\"color\":\"#E5ECF6\",\"width\":0.5},\"pattern\":{\"fillmode\":\"overlay\",\"size\":10,\"solidity\":0.2}},\"type\":\"barpolar\"}],\"pie\":[{\"automargin\":true,\"type\":\"pie\"}]},\"layout\":{\"autotypenumbers\":\"strict\",\"colorway\":[\"#636efa\",\"#EF553B\",\"#00cc96\",\"#ab63fa\",\"#FFA15A\",\"#19d3f3\",\"#FF6692\",\"#B6E880\",\"#FF97FF\",\"#FECB52\"],\"font\":{\"color\":\"#2a3f5f\"},\"hovermode\":\"closest\",\"hoverlabel\":{\"align\":\"left\"},\"paper_bgcolor\":\"white\",\"plot_bgcolor\":\"#E5ECF6\",\"polar\":{\"bgcolor\":\"#E5ECF6\",\"angularaxis\":{\"gridcolor\":\"white\",\"linecolor\":\"white\",\"ticks\":\"\"},\"radialaxis\":{\"gridcolor\":\"white\",\"linecolor\":\"white\",\"ticks\":\"\"}},\"ternary\":{\"bgcolor\":\"#E5ECF6\",\"aaxis\":{\"gridcolor\":\"white\",\"linecolor\":\"white\",\"ticks\":\"\"},\"baxis\":{\"gridcolor\":\"white\",\"linecolor\":\"white\",\"ticks\":\"\"},\"caxis\":{\"gridcolor\":\"white\",\"linecolor\":\"white\",\"ticks\":\"\"}},\"coloraxis\":{\"colorbar\":{\"outlinewidth\":0,\"ticks\":\"\"}},\"colorscale\":{\"sequential\":[[0.0,\"#0d0887\"],[0.1111111111111111,\"#46039f\"],[0.2222222222222222,\"#7201a8\"],[0.3333333333333333,\"#9c179e\"],[0.4444444444444444,\"#bd3786\"],[0.5555555555555556,\"#d8576b\"],[0.6666666666666666,\"#ed7953\"],[0.7777777777777778,\"#fb9f3a\"],[0.8888888888888888,\"#fdca26\"],[1.0,\"#f0f921\"]],\"sequentialminus\":[[0.0,\"#0d0887\"],[0.1111111111111111,\"#46039f\"],[0.2222222222222222,\"#7201a8\"],[0.3333333333333333,\"#9c179e\"],[0.4444444444444444,\"#bd3786\"],[0.5555555555555556,\"#d8576b\"],[0.6666666666666666,\"#ed7953\"],[0.7777777777777778,\"#fb9f3a\"],[0.8888888888888888,\"#fdca26\"],[1.0,\"#f0f921\"]],\"diverging\":[[0,\"#8e0152\"],[0.1,\"#c51b7d\"],[0.2,\"#de77ae\"],[0.3,\"#f1b6da\"],[0.4,\"#fde0ef\"],[0.5,\"#f7f7f7\"],[0.6,\"#e6f5d0\"],[0.7,\"#b8e186\"],[0.8,\"#7fbc41\"],[0.9,\"#4d9221\"],[1,\"#276419\"]]},\"xaxis\":{\"gridcolor\":\"white\",\"linecolor\":\"white\",\"ticks\":\"\",\"title\":{\"standoff\":15},\"zerolinecolor\":\"white\",\"automargin\":true,\"zerolinewidth\":2},\"yaxis\":{\"gridcolor\":\"white\",\"linecolor\":\"white\",\"ticks\":\"\",\"title\":{\"standoff\":15},\"zerolinecolor\":\"white\",\"automargin\":true,\"zerolinewidth\":2},\"scene\":{\"xaxis\":{\"backgroundcolor\":\"#E5ECF6\",\"gridcolor\":\"white\",\"linecolor\":\"white\",\"showbackground\":true,\"ticks\":\"\",\"zerolinecolor\":\"white\",\"gridwidth\":2},\"yaxis\":{\"backgroundcolor\":\"#E5ECF6\",\"gridcolor\":\"white\",\"linecolor\":\"white\",\"showbackground\":true,\"ticks\":\"\",\"zerolinecolor\":\"white\",\"gridwidth\":2},\"zaxis\":{\"backgroundcolor\":\"#E5ECF6\",\"gridcolor\":\"white\",\"linecolor\":\"white\",\"showbackground\":true,\"ticks\":\"\",\"zerolinecolor\":\"white\",\"gridwidth\":2}},\"shapedefaults\":{\"line\":{\"color\":\"#2a3f5f\"}},\"annotationdefaults\":{\"arrowcolor\":\"#2a3f5f\",\"arrowhead\":0,\"arrowwidth\":1},\"geo\":{\"bgcolor\":\"white\",\"landcolor\":\"#E5ECF6\",\"subunitcolor\":\"white\",\"showland\":true,\"showlakes\":true,\"lakecolor\":\"white\"},\"title\":{\"x\":0.05},\"mapbox\":{\"style\":\"light\"}}},\"xaxis\":{\"anchor\":\"y\",\"domain\":[0.0,1.0],\"title\":{\"text\":\"Month\"},\"tickangle\":-45},\"yaxis\":{\"anchor\":\"x\",\"domain\":[0.0,1.0],\"title\":{\"text\":\"Number of Posts\"}},\"legend\":{\"tracegroupgap\":0},\"title\":{\"text\":\"Number of Posts Per Month Since December 2021\",\"x\":0.5},\"barmode\":\"relative\",\"margin\":{\"l\":50,\"r\":50,\"t\":50,\"b\":50}},                        {\"responsive\": true}                    ).then(function(){\n",
       "                            \n",
       "var gd = document.getElementById('35b41ded-ea62-416e-9709-2381ce5566d4');\n",
       "var x = new MutationObserver(function (mutations, observer) {{\n",
       "        var display = window.getComputedStyle(gd).display;\n",
       "        if (!display || display === 'none') {{\n",
       "            console.log([gd, 'removed!']);\n",
       "            Plotly.purge(gd);\n",
       "            observer.disconnect();\n",
       "        }}\n",
       "}});\n",
       "\n",
       "// Listen for the removal of the full notebook cells\n",
       "var notebookContainer = gd.closest('#notebook-container');\n",
       "if (notebookContainer) {{\n",
       "    x.observe(notebookContainer, {childList: true});\n",
       "}}\n",
       "\n",
       "// Listen for the clearing of the current output cell\n",
       "var outputEl = gd.closest('.output');\n",
       "if (outputEl) {{\n",
       "    x.observe(outputEl, {childList: true});\n",
       "}}\n",
       "\n",
       "                        })                };                });            </script>        </div>"
      ]
     },
     "metadata": {},
     "output_type": "display_data"
    }
   ],
   "source": [
    "import pandas as pd\n",
    "import plotly.express as px\n",
    "\n",
    "# Define the dataset file path\n",
    "file_path = 'Downloads/dataset_instagram-scraper_2025-03-25_16-31-50-146.csv'\n",
    "\n",
    "# Load the Instagram data into a DataFrame\n",
    "instagram_data = pd.read_csv(file_path)\n",
    "\n",
    "# Check for required columns\n",
    "if 'timestamp' in instagram_data.columns:\n",
    "    # Convert 'timestamp' to datetime format\n",
    "    instagram_data['timestamp'] = pd.to_datetime(instagram_data['timestamp'], errors='coerce').dt.tz_localize(None)\n",
    "\n",
    "    # Filter for posts made since December 2021\n",
    "    filtered_data = instagram_data.loc[instagram_data['timestamp'] >= '2021-12-01']  # Use .loc explicitly\n",
    "\n",
    "    # Group posts by month and count\n",
    "    filtered_data['month'] = filtered_data['timestamp'].dt.to_period('M')  # Extract the year-month period\n",
    "    posts_per_month = filtered_data.groupby('month')['timestamp'].count().reset_index()\n",
    "    posts_per_month.columns = ['Month', 'Number of Posts']\n",
    "\n",
    "    # Convert 'Month' back to datetime for plotting\n",
    "    posts_per_month['Month'] = posts_per_month['Month'].dt.to_timestamp()\n",
    "\n",
    "    # Create a bar chart\n",
    "    fig = px.bar(\n",
    "        posts_per_month,\n",
    "        x='Month',\n",
    "        y='Number of Posts',\n",
    "        labels={\"Month\": \"Month\", \"Number of Posts\": \"Number of Posts\"},\n",
    "        title=\"Number of Posts Per Month Since December 2021\"\n",
    "    )\n",
    "\n",
    "    # Customize the layout for better visibility\n",
    "    fig.update_layout(\n",
    "        xaxis_title=\"Month\",\n",
    "        yaxis_title=\"Number of Posts\",\n",
    "        title_x=0.5,  # Center the title\n",
    "        margin=dict(l=50, r=50, t=50, b=50),  # Add padding\n",
    "        xaxis=dict(tickangle=-45)  # Rotate x-axis labels for readability\n",
    "    )\n",
    "\n",
    "    # Show the plot\n",
    "    fig.show()\n",
    "else:\n",
    "    print(\"The dataset does not contain a 'timestamp' column.\")"
   ]
  },
  {
   "cell_type": "markdown",
   "id": "e2d15ba9-0b54-4234-a6af-75c225bdd645",
   "metadata": {},
   "source": [
    "This chart shows the relationship between video length, in seconds, with the views a video recives. While there is certainly an upward trend, futher data would need to be collected in order to prove that this data is applicable and reliable. From the looks of this chart, a reel between 20 and 40 seconds seemlingly leads a higher discoverability rate. "
   ]
  },
  {
   "cell_type": "code",
   "execution_count": 123,
   "id": "2f7c094d-3b64-4b96-af44-6ca2b04bfb93",
   "metadata": {
    "jupyter": {
     "source_hidden": true
    }
   },
   "outputs": [
    {
     "data": {
      "application/vnd.plotly.v1+json": {
       "config": {
        "plotlyServerURL": "https://plot.ly"
       },
       "data": [
        {
         "hovertemplate": "Video Length (seconds)=%{x}<br>Video Views=%{y}<extra></extra>",
         "legendgroup": "",
         "marker": {
          "color": "#636efa",
          "symbol": "circle"
         },
         "mode": "markers",
         "name": "",
         "orientation": "v",
         "showlegend": false,
         "type": "scatter",
         "x": [
          67.666,
          5,
          5,
          5,
          110.766,
          5,
          5,
          71.533,
          30.131,
          52.106,
          9.466,
          6.333,
          5.733,
          15.023,
          106.902,
          10.519,
          5.733,
          5.733,
          5.733,
          23.233,
          8,
          5.502,
          54.366,
          5.039,
          28.666,
          5,
          5.5,
          5,
          80.246,
          15,
          11.5,
          15.9,
          19.2,
          5.733,
          5.733,
          5,
          5,
          5,
          9.433,
          5,
          5,
          5,
          5,
          5.733,
          5,
          5,
          5.733,
          9.3,
          5,
          7.9,
          8.033,
          9.633,
          13.266,
          9.633,
          15,
          4.5,
          13.766,
          5,
          5,
          8.933,
          5,
          7.9,
          5,
          14,
          14.3,
          9,
          5.466,
          11.466,
          5.333,
          9,
          5.466,
          60.166,
          5,
          9.474,
          25.224,
          49.466,
          35.266,
          44.233,
          19.433,
          28,
          13.733,
          10.866,
          8.266,
          20.866,
          36.046,
          6.1,
          10.233,
          37.133,
          22.956,
          19.166,
          13.433,
          55.833,
          55.833,
          19.7,
          59.066,
          33.2,
          33.266,
          51.3,
          35.933,
          60,
          60.2,
          57.666,
          3.3,
          59.766,
          57.166,
          60.166,
          13.033,
          7.033,
          3,
          3,
          3.003,
          3,
          3.003,
          19.819,
          3.003,
          3.003,
          3.003,
          3.169,
          3.003,
          4.004,
          3.003,
          15.015,
          15.015,
          11.378,
          15.015
         ],
         "xaxis": "x",
         "y": [
          1445,
          66,
          113,
          88,
          159,
          63,
          128,
          1439,
          763,
          447,
          120,
          256,
          390,
          233,
          680,
          81,
          148,
          548,
          326,
          447,
          184,
          145,
          234,
          139,
          501,
          194,
          176,
          254,
          897,
          152,
          85,
          2490,
          211,
          145,
          220,
          102,
          86,
          81,
          510,
          86,
          339,
          74,
          68,
          275,
          90,
          336,
          101,
          95,
          105,
          116,
          132,
          105,
          92,
          123,
          222,
          140,
          436,
          253,
          192,
          460,
          75,
          111,
          101,
          162,
          152,
          351,
          186,
          174,
          159,
          357,
          126,
          858,
          359,
          421,
          534,
          1256,
          789,
          325,
          485,
          699,
          1031,
          253,
          110,
          272,
          322,
          131,
          1746,
          1431,
          700,
          428,
          963,
          490,
          224,
          292,
          54,
          81,
          71,
          77,
          77,
          182,
          261,
          205,
          507,
          417,
          203,
          459,
          0,
          0,
          0,
          0,
          0,
          0,
          0,
          0,
          0,
          0,
          0,
          0,
          0,
          0,
          0,
          0,
          0,
          0,
          0
         ],
         "yaxis": "y"
        },
        {
         "hovertemplate": "<b>OLS trendline</b><br>videoViewCount = 6.09475 * videoDuration + 180.725<br>R<sup>2</sup>=0.123026<br><br>Video Length (seconds)=%{x}<br>Video Views=%{y} <b>(trend)</b><extra></extra>",
         "legendgroup": "",
         "marker": {
          "color": "#636efa",
          "symbol": "circle"
         },
         "mode": "lines",
         "name": "",
         "showlegend": false,
         "type": "scatter",
         "x": [
          3,
          3,
          3,
          3.003,
          3.003,
          3.003,
          3.003,
          3.003,
          3.003,
          3.003,
          3.169,
          3.3,
          4.004,
          4.5,
          5,
          5,
          5,
          5,
          5,
          5,
          5,
          5,
          5,
          5,
          5,
          5,
          5,
          5,
          5,
          5,
          5,
          5,
          5,
          5,
          5,
          5,
          5.039,
          5.333,
          5.466,
          5.466,
          5.5,
          5.502,
          5.733,
          5.733,
          5.733,
          5.733,
          5.733,
          5.733,
          5.733,
          5.733,
          6.1,
          6.333,
          7.033,
          7.9,
          7.9,
          8,
          8.033,
          8.266,
          8.933,
          9,
          9,
          9.3,
          9.433,
          9.466,
          9.474,
          9.633,
          9.633,
          10.233,
          10.519,
          10.866,
          11.378,
          11.466,
          11.5,
          13.033,
          13.266,
          13.433,
          13.733,
          13.766,
          14,
          14.3,
          15,
          15,
          15.015,
          15.015,
          15.015,
          15.023,
          15.9,
          19.166,
          19.2,
          19.433,
          19.7,
          19.819,
          20.866,
          22.956,
          23.233,
          25.224,
          28,
          28.666,
          30.131,
          33.2,
          33.266,
          35.266,
          35.933,
          36.046,
          37.133,
          44.233,
          49.466,
          51.3,
          52.106,
          54.366,
          55.833,
          55.833,
          57.166,
          57.666,
          59.066,
          59.766,
          60,
          60.166,
          60.166,
          60.2,
          67.666,
          71.533,
          80.246,
          106.902,
          110.766
         ],
         "xaxis": "x",
         "y": [
          199.00889501063372,
          199.00889501063372,
          199.00889501063372,
          199.02717925906805,
          199.02717925906805,
          199.02717925906805,
          199.02717925906805,
          199.02717925906805,
          199.02717925906805,
          199.02717925906805,
          200.03890767243405,
          200.83731985406627,
          205.1280234866546,
          208.15101922779638,
          211.1983939668506,
          211.1983939668506,
          211.1983939668506,
          211.1983939668506,
          211.1983939668506,
          211.1983939668506,
          211.1983939668506,
          211.1983939668506,
          211.1983939668506,
          211.1983939668506,
          211.1983939668506,
          211.1983939668506,
          211.1983939668506,
          211.1983939668506,
          211.1983939668506,
          211.1983939668506,
          211.1983939668506,
          211.1983939668506,
          211.1983939668506,
          211.1983939668506,
          211.1983939668506,
          211.1983939668506,
          211.43608919649682,
          213.2279455430607,
          214.03854722364912,
          214.03854722364912,
          214.24576870590482,
          214.25795820486104,
          215.66584533430407,
          215.66584533430407,
          215.66584533430407,
          215.66584533430407,
          215.66584533430407,
          215.66584533430407,
          215.66584533430407,
          215.66584533430407,
          217.90261839276985,
          219.32269502116912,
          223.58901965584505,
          228.87316745336506,
          228.87316745336506,
          229.4826424011759,
          229.68376913395346,
          231.10384576235273,
          235.16904366425106,
          235.57739187928433,
          235.57739187928433,
          237.40581672271685,
          238.21641840330528,
          238.41754513608285,
          238.46630313190772,
          239.43536829892696,
          239.43536829892696,
          243.09221798579202,
          244.83531633653104,
          246.95019440543467,
          250.07070613822617,
          250.6070440922997,
          250.8142655745554,
          260.15751652449563,
          261.5775931528949,
          262.59541631573904,
          264.42384115917156,
          264.62496789194915,
          266.0511392698265,
          267.879564113259,
          272.1458887479349,
          272.1458887479349,
          272.23730999010655,
          272.23730999010655,
          272.23730999010655,
          272.2860679859314,
          277.6311632782325,
          297.53661507373465,
          297.74383655599036,
          299.1639131843896,
          300.79121129504455,
          301.51648648293946,
          307.89768918651896,
          320.63571559576565,
          322.32396120120166,
          334.45860741211555,
          351.3776319633446,
          355.4367351157648,
          364.3655431011936,
          383.0703292495084,
          383.4725827150636,
          395.6620816712804,
          399.72727957317875,
          400.415986264205,
          407.0409789469089,
          450.3137002414787,
          482.2075242604202,
          493.38529480327105,
          498.29766288262647,
          512.0717967031514,
          521.0127941875365,
          521.0127941875365,
          529.1370952418551,
          532.1844699809093,
          540.7171192502611,
          544.9834438849371,
          546.4096152628144,
          547.4213436761804,
          547.4213436761804,
          547.6285651584361,
          593.1319647619937,
          616.700360993839,
          669.8039131965977,
          832.265555285056,
          855.8156672684672
         ],
         "yaxis": "y"
        }
       ],
       "layout": {
        "autosize": true,
        "legend": {
         "tracegroupgap": 0
        },
        "template": {
         "data": {
          "bar": [
           {
            "error_x": {
             "color": "#2a3f5f"
            },
            "error_y": {
             "color": "#2a3f5f"
            },
            "marker": {
             "line": {
              "color": "#E5ECF6",
              "width": 0.5
             },
             "pattern": {
              "fillmode": "overlay",
              "size": 10,
              "solidity": 0.2
             }
            },
            "type": "bar"
           }
          ],
          "barpolar": [
           {
            "marker": {
             "line": {
              "color": "#E5ECF6",
              "width": 0.5
             },
             "pattern": {
              "fillmode": "overlay",
              "size": 10,
              "solidity": 0.2
             }
            },
            "type": "barpolar"
           }
          ],
          "carpet": [
           {
            "aaxis": {
             "endlinecolor": "#2a3f5f",
             "gridcolor": "white",
             "linecolor": "white",
             "minorgridcolor": "white",
             "startlinecolor": "#2a3f5f"
            },
            "baxis": {
             "endlinecolor": "#2a3f5f",
             "gridcolor": "white",
             "linecolor": "white",
             "minorgridcolor": "white",
             "startlinecolor": "#2a3f5f"
            },
            "type": "carpet"
           }
          ],
          "choropleth": [
           {
            "colorbar": {
             "outlinewidth": 0,
             "ticks": ""
            },
            "type": "choropleth"
           }
          ],
          "contour": [
           {
            "colorbar": {
             "outlinewidth": 0,
             "ticks": ""
            },
            "colorscale": [
             [
              0,
              "#0d0887"
             ],
             [
              0.1111111111111111,
              "#46039f"
             ],
             [
              0.2222222222222222,
              "#7201a8"
             ],
             [
              0.3333333333333333,
              "#9c179e"
             ],
             [
              0.4444444444444444,
              "#bd3786"
             ],
             [
              0.5555555555555556,
              "#d8576b"
             ],
             [
              0.6666666666666666,
              "#ed7953"
             ],
             [
              0.7777777777777778,
              "#fb9f3a"
             ],
             [
              0.8888888888888888,
              "#fdca26"
             ],
             [
              1,
              "#f0f921"
             ]
            ],
            "type": "contour"
           }
          ],
          "contourcarpet": [
           {
            "colorbar": {
             "outlinewidth": 0,
             "ticks": ""
            },
            "type": "contourcarpet"
           }
          ],
          "heatmap": [
           {
            "colorbar": {
             "outlinewidth": 0,
             "ticks": ""
            },
            "colorscale": [
             [
              0,
              "#0d0887"
             ],
             [
              0.1111111111111111,
              "#46039f"
             ],
             [
              0.2222222222222222,
              "#7201a8"
             ],
             [
              0.3333333333333333,
              "#9c179e"
             ],
             [
              0.4444444444444444,
              "#bd3786"
             ],
             [
              0.5555555555555556,
              "#d8576b"
             ],
             [
              0.6666666666666666,
              "#ed7953"
             ],
             [
              0.7777777777777778,
              "#fb9f3a"
             ],
             [
              0.8888888888888888,
              "#fdca26"
             ],
             [
              1,
              "#f0f921"
             ]
            ],
            "type": "heatmap"
           }
          ],
          "heatmapgl": [
           {
            "colorbar": {
             "outlinewidth": 0,
             "ticks": ""
            },
            "colorscale": [
             [
              0,
              "#0d0887"
             ],
             [
              0.1111111111111111,
              "#46039f"
             ],
             [
              0.2222222222222222,
              "#7201a8"
             ],
             [
              0.3333333333333333,
              "#9c179e"
             ],
             [
              0.4444444444444444,
              "#bd3786"
             ],
             [
              0.5555555555555556,
              "#d8576b"
             ],
             [
              0.6666666666666666,
              "#ed7953"
             ],
             [
              0.7777777777777778,
              "#fb9f3a"
             ],
             [
              0.8888888888888888,
              "#fdca26"
             ],
             [
              1,
              "#f0f921"
             ]
            ],
            "type": "heatmapgl"
           }
          ],
          "histogram": [
           {
            "marker": {
             "pattern": {
              "fillmode": "overlay",
              "size": 10,
              "solidity": 0.2
             }
            },
            "type": "histogram"
           }
          ],
          "histogram2d": [
           {
            "colorbar": {
             "outlinewidth": 0,
             "ticks": ""
            },
            "colorscale": [
             [
              0,
              "#0d0887"
             ],
             [
              0.1111111111111111,
              "#46039f"
             ],
             [
              0.2222222222222222,
              "#7201a8"
             ],
             [
              0.3333333333333333,
              "#9c179e"
             ],
             [
              0.4444444444444444,
              "#bd3786"
             ],
             [
              0.5555555555555556,
              "#d8576b"
             ],
             [
              0.6666666666666666,
              "#ed7953"
             ],
             [
              0.7777777777777778,
              "#fb9f3a"
             ],
             [
              0.8888888888888888,
              "#fdca26"
             ],
             [
              1,
              "#f0f921"
             ]
            ],
            "type": "histogram2d"
           }
          ],
          "histogram2dcontour": [
           {
            "colorbar": {
             "outlinewidth": 0,
             "ticks": ""
            },
            "colorscale": [
             [
              0,
              "#0d0887"
             ],
             [
              0.1111111111111111,
              "#46039f"
             ],
             [
              0.2222222222222222,
              "#7201a8"
             ],
             [
              0.3333333333333333,
              "#9c179e"
             ],
             [
              0.4444444444444444,
              "#bd3786"
             ],
             [
              0.5555555555555556,
              "#d8576b"
             ],
             [
              0.6666666666666666,
              "#ed7953"
             ],
             [
              0.7777777777777778,
              "#fb9f3a"
             ],
             [
              0.8888888888888888,
              "#fdca26"
             ],
             [
              1,
              "#f0f921"
             ]
            ],
            "type": "histogram2dcontour"
           }
          ],
          "mesh3d": [
           {
            "colorbar": {
             "outlinewidth": 0,
             "ticks": ""
            },
            "type": "mesh3d"
           }
          ],
          "parcoords": [
           {
            "line": {
             "colorbar": {
              "outlinewidth": 0,
              "ticks": ""
             }
            },
            "type": "parcoords"
           }
          ],
          "pie": [
           {
            "automargin": true,
            "type": "pie"
           }
          ],
          "scatter": [
           {
            "fillpattern": {
             "fillmode": "overlay",
             "size": 10,
             "solidity": 0.2
            },
            "type": "scatter"
           }
          ],
          "scatter3d": [
           {
            "line": {
             "colorbar": {
              "outlinewidth": 0,
              "ticks": ""
             }
            },
            "marker": {
             "colorbar": {
              "outlinewidth": 0,
              "ticks": ""
             }
            },
            "type": "scatter3d"
           }
          ],
          "scattercarpet": [
           {
            "marker": {
             "colorbar": {
              "outlinewidth": 0,
              "ticks": ""
             }
            },
            "type": "scattercarpet"
           }
          ],
          "scattergeo": [
           {
            "marker": {
             "colorbar": {
              "outlinewidth": 0,
              "ticks": ""
             }
            },
            "type": "scattergeo"
           }
          ],
          "scattergl": [
           {
            "marker": {
             "colorbar": {
              "outlinewidth": 0,
              "ticks": ""
             }
            },
            "type": "scattergl"
           }
          ],
          "scattermapbox": [
           {
            "marker": {
             "colorbar": {
              "outlinewidth": 0,
              "ticks": ""
             }
            },
            "type": "scattermapbox"
           }
          ],
          "scatterpolar": [
           {
            "marker": {
             "colorbar": {
              "outlinewidth": 0,
              "ticks": ""
             }
            },
            "type": "scatterpolar"
           }
          ],
          "scatterpolargl": [
           {
            "marker": {
             "colorbar": {
              "outlinewidth": 0,
              "ticks": ""
             }
            },
            "type": "scatterpolargl"
           }
          ],
          "scatterternary": [
           {
            "marker": {
             "colorbar": {
              "outlinewidth": 0,
              "ticks": ""
             }
            },
            "type": "scatterternary"
           }
          ],
          "surface": [
           {
            "colorbar": {
             "outlinewidth": 0,
             "ticks": ""
            },
            "colorscale": [
             [
              0,
              "#0d0887"
             ],
             [
              0.1111111111111111,
              "#46039f"
             ],
             [
              0.2222222222222222,
              "#7201a8"
             ],
             [
              0.3333333333333333,
              "#9c179e"
             ],
             [
              0.4444444444444444,
              "#bd3786"
             ],
             [
              0.5555555555555556,
              "#d8576b"
             ],
             [
              0.6666666666666666,
              "#ed7953"
             ],
             [
              0.7777777777777778,
              "#fb9f3a"
             ],
             [
              0.8888888888888888,
              "#fdca26"
             ],
             [
              1,
              "#f0f921"
             ]
            ],
            "type": "surface"
           }
          ],
          "table": [
           {
            "cells": {
             "fill": {
              "color": "#EBF0F8"
             },
             "line": {
              "color": "white"
             }
            },
            "header": {
             "fill": {
              "color": "#C8D4E3"
             },
             "line": {
              "color": "white"
             }
            },
            "type": "table"
           }
          ]
         },
         "layout": {
          "annotationdefaults": {
           "arrowcolor": "#2a3f5f",
           "arrowhead": 0,
           "arrowwidth": 1
          },
          "autotypenumbers": "strict",
          "coloraxis": {
           "colorbar": {
            "outlinewidth": 0,
            "ticks": ""
           }
          },
          "colorscale": {
           "diverging": [
            [
             0,
             "#8e0152"
            ],
            [
             0.1,
             "#c51b7d"
            ],
            [
             0.2,
             "#de77ae"
            ],
            [
             0.3,
             "#f1b6da"
            ],
            [
             0.4,
             "#fde0ef"
            ],
            [
             0.5,
             "#f7f7f7"
            ],
            [
             0.6,
             "#e6f5d0"
            ],
            [
             0.7,
             "#b8e186"
            ],
            [
             0.8,
             "#7fbc41"
            ],
            [
             0.9,
             "#4d9221"
            ],
            [
             1,
             "#276419"
            ]
           ],
           "sequential": [
            [
             0,
             "#0d0887"
            ],
            [
             0.1111111111111111,
             "#46039f"
            ],
            [
             0.2222222222222222,
             "#7201a8"
            ],
            [
             0.3333333333333333,
             "#9c179e"
            ],
            [
             0.4444444444444444,
             "#bd3786"
            ],
            [
             0.5555555555555556,
             "#d8576b"
            ],
            [
             0.6666666666666666,
             "#ed7953"
            ],
            [
             0.7777777777777778,
             "#fb9f3a"
            ],
            [
             0.8888888888888888,
             "#fdca26"
            ],
            [
             1,
             "#f0f921"
            ]
           ],
           "sequentialminus": [
            [
             0,
             "#0d0887"
            ],
            [
             0.1111111111111111,
             "#46039f"
            ],
            [
             0.2222222222222222,
             "#7201a8"
            ],
            [
             0.3333333333333333,
             "#9c179e"
            ],
            [
             0.4444444444444444,
             "#bd3786"
            ],
            [
             0.5555555555555556,
             "#d8576b"
            ],
            [
             0.6666666666666666,
             "#ed7953"
            ],
            [
             0.7777777777777778,
             "#fb9f3a"
            ],
            [
             0.8888888888888888,
             "#fdca26"
            ],
            [
             1,
             "#f0f921"
            ]
           ]
          },
          "colorway": [
           "#636efa",
           "#EF553B",
           "#00cc96",
           "#ab63fa",
           "#FFA15A",
           "#19d3f3",
           "#FF6692",
           "#B6E880",
           "#FF97FF",
           "#FECB52"
          ],
          "font": {
           "color": "#2a3f5f"
          },
          "geo": {
           "bgcolor": "white",
           "lakecolor": "white",
           "landcolor": "#E5ECF6",
           "showlakes": true,
           "showland": true,
           "subunitcolor": "white"
          },
          "hoverlabel": {
           "align": "left"
          },
          "hovermode": "closest",
          "mapbox": {
           "style": "light"
          },
          "paper_bgcolor": "white",
          "plot_bgcolor": "#E5ECF6",
          "polar": {
           "angularaxis": {
            "gridcolor": "white",
            "linecolor": "white",
            "ticks": ""
           },
           "bgcolor": "#E5ECF6",
           "radialaxis": {
            "gridcolor": "white",
            "linecolor": "white",
            "ticks": ""
           }
          },
          "scene": {
           "xaxis": {
            "backgroundcolor": "#E5ECF6",
            "gridcolor": "white",
            "gridwidth": 2,
            "linecolor": "white",
            "showbackground": true,
            "ticks": "",
            "zerolinecolor": "white"
           },
           "yaxis": {
            "backgroundcolor": "#E5ECF6",
            "gridcolor": "white",
            "gridwidth": 2,
            "linecolor": "white",
            "showbackground": true,
            "ticks": "",
            "zerolinecolor": "white"
           },
           "zaxis": {
            "backgroundcolor": "#E5ECF6",
            "gridcolor": "white",
            "gridwidth": 2,
            "linecolor": "white",
            "showbackground": true,
            "ticks": "",
            "zerolinecolor": "white"
           }
          },
          "shapedefaults": {
           "line": {
            "color": "#2a3f5f"
           }
          },
          "ternary": {
           "aaxis": {
            "gridcolor": "white",
            "linecolor": "white",
            "ticks": ""
           },
           "baxis": {
            "gridcolor": "white",
            "linecolor": "white",
            "ticks": ""
           },
           "bgcolor": "#E5ECF6",
           "caxis": {
            "gridcolor": "white",
            "linecolor": "white",
            "ticks": ""
           }
          },
          "title": {
           "x": 0.05
          },
          "xaxis": {
           "automargin": true,
           "gridcolor": "white",
           "linecolor": "white",
           "ticks": "",
           "title": {
            "standoff": 15
           },
           "zerolinecolor": "white",
           "zerolinewidth": 2
          },
          "yaxis": {
           "automargin": true,
           "gridcolor": "white",
           "linecolor": "white",
           "ticks": "",
           "title": {
            "standoff": 15
           },
           "zerolinecolor": "white",
           "zerolinewidth": 2
          }
         }
        },
        "title": {
         "text": "Video Length vs. Views",
         "x": 0.5
        },
        "xaxis": {
         "anchor": "y",
         "autorange": true,
         "domain": [
          0,
          1
         ],
         "range": [
          -3.5123597753597764,
          117.27835977535977
         ],
         "title": {
          "text": "Video Length (seconds)"
         },
         "type": "linear"
        },
        "yaxis": {
         "anchor": "x",
         "autorange": true,
         "domain": [
          0,
          1
         ],
         "range": [
          -205.4854368932039,
          2695.4854368932038
         ],
         "title": {
          "text": "Video Views"
         },
         "type": "linear"
        }
       }
      },
      "image/png": "[encoded data removed]",
      "text/html": [
       "<div>                            <div id=\"6da541ff-8d23-4290-9387-b7a82f86fed8\" class=\"plotly-graph-div\" style=\"height:525px; width:100%;\"></div>            <script type=\"text/javascript\">                require([\"plotly\"], function(Plotly) {                    window.PLOTLYENV=window.PLOTLYENV || {};                                    if (document.getElementById(\"6da541ff-8d23-4290-9387-b7a82f86fed8\")) {                    Plotly.newPlot(                        \"6da541ff-8d23-4290-9387-b7a82f86fed8\",                        [{\"hovertemplate\":\"Video Length (seconds)=%{x}\\u003cbr\\u003eVideo Views=%{y}\\u003cextra\\u003e\\u003c\\u002fextra\\u003e\",\"legendgroup\":\"\",\"marker\":{\"color\":\"#636efa\",\"symbol\":\"circle\"},\"mode\":\"markers\",\"name\":\"\",\"orientation\":\"v\",\"showlegend\":false,\"x\":[67.666,5.0,5.0,5.0,110.766,5.0,5.0,71.533,30.131,52.106,9.466,6.333,5.733,15.023,106.902,10.519,5.733,5.733,5.733,23.233,8.0,5.502,54.366,5.039,28.666,5.0,5.5,5.0,80.246,15.0,11.5,15.9,19.2,5.733,5.733,5.0,5.0,5.0,9.433,5.0,5.0,5.0,5.0,5.733,5.0,5.0,5.733,9.3,5.0,7.9,8.033,9.633,13.266,9.633,15.0,4.5,13.766,5.0,5.0,8.933,5.0,7.9,5.0,14.0,14.3,9.0,5.466,11.466,5.333,9.0,5.466,60.166,5.0,9.474,25.224,49.466,35.266,44.233,19.433,28.0,13.733,10.866,8.266,20.866,36.046,6.1,10.233,37.133,22.956,19.166,13.433,55.833,55.833,19.7,59.066,33.2,33.266,51.3,35.933,60.0,60.2,57.666,3.3,59.766,57.166,60.166,13.033,7.033,3.0,3.0,3.003,3.0,3.003,19.819,3.003,3.003,3.003,3.169,3.003,4.004,3.003,15.015,15.015,11.378,15.015],\"xaxis\":\"x\",\"y\":[1445.0,66.0,113.0,88.0,159.0,63.0,128.0,1439.0,763.0,447.0,120.0,256.0,390.0,233.0,680.0,81.0,148.0,548.0,326.0,447.0,184.0,145.0,234.0,139.0,501.0,194.0,176.0,254.0,897.0,152.0,85.0,2490.0,211.0,145.0,220.0,102.0,86.0,81.0,510.0,86.0,339.0,74.0,68.0,275.0,90.0,336.0,101.0,95.0,105.0,116.0,132.0,105.0,92.0,123.0,222.0,140.0,436.0,253.0,192.0,460.0,75.0,111.0,101.0,162.0,152.0,351.0,186.0,174.0,159.0,357.0,126.0,858.0,359.0,421.0,534.0,1256.0,789.0,325.0,485.0,699.0,1031.0,253.0,110.0,272.0,322.0,131.0,1746.0,1431.0,700.0,428.0,963.0,490.0,224.0,292.0,54.0,81.0,71.0,77.0,77.0,182.0,261.0,205.0,507.0,417.0,203.0,459.0,0.0,0.0,0.0,0.0,0.0,0.0,0.0,0.0,0.0,0.0,0.0,0.0,0.0,0.0,0.0,0.0,0.0,0.0,0.0],\"yaxis\":\"y\",\"type\":\"scatter\"},{\"hovertemplate\":\"\\u003cb\\u003eOLS trendline\\u003c\\u002fb\\u003e\\u003cbr\\u003evideoViewCount = 6.09475 * videoDuration + 180.725\\u003cbr\\u003eR\\u003csup\\u003e2\\u003c\\u002fsup\\u003e=0.123026\\u003cbr\\u003e\\u003cbr\\u003eVideo Length (seconds)=%{x}\\u003cbr\\u003eVideo Views=%{y} \\u003cb\\u003e(trend)\\u003c\\u002fb\\u003e\\u003cextra\\u003e\\u003c\\u002fextra\\u003e\",\"legendgroup\":\"\",\"marker\":{\"color\":\"#636efa\",\"symbol\":\"circle\"},\"mode\":\"lines\",\"name\":\"\",\"showlegend\":false,\"x\":[3.0,3.0,3.0,3.003,3.003,3.003,3.003,3.003,3.003,3.003,3.169,3.3,4.004,4.5,5.0,5.0,5.0,5.0,5.0,5.0,5.0,5.0,5.0,5.0,5.0,5.0,5.0,5.0,5.0,5.0,5.0,5.0,5.0,5.0,5.0,5.0,5.039,5.333,5.466,5.466,5.5,5.502,5.733,5.733,5.733,5.733,5.733,5.733,5.733,5.733,6.1,6.333,7.033,7.9,7.9,8.0,8.033,8.266,8.933,9.0,9.0,9.3,9.433,9.466,9.474,9.633,9.633,10.233,10.519,10.866,11.378,11.466,11.5,13.033,13.266,13.433,13.733,13.766,14.0,14.3,15.0,15.0,15.015,15.015,15.015,15.023,15.9,19.166,19.2,19.433,19.7,19.819,20.866,22.956,23.233,25.224,28.0,28.666,30.131,33.2,33.266,35.266,35.933,36.046,37.133,44.233,49.466,51.3,52.106,54.366,55.833,55.833,57.166,57.666,59.066,59.766,60.0,60.166,60.166,60.2,67.666,71.533,80.246,106.902,110.766],\"xaxis\":\"x\",\"y\":[199.00889501063372,199.00889501063372,199.00889501063372,199.02717925906805,199.02717925906805,199.02717925906805,199.02717925906805,199.02717925906805,199.02717925906805,199.02717925906805,200.03890767243405,200.83731985406627,205.1280234866546,208.15101922779638,211.1983939668506,211.1983939668506,211.1983939668506,211.1983939668506,211.1983939668506,211.1983939668506,211.1983939668506,211.1983939668506,211.1983939668506,211.1983939668506,211.1983939668506,211.1983939668506,211.1983939668506,211.1983939668506,211.1983939668506,211.1983939668506,211.1983939668506,211.1983939668506,211.1983939668506,211.1983939668506,211.1983939668506,211.1983939668506,211.43608919649682,213.2279455430607,214.03854722364912,214.03854722364912,214.24576870590482,214.25795820486104,215.66584533430407,215.66584533430407,215.66584533430407,215.66584533430407,215.66584533430407,215.66584533430407,215.66584533430407,215.66584533430407,217.90261839276985,219.32269502116912,223.58901965584505,228.87316745336506,228.87316745336506,229.4826424011759,229.68376913395346,231.10384576235273,235.16904366425106,235.57739187928433,235.57739187928433,237.40581672271685,238.21641840330528,238.41754513608285,238.46630313190772,239.43536829892696,239.43536829892696,243.09221798579202,244.83531633653104,246.95019440543467,250.07070613822617,250.6070440922997,250.8142655745554,260.15751652449563,261.5775931528949,262.59541631573904,264.42384115917156,264.62496789194915,266.0511392698265,267.879564113259,272.1458887479349,272.1458887479349,272.23730999010655,272.23730999010655,272.23730999010655,272.2860679859314,277.6311632782325,297.53661507373465,297.74383655599036,299.1639131843896,300.79121129504455,301.51648648293946,307.89768918651896,320.63571559576565,322.32396120120166,334.45860741211555,351.3776319633446,355.4367351157648,364.3655431011936,383.0703292495084,383.4725827150636,395.6620816712804,399.72727957317875,400.415986264205,407.0409789469089,450.3137002414787,482.2075242604202,493.38529480327105,498.29766288262647,512.0717967031514,521.0127941875365,521.0127941875365,529.1370952418551,532.1844699809093,540.7171192502611,544.9834438849371,546.4096152628144,547.4213436761804,547.4213436761804,547.6285651584361,593.1319647619937,616.700360993839,669.8039131965977,832.265555285056,855.8156672684672],\"yaxis\":\"y\",\"type\":\"scatter\"}],                        {\"template\":{\"data\":{\"histogram2dcontour\":[{\"type\":\"histogram2dcontour\",\"colorbar\":{\"outlinewidth\":0,\"ticks\":\"\"},\"colorscale\":[[0.0,\"#0d0887\"],[0.1111111111111111,\"#46039f\"],[0.2222222222222222,\"#7201a8\"],[0.3333333333333333,\"#9c179e\"],[0.4444444444444444,\"#bd3786\"],[0.5555555555555556,\"#d8576b\"],[0.6666666666666666,\"#ed7953\"],[0.7777777777777778,\"#fb9f3a\"],[0.8888888888888888,\"#fdca26\"],[1.0,\"#f0f921\"]]}],\"choropleth\":[{\"type\":\"choropleth\",\"colorbar\":{\"outlinewidth\":0,\"ticks\":\"\"}}],\"histogram2d\":[{\"type\":\"histogram2d\",\"colorbar\":{\"outlinewidth\":0,\"ticks\":\"\"},\"colorscale\":[[0.0,\"#0d0887\"],[0.1111111111111111,\"#46039f\"],[0.2222222222222222,\"#7201a8\"],[0.3333333333333333,\"#9c179e\"],[0.4444444444444444,\"#bd3786\"],[0.5555555555555556,\"#d8576b\"],[0.6666666666666666,\"#ed7953\"],[0.7777777777777778,\"#fb9f3a\"],[0.8888888888888888,\"#fdca26\"],[1.0,\"#f0f921\"]]}],\"heatmap\":[{\"type\":\"heatmap\",\"colorbar\":{\"outlinewidth\":0,\"ticks\":\"\"},\"colorscale\":[[0.0,\"#0d0887\"],[0.1111111111111111,\"#46039f\"],[0.2222222222222222,\"#7201a8\"],[0.3333333333333333,\"#9c179e\"],[0.4444444444444444,\"#bd3786\"],[0.5555555555555556,\"#d8576b\"],[0.6666666666666666,\"#ed7953\"],[0.7777777777777778,\"#fb9f3a\"],[0.8888888888888888,\"#fdca26\"],[1.0,\"#f0f921\"]]}],\"heatmapgl\":[{\"type\":\"heatmapgl\",\"colorbar\":{\"outlinewidth\":0,\"ticks\":\"\"},\"colorscale\":[[0.0,\"#0d0887\"],[0.1111111111111111,\"#46039f\"],[0.2222222222222222,\"#7201a8\"],[0.3333333333333333,\"#9c179e\"],[0.4444444444444444,\"#bd3786\"],[0.5555555555555556,\"#d8576b\"],[0.6666666666666666,\"#ed7953\"],[0.7777777777777778,\"#fb9f3a\"],[0.8888888888888888,\"#fdca26\"],[1.0,\"#f0f921\"]]}],\"contourcarpet\":[{\"type\":\"contourcarpet\",\"colorbar\":{\"outlinewidth\":0,\"ticks\":\"\"}}],\"contour\":[{\"type\":\"contour\",\"colorbar\":{\"outlinewidth\":0,\"ticks\":\"\"},\"colorscale\":[[0.0,\"#0d0887\"],[0.1111111111111111,\"#46039f\"],[0.2222222222222222,\"#7201a8\"],[0.3333333333333333,\"#9c179e\"],[0.4444444444444444,\"#bd3786\"],[0.5555555555555556,\"#d8576b\"],[0.6666666666666666,\"#ed7953\"],[0.7777777777777778,\"#fb9f3a\"],[0.8888888888888888,\"#fdca26\"],[1.0,\"#f0f921\"]]}],\"surface\":[{\"type\":\"surface\",\"colorbar\":{\"outlinewidth\":0,\"ticks\":\"\"},\"colorscale\":[[0.0,\"#0d0887\"],[0.1111111111111111,\"#46039f\"],[0.2222222222222222,\"#7201a8\"],[0.3333333333333333,\"#9c179e\"],[0.4444444444444444,\"#bd3786\"],[0.5555555555555556,\"#d8576b\"],[0.6666666666666666,\"#ed7953\"],[0.7777777777777778,\"#fb9f3a\"],[0.8888888888888888,\"#fdca26\"],[1.0,\"#f0f921\"]]}],\"mesh3d\":[{\"type\":\"mesh3d\",\"colorbar\":{\"outlinewidth\":0,\"ticks\":\"\"}}],\"scatter\":[{\"fillpattern\":{\"fillmode\":\"overlay\",\"size\":10,\"solidity\":0.2},\"type\":\"scatter\"}],\"parcoords\":[{\"type\":\"parcoords\",\"line\":{\"colorbar\":{\"outlinewidth\":0,\"ticks\":\"\"}}}],\"scatterpolargl\":[{\"type\":\"scatterpolargl\",\"marker\":{\"colorbar\":{\"outlinewidth\":0,\"ticks\":\"\"}}}],\"bar\":[{\"error_x\":{\"color\":\"#2a3f5f\"},\"error_y\":{\"color\":\"#2a3f5f\"},\"marker\":{\"line\":{\"color\":\"#E5ECF6\",\"width\":0.5},\"pattern\":{\"fillmode\":\"overlay\",\"size\":10,\"solidity\":0.2}},\"type\":\"bar\"}],\"scattergeo\":[{\"type\":\"scattergeo\",\"marker\":{\"colorbar\":{\"outlinewidth\":0,\"ticks\":\"\"}}}],\"scatterpolar\":[{\"type\":\"scatterpolar\",\"marker\":{\"colorbar\":{\"outlinewidth\":0,\"ticks\":\"\"}}}],\"histogram\":[{\"marker\":{\"pattern\":{\"fillmode\":\"overlay\",\"size\":10,\"solidity\":0.2}},\"type\":\"histogram\"}],\"scattergl\":[{\"type\":\"scattergl\",\"marker\":{\"colorbar\":{\"outlinewidth\":0,\"ticks\":\"\"}}}],\"scatter3d\":[{\"type\":\"scatter3d\",\"line\":{\"colorbar\":{\"outlinewidth\":0,\"ticks\":\"\"}},\"marker\":{\"colorbar\":{\"outlinewidth\":0,\"ticks\":\"\"}}}],\"scattermapbox\":[{\"type\":\"scattermapbox\",\"marker\":{\"colorbar\":{\"outlinewidth\":0,\"ticks\":\"\"}}}],\"scatterternary\":[{\"type\":\"scatterternary\",\"marker\":{\"colorbar\":{\"outlinewidth\":0,\"ticks\":\"\"}}}],\"scattercarpet\":[{\"type\":\"scattercarpet\",\"marker\":{\"colorbar\":{\"outlinewidth\":0,\"ticks\":\"\"}}}],\"carpet\":[{\"aaxis\":{\"endlinecolor\":\"#2a3f5f\",\"gridcolor\":\"white\",\"linecolor\":\"white\",\"minorgridcolor\":\"white\",\"startlinecolor\":\"#2a3f5f\"},\"baxis\":{\"endlinecolor\":\"#2a3f5f\",\"gridcolor\":\"white\",\"linecolor\":\"white\",\"minorgridcolor\":\"white\",\"startlinecolor\":\"#2a3f5f\"},\"type\":\"carpet\"}],\"table\":[{\"cells\":{\"fill\":{\"color\":\"#EBF0F8\"},\"line\":{\"color\":\"white\"}},\"header\":{\"fill\":{\"color\":\"#C8D4E3\"},\"line\":{\"color\":\"white\"}},\"type\":\"table\"}],\"barpolar\":[{\"marker\":{\"line\":{\"color\":\"#E5ECF6\",\"width\":0.5},\"pattern\":{\"fillmode\":\"overlay\",\"size\":10,\"solidity\":0.2}},\"type\":\"barpolar\"}],\"pie\":[{\"automargin\":true,\"type\":\"pie\"}]},\"layout\":{\"autotypenumbers\":\"strict\",\"colorway\":[\"#636efa\",\"#EF553B\",\"#00cc96\",\"#ab63fa\",\"#FFA15A\",\"#19d3f3\",\"#FF6692\",\"#B6E880\",\"#FF97FF\",\"#FECB52\"],\"font\":{\"color\":\"#2a3f5f\"},\"hovermode\":\"closest\",\"hoverlabel\":{\"align\":\"left\"},\"paper_bgcolor\":\"white\",\"plot_bgcolor\":\"#E5ECF6\",\"polar\":{\"bgcolor\":\"#E5ECF6\",\"angularaxis\":{\"gridcolor\":\"white\",\"linecolor\":\"white\",\"ticks\":\"\"},\"radialaxis\":{\"gridcolor\":\"white\",\"linecolor\":\"white\",\"ticks\":\"\"}},\"ternary\":{\"bgcolor\":\"#E5ECF6\",\"aaxis\":{\"gridcolor\":\"white\",\"linecolor\":\"white\",\"ticks\":\"\"},\"baxis\":{\"gridcolor\":\"white\",\"linecolor\":\"white\",\"ticks\":\"\"},\"caxis\":{\"gridcolor\":\"white\",\"linecolor\":\"white\",\"ticks\":\"\"}},\"coloraxis\":{\"colorbar\":{\"outlinewidth\":0,\"ticks\":\"\"}},\"colorscale\":{\"sequential\":[[0.0,\"#0d0887\"],[0.1111111111111111,\"#46039f\"],[0.2222222222222222,\"#7201a8\"],[0.3333333333333333,\"#9c179e\"],[0.4444444444444444,\"#bd3786\"],[0.5555555555555556,\"#d8576b\"],[0.6666666666666666,\"#ed7953\"],[0.7777777777777778,\"#fb9f3a\"],[0.8888888888888888,\"#fdca26\"],[1.0,\"#f0f921\"]],\"sequentialminus\":[[0.0,\"#0d0887\"],[0.1111111111111111,\"#46039f\"],[0.2222222222222222,\"#7201a8\"],[0.3333333333333333,\"#9c179e\"],[0.4444444444444444,\"#bd3786\"],[0.5555555555555556,\"#d8576b\"],[0.6666666666666666,\"#ed7953\"],[0.7777777777777778,\"#fb9f3a\"],[0.8888888888888888,\"#fdca26\"],[1.0,\"#f0f921\"]],\"diverging\":[[0,\"#8e0152\"],[0.1,\"#c51b7d\"],[0.2,\"#de77ae\"],[0.3,\"#f1b6da\"],[0.4,\"#fde0ef\"],[0.5,\"#f7f7f7\"],[0.6,\"#e6f5d0\"],[0.7,\"#b8e186\"],[0.8,\"#7fbc41\"],[0.9,\"#4d9221\"],[1,\"#276419\"]]},\"xaxis\":{\"gridcolor\":\"white\",\"linecolor\":\"white\",\"ticks\":\"\",\"title\":{\"standoff\":15},\"zerolinecolor\":\"white\",\"automargin\":true,\"zerolinewidth\":2},\"yaxis\":{\"gridcolor\":\"white\",\"linecolor\":\"white\",\"ticks\":\"\",\"title\":{\"standoff\":15},\"zerolinecolor\":\"white\",\"automargin\":true,\"zerolinewidth\":2},\"scene\":{\"xaxis\":{\"backgroundcolor\":\"#E5ECF6\",\"gridcolor\":\"white\",\"linecolor\":\"white\",\"showbackground\":true,\"ticks\":\"\",\"zerolinecolor\":\"white\",\"gridwidth\":2},\"yaxis\":{\"backgroundcolor\":\"#E5ECF6\",\"gridcolor\":\"white\",\"linecolor\":\"white\",\"showbackground\":true,\"ticks\":\"\",\"zerolinecolor\":\"white\",\"gridwidth\":2},\"zaxis\":{\"backgroundcolor\":\"#E5ECF6\",\"gridcolor\":\"white\",\"linecolor\":\"white\",\"showbackground\":true,\"ticks\":\"\",\"zerolinecolor\":\"white\",\"gridwidth\":2}},\"shapedefaults\":{\"line\":{\"color\":\"#2a3f5f\"}},\"annotationdefaults\":{\"arrowcolor\":\"#2a3f5f\",\"arrowhead\":0,\"arrowwidth\":1},\"geo\":{\"bgcolor\":\"white\",\"landcolor\":\"#E5ECF6\",\"subunitcolor\":\"white\",\"showland\":true,\"showlakes\":true,\"lakecolor\":\"white\"},\"title\":{\"x\":0.05},\"mapbox\":{\"style\":\"light\"}}},\"xaxis\":{\"anchor\":\"y\",\"domain\":[0.0,1.0],\"title\":{\"text\":\"Video Length (seconds)\"}},\"yaxis\":{\"anchor\":\"x\",\"domain\":[0.0,1.0],\"title\":{\"text\":\"Video Views\"}},\"legend\":{\"tracegroupgap\":0},\"title\":{\"text\":\"Video Length vs. Views\",\"x\":0.5}},                        {\"responsive\": true}                    ).then(function(){\n",
       "                            \n",
       "var gd = document.getElementById('6da541ff-8d23-4290-9387-b7a82f86fed8');\n",
       "var x = new MutationObserver(function (mutations, observer) {{\n",
       "        var display = window.getComputedStyle(gd).display;\n",
       "        if (!display || display === 'none') {{\n",
       "            console.log([gd, 'removed!']);\n",
       "            Plotly.purge(gd);\n",
       "            observer.disconnect();\n",
       "        }}\n",
       "}});\n",
       "\n",
       "// Listen for the removal of the full notebook cells\n",
       "var notebookContainer = gd.closest('#notebook-container');\n",
       "if (notebookContainer) {{\n",
       "    x.observe(notebookContainer, {childList: true});\n",
       "}}\n",
       "\n",
       "// Listen for the clearing of the current output cell\n",
       "var outputEl = gd.closest('.output');\n",
       "if (outputEl) {{\n",
       "    x.observe(outputEl, {childList: true});\n",
       "}}\n",
       "\n",
       "                        })                };                });            </script>        </div>"
      ]
     },
     "metadata": {},
     "output_type": "display_data"
    }
   ],
   "source": [
    "import pandas as pd\n",
    "import plotly.express as px\n",
    "\n",
    "# Define the dataset file path\n",
    "file_path = 'Downloads/dataset_instagram-scraper_2025-03-25_16-31-50-146.csv'\n",
    "\n",
    "# Load the Instagram data into a DataFrame\n",
    "instagram_data = pd.read_csv(file_path)\n",
    "\n",
    "# Check for required columns\n",
    "required_columns = {'videoDuration', 'videoViewCount'}\n",
    "if required_columns.issubset(instagram_data.columns):\n",
    "    # Ensure relevant columns are strictly numeric\n",
    "    instagram_data['videoDuration'] = pd.to_numeric(instagram_data['videoDuration'], errors='coerce')\n",
    "    instagram_data['videoViewCount'] = pd.to_numeric(instagram_data['videoViewCount'], errors='coerce')\n",
    "\n",
    "    # Drop rows with missing or invalid data\n",
    "    filtered_data = instagram_data.dropna(subset=['videoDuration', 'videoViewCount'])\n",
    "\n",
    "    # Create scatter plot with Plotly\n",
    "    fig = px.scatter(\n",
    "        filtered_data,\n",
    "        x='videoDuration',\n",
    "        y='videoViewCount',\n",
    "        labels={\"videoDuration\": \"Video Length (seconds)\", \"videoViewCount\": \"Video Views\"},\n",
    "        title=\"Video Length vs. Views\",\n",
    "        trendline=\"ols\"  # Add a trendline to show the correlation\n",
    "    )\n",
    "\n",
    "    # Customize the layout for clarity\n",
    "    fig.update_layout(\n",
    "        xaxis_title=\"Video Length (seconds)\",\n",
    "        yaxis_title=\"Video Views\",\n",
    "        title_x=0.5  # Center the title\n",
    "    )\n",
    "\n",
    "    # Show the plot\n",
    "    fig.show()\n",
    "else:\n",
    "    print(\"The dataset does not contain the required columns ('videoDuration', 'videoViewCount'). Please check the column names.\")"
   ]
  },
  {
   "cell_type": "code",
   "execution_count": 121,
   "id": "82a5e09b-bd81-4a4b-b2c7-8a877df6d585",
   "metadata": {
    "collapsed": true,
    "jupyter": {
     "outputs_hidden": true,
     "source_hidden": true
    }
   },
   "outputs": [
    {
     "name": "stdout",
     "output_type": "stream",
     "text": [
      "List of columns in the dataset:\n",
      "alt\n",
      "caption\n",
      "childPosts/0/alt\n",
      "childPosts/0/caption\n",
      "childPosts/0/commentsCount\n",
      "childPosts/0/dimensionsHeight\n",
      "childPosts/0/dimensionsWidth\n",
      "childPosts/0/displayUrl\n",
      "childPosts/0/firstComment\n",
      "childPosts/0/id\n",
      "childPosts/0/likesCount\n",
      "childPosts/0/ownerId\n",
      "childPosts/0/shortCode\n",
      "childPosts/0/taggedUsers/0/full_name\n",
      "childPosts/0/taggedUsers/0/id\n",
      "childPosts/0/taggedUsers/0/is_verified\n",
      "childPosts/0/taggedUsers/0/profile_pic_url\n",
      "childPosts/0/taggedUsers/0/username\n",
      "childPosts/0/taggedUsers/1/full_name\n",
      "childPosts/0/taggedUsers/1/id\n",
      "childPosts/0/taggedUsers/1/is_verified\n",
      "childPosts/0/taggedUsers/1/profile_pic_url\n",
      "childPosts/0/taggedUsers/1/username\n",
      "childPosts/0/timestamp\n",
      "childPosts/0/type\n",
      "childPosts/0/url\n",
      "childPosts/0/videoPlayCount\n",
      "childPosts/0/videoUrl\n",
      "childPosts/0/videoViewCount\n",
      "childPosts/1/alt\n",
      "childPosts/1/caption\n",
      "childPosts/1/commentsCount\n",
      "childPosts/1/dimensionsHeight\n",
      "childPosts/1/dimensionsWidth\n",
      "childPosts/1/displayUrl\n",
      "childPosts/1/firstComment\n",
      "childPosts/1/id\n",
      "childPosts/1/likesCount\n",
      "childPosts/1/ownerId\n",
      "childPosts/1/shortCode\n",
      "childPosts/1/taggedUsers/0/full_name\n",
      "childPosts/1/taggedUsers/0/id\n",
      "childPosts/1/taggedUsers/0/is_verified\n",
      "childPosts/1/taggedUsers/0/profile_pic_url\n",
      "childPosts/1/taggedUsers/0/username\n",
      "childPosts/1/timestamp\n",
      "childPosts/1/type\n",
      "childPosts/1/url\n",
      "childPosts/2/alt\n",
      "childPosts/2/caption\n",
      "childPosts/2/commentsCount\n",
      "childPosts/2/dimensionsHeight\n",
      "childPosts/2/dimensionsWidth\n",
      "childPosts/2/displayUrl\n",
      "childPosts/2/firstComment\n",
      "childPosts/2/id\n",
      "childPosts/2/likesCount\n",
      "childPosts/2/ownerId\n",
      "childPosts/2/shortCode\n",
      "childPosts/2/timestamp\n",
      "childPosts/2/type\n",
      "childPosts/2/url\n",
      "childPosts/3/alt\n",
      "childPosts/3/caption\n",
      "childPosts/3/commentsCount\n",
      "childPosts/3/dimensionsHeight\n",
      "childPosts/3/dimensionsWidth\n",
      "childPosts/3/displayUrl\n",
      "childPosts/3/firstComment\n",
      "childPosts/3/id\n",
      "childPosts/3/likesCount\n",
      "childPosts/3/ownerId\n",
      "childPosts/3/shortCode\n",
      "childPosts/3/timestamp\n",
      "childPosts/3/type\n",
      "childPosts/3/url\n",
      "childPosts/4/alt\n",
      "childPosts/4/caption\n",
      "childPosts/4/commentsCount\n",
      "childPosts/4/dimensionsHeight\n",
      "childPosts/4/dimensionsWidth\n",
      "childPosts/4/displayUrl\n",
      "childPosts/4/firstComment\n",
      "childPosts/4/id\n",
      "childPosts/4/likesCount\n",
      "childPosts/4/ownerId\n",
      "childPosts/4/shortCode\n",
      "childPosts/4/timestamp\n",
      "childPosts/4/type\n",
      "childPosts/4/url\n",
      "childPosts/5/alt\n",
      "childPosts/5/caption\n",
      "childPosts/5/commentsCount\n",
      "childPosts/5/dimensionsHeight\n",
      "childPosts/5/dimensionsWidth\n",
      "childPosts/5/displayUrl\n",
      "childPosts/5/firstComment\n",
      "childPosts/5/id\n",
      "childPosts/5/likesCount\n",
      "childPosts/5/ownerId\n",
      "childPosts/5/shortCode\n",
      "childPosts/5/timestamp\n",
      "childPosts/5/type\n",
      "childPosts/5/url\n",
      "childPosts/6/alt\n",
      "childPosts/6/caption\n",
      "childPosts/6/commentsCount\n",
      "childPosts/6/dimensionsHeight\n",
      "childPosts/6/dimensionsWidth\n",
      "childPosts/6/displayUrl\n",
      "childPosts/6/firstComment\n",
      "childPosts/6/id\n",
      "childPosts/6/likesCount\n",
      "childPosts/6/ownerId\n",
      "childPosts/6/shortCode\n",
      "childPosts/6/timestamp\n",
      "childPosts/6/type\n",
      "childPosts/6/url\n",
      "childPosts/7/alt\n",
      "childPosts/7/caption\n",
      "childPosts/7/commentsCount\n",
      "childPosts/7/dimensionsHeight\n",
      "childPosts/7/dimensionsWidth\n",
      "childPosts/7/displayUrl\n",
      "childPosts/7/firstComment\n",
      "childPosts/7/id\n",
      "childPosts/7/likesCount\n",
      "childPosts/7/ownerId\n",
      "childPosts/7/shortCode\n",
      "childPosts/7/timestamp\n",
      "childPosts/7/type\n",
      "childPosts/7/url\n",
      "coauthorProducers/0/id\n",
      "coauthorProducers/0/is_verified\n",
      "coauthorProducers/0/profile_pic_url\n",
      "coauthorProducers/0/username\n",
      "coauthorProducers/1/id\n",
      "coauthorProducers/1/is_verified\n",
      "coauthorProducers/1/profile_pic_url\n",
      "coauthorProducers/1/username\n",
      "commentsCount\n",
      "dimensionsHeight\n",
      "dimensionsWidth\n",
      "displayUrl\n",
      "firstComment\n",
      "hashtags/0\n",
      "hashtags/1\n",
      "hashtags/2\n",
      "hashtags/3\n",
      "hashtags/4\n",
      "hashtags/5\n",
      "hashtags/6\n",
      "hashtags/7\n",
      "hashtags/8\n",
      "hashtags/9\n",
      "hashtags/10\n",
      "hashtags/11\n",
      "hashtags/12\n",
      "hashtags/13\n",
      "hashtags/14\n",
      "hashtags/15\n",
      "hashtags/16\n",
      "hashtags/17\n",
      "hashtags/18\n",
      "hashtags/19\n",
      "hashtags/20\n",
      "hashtags/21\n",
      "hashtags/22\n",
      "hashtags/23\n",
      "hashtags/24\n",
      "hashtags/25\n",
      "hashtags/26\n",
      "hashtags/27\n",
      "hashtags/28\n",
      "hashtags/29\n",
      "id\n",
      "images/0\n",
      "images/1\n",
      "images/2\n",
      "images/3\n",
      "images/4\n",
      "images/5\n",
      "images/6\n",
      "images/7\n",
      "inputUrl\n",
      "isPinned\n",
      "isSponsored\n",
      "latestComments/0/id\n",
      "latestComments/0/likesCount\n",
      "latestComments/0/owner/id\n",
      "latestComments/0/owner/is_verified\n",
      "latestComments/0/owner/profile_pic_url\n",
      "latestComments/0/owner/username\n",
      "latestComments/0/ownerProfilePicUrl\n",
      "latestComments/0/ownerUsername\n",
      "latestComments/0/replies/0/id\n",
      "latestComments/0/replies/0/likesCount\n",
      "latestComments/0/replies/0/owner/id\n",
      "latestComments/0/replies/0/owner/is_verified\n",
      "latestComments/0/replies/0/owner/profile_pic_url\n",
      "latestComments/0/replies/0/owner/username\n",
      "latestComments/0/replies/0/ownerProfilePicUrl\n",
      "latestComments/0/replies/0/ownerUsername\n",
      "latestComments/0/replies/0/repliesCount\n",
      "latestComments/0/replies/0/text\n",
      "latestComments/0/replies/0/timestamp\n",
      "latestComments/0/replies/1/id\n",
      "latestComments/0/replies/1/likesCount\n",
      "latestComments/0/replies/1/owner/id\n",
      "latestComments/0/replies/1/owner/is_verified\n",
      "latestComments/0/replies/1/owner/profile_pic_url\n",
      "latestComments/0/replies/1/owner/username\n",
      "latestComments/0/replies/1/ownerProfilePicUrl\n",
      "latestComments/0/replies/1/ownerUsername\n",
      "latestComments/0/replies/1/repliesCount\n",
      "latestComments/0/replies/1/text\n",
      "latestComments/0/replies/1/timestamp\n",
      "latestComments/0/repliesCount\n",
      "latestComments/0/text\n",
      "latestComments/0/timestamp\n",
      "latestComments/1/id\n",
      "latestComments/1/likesCount\n",
      "latestComments/1/owner/id\n",
      "latestComments/1/owner/is_verified\n",
      "latestComments/1/owner/profile_pic_url\n",
      "latestComments/1/owner/username\n",
      "latestComments/1/ownerProfilePicUrl\n",
      "latestComments/1/ownerUsername\n",
      "latestComments/1/replies/0/id\n",
      "latestComments/1/replies/0/likesCount\n",
      "latestComments/1/replies/0/owner/id\n",
      "latestComments/1/replies/0/owner/is_verified\n",
      "latestComments/1/replies/0/owner/profile_pic_url\n",
      "latestComments/1/replies/0/owner/username\n",
      "latestComments/1/replies/0/ownerProfilePicUrl\n",
      "latestComments/1/replies/0/ownerUsername\n",
      "latestComments/1/replies/0/repliesCount\n",
      "latestComments/1/replies/0/text\n",
      "latestComments/1/replies/0/timestamp\n",
      "latestComments/1/replies/1/id\n",
      "latestComments/1/replies/1/likesCount\n",
      "latestComments/1/replies/1/owner/id\n",
      "latestComments/1/replies/1/owner/is_verified\n",
      "latestComments/1/replies/1/owner/profile_pic_url\n",
      "latestComments/1/replies/1/owner/username\n",
      "latestComments/1/replies/1/ownerProfilePicUrl\n",
      "latestComments/1/replies/1/ownerUsername\n",
      "latestComments/1/replies/1/repliesCount\n",
      "latestComments/1/replies/1/text\n",
      "latestComments/1/replies/1/timestamp\n",
      "latestComments/1/replies/2/id\n",
      "latestComments/1/replies/2/likesCount\n",
      "latestComments/1/replies/2/owner/id\n",
      "latestComments/1/replies/2/owner/is_verified\n",
      "latestComments/1/replies/2/owner/profile_pic_url\n",
      "latestComments/1/replies/2/owner/username\n",
      "latestComments/1/replies/2/ownerProfilePicUrl\n",
      "latestComments/1/replies/2/ownerUsername\n",
      "latestComments/1/replies/2/repliesCount\n",
      "latestComments/1/replies/2/text\n",
      "latestComments/1/replies/2/timestamp\n",
      "latestComments/1/repliesCount\n",
      "latestComments/1/text\n",
      "latestComments/1/timestamp\n",
      "latestComments/2/id\n",
      "latestComments/2/likesCount\n",
      "latestComments/2/owner/id\n",
      "latestComments/2/owner/is_verified\n",
      "latestComments/2/owner/profile_pic_url\n",
      "latestComments/2/owner/username\n",
      "latestComments/2/ownerProfilePicUrl\n",
      "latestComments/2/ownerUsername\n",
      "latestComments/2/replies/0/id\n",
      "latestComments/2/replies/0/likesCount\n",
      "latestComments/2/replies/0/owner/id\n",
      "latestComments/2/replies/0/owner/is_verified\n",
      "latestComments/2/replies/0/owner/profile_pic_url\n",
      "latestComments/2/replies/0/owner/username\n",
      "latestComments/2/replies/0/ownerProfilePicUrl\n",
      "latestComments/2/replies/0/ownerUsername\n",
      "latestComments/2/replies/0/repliesCount\n",
      "latestComments/2/replies/0/text\n",
      "latestComments/2/replies/0/timestamp\n",
      "latestComments/2/repliesCount\n",
      "latestComments/2/text\n",
      "latestComments/2/timestamp\n",
      "latestComments/3/id\n",
      "latestComments/3/likesCount\n",
      "latestComments/3/owner/id\n",
      "latestComments/3/owner/is_verified\n",
      "latestComments/3/owner/profile_pic_url\n",
      "latestComments/3/owner/username\n",
      "latestComments/3/ownerProfilePicUrl\n",
      "latestComments/3/ownerUsername\n",
      "latestComments/3/replies/0/id\n",
      "latestComments/3/replies/0/likesCount\n",
      "latestComments/3/replies/0/owner/id\n",
      "latestComments/3/replies/0/owner/is_verified\n",
      "latestComments/3/replies/0/owner/profile_pic_url\n",
      "latestComments/3/replies/0/owner/username\n",
      "latestComments/3/replies/0/ownerProfilePicUrl\n",
      "latestComments/3/replies/0/ownerUsername\n",
      "latestComments/3/replies/0/repliesCount\n",
      "latestComments/3/replies/0/text\n",
      "latestComments/3/replies/0/timestamp\n",
      "latestComments/3/replies/1/id\n",
      "latestComments/3/replies/1/likesCount\n",
      "latestComments/3/replies/1/owner/id\n",
      "latestComments/3/replies/1/owner/is_verified\n",
      "latestComments/3/replies/1/owner/profile_pic_url\n",
      "latestComments/3/replies/1/owner/username\n",
      "latestComments/3/replies/1/ownerProfilePicUrl\n",
      "latestComments/3/replies/1/ownerUsername\n",
      "latestComments/3/replies/1/repliesCount\n",
      "latestComments/3/replies/1/text\n",
      "latestComments/3/replies/1/timestamp\n",
      "latestComments/3/repliesCount\n",
      "latestComments/3/text\n",
      "latestComments/3/timestamp\n",
      "latestComments/4/id\n",
      "latestComments/4/likesCount\n",
      "latestComments/4/owner/id\n",
      "latestComments/4/owner/is_verified\n",
      "latestComments/4/owner/profile_pic_url\n",
      "latestComments/4/owner/username\n",
      "latestComments/4/ownerProfilePicUrl\n",
      "latestComments/4/ownerUsername\n",
      "latestComments/4/repliesCount\n",
      "latestComments/4/text\n",
      "latestComments/4/timestamp\n",
      "latestComments/5/id\n",
      "latestComments/5/likesCount\n",
      "latestComments/5/owner/id\n",
      "latestComments/5/owner/is_verified\n",
      "latestComments/5/owner/profile_pic_url\n",
      "latestComments/5/owner/username\n",
      "latestComments/5/ownerProfilePicUrl\n",
      "latestComments/5/ownerUsername\n",
      "latestComments/5/repliesCount\n",
      "latestComments/5/text\n",
      "latestComments/5/timestamp\n",
      "latestComments/6/id\n",
      "latestComments/6/likesCount\n",
      "latestComments/6/owner/id\n",
      "latestComments/6/owner/is_verified\n",
      "latestComments/6/owner/profile_pic_url\n",
      "latestComments/6/owner/username\n",
      "latestComments/6/ownerProfilePicUrl\n",
      "latestComments/6/ownerUsername\n",
      "latestComments/6/repliesCount\n",
      "latestComments/6/text\n",
      "latestComments/6/timestamp\n",
      "latestComments/7/id\n",
      "latestComments/7/likesCount\n",
      "latestComments/7/owner/id\n",
      "latestComments/7/owner/is_verified\n",
      "latestComments/7/owner/profile_pic_url\n",
      "latestComments/7/owner/username\n",
      "latestComments/7/ownerProfilePicUrl\n",
      "latestComments/7/ownerUsername\n",
      "latestComments/7/repliesCount\n",
      "latestComments/7/text\n",
      "latestComments/7/timestamp\n",
      "latestComments/8/id\n",
      "latestComments/8/likesCount\n",
      "latestComments/8/owner/id\n",
      "latestComments/8/owner/is_verified\n",
      "latestComments/8/owner/profile_pic_url\n",
      "latestComments/8/owner/username\n",
      "latestComments/8/ownerProfilePicUrl\n",
      "latestComments/8/ownerUsername\n",
      "latestComments/8/repliesCount\n",
      "latestComments/8/text\n",
      "latestComments/8/timestamp\n",
      "latestComments/9/id\n",
      "latestComments/9/likesCount\n",
      "latestComments/9/owner/id\n",
      "latestComments/9/owner/is_verified\n",
      "latestComments/9/owner/profile_pic_url\n",
      "latestComments/9/owner/username\n",
      "latestComments/9/ownerProfilePicUrl\n",
      "latestComments/9/ownerUsername\n",
      "latestComments/9/repliesCount\n",
      "latestComments/9/text\n",
      "latestComments/9/timestamp\n",
      "likesCount\n",
      "locationId\n",
      "locationName\n",
      "mentions/0\n",
      "mentions/1\n",
      "mentions/2\n",
      "musicInfo/artist_name\n",
      "musicInfo/audio_id\n",
      "musicInfo/should_mute_audio\n",
      "musicInfo/should_mute_audio_reason\n",
      "musicInfo/song_name\n",
      "musicInfo/uses_original_audio\n",
      "ownerFullName\n",
      "ownerId\n",
      "ownerUsername\n",
      "productType\n",
      "shortCode\n",
      "taggedUsers/0/full_name\n",
      "taggedUsers/0/id\n",
      "taggedUsers/0/is_verified\n",
      "taggedUsers/0/profile_pic_url\n",
      "taggedUsers/0/username\n",
      "taggedUsers/1/full_name\n",
      "taggedUsers/1/id\n",
      "taggedUsers/1/is_verified\n",
      "taggedUsers/1/profile_pic_url\n",
      "taggedUsers/1/username\n",
      "taggedUsers/2/full_name\n",
      "taggedUsers/2/id\n",
      "taggedUsers/2/is_verified\n",
      "taggedUsers/2/profile_pic_url\n",
      "taggedUsers/2/username\n",
      "taggedUsers/3/full_name\n",
      "taggedUsers/3/id\n",
      "taggedUsers/3/is_verified\n",
      "taggedUsers/3/profile_pic_url\n",
      "taggedUsers/3/username\n",
      "taggedUsers/4/full_name\n",
      "taggedUsers/4/id\n",
      "taggedUsers/4/is_verified\n",
      "taggedUsers/4/profile_pic_url\n",
      "taggedUsers/4/username\n",
      "timestamp\n",
      "type\n",
      "url\n",
      "videoDuration\n",
      "videoPlayCount\n",
      "videoUrl\n",
      "videoViewCount\n",
      "\n",
      "Columns as a Python list:\n",
      "['alt', 'caption', 'childPosts/0/alt', 'childPosts/0/caption', 'childPosts/0/commentsCount', 'childPosts/0/dimensionsHeight', 'childPosts/0/dimensionsWidth', 'childPosts/0/displayUrl', 'childPosts/0/firstComment', 'childPosts/0/id', 'childPosts/0/likesCount', 'childPosts/0/ownerId', 'childPosts/0/shortCode', 'childPosts/0/taggedUsers/0/full_name', 'childPosts/0/taggedUsers/0/id', 'childPosts/0/taggedUsers/0/is_verified', 'childPosts/0/taggedUsers/0/profile_pic_url', 'childPosts/0/taggedUsers/0/username', 'childPosts/0/taggedUsers/1/full_name', 'childPosts/0/taggedUsers/1/id', 'childPosts/0/taggedUsers/1/is_verified', 'childPosts/0/taggedUsers/1/profile_pic_url', 'childPosts/0/taggedUsers/1/username', 'childPosts/0/timestamp', 'childPosts/0/type', 'childPosts/0/url', 'childPosts/0/videoPlayCount', 'childPosts/0/videoUrl', 'childPosts/0/videoViewCount', 'childPosts/1/alt', 'childPosts/1/caption', 'childPosts/1/commentsCount', 'childPosts/1/dimensionsHeight', 'childPosts/1/dimensionsWidth', 'childPosts/1/displayUrl', 'childPosts/1/firstComment', 'childPosts/1/id', 'childPosts/1/likesCount', 'childPosts/1/ownerId', 'childPosts/1/shortCode', 'childPosts/1/taggedUsers/0/full_name', 'childPosts/1/taggedUsers/0/id', 'childPosts/1/taggedUsers/0/is_verified', 'childPosts/1/taggedUsers/0/profile_pic_url', 'childPosts/1/taggedUsers/0/username', 'childPosts/1/timestamp', 'childPosts/1/type', 'childPosts/1/url', 'childPosts/2/alt', 'childPosts/2/caption', 'childPosts/2/commentsCount', 'childPosts/2/dimensionsHeight', 'childPosts/2/dimensionsWidth', 'childPosts/2/displayUrl', 'childPosts/2/firstComment', 'childPosts/2/id', 'childPosts/2/likesCount', 'childPosts/2/ownerId', 'childPosts/2/shortCode', 'childPosts/2/timestamp', 'childPosts/2/type', 'childPosts/2/url', 'childPosts/3/alt', 'childPosts/3/caption', 'childPosts/3/commentsCount', 'childPosts/3/dimensionsHeight', 'childPosts/3/dimensionsWidth', 'childPosts/3/displayUrl', 'childPosts/3/firstComment', 'childPosts/3/id', 'childPosts/3/likesCount', 'childPosts/3/ownerId', 'childPosts/3/shortCode', 'childPosts/3/timestamp', 'childPosts/3/type', 'childPosts/3/url', 'childPosts/4/alt', 'childPosts/4/caption', 'childPosts/4/commentsCount', 'childPosts/4/dimensionsHeight', 'childPosts/4/dimensionsWidth', 'childPosts/4/displayUrl', 'childPosts/4/firstComment', 'childPosts/4/id', 'childPosts/4/likesCount', 'childPosts/4/ownerId', 'childPosts/4/shortCode', 'childPosts/4/timestamp', 'childPosts/4/type', 'childPosts/4/url', 'childPosts/5/alt', 'childPosts/5/caption', 'childPosts/5/commentsCount', 'childPosts/5/dimensionsHeight', 'childPosts/5/dimensionsWidth', 'childPosts/5/displayUrl', 'childPosts/5/firstComment', 'childPosts/5/id', 'childPosts/5/likesCount', 'childPosts/5/ownerId', 'childPosts/5/shortCode', 'childPosts/5/timestamp', 'childPosts/5/type', 'childPosts/5/url', 'childPosts/6/alt', 'childPosts/6/caption', 'childPosts/6/commentsCount', 'childPosts/6/dimensionsHeight', 'childPosts/6/dimensionsWidth', 'childPosts/6/displayUrl', 'childPosts/6/firstComment', 'childPosts/6/id', 'childPosts/6/likesCount', 'childPosts/6/ownerId', 'childPosts/6/shortCode', 'childPosts/6/timestamp', 'childPosts/6/type', 'childPosts/6/url', 'childPosts/7/alt', 'childPosts/7/caption', 'childPosts/7/commentsCount', 'childPosts/7/dimensionsHeight', 'childPosts/7/dimensionsWidth', 'childPosts/7/displayUrl', 'childPosts/7/firstComment', 'childPosts/7/id', 'childPosts/7/likesCount', 'childPosts/7/ownerId', 'childPosts/7/shortCode', 'childPosts/7/timestamp', 'childPosts/7/type', 'childPosts/7/url', 'coauthorProducers/0/id', 'coauthorProducers/0/is_verified', 'coauthorProducers/0/profile_pic_url', 'coauthorProducers/0/username', 'coauthorProducers/1/id', 'coauthorProducers/1/is_verified', 'coauthorProducers/1/profile_pic_url', 'coauthorProducers/1/username', 'commentsCount', 'dimensionsHeight', 'dimensionsWidth', 'displayUrl', 'firstComment', 'hashtags/0', 'hashtags/1', 'hashtags/2', 'hashtags/3', 'hashtags/4', 'hashtags/5', 'hashtags/6', 'hashtags/7', 'hashtags/8', 'hashtags/9', 'hashtags/10', 'hashtags/11', 'hashtags/12', 'hashtags/13', 'hashtags/14', 'hashtags/15', 'hashtags/16', 'hashtags/17', 'hashtags/18', 'hashtags/19', 'hashtags/20', 'hashtags/21', 'hashtags/22', 'hashtags/23', 'hashtags/24', 'hashtags/25', 'hashtags/26', 'hashtags/27', 'hashtags/28', 'hashtags/29', 'id', 'images/0', 'images/1', 'images/2', 'images/3', 'images/4', 'images/5', 'images/6', 'images/7', 'inputUrl', 'isPinned', 'isSponsored', 'latestComments/0/id', 'latestComments/0/likesCount', 'latestComments/0/owner/id', 'latestComments/0/owner/is_verified', 'latestComments/0/owner/profile_pic_url', 'latestComments/0/owner/username', 'latestComments/0/ownerProfilePicUrl', 'latestComments/0/ownerUsername', 'latestComments/0/replies/0/id', 'latestComments/0/replies/0/likesCount', 'latestComments/0/replies/0/owner/id', 'latestComments/0/replies/0/owner/is_verified', 'latestComments/0/replies/0/owner/profile_pic_url', 'latestComments/0/replies/0/owner/username', 'latestComments/0/replies/0/ownerProfilePicUrl', 'latestComments/0/replies/0/ownerUsername', 'latestComments/0/replies/0/repliesCount', 'latestComments/0/replies/0/text', 'latestComments/0/replies/0/timestamp', 'latestComments/0/replies/1/id', 'latestComments/0/replies/1/likesCount', 'latestComments/0/replies/1/owner/id', 'latestComments/0/replies/1/owner/is_verified', 'latestComments/0/replies/1/owner/profile_pic_url', 'latestComments/0/replies/1/owner/username', 'latestComments/0/replies/1/ownerProfilePicUrl', 'latestComments/0/replies/1/ownerUsername', 'latestComments/0/replies/1/repliesCount', 'latestComments/0/replies/1/text', 'latestComments/0/replies/1/timestamp', 'latestComments/0/repliesCount', 'latestComments/0/text', 'latestComments/0/timestamp', 'latestComments/1/id', 'latestComments/1/likesCount', 'latestComments/1/owner/id', 'latestComments/1/owner/is_verified', 'latestComments/1/owner/profile_pic_url', 'latestComments/1/owner/username', 'latestComments/1/ownerProfilePicUrl', 'latestComments/1/ownerUsername', 'latestComments/1/replies/0/id', 'latestComments/1/replies/0/likesCount', 'latestComments/1/replies/0/owner/id', 'latestComments/1/replies/0/owner/is_verified', 'latestComments/1/replies/0/owner/profile_pic_url', 'latestComments/1/replies/0/owner/username', 'latestComments/1/replies/0/ownerProfilePicUrl', 'latestComments/1/replies/0/ownerUsername', 'latestComments/1/replies/0/repliesCount', 'latestComments/1/replies/0/text', 'latestComments/1/replies/0/timestamp', 'latestComments/1/replies/1/id', 'latestComments/1/replies/1/likesCount', 'latestComments/1/replies/1/owner/id', 'latestComments/1/replies/1/owner/is_verified', 'latestComments/1/replies/1/owner/profile_pic_url', 'latestComments/1/replies/1/owner/username', 'latestComments/1/replies/1/ownerProfilePicUrl', 'latestComments/1/replies/1/ownerUsername', 'latestComments/1/replies/1/repliesCount', 'latestComments/1/replies/1/text', 'latestComments/1/replies/1/timestamp', 'latestComments/1/replies/2/id', 'latestComments/1/replies/2/likesCount', 'latestComments/1/replies/2/owner/id', 'latestComments/1/replies/2/owner/is_verified', 'latestComments/1/replies/2/owner/profile_pic_url', 'latestComments/1/replies/2/owner/username', 'latestComments/1/replies/2/ownerProfilePicUrl', 'latestComments/1/replies/2/ownerUsername', 'latestComments/1/replies/2/repliesCount', 'latestComments/1/replies/2/text', 'latestComments/1/replies/2/timestamp', 'latestComments/1/repliesCount', 'latestComments/1/text', 'latestComments/1/timestamp', 'latestComments/2/id', 'latestComments/2/likesCount', 'latestComments/2/owner/id', 'latestComments/2/owner/is_verified', 'latestComments/2/owner/profile_pic_url', 'latestComments/2/owner/username', 'latestComments/2/ownerProfilePicUrl', 'latestComments/2/ownerUsername', 'latestComments/2/replies/0/id', 'latestComments/2/replies/0/likesCount', 'latestComments/2/replies/0/owner/id', 'latestComments/2/replies/0/owner/is_verified', 'latestComments/2/replies/0/owner/profile_pic_url', 'latestComments/2/replies/0/owner/username', 'latestComments/2/replies/0/ownerProfilePicUrl', 'latestComments/2/replies/0/ownerUsername', 'latestComments/2/replies/0/repliesCount', 'latestComments/2/replies/0/text', 'latestComments/2/replies/0/timestamp', 'latestComments/2/repliesCount', 'latestComments/2/text', 'latestComments/2/timestamp', 'latestComments/3/id', 'latestComments/3/likesCount', 'latestComments/3/owner/id', 'latestComments/3/owner/is_verified', 'latestComments/3/owner/profile_pic_url', 'latestComments/3/owner/username', 'latestComments/3/ownerProfilePicUrl', 'latestComments/3/ownerUsername', 'latestComments/3/replies/0/id', 'latestComments/3/replies/0/likesCount', 'latestComments/3/replies/0/owner/id', 'latestComments/3/replies/0/owner/is_verified', 'latestComments/3/replies/0/owner/profile_pic_url', 'latestComments/3/replies/0/owner/username', 'latestComments/3/replies/0/ownerProfilePicUrl', 'latestComments/3/replies/0/ownerUsername', 'latestComments/3/replies/0/repliesCount', 'latestComments/3/replies/0/text', 'latestComments/3/replies/0/timestamp', 'latestComments/3/replies/1/id', 'latestComments/3/replies/1/likesCount', 'latestComments/3/replies/1/owner/id', 'latestComments/3/replies/1/owner/is_verified', 'latestComments/3/replies/1/owner/profile_pic_url', 'latestComments/3/replies/1/owner/username', 'latestComments/3/replies/1/ownerProfilePicUrl', 'latestComments/3/replies/1/ownerUsername', 'latestComments/3/replies/1/repliesCount', 'latestComments/3/replies/1/text', 'latestComments/3/replies/1/timestamp', 'latestComments/3/repliesCount', 'latestComments/3/text', 'latestComments/3/timestamp', 'latestComments/4/id', 'latestComments/4/likesCount', 'latestComments/4/owner/id', 'latestComments/4/owner/is_verified', 'latestComments/4/owner/profile_pic_url', 'latestComments/4/owner/username', 'latestComments/4/ownerProfilePicUrl', 'latestComments/4/ownerUsername', 'latestComments/4/repliesCount', 'latestComments/4/text', 'latestComments/4/timestamp', 'latestComments/5/id', 'latestComments/5/likesCount', 'latestComments/5/owner/id', 'latestComments/5/owner/is_verified', 'latestComments/5/owner/profile_pic_url', 'latestComments/5/owner/username', 'latestComments/5/ownerProfilePicUrl', 'latestComments/5/ownerUsername', 'latestComments/5/repliesCount', 'latestComments/5/text', 'latestComments/5/timestamp', 'latestComments/6/id', 'latestComments/6/likesCount', 'latestComments/6/owner/id', 'latestComments/6/owner/is_verified', 'latestComments/6/owner/profile_pic_url', 'latestComments/6/owner/username', 'latestComments/6/ownerProfilePicUrl', 'latestComments/6/ownerUsername', 'latestComments/6/repliesCount', 'latestComments/6/text', 'latestComments/6/timestamp', 'latestComments/7/id', 'latestComments/7/likesCount', 'latestComments/7/owner/id', 'latestComments/7/owner/is_verified', 'latestComments/7/owner/profile_pic_url', 'latestComments/7/owner/username', 'latestComments/7/ownerProfilePicUrl', 'latestComments/7/ownerUsername', 'latestComments/7/repliesCount', 'latestComments/7/text', 'latestComments/7/timestamp', 'latestComments/8/id', 'latestComments/8/likesCount', 'latestComments/8/owner/id', 'latestComments/8/owner/is_verified', 'latestComments/8/owner/profile_pic_url', 'latestComments/8/owner/username', 'latestComments/8/ownerProfilePicUrl', 'latestComments/8/ownerUsername', 'latestComments/8/repliesCount', 'latestComments/8/text', 'latestComments/8/timestamp', 'latestComments/9/id', 'latestComments/9/likesCount', 'latestComments/9/owner/id', 'latestComments/9/owner/is_verified', 'latestComments/9/owner/profile_pic_url', 'latestComments/9/owner/username', 'latestComments/9/ownerProfilePicUrl', 'latestComments/9/ownerUsername', 'latestComments/9/repliesCount', 'latestComments/9/text', 'latestComments/9/timestamp', 'likesCount', 'locationId', 'locationName', 'mentions/0', 'mentions/1', 'mentions/2', 'musicInfo/artist_name', 'musicInfo/audio_id', 'musicInfo/should_mute_audio', 'musicInfo/should_mute_audio_reason', 'musicInfo/song_name', 'musicInfo/uses_original_audio', 'ownerFullName', 'ownerId', 'ownerUsername', 'productType', 'shortCode', 'taggedUsers/0/full_name', 'taggedUsers/0/id', 'taggedUsers/0/is_verified', 'taggedUsers/0/profile_pic_url', 'taggedUsers/0/username', 'taggedUsers/1/full_name', 'taggedUsers/1/id', 'taggedUsers/1/is_verified', 'taggedUsers/1/profile_pic_url', 'taggedUsers/1/username', 'taggedUsers/2/full_name', 'taggedUsers/2/id', 'taggedUsers/2/is_verified', 'taggedUsers/2/profile_pic_url', 'taggedUsers/2/username', 'taggedUsers/3/full_name', 'taggedUsers/3/id', 'taggedUsers/3/is_verified', 'taggedUsers/3/profile_pic_url', 'taggedUsers/3/username', 'taggedUsers/4/full_name', 'taggedUsers/4/id', 'taggedUsers/4/is_verified', 'taggedUsers/4/profile_pic_url', 'taggedUsers/4/username', 'timestamp', 'type', 'url', 'videoDuration', 'videoPlayCount', 'videoUrl', 'videoViewCount']\n",
      "\n",
      "Column names have been saved to 'columns_list.txt'.\n"
     ]
    }
   ],
   "source": [
    "import pandas as pd\n",
    "\n",
    "# Load the dataset\n",
    "file_path = 'Downloads/dataset_instagram-scraper_2025-03-25_16-31-50-146.csv'\n",
    "data = pd.read_csv(file_path)\n",
    "\n",
    "# Option 1: Print each column name individually\n",
    "print(\"List of columns in the dataset:\")\n",
    "for column in data.columns:\n",
    "    print(column)\n",
    "\n",
    "# Option 2: Display all column names as a complete list\n",
    "print(\"\\nColumns as a Python list:\")\n",
    "columns_list = data.columns.tolist()\n",
    "print(columns_list)\n",
    "\n",
    "# Option 3: Save column names to a file for easy reference\n",
    "with open('columns_list.txt', 'w') as file:\n",
    "    file.write(\"\\n\".join(columns_list))\n",
    "print(\"\\nColumn names have been saved to 'columns_list.txt'.\")"
   ]
  },
  {
   "cell_type": "code",
   "execution_count": null,
   "id": "c5dffa09-3946-4513-b1a1-351a70b2dbb9",
   "metadata": {},
   "outputs": [],
   "source": [
    "Engagment"
   ]
  },
  {
   "cell_type": "code",
   "execution_count": 193,
   "id": "43cae267-f4fe-47b4-a6ae-37da7d0dbf25",
   "metadata": {
    "jupyter": {
     "source_hidden": true
    }
   },
   "outputs": [
    {
     "data": {
      "application/vnd.plotly.v1+json": {
       "config": {
        "plotlyServerURL": "https://plot.ly"
       },
       "data": [
        {
         "marker": {
          "color": "blue"
         },
         "name": "Posts with Comments",
         "type": "bar",
         "visible": true,
         "x": [
          "Images",
          "Video"
         ],
         "y": [
          24,
          13
         ]
        },
        {
         "marker": {
          "color": "grey"
         },
         "name": "Posts without Comments",
         "type": "bar",
         "visible": true,
         "x": [
          "Images",
          "Video"
         ],
         "y": [
          292,
          85
         ]
        },
        {
         "marker": {
          "color": "blue"
         },
         "name": "Posts Above Average Likes",
         "type": "bar",
         "visible": false,
         "x": [
          "Images",
          "Video"
         ],
         "y": [
          95,
          23
         ]
        },
        {
         "marker": {
          "color": "grey"
         },
         "name": "Posts Below Average Likes",
         "type": "bar",
         "visible": false,
         "x": [
          "Images",
          "Video"
         ],
         "y": [
          221,
          75
         ]
        }
       ],
       "layout": {
        "autosize": true,
        "barmode": "stack",
        "legend": {
         "title": {
          "text": "Legend"
         }
        },
        "template": {
         "data": {
          "bar": [
           {
            "error_x": {
             "color": "#2a3f5f"
            },
            "error_y": {
             "color": "#2a3f5f"
            },
            "marker": {
             "line": {
              "color": "#E5ECF6",
              "width": 0.5
             },
             "pattern": {
              "fillmode": "overlay",
              "size": 10,
              "solidity": 0.2
             }
            },
            "type": "bar"
           }
          ],
          "barpolar": [
           {
            "marker": {
             "line": {
              "color": "#E5ECF6",
              "width": 0.5
             },
             "pattern": {
              "fillmode": "overlay",
              "size": 10,
              "solidity": 0.2
             }
            },
            "type": "barpolar"
           }
          ],
          "carpet": [
           {
            "aaxis": {
             "endlinecolor": "#2a3f5f",
             "gridcolor": "white",
             "linecolor": "white",
             "minorgridcolor": "white",
             "startlinecolor": "#2a3f5f"
            },
            "baxis": {
             "endlinecolor": "#2a3f5f",
             "gridcolor": "white",
             "linecolor": "white",
             "minorgridcolor": "white",
             "startlinecolor": "#2a3f5f"
            },
            "type": "carpet"
           }
          ],
          "choropleth": [
           {
            "colorbar": {
             "outlinewidth": 0,
             "ticks": ""
            },
            "type": "choropleth"
           }
          ],
          "contour": [
           {
            "colorbar": {
             "outlinewidth": 0,
             "ticks": ""
            },
            "colorscale": [
             [
              0,
              "#0d0887"
             ],
             [
              0.1111111111111111,
              "#46039f"
             ],
             [
              0.2222222222222222,
              "#7201a8"
             ],
             [
              0.3333333333333333,
              "#9c179e"
             ],
             [
              0.4444444444444444,
              "#bd3786"
             ],
             [
              0.5555555555555556,
              "#d8576b"
             ],
             [
              0.6666666666666666,
              "#ed7953"
             ],
             [
              0.7777777777777778,
              "#fb9f3a"
             ],
             [
              0.8888888888888888,
              "#fdca26"
             ],
             [
              1,
              "#f0f921"
             ]
            ],
            "type": "contour"
           }
          ],
          "contourcarpet": [
           {
            "colorbar": {
             "outlinewidth": 0,
             "ticks": ""
            },
            "type": "contourcarpet"
           }
          ],
          "heatmap": [
           {
            "colorbar": {
             "outlinewidth": 0,
             "ticks": ""
            },
            "colorscale": [
             [
              0,
              "#0d0887"
             ],
             [
              0.1111111111111111,
              "#46039f"
             ],
             [
              0.2222222222222222,
              "#7201a8"
             ],
             [
              0.3333333333333333,
              "#9c179e"
             ],
             [
              0.4444444444444444,
              "#bd3786"
             ],
             [
              0.5555555555555556,
              "#d8576b"
             ],
             [
              0.6666666666666666,
              "#ed7953"
             ],
             [
              0.7777777777777778,
              "#fb9f3a"
             ],
             [
              0.8888888888888888,
              "#fdca26"
             ],
             [
              1,
              "#f0f921"
             ]
            ],
            "type": "heatmap"
           }
          ],
          "heatmapgl": [
           {
            "colorbar": {
             "outlinewidth": 0,
             "ticks": ""
            },
            "colorscale": [
             [
              0,
              "#0d0887"
             ],
             [
              0.1111111111111111,
              "#46039f"
             ],
             [
              0.2222222222222222,
              "#7201a8"
             ],
             [
              0.3333333333333333,
              "#9c179e"
             ],
             [
              0.4444444444444444,
              "#bd3786"
             ],
             [
              0.5555555555555556,
              "#d8576b"
             ],
             [
              0.6666666666666666,
              "#ed7953"
             ],
             [
              0.7777777777777778,
              "#fb9f3a"
             ],
             [
              0.8888888888888888,
              "#fdca26"
             ],
             [
              1,
              "#f0f921"
             ]
            ],
            "type": "heatmapgl"
           }
          ],
          "histogram": [
           {
            "marker": {
             "pattern": {
              "fillmode": "overlay",
              "size": 10,
              "solidity": 0.2
             }
            },
            "type": "histogram"
           }
          ],
          "histogram2d": [
           {
            "colorbar": {
             "outlinewidth": 0,
             "ticks": ""
            },
            "colorscale": [
             [
              0,
              "#0d0887"
             ],
             [
              0.1111111111111111,
              "#46039f"
             ],
             [
              0.2222222222222222,
              "#7201a8"
             ],
             [
              0.3333333333333333,
              "#9c179e"
             ],
             [
              0.4444444444444444,
              "#bd3786"
             ],
             [
              0.5555555555555556,
              "#d8576b"
             ],
             [
              0.6666666666666666,
              "#ed7953"
             ],
             [
              0.7777777777777778,
              "#fb9f3a"
             ],
             [
              0.8888888888888888,
              "#fdca26"
             ],
             [
              1,
              "#f0f921"
             ]
            ],
            "type": "histogram2d"
           }
          ],
          "histogram2dcontour": [
           {
            "colorbar": {
             "outlinewidth": 0,
             "ticks": ""
            },
            "colorscale": [
             [
              0,
              "#0d0887"
             ],
             [
              0.1111111111111111,
              "#46039f"
             ],
             [
              0.2222222222222222,
              "#7201a8"
             ],
             [
              0.3333333333333333,
              "#9c179e"
             ],
             [
              0.4444444444444444,
              "#bd3786"
             ],
             [
              0.5555555555555556,
              "#d8576b"
             ],
             [
              0.6666666666666666,
              "#ed7953"
             ],
             [
              0.7777777777777778,
              "#fb9f3a"
             ],
             [
              0.8888888888888888,
              "#fdca26"
             ],
             [
              1,
              "#f0f921"
             ]
            ],
            "type": "histogram2dcontour"
           }
          ],
          "mesh3d": [
           {
            "colorbar": {
             "outlinewidth": 0,
             "ticks": ""
            },
            "type": "mesh3d"
           }
          ],
          "parcoords": [
           {
            "line": {
             "colorbar": {
              "outlinewidth": 0,
              "ticks": ""
             }
            },
            "type": "parcoords"
           }
          ],
          "pie": [
           {
            "automargin": true,
            "type": "pie"
           }
          ],
          "scatter": [
           {
            "fillpattern": {
             "fillmode": "overlay",
             "size": 10,
             "solidity": 0.2
            },
            "type": "scatter"
           }
          ],
          "scatter3d": [
           {
            "line": {
             "colorbar": {
              "outlinewidth": 0,
              "ticks": ""
             }
            },
            "marker": {
             "colorbar": {
              "outlinewidth": 0,
              "ticks": ""
             }
            },
            "type": "scatter3d"
           }
          ],
          "scattercarpet": [
           {
            "marker": {
             "colorbar": {
              "outlinewidth": 0,
              "ticks": ""
             }
            },
            "type": "scattercarpet"
           }
          ],
          "scattergeo": [
           {
            "marker": {
             "colorbar": {
              "outlinewidth": 0,
              "ticks": ""
             }
            },
            "type": "scattergeo"
           }
          ],
          "scattergl": [
           {
            "marker": {
             "colorbar": {
              "outlinewidth": 0,
              "ticks": ""
             }
            },
            "type": "scattergl"
           }
          ],
          "scattermapbox": [
           {
            "marker": {
             "colorbar": {
              "outlinewidth": 0,
              "ticks": ""
             }
            },
            "type": "scattermapbox"
           }
          ],
          "scatterpolar": [
           {
            "marker": {
             "colorbar": {
              "outlinewidth": 0,
              "ticks": ""
             }
            },
            "type": "scatterpolar"
           }
          ],
          "scatterpolargl": [
           {
            "marker": {
             "colorbar": {
              "outlinewidth": 0,
              "ticks": ""
             }
            },
            "type": "scatterpolargl"
           }
          ],
          "scatterternary": [
           {
            "marker": {
             "colorbar": {
              "outlinewidth": 0,
              "ticks": ""
             }
            },
            "type": "scatterternary"
           }
          ],
          "surface": [
           {
            "colorbar": {
             "outlinewidth": 0,
             "ticks": ""
            },
            "colorscale": [
             [
              0,
              "#0d0887"
             ],
             [
              0.1111111111111111,
              "#46039f"
             ],
             [
              0.2222222222222222,
              "#7201a8"
             ],
             [
              0.3333333333333333,
              "#9c179e"
             ],
             [
              0.4444444444444444,
              "#bd3786"
             ],
             [
              0.5555555555555556,
              "#d8576b"
             ],
             [
              0.6666666666666666,
              "#ed7953"
             ],
             [
              0.7777777777777778,
              "#fb9f3a"
             ],
             [
              0.8888888888888888,
              "#fdca26"
             ],
             [
              1,
              "#f0f921"
             ]
            ],
            "type": "surface"
           }
          ],
          "table": [
           {
            "cells": {
             "fill": {
              "color": "#EBF0F8"
             },
             "line": {
              "color": "white"
             }
            },
            "header": {
             "fill": {
              "color": "#C8D4E3"
             },
             "line": {
              "color": "white"
             }
            },
            "type": "table"
           }
          ]
         },
         "layout": {
          "annotationdefaults": {
           "arrowcolor": "#2a3f5f",
           "arrowhead": 0,
           "arrowwidth": 1
          },
          "autotypenumbers": "strict",
          "coloraxis": {
           "colorbar": {
            "outlinewidth": 0,
            "ticks": ""
           }
          },
          "colorscale": {
           "diverging": [
            [
             0,
             "#8e0152"
            ],
            [
             0.1,
             "#c51b7d"
            ],
            [
             0.2,
             "#de77ae"
            ],
            [
             0.3,
             "#f1b6da"
            ],
            [
             0.4,
             "#fde0ef"
            ],
            [
             0.5,
             "#f7f7f7"
            ],
            [
             0.6,
             "#e6f5d0"
            ],
            [
             0.7,
             "#b8e186"
            ],
            [
             0.8,
             "#7fbc41"
            ],
            [
             0.9,
             "#4d9221"
            ],
            [
             1,
             "#276419"
            ]
           ],
           "sequential": [
            [
             0,
             "#0d0887"
            ],
            [
             0.1111111111111111,
             "#46039f"
            ],
            [
             0.2222222222222222,
             "#7201a8"
            ],
            [
             0.3333333333333333,
             "#9c179e"
            ],
            [
             0.4444444444444444,
             "#bd3786"
            ],
            [
             0.5555555555555556,
             "#d8576b"
            ],
            [
             0.6666666666666666,
             "#ed7953"
            ],
            [
             0.7777777777777778,
             "#fb9f3a"
            ],
            [
             0.8888888888888888,
             "#fdca26"
            ],
            [
             1,
             "#f0f921"
            ]
           ],
           "sequentialminus": [
            [
             0,
             "#0d0887"
            ],
            [
             0.1111111111111111,
             "#46039f"
            ],
            [
             0.2222222222222222,
             "#7201a8"
            ],
            [
             0.3333333333333333,
             "#9c179e"
            ],
            [
             0.4444444444444444,
             "#bd3786"
            ],
            [
             0.5555555555555556,
             "#d8576b"
            ],
            [
             0.6666666666666666,
             "#ed7953"
            ],
            [
             0.7777777777777778,
             "#fb9f3a"
            ],
            [
             0.8888888888888888,
             "#fdca26"
            ],
            [
             1,
             "#f0f921"
            ]
           ]
          },
          "colorway": [
           "#636efa",
           "#EF553B",
           "#00cc96",
           "#ab63fa",
           "#FFA15A",
           "#19d3f3",
           "#FF6692",
           "#B6E880",
           "#FF97FF",
           "#FECB52"
          ],
          "font": {
           "color": "#2a3f5f"
          },
          "geo": {
           "bgcolor": "white",
           "lakecolor": "white",
           "landcolor": "#E5ECF6",
           "showlakes": true,
           "showland": true,
           "subunitcolor": "white"
          },
          "hoverlabel": {
           "align": "left"
          },
          "hovermode": "closest",
          "mapbox": {
           "style": "light"
          },
          "paper_bgcolor": "white",
          "plot_bgcolor": "#E5ECF6",
          "polar": {
           "angularaxis": {
            "gridcolor": "white",
            "linecolor": "white",
            "ticks": ""
           },
           "bgcolor": "#E5ECF6",
           "radialaxis": {
            "gridcolor": "white",
            "linecolor": "white",
            "ticks": ""
           }
          },
          "scene": {
           "xaxis": {
            "backgroundcolor": "#E5ECF6",
            "gridcolor": "white",
            "gridwidth": 2,
            "linecolor": "white",
            "showbackground": true,
            "ticks": "",
            "zerolinecolor": "white"
           },
           "yaxis": {
            "backgroundcolor": "#E5ECF6",
            "gridcolor": "white",
            "gridwidth": 2,
            "linecolor": "white",
            "showbackground": true,
            "ticks": "",
            "zerolinecolor": "white"
           },
           "zaxis": {
            "backgroundcolor": "#E5ECF6",
            "gridcolor": "white",
            "gridwidth": 2,
            "linecolor": "white",
            "showbackground": true,
            "ticks": "",
            "zerolinecolor": "white"
           }
          },
          "shapedefaults": {
           "line": {
            "color": "#2a3f5f"
           }
          },
          "ternary": {
           "aaxis": {
            "gridcolor": "white",
            "linecolor": "white",
            "ticks": ""
           },
           "baxis": {
            "gridcolor": "white",
            "linecolor": "white",
            "ticks": ""
           },
           "bgcolor": "#E5ECF6",
           "caxis": {
            "gridcolor": "white",
            "linecolor": "white",
            "ticks": ""
           }
          },
          "title": {
           "x": 0.05
          },
          "xaxis": {
           "automargin": true,
           "gridcolor": "white",
           "linecolor": "white",
           "ticks": "",
           "title": {
            "standoff": 15
           },
           "zerolinecolor": "white",
           "zerolinewidth": 2
          },
          "yaxis": {
           "automargin": true,
           "gridcolor": "white",
           "linecolor": "white",
           "ticks": "",
           "title": {
            "standoff": 15
           },
           "zerolinecolor": "white",
           "zerolinewidth": 2
          }
         }
        },
        "title": {
         "text": "Total Posts vs. Posts with Comments (Posts After 2022)",
         "x": 0.5
        },
        "updatemenus": [
         {
          "active": 0,
          "buttons": [
           {
            "args": [
             {
              "visible": [
               true,
               true,
               false,
               false
              ]
             },
             {
              "title": "Total Posts vs. Posts with Comments (Posts After 2022)"
             }
            ],
            "label": "Comments",
            "method": "update"
           },
           {
            "args": [
             {
              "visible": [
               false,
               false,
               true,
               true
              ]
             },
             {
              "title": "Posts Above and Below Average Likes with Percentages (Posts After 2022)\n(Average Likes Per Post: 42.99)"
             }
            ],
            "label": "Likes",
            "method": "update"
           }
          ],
          "direction": "left",
          "showactive": true,
          "type": "buttons",
          "x": 0.4,
          "y": 1.25
         }
        ],
        "xaxis": {
         "autorange": true,
         "range": [
          -0.5,
          1.5
         ],
         "title": {
          "text": "Type of Post"
         },
         "type": "category"
        },
        "yaxis": {
         "autorange": true,
         "range": [
          0,
          332.63157894736844
         ],
         "title": {
          "text": "Number of Posts"
         },
         "type": "linear"
        }
       }
      },
      "image/png": "[encoded data removed]",
      "text/html": [
       "<div>                            <div id=\"13a0a16c-aa9f-4304-bf4a-a3c9e499f202\" class=\"plotly-graph-div\" style=\"height:525px; width:100%;\"></div>            <script type=\"text/javascript\">                require([\"plotly\"], function(Plotly) {                    window.PLOTLYENV=window.PLOTLYENV || {};                                    if (document.getElementById(\"13a0a16c-aa9f-4304-bf4a-a3c9e499f202\")) {                    Plotly.newPlot(                        \"13a0a16c-aa9f-4304-bf4a-a3c9e499f202\",                        [{\"marker\":{\"color\":\"blue\"},\"name\":\"Posts with Comments\",\"visible\":true,\"x\":[\"Images\",\"Video\"],\"y\":[24,13],\"type\":\"bar\"},{\"marker\":{\"color\":\"grey\"},\"name\":\"Posts without Comments\",\"visible\":true,\"x\":[\"Images\",\"Video\"],\"y\":[292,85],\"type\":\"bar\"},{\"marker\":{\"color\":\"blue\"},\"name\":\"Posts Above Average Likes\",\"visible\":false,\"x\":[\"Images\",\"Video\"],\"y\":[95,23],\"type\":\"bar\"},{\"marker\":{\"color\":\"grey\"},\"name\":\"Posts Below Average Likes\",\"visible\":false,\"x\":[\"Images\",\"Video\"],\"y\":[221,75],\"type\":\"bar\"}],                        {\"template\":{\"data\":{\"histogram2dcontour\":[{\"type\":\"histogram2dcontour\",\"colorbar\":{\"outlinewidth\":0,\"ticks\":\"\"},\"colorscale\":[[0.0,\"#0d0887\"],[0.1111111111111111,\"#46039f\"],[0.2222222222222222,\"#7201a8\"],[0.3333333333333333,\"#9c179e\"],[0.4444444444444444,\"#bd3786\"],[0.5555555555555556,\"#d8576b\"],[0.6666666666666666,\"#ed7953\"],[0.7777777777777778,\"#fb9f3a\"],[0.8888888888888888,\"#fdca26\"],[1.0,\"#f0f921\"]]}],\"choropleth\":[{\"type\":\"choropleth\",\"colorbar\":{\"outlinewidth\":0,\"ticks\":\"\"}}],\"histogram2d\":[{\"type\":\"histogram2d\",\"colorbar\":{\"outlinewidth\":0,\"ticks\":\"\"},\"colorscale\":[[0.0,\"#0d0887\"],[0.1111111111111111,\"#46039f\"],[0.2222222222222222,\"#7201a8\"],[0.3333333333333333,\"#9c179e\"],[0.4444444444444444,\"#bd3786\"],[0.5555555555555556,\"#d8576b\"],[0.6666666666666666,\"#ed7953\"],[0.7777777777777778,\"#fb9f3a\"],[0.8888888888888888,\"#fdca26\"],[1.0,\"#f0f921\"]]}],\"heatmap\":[{\"type\":\"heatmap\",\"colorbar\":{\"outlinewidth\":0,\"ticks\":\"\"},\"colorscale\":[[0.0,\"#0d0887\"],[0.1111111111111111,\"#46039f\"],[0.2222222222222222,\"#7201a8\"],[0.3333333333333333,\"#9c179e\"],[0.4444444444444444,\"#bd3786\"],[0.5555555555555556,\"#d8576b\"],[0.6666666666666666,\"#ed7953\"],[0.7777777777777778,\"#fb9f3a\"],[0.8888888888888888,\"#fdca26\"],[1.0,\"#f0f921\"]]}],\"heatmapgl\":[{\"type\":\"heatmapgl\",\"colorbar\":{\"outlinewidth\":0,\"ticks\":\"\"},\"colorscale\":[[0.0,\"#0d0887\"],[0.1111111111111111,\"#46039f\"],[0.2222222222222222,\"#7201a8\"],[0.3333333333333333,\"#9c179e\"],[0.4444444444444444,\"#bd3786\"],[0.5555555555555556,\"#d8576b\"],[0.6666666666666666,\"#ed7953\"],[0.7777777777777778,\"#fb9f3a\"],[0.8888888888888888,\"#fdca26\"],[1.0,\"#f0f921\"]]}],\"contourcarpet\":[{\"type\":\"contourcarpet\",\"colorbar\":{\"outlinewidth\":0,\"ticks\":\"\"}}],\"contour\":[{\"type\":\"contour\",\"colorbar\":{\"outlinewidth\":0,\"ticks\":\"\"},\"colorscale\":[[0.0,\"#0d0887\"],[0.1111111111111111,\"#46039f\"],[0.2222222222222222,\"#7201a8\"],[0.3333333333333333,\"#9c179e\"],[0.4444444444444444,\"#bd3786\"],[0.5555555555555556,\"#d8576b\"],[0.6666666666666666,\"#ed7953\"],[0.7777777777777778,\"#fb9f3a\"],[0.8888888888888888,\"#fdca26\"],[1.0,\"#f0f921\"]]}],\"surface\":[{\"type\":\"surface\",\"colorbar\":{\"outlinewidth\":0,\"ticks\":\"\"},\"colorscale\":[[0.0,\"#0d0887\"],[0.1111111111111111,\"#46039f\"],[0.2222222222222222,\"#7201a8\"],[0.3333333333333333,\"#9c179e\"],[0.4444444444444444,\"#bd3786\"],[0.5555555555555556,\"#d8576b\"],[0.6666666666666666,\"#ed7953\"],[0.7777777777777778,\"#fb9f3a\"],[0.8888888888888888,\"#fdca26\"],[1.0,\"#f0f921\"]]}],\"mesh3d\":[{\"type\":\"mesh3d\",\"colorbar\":{\"outlinewidth\":0,\"ticks\":\"\"}}],\"scatter\":[{\"fillpattern\":{\"fillmode\":\"overlay\",\"size\":10,\"solidity\":0.2},\"type\":\"scatter\"}],\"parcoords\":[{\"type\":\"parcoords\",\"line\":{\"colorbar\":{\"outlinewidth\":0,\"ticks\":\"\"}}}],\"scatterpolargl\":[{\"type\":\"scatterpolargl\",\"marker\":{\"colorbar\":{\"outlinewidth\":0,\"ticks\":\"\"}}}],\"bar\":[{\"error_x\":{\"color\":\"#2a3f5f\"},\"error_y\":{\"color\":\"#2a3f5f\"},\"marker\":{\"line\":{\"color\":\"#E5ECF6\",\"width\":0.5},\"pattern\":{\"fillmode\":\"overlay\",\"size\":10,\"solidity\":0.2}},\"type\":\"bar\"}],\"scattergeo\":[{\"type\":\"scattergeo\",\"marker\":{\"colorbar\":{\"outlinewidth\":0,\"ticks\":\"\"}}}],\"scatterpolar\":[{\"type\":\"scatterpolar\",\"marker\":{\"colorbar\":{\"outlinewidth\":0,\"ticks\":\"\"}}}],\"histogram\":[{\"marker\":{\"pattern\":{\"fillmode\":\"overlay\",\"size\":10,\"solidity\":0.2}},\"type\":\"histogram\"}],\"scattergl\":[{\"type\":\"scattergl\",\"marker\":{\"colorbar\":{\"outlinewidth\":0,\"ticks\":\"\"}}}],\"scatter3d\":[{\"type\":\"scatter3d\",\"line\":{\"colorbar\":{\"outlinewidth\":0,\"ticks\":\"\"}},\"marker\":{\"colorbar\":{\"outlinewidth\":0,\"ticks\":\"\"}}}],\"scattermapbox\":[{\"type\":\"scattermapbox\",\"marker\":{\"colorbar\":{\"outlinewidth\":0,\"ticks\":\"\"}}}],\"scatterternary\":[{\"type\":\"scatterternary\",\"marker\":{\"colorbar\":{\"outlinewidth\":0,\"ticks\":\"\"}}}],\"scattercarpet\":[{\"type\":\"scattercarpet\",\"marker\":{\"colorbar\":{\"outlinewidth\":0,\"ticks\":\"\"}}}],\"carpet\":[{\"aaxis\":{\"endlinecolor\":\"#2a3f5f\",\"gridcolor\":\"white\",\"linecolor\":\"white\",\"minorgridcolor\":\"white\",\"startlinecolor\":\"#2a3f5f\"},\"baxis\":{\"endlinecolor\":\"#2a3f5f\",\"gridcolor\":\"white\",\"linecolor\":\"white\",\"minorgridcolor\":\"white\",\"startlinecolor\":\"#2a3f5f\"},\"type\":\"carpet\"}],\"table\":[{\"cells\":{\"fill\":{\"color\":\"#EBF0F8\"},\"line\":{\"color\":\"white\"}},\"header\":{\"fill\":{\"color\":\"#C8D4E3\"},\"line\":{\"color\":\"white\"}},\"type\":\"table\"}],\"barpolar\":[{\"marker\":{\"line\":{\"color\":\"#E5ECF6\",\"width\":0.5},\"pattern\":{\"fillmode\":\"overlay\",\"size\":10,\"solidity\":0.2}},\"type\":\"barpolar\"}],\"pie\":[{\"automargin\":true,\"type\":\"pie\"}]},\"layout\":{\"autotypenumbers\":\"strict\",\"colorway\":[\"#636efa\",\"#EF553B\",\"#00cc96\",\"#ab63fa\",\"#FFA15A\",\"#19d3f3\",\"#FF6692\",\"#B6E880\",\"#FF97FF\",\"#FECB52\"],\"font\":{\"color\":\"#2a3f5f\"},\"hovermode\":\"closest\",\"hoverlabel\":{\"align\":\"left\"},\"paper_bgcolor\":\"white\",\"plot_bgcolor\":\"#E5ECF6\",\"polar\":{\"bgcolor\":\"#E5ECF6\",\"angularaxis\":{\"gridcolor\":\"white\",\"linecolor\":\"white\",\"ticks\":\"\"},\"radialaxis\":{\"gridcolor\":\"white\",\"linecolor\":\"white\",\"ticks\":\"\"}},\"ternary\":{\"bgcolor\":\"#E5ECF6\",\"aaxis\":{\"gridcolor\":\"white\",\"linecolor\":\"white\",\"ticks\":\"\"},\"baxis\":{\"gridcolor\":\"white\",\"linecolor\":\"white\",\"ticks\":\"\"},\"caxis\":{\"gridcolor\":\"white\",\"linecolor\":\"white\",\"ticks\":\"\"}},\"coloraxis\":{\"colorbar\":{\"outlinewidth\":0,\"ticks\":\"\"}},\"colorscale\":{\"sequential\":[[0.0,\"#0d0887\"],[0.1111111111111111,\"#46039f\"],[0.2222222222222222,\"#7201a8\"],[0.3333333333333333,\"#9c179e\"],[0.4444444444444444,\"#bd3786\"],[0.5555555555555556,\"#d8576b\"],[0.6666666666666666,\"#ed7953\"],[0.7777777777777778,\"#fb9f3a\"],[0.8888888888888888,\"#fdca26\"],[1.0,\"#f0f921\"]],\"sequentialminus\":[[0.0,\"#0d0887\"],[0.1111111111111111,\"#46039f\"],[0.2222222222222222,\"#7201a8\"],[0.3333333333333333,\"#9c179e\"],[0.4444444444444444,\"#bd3786\"],[0.5555555555555556,\"#d8576b\"],[0.6666666666666666,\"#ed7953\"],[0.7777777777777778,\"#fb9f3a\"],[0.8888888888888888,\"#fdca26\"],[1.0,\"#f0f921\"]],\"diverging\":[[0,\"#8e0152\"],[0.1,\"#c51b7d\"],[0.2,\"#de77ae\"],[0.3,\"#f1b6da\"],[0.4,\"#fde0ef\"],[0.5,\"#f7f7f7\"],[0.6,\"#e6f5d0\"],[0.7,\"#b8e186\"],[0.8,\"#7fbc41\"],[0.9,\"#4d9221\"],[1,\"#276419\"]]},\"xaxis\":{\"gridcolor\":\"white\",\"linecolor\":\"white\",\"ticks\":\"\",\"title\":{\"standoff\":15},\"zerolinecolor\":\"white\",\"automargin\":true,\"zerolinewidth\":2},\"yaxis\":{\"gridcolor\":\"white\",\"linecolor\":\"white\",\"ticks\":\"\",\"title\":{\"standoff\":15},\"zerolinecolor\":\"white\",\"automargin\":true,\"zerolinewidth\":2},\"scene\":{\"xaxis\":{\"backgroundcolor\":\"#E5ECF6\",\"gridcolor\":\"white\",\"linecolor\":\"white\",\"showbackground\":true,\"ticks\":\"\",\"zerolinecolor\":\"white\",\"gridwidth\":2},\"yaxis\":{\"backgroundcolor\":\"#E5ECF6\",\"gridcolor\":\"white\",\"linecolor\":\"white\",\"showbackground\":true,\"ticks\":\"\",\"zerolinecolor\":\"white\",\"gridwidth\":2},\"zaxis\":{\"backgroundcolor\":\"#E5ECF6\",\"gridcolor\":\"white\",\"linecolor\":\"white\",\"showbackground\":true,\"ticks\":\"\",\"zerolinecolor\":\"white\",\"gridwidth\":2}},\"shapedefaults\":{\"line\":{\"color\":\"#2a3f5f\"}},\"annotationdefaults\":{\"arrowcolor\":\"#2a3f5f\",\"arrowhead\":0,\"arrowwidth\":1},\"geo\":{\"bgcolor\":\"white\",\"landcolor\":\"#E5ECF6\",\"subunitcolor\":\"white\",\"showland\":true,\"showlakes\":true,\"lakecolor\":\"white\"},\"title\":{\"x\":0.05},\"mapbox\":{\"style\":\"light\"}}},\"updatemenus\":[{\"buttons\":[{\"args\":[{\"visible\":[true,true,false,false]},{\"title\":\"Total Posts vs. Posts with Comments (Posts After 2022)\"}],\"label\":\"Comments\",\"method\":\"update\"},{\"args\":[{\"visible\":[false,false,true,true]},{\"title\":\"Posts Above and Below Average Likes with Percentages (Posts After 2022)\\n(Average Likes Per Post: 42.99)\"}],\"label\":\"Likes\",\"method\":\"update\"}],\"direction\":\"left\",\"showactive\":true,\"type\":\"buttons\",\"x\":0.4,\"y\":1.25}],\"title\":{\"text\":\"Total Posts vs. Posts with Comments (Posts After 2022)\",\"x\":0.5},\"barmode\":\"stack\",\"xaxis\":{\"title\":{\"text\":\"Type of Post\"}},\"yaxis\":{\"title\":{\"text\":\"Number of Posts\"}},\"legend\":{\"title\":{\"text\":\"Legend\"}}},                        {\"responsive\": true}                    ).then(function(){\n",
       "                            \n",
       "var gd = document.getElementById('13a0a16c-aa9f-4304-bf4a-a3c9e499f202');\n",
       "var x = new MutationObserver(function (mutations, observer) {{\n",
       "        var display = window.getComputedStyle(gd).display;\n",
       "        if (!display || display === 'none') {{\n",
       "            console.log([gd, 'removed!']);\n",
       "            Plotly.purge(gd);\n",
       "            observer.disconnect();\n",
       "        }}\n",
       "}});\n",
       "\n",
       "// Listen for the removal of the full notebook cells\n",
       "var notebookContainer = gd.closest('#notebook-container');\n",
       "if (notebookContainer) {{\n",
       "    x.observe(notebookContainer, {childList: true});\n",
       "}}\n",
       "\n",
       "// Listen for the clearing of the current output cell\n",
       "var outputEl = gd.closest('.output');\n",
       "if (outputEl) {{\n",
       "    x.observe(outputEl, {childList: true});\n",
       "}}\n",
       "\n",
       "                        })                };                });            </script>        </div>"
      ]
     },
     "metadata": {},
     "output_type": "display_data"
    }
   ],
   "source": [
    "fig.update_layout(\n",
    "    updatemenus=[\n",
    "        dict(\n",
    "            type=\"buttons\",\n",
    "            direction=\"left\",\n",
    "            buttons=[\n",
    "                dict(label=\"Comments\",\n",
    "                     method=\"update\",\n",
    "                     args=[{\"visible\": [True, True, False, False]},  # Show comments, hide likes\n",
    "                           {\"title\": \"Total Posts vs. Posts with Comments (Posts After 2022)\"}]),\n",
    "                dict(label=\"Likes\",\n",
    "                     method=\"update\",\n",
    "                     args=[{\"visible\": [False, False, True, True]},  # Show likes, hide comments\n",
    "                           {\"title\": f\"Posts Above and Below Average Likes with Percentages (Posts After 2022)\\n(Average Likes Per Post: {average_likes:.2f})\"}]),\n",
    "            ],\n",
    "            showactive=True,\n",
    "            x=0.4,  # Move button group slightly to the left\n",
    "            y=1.25  # Move button group slightly up\n",
    "        )\n",
    "    ]\n",
    ")"
   ]
  },
  {
   "cell_type": "code",
   "execution_count": 201,
   "id": "0198dba7-4cdd-4a63-bf4e-603abb489e51",
   "metadata": {
    "jupyter": {
     "source_hidden": true
    }
   },
   "outputs": [
    {
     "name": "stderr",
     "output_type": "stream",
     "text": [
      "C:\\Users\\johnc\\AppData\\Local\\Temp\\ipykernel_26260\\2571406612.py:20: SettingWithCopyWarning:\n",
      "\n",
      "\n",
      "A value is trying to be set on a copy of a slice from a DataFrame.\n",
      "Try using .loc[row_indexer,col_indexer] = value instead\n",
      "\n",
      "See the caveats in the documentation: https://pandas.pydata.org/pandas-docs/stable/user_guide/indexing.html#returning-a-view-versus-a-copy\n",
      "\n",
      "C:\\Users\\johnc\\AppData\\Local\\Temp\\ipykernel_26260\\2571406612.py:23: SettingWithCopyWarning:\n",
      "\n",
      "\n",
      "A value is trying to be set on a copy of a slice from a DataFrame.\n",
      "Try using .loc[row_indexer,col_indexer] = value instead\n",
      "\n",
      "See the caveats in the documentation: https://pandas.pydata.org/pandas-docs/stable/user_guide/indexing.html#returning-a-view-versus-a-copy\n",
      "\n"
     ]
    },
    {
     "data": {
      "application/vnd.plotly.v1+json": {
       "config": {
        "plotlyServerURL": "https://plot.ly"
       },
       "data": [
        {
         "alignmentgroup": "True",
         "hovertemplate": "Month=%{x}<br>Total Likes=%{y}<extra></extra>",
         "legendgroup": "",
         "marker": {
          "color": "#636efa",
          "pattern": {
           "shape": ""
          }
         },
         "name": "",
         "offsetgroup": "",
         "orientation": "v",
         "showlegend": false,
         "textposition": "auto",
         "type": "bar",
         "x": [
          "2022-01-01T00:00:00",
          "2022-02-01T00:00:00",
          "2022-03-01T00:00:00",
          "2022-04-01T00:00:00",
          "2022-05-01T00:00:00",
          "2022-06-01T00:00:00",
          "2022-08-01T00:00:00",
          "2022-09-01T00:00:00",
          "2022-10-01T00:00:00",
          "2022-11-01T00:00:00",
          "2023-01-01T00:00:00",
          "2023-02-01T00:00:00",
          "2023-03-01T00:00:00",
          "2023-04-01T00:00:00",
          "2023-05-01T00:00:00",
          "2023-06-01T00:00:00",
          "2023-08-01T00:00:00",
          "2023-09-01T00:00:00",
          "2023-10-01T00:00:00",
          "2023-11-01T00:00:00",
          "2023-12-01T00:00:00",
          "2024-01-01T00:00:00",
          "2024-02-01T00:00:00",
          "2024-03-01T00:00:00",
          "2024-04-01T00:00:00",
          "2024-05-01T00:00:00",
          "2024-06-01T00:00:00",
          "2024-08-01T00:00:00",
          "2024-09-01T00:00:00",
          "2024-10-01T00:00:00",
          "2024-11-01T00:00:00",
          "2024-12-01T00:00:00",
          "2025-01-01T00:00:00",
          "2025-02-01T00:00:00",
          "2025-03-01T00:00:00"
         ],
         "xaxis": "x",
         "y": [
          57,
          57,
          57,
          66,
          9,
          18,
          36,
          141,
          62,
          59,
          65,
          277,
          395,
          733,
          24,
          45,
          213,
          752,
          370,
          433,
          749,
          462,
          917,
          452,
          1121,
          330,
          160,
          1586,
          1835,
          1286,
          1097,
          877,
          853,
          1555,
          647
         ],
         "yaxis": "y"
        }
       ],
       "layout": {
        "autosize": true,
        "barmode": "relative",
        "legend": {
         "tracegroupgap": 0
        },
        "margin": {
         "b": 50,
         "l": 50,
         "r": 50,
         "t": 50
        },
        "template": {
         "data": {
          "bar": [
           {
            "error_x": {
             "color": "#2a3f5f"
            },
            "error_y": {
             "color": "#2a3f5f"
            },
            "marker": {
             "line": {
              "color": "#E5ECF6",
              "width": 0.5
             },
             "pattern": {
              "fillmode": "overlay",
              "size": 10,
              "solidity": 0.2
             }
            },
            "type": "bar"
           }
          ],
          "barpolar": [
           {
            "marker": {
             "line": {
              "color": "#E5ECF6",
              "width": 0.5
             },
             "pattern": {
              "fillmode": "overlay",
              "size": 10,
              "solidity": 0.2
             }
            },
            "type": "barpolar"
           }
          ],
          "carpet": [
           {
            "aaxis": {
             "endlinecolor": "#2a3f5f",
             "gridcolor": "white",
             "linecolor": "white",
             "minorgridcolor": "white",
             "startlinecolor": "#2a3f5f"
            },
            "baxis": {
             "endlinecolor": "#2a3f5f",
             "gridcolor": "white",
             "linecolor": "white",
             "minorgridcolor": "white",
             "startlinecolor": "#2a3f5f"
            },
            "type": "carpet"
           }
          ],
          "choropleth": [
           {
            "colorbar": {
             "outlinewidth": 0,
             "ticks": ""
            },
            "type": "choropleth"
           }
          ],
          "contour": [
           {
            "colorbar": {
             "outlinewidth": 0,
             "ticks": ""
            },
            "colorscale": [
             [
              0,
              "#0d0887"
             ],
             [
              0.1111111111111111,
              "#46039f"
             ],
             [
              0.2222222222222222,
              "#7201a8"
             ],
             [
              0.3333333333333333,
              "#9c179e"
             ],
             [
              0.4444444444444444,
              "#bd3786"
             ],
             [
              0.5555555555555556,
              "#d8576b"
             ],
             [
              0.6666666666666666,
              "#ed7953"
             ],
             [
              0.7777777777777778,
              "#fb9f3a"
             ],
             [
              0.8888888888888888,
              "#fdca26"
             ],
             [
              1,
              "#f0f921"
             ]
            ],
            "type": "contour"
           }
          ],
          "contourcarpet": [
           {
            "colorbar": {
             "outlinewidth": 0,
             "ticks": ""
            },
            "type": "contourcarpet"
           }
          ],
          "heatmap": [
           {
            "colorbar": {
             "outlinewidth": 0,
             "ticks": ""
            },
            "colorscale": [
             [
              0,
              "#0d0887"
             ],
             [
              0.1111111111111111,
              "#46039f"
             ],
             [
              0.2222222222222222,
              "#7201a8"
             ],
             [
              0.3333333333333333,
              "#9c179e"
             ],
             [
              0.4444444444444444,
              "#bd3786"
             ],
             [
              0.5555555555555556,
              "#d8576b"
             ],
             [
              0.6666666666666666,
              "#ed7953"
             ],
             [
              0.7777777777777778,
              "#fb9f3a"
             ],
             [
              0.8888888888888888,
              "#fdca26"
             ],
             [
              1,
              "#f0f921"
             ]
            ],
            "type": "heatmap"
           }
          ],
          "heatmapgl": [
           {
            "colorbar": {
             "outlinewidth": 0,
             "ticks": ""
            },
            "colorscale": [
             [
              0,
              "#0d0887"
             ],
             [
              0.1111111111111111,
              "#46039f"
             ],
             [
              0.2222222222222222,
              "#7201a8"
             ],
             [
              0.3333333333333333,
              "#9c179e"
             ],
             [
              0.4444444444444444,
              "#bd3786"
             ],
             [
              0.5555555555555556,
              "#d8576b"
             ],
             [
              0.6666666666666666,
              "#ed7953"
             ],
             [
              0.7777777777777778,
              "#fb9f3a"
             ],
             [
              0.8888888888888888,
              "#fdca26"
             ],
             [
              1,
              "#f0f921"
             ]
            ],
            "type": "heatmapgl"
           }
          ],
          "histogram": [
           {
            "marker": {
             "pattern": {
              "fillmode": "overlay",
              "size": 10,
              "solidity": 0.2
             }
            },
            "type": "histogram"
           }
          ],
          "histogram2d": [
           {
            "colorbar": {
             "outlinewidth": 0,
             "ticks": ""
            },
            "colorscale": [
             [
              0,
              "#0d0887"
             ],
             [
              0.1111111111111111,
              "#46039f"
             ],
             [
              0.2222222222222222,
              "#7201a8"
             ],
             [
              0.3333333333333333,
              "#9c179e"
             ],
             [
              0.4444444444444444,
              "#bd3786"
             ],
             [
              0.5555555555555556,
              "#d8576b"
             ],
             [
              0.6666666666666666,
              "#ed7953"
             ],
             [
              0.7777777777777778,
              "#fb9f3a"
             ],
             [
              0.8888888888888888,
              "#fdca26"
             ],
             [
              1,
              "#f0f921"
             ]
            ],
            "type": "histogram2d"
           }
          ],
          "histogram2dcontour": [
           {
            "colorbar": {
             "outlinewidth": 0,
             "ticks": ""
            },
            "colorscale": [
             [
              0,
              "#0d0887"
             ],
             [
              0.1111111111111111,
              "#46039f"
             ],
             [
              0.2222222222222222,
              "#7201a8"
             ],
             [
              0.3333333333333333,
              "#9c179e"
             ],
             [
              0.4444444444444444,
              "#bd3786"
             ],
             [
              0.5555555555555556,
              "#d8576b"
             ],
             [
              0.6666666666666666,
              "#ed7953"
             ],
             [
              0.7777777777777778,
              "#fb9f3a"
             ],
             [
              0.8888888888888888,
              "#fdca26"
             ],
             [
              1,
              "#f0f921"
             ]
            ],
            "type": "histogram2dcontour"
           }
          ],
          "mesh3d": [
           {
            "colorbar": {
             "outlinewidth": 0,
             "ticks": ""
            },
            "type": "mesh3d"
           }
          ],
          "parcoords": [
           {
            "line": {
             "colorbar": {
              "outlinewidth": 0,
              "ticks": ""
             }
            },
            "type": "parcoords"
           }
          ],
          "pie": [
           {
            "automargin": true,
            "type": "pie"
           }
          ],
          "scatter": [
           {
            "fillpattern": {
             "fillmode": "overlay",
             "size": 10,
             "solidity": 0.2
            },
            "type": "scatter"
           }
          ],
          "scatter3d": [
           {
            "line": {
             "colorbar": {
              "outlinewidth": 0,
              "ticks": ""
             }
            },
            "marker": {
             "colorbar": {
              "outlinewidth": 0,
              "ticks": ""
             }
            },
            "type": "scatter3d"
           }
          ],
          "scattercarpet": [
           {
            "marker": {
             "colorbar": {
              "outlinewidth": 0,
              "ticks": ""
             }
            },
            "type": "scattercarpet"
           }
          ],
          "scattergeo": [
           {
            "marker": {
             "colorbar": {
              "outlinewidth": 0,
              "ticks": ""
             }
            },
            "type": "scattergeo"
           }
          ],
          "scattergl": [
           {
            "marker": {
             "colorbar": {
              "outlinewidth": 0,
              "ticks": ""
             }
            },
            "type": "scattergl"
           }
          ],
          "scattermapbox": [
           {
            "marker": {
             "colorbar": {
              "outlinewidth": 0,
              "ticks": ""
             }
            },
            "type": "scattermapbox"
           }
          ],
          "scatterpolar": [
           {
            "marker": {
             "colorbar": {
              "outlinewidth": 0,
              "ticks": ""
             }
            },
            "type": "scatterpolar"
           }
          ],
          "scatterpolargl": [
           {
            "marker": {
             "colorbar": {
              "outlinewidth": 0,
              "ticks": ""
             }
            },
            "type": "scatterpolargl"
           }
          ],
          "scatterternary": [
           {
            "marker": {
             "colorbar": {
              "outlinewidth": 0,
              "ticks": ""
             }
            },
            "type": "scatterternary"
           }
          ],
          "surface": [
           {
            "colorbar": {
             "outlinewidth": 0,
             "ticks": ""
            },
            "colorscale": [
             [
              0,
              "#0d0887"
             ],
             [
              0.1111111111111111,
              "#46039f"
             ],
             [
              0.2222222222222222,
              "#7201a8"
             ],
             [
              0.3333333333333333,
              "#9c179e"
             ],
             [
              0.4444444444444444,
              "#bd3786"
             ],
             [
              0.5555555555555556,
              "#d8576b"
             ],
             [
              0.6666666666666666,
              "#ed7953"
             ],
             [
              0.7777777777777778,
              "#fb9f3a"
             ],
             [
              0.8888888888888888,
              "#fdca26"
             ],
             [
              1,
              "#f0f921"
             ]
            ],
            "type": "surface"
           }
          ],
          "table": [
           {
            "cells": {
             "fill": {
              "color": "#EBF0F8"
             },
             "line": {
              "color": "white"
             }
            },
            "header": {
             "fill": {
              "color": "#C8D4E3"
             },
             "line": {
              "color": "white"
             }
            },
            "type": "table"
           }
          ]
         },
         "layout": {
          "annotationdefaults": {
           "arrowcolor": "#2a3f5f",
           "arrowhead": 0,
           "arrowwidth": 1
          },
          "autotypenumbers": "strict",
          "coloraxis": {
           "colorbar": {
            "outlinewidth": 0,
            "ticks": ""
           }
          },
          "colorscale": {
           "diverging": [
            [
             0,
             "#8e0152"
            ],
            [
             0.1,
             "#c51b7d"
            ],
            [
             0.2,
             "#de77ae"
            ],
            [
             0.3,
             "#f1b6da"
            ],
            [
             0.4,
             "#fde0ef"
            ],
            [
             0.5,
             "#f7f7f7"
            ],
            [
             0.6,
             "#e6f5d0"
            ],
            [
             0.7,
             "#b8e186"
            ],
            [
             0.8,
             "#7fbc41"
            ],
            [
             0.9,
             "#4d9221"
            ],
            [
             1,
             "#276419"
            ]
           ],
           "sequential": [
            [
             0,
             "#0d0887"
            ],
            [
             0.1111111111111111,
             "#46039f"
            ],
            [
             0.2222222222222222,
             "#7201a8"
            ],
            [
             0.3333333333333333,
             "#9c179e"
            ],
            [
             0.4444444444444444,
             "#bd3786"
            ],
            [
             0.5555555555555556,
             "#d8576b"
            ],
            [
             0.6666666666666666,
             "#ed7953"
            ],
            [
             0.7777777777777778,
             "#fb9f3a"
            ],
            [
             0.8888888888888888,
             "#fdca26"
            ],
            [
             1,
             "#f0f921"
            ]
           ],
           "sequentialminus": [
            [
             0,
             "#0d0887"
            ],
            [
             0.1111111111111111,
             "#46039f"
            ],
            [
             0.2222222222222222,
             "#7201a8"
            ],
            [
             0.3333333333333333,
             "#9c179e"
            ],
            [
             0.4444444444444444,
             "#bd3786"
            ],
            [
             0.5555555555555556,
             "#d8576b"
            ],
            [
             0.6666666666666666,
             "#ed7953"
            ],
            [
             0.7777777777777778,
             "#fb9f3a"
            ],
            [
             0.8888888888888888,
             "#fdca26"
            ],
            [
             1,
             "#f0f921"
            ]
           ]
          },
          "colorway": [
           "#636efa",
           "#EF553B",
           "#00cc96",
           "#ab63fa",
           "#FFA15A",
           "#19d3f3",
           "#FF6692",
           "#B6E880",
           "#FF97FF",
           "#FECB52"
          ],
          "font": {
           "color": "#2a3f5f"
          },
          "geo": {
           "bgcolor": "white",
           "lakecolor": "white",
           "landcolor": "#E5ECF6",
           "showlakes": true,
           "showland": true,
           "subunitcolor": "white"
          },
          "hoverlabel": {
           "align": "left"
          },
          "hovermode": "closest",
          "mapbox": {
           "style": "light"
          },
          "paper_bgcolor": "white",
          "plot_bgcolor": "#E5ECF6",
          "polar": {
           "angularaxis": {
            "gridcolor": "white",
            "linecolor": "white",
            "ticks": ""
           },
           "bgcolor": "#E5ECF6",
           "radialaxis": {
            "gridcolor": "white",
            "linecolor": "white",
            "ticks": ""
           }
          },
          "scene": {
           "xaxis": {
            "backgroundcolor": "#E5ECF6",
            "gridcolor": "white",
            "gridwidth": 2,
            "linecolor": "white",
            "showbackground": true,
            "ticks": "",
            "zerolinecolor": "white"
           },
           "yaxis": {
            "backgroundcolor": "#E5ECF6",
            "gridcolor": "white",
            "gridwidth": 2,
            "linecolor": "white",
            "showbackground": true,
            "ticks": "",
            "zerolinecolor": "white"
           },
           "zaxis": {
            "backgroundcolor": "#E5ECF6",
            "gridcolor": "white",
            "gridwidth": 2,
            "linecolor": "white",
            "showbackground": true,
            "ticks": "",
            "zerolinecolor": "white"
           }
          },
          "shapedefaults": {
           "line": {
            "color": "#2a3f5f"
           }
          },
          "ternary": {
           "aaxis": {
            "gridcolor": "white",
            "linecolor": "white",
            "ticks": ""
           },
           "baxis": {
            "gridcolor": "white",
            "linecolor": "white",
            "ticks": ""
           },
           "bgcolor": "#E5ECF6",
           "caxis": {
            "gridcolor": "white",
            "linecolor": "white",
            "ticks": ""
           }
          },
          "title": {
           "x": 0.05
          },
          "xaxis": {
           "automargin": true,
           "gridcolor": "white",
           "linecolor": "white",
           "ticks": "",
           "title": {
            "standoff": 15
           },
           "zerolinecolor": "white",
           "zerolinewidth": 2
          },
          "yaxis": {
           "automargin": true,
           "gridcolor": "white",
           "linecolor": "white",
           "ticks": "",
           "title": {
            "standoff": 15
           },
           "zerolinecolor": "white",
           "zerolinewidth": 2
          }
         }
        },
        "title": {
         "text": "Total Likes Received Each Month",
         "x": 0.5
        },
        "xaxis": {
         "anchor": "y",
         "autorange": true,
         "domain": [
          0,
          1
         ],
         "range": [
          "2021-12-18",
          "2025-03-15"
         ],
         "tickangle": -45,
         "title": {
          "text": "Month"
         },
         "type": "date"
        },
        "yaxis": {
         "anchor": "x",
         "autorange": true,
         "domain": [
          0,
          1
         ],
         "range": [
          0,
          1931.578947368421
         ],
         "title": {
          "text": "Total Likes"
         },
         "type": "linear"
        }
       }
      },
      "image/png": "[encoded data removed]",
      "text/html": [
       "<div>                            <div id=\"bc79a2ea-80fe-4210-9f09-8a15dbdafbdf\" class=\"plotly-graph-div\" style=\"height:525px; width:100%;\"></div>            <script type=\"text/javascript\">                require([\"plotly\"], function(Plotly) {                    window.PLOTLYENV=window.PLOTLYENV || {};                                    if (document.getElementById(\"bc79a2ea-80fe-4210-9f09-8a15dbdafbdf\")) {                    Plotly.newPlot(                        \"bc79a2ea-80fe-4210-9f09-8a15dbdafbdf\",                        [{\"alignmentgroup\":\"True\",\"hovertemplate\":\"Month=%{x}\\u003cbr\\u003eTotal Likes=%{y}\\u003cextra\\u003e\\u003c\\u002fextra\\u003e\",\"legendgroup\":\"\",\"marker\":{\"color\":\"#636efa\",\"pattern\":{\"shape\":\"\"}},\"name\":\"\",\"offsetgroup\":\"\",\"orientation\":\"v\",\"showlegend\":false,\"textposition\":\"auto\",\"x\":[\"2022-01-01T00:00:00\",\"2022-02-01T00:00:00\",\"2022-03-01T00:00:00\",\"2022-04-01T00:00:00\",\"2022-05-01T00:00:00\",\"2022-06-01T00:00:00\",\"2022-08-01T00:00:00\",\"2022-09-01T00:00:00\",\"2022-10-01T00:00:00\",\"2022-11-01T00:00:00\",\"2023-01-01T00:00:00\",\"2023-02-01T00:00:00\",\"2023-03-01T00:00:00\",\"2023-04-01T00:00:00\",\"2023-05-01T00:00:00\",\"2023-06-01T00:00:00\",\"2023-08-01T00:00:00\",\"2023-09-01T00:00:00\",\"2023-10-01T00:00:00\",\"2023-11-01T00:00:00\",\"2023-12-01T00:00:00\",\"2024-01-01T00:00:00\",\"2024-02-01T00:00:00\",\"2024-03-01T00:00:00\",\"2024-04-01T00:00:00\",\"2024-05-01T00:00:00\",\"2024-06-01T00:00:00\",\"2024-08-01T00:00:00\",\"2024-09-01T00:00:00\",\"2024-10-01T00:00:00\",\"2024-11-01T00:00:00\",\"2024-12-01T00:00:00\",\"2025-01-01T00:00:00\",\"2025-02-01T00:00:00\",\"2025-03-01T00:00:00\"],\"xaxis\":\"x\",\"y\":[57,57,57,66,9,18,36,141,62,59,65,277,395,733,24,45,213,752,370,433,749,462,917,452,1121,330,160,1586,1835,1286,1097,877,853,1555,647],\"yaxis\":\"y\",\"type\":\"bar\"}],                        {\"template\":{\"data\":{\"histogram2dcontour\":[{\"type\":\"histogram2dcontour\",\"colorbar\":{\"outlinewidth\":0,\"ticks\":\"\"},\"colorscale\":[[0.0,\"#0d0887\"],[0.1111111111111111,\"#46039f\"],[0.2222222222222222,\"#7201a8\"],[0.3333333333333333,\"#9c179e\"],[0.4444444444444444,\"#bd3786\"],[0.5555555555555556,\"#d8576b\"],[0.6666666666666666,\"#ed7953\"],[0.7777777777777778,\"#fb9f3a\"],[0.8888888888888888,\"#fdca26\"],[1.0,\"#f0f921\"]]}],\"choropleth\":[{\"type\":\"choropleth\",\"colorbar\":{\"outlinewidth\":0,\"ticks\":\"\"}}],\"histogram2d\":[{\"type\":\"histogram2d\",\"colorbar\":{\"outlinewidth\":0,\"ticks\":\"\"},\"colorscale\":[[0.0,\"#0d0887\"],[0.1111111111111111,\"#46039f\"],[0.2222222222222222,\"#7201a8\"],[0.3333333333333333,\"#9c179e\"],[0.4444444444444444,\"#bd3786\"],[0.5555555555555556,\"#d8576b\"],[0.6666666666666666,\"#ed7953\"],[0.7777777777777778,\"#fb9f3a\"],[0.8888888888888888,\"#fdca26\"],[1.0,\"#f0f921\"]]}],\"heatmap\":[{\"type\":\"heatmap\",\"colorbar\":{\"outlinewidth\":0,\"ticks\":\"\"},\"colorscale\":[[0.0,\"#0d0887\"],[0.1111111111111111,\"#46039f\"],[0.2222222222222222,\"#7201a8\"],[0.3333333333333333,\"#9c179e\"],[0.4444444444444444,\"#bd3786\"],[0.5555555555555556,\"#d8576b\"],[0.6666666666666666,\"#ed7953\"],[0.7777777777777778,\"#fb9f3a\"],[0.8888888888888888,\"#fdca26\"],[1.0,\"#f0f921\"]]}],\"heatmapgl\":[{\"type\":\"heatmapgl\",\"colorbar\":{\"outlinewidth\":0,\"ticks\":\"\"},\"colorscale\":[[0.0,\"#0d0887\"],[0.1111111111111111,\"#46039f\"],[0.2222222222222222,\"#7201a8\"],[0.3333333333333333,\"#9c179e\"],[0.4444444444444444,\"#bd3786\"],[0.5555555555555556,\"#d8576b\"],[0.6666666666666666,\"#ed7953\"],[0.7777777777777778,\"#fb9f3a\"],[0.8888888888888888,\"#fdca26\"],[1.0,\"#f0f921\"]]}],\"contourcarpet\":[{\"type\":\"contourcarpet\",\"colorbar\":{\"outlinewidth\":0,\"ticks\":\"\"}}],\"contour\":[{\"type\":\"contour\",\"colorbar\":{\"outlinewidth\":0,\"ticks\":\"\"},\"colorscale\":[[0.0,\"#0d0887\"],[0.1111111111111111,\"#46039f\"],[0.2222222222222222,\"#7201a8\"],[0.3333333333333333,\"#9c179e\"],[0.4444444444444444,\"#bd3786\"],[0.5555555555555556,\"#d8576b\"],[0.6666666666666666,\"#ed7953\"],[0.7777777777777778,\"#fb9f3a\"],[0.8888888888888888,\"#fdca26\"],[1.0,\"#f0f921\"]]}],\"surface\":[{\"type\":\"surface\",\"colorbar\":{\"outlinewidth\":0,\"ticks\":\"\"},\"colorscale\":[[0.0,\"#0d0887\"],[0.1111111111111111,\"#46039f\"],[0.2222222222222222,\"#7201a8\"],[0.3333333333333333,\"#9c179e\"],[0.4444444444444444,\"#bd3786\"],[0.5555555555555556,\"#d8576b\"],[0.6666666666666666,\"#ed7953\"],[0.7777777777777778,\"#fb9f3a\"],[0.8888888888888888,\"#fdca26\"],[1.0,\"#f0f921\"]]}],\"mesh3d\":[{\"type\":\"mesh3d\",\"colorbar\":{\"outlinewidth\":0,\"ticks\":\"\"}}],\"scatter\":[{\"fillpattern\":{\"fillmode\":\"overlay\",\"size\":10,\"solidity\":0.2},\"type\":\"scatter\"}],\"parcoords\":[{\"type\":\"parcoords\",\"line\":{\"colorbar\":{\"outlinewidth\":0,\"ticks\":\"\"}}}],\"scatterpolargl\":[{\"type\":\"scatterpolargl\",\"marker\":{\"colorbar\":{\"outlinewidth\":0,\"ticks\":\"\"}}}],\"bar\":[{\"error_x\":{\"color\":\"#2a3f5f\"},\"error_y\":{\"color\":\"#2a3f5f\"},\"marker\":{\"line\":{\"color\":\"#E5ECF6\",\"width\":0.5},\"pattern\":{\"fillmode\":\"overlay\",\"size\":10,\"solidity\":0.2}},\"type\":\"bar\"}],\"scattergeo\":[{\"type\":\"scattergeo\",\"marker\":{\"colorbar\":{\"outlinewidth\":0,\"ticks\":\"\"}}}],\"scatterpolar\":[{\"type\":\"scatterpolar\",\"marker\":{\"colorbar\":{\"outlinewidth\":0,\"ticks\":\"\"}}}],\"histogram\":[{\"marker\":{\"pattern\":{\"fillmode\":\"overlay\",\"size\":10,\"solidity\":0.2}},\"type\":\"histogram\"}],\"scattergl\":[{\"type\":\"scattergl\",\"marker\":{\"colorbar\":{\"outlinewidth\":0,\"ticks\":\"\"}}}],\"scatter3d\":[{\"type\":\"scatter3d\",\"line\":{\"colorbar\":{\"outlinewidth\":0,\"ticks\":\"\"}},\"marker\":{\"colorbar\":{\"outlinewidth\":0,\"ticks\":\"\"}}}],\"scattermapbox\":[{\"type\":\"scattermapbox\",\"marker\":{\"colorbar\":{\"outlinewidth\":0,\"ticks\":\"\"}}}],\"scatterternary\":[{\"type\":\"scatterternary\",\"marker\":{\"colorbar\":{\"outlinewidth\":0,\"ticks\":\"\"}}}],\"scattercarpet\":[{\"type\":\"scattercarpet\",\"marker\":{\"colorbar\":{\"outlinewidth\":0,\"ticks\":\"\"}}}],\"carpet\":[{\"aaxis\":{\"endlinecolor\":\"#2a3f5f\",\"gridcolor\":\"white\",\"linecolor\":\"white\",\"minorgridcolor\":\"white\",\"startlinecolor\":\"#2a3f5f\"},\"baxis\":{\"endlinecolor\":\"#2a3f5f\",\"gridcolor\":\"white\",\"linecolor\":\"white\",\"minorgridcolor\":\"white\",\"startlinecolor\":\"#2a3f5f\"},\"type\":\"carpet\"}],\"table\":[{\"cells\":{\"fill\":{\"color\":\"#EBF0F8\"},\"line\":{\"color\":\"white\"}},\"header\":{\"fill\":{\"color\":\"#C8D4E3\"},\"line\":{\"color\":\"white\"}},\"type\":\"table\"}],\"barpolar\":[{\"marker\":{\"line\":{\"color\":\"#E5ECF6\",\"width\":0.5},\"pattern\":{\"fillmode\":\"overlay\",\"size\":10,\"solidity\":0.2}},\"type\":\"barpolar\"}],\"pie\":[{\"automargin\":true,\"type\":\"pie\"}]},\"layout\":{\"autotypenumbers\":\"strict\",\"colorway\":[\"#636efa\",\"#EF553B\",\"#00cc96\",\"#ab63fa\",\"#FFA15A\",\"#19d3f3\",\"#FF6692\",\"#B6E880\",\"#FF97FF\",\"#FECB52\"],\"font\":{\"color\":\"#2a3f5f\"},\"hovermode\":\"closest\",\"hoverlabel\":{\"align\":\"left\"},\"paper_bgcolor\":\"white\",\"plot_bgcolor\":\"#E5ECF6\",\"polar\":{\"bgcolor\":\"#E5ECF6\",\"angularaxis\":{\"gridcolor\":\"white\",\"linecolor\":\"white\",\"ticks\":\"\"},\"radialaxis\":{\"gridcolor\":\"white\",\"linecolor\":\"white\",\"ticks\":\"\"}},\"ternary\":{\"bgcolor\":\"#E5ECF6\",\"aaxis\":{\"gridcolor\":\"white\",\"linecolor\":\"white\",\"ticks\":\"\"},\"baxis\":{\"gridcolor\":\"white\",\"linecolor\":\"white\",\"ticks\":\"\"},\"caxis\":{\"gridcolor\":\"white\",\"linecolor\":\"white\",\"ticks\":\"\"}},\"coloraxis\":{\"colorbar\":{\"outlinewidth\":0,\"ticks\":\"\"}},\"colorscale\":{\"sequential\":[[0.0,\"#0d0887\"],[0.1111111111111111,\"#46039f\"],[0.2222222222222222,\"#7201a8\"],[0.3333333333333333,\"#9c179e\"],[0.4444444444444444,\"#bd3786\"],[0.5555555555555556,\"#d8576b\"],[0.6666666666666666,\"#ed7953\"],[0.7777777777777778,\"#fb9f3a\"],[0.8888888888888888,\"#fdca26\"],[1.0,\"#f0f921\"]],\"sequentialminus\":[[0.0,\"#0d0887\"],[0.1111111111111111,\"#46039f\"],[0.2222222222222222,\"#7201a8\"],[0.3333333333333333,\"#9c179e\"],[0.4444444444444444,\"#bd3786\"],[0.5555555555555556,\"#d8576b\"],[0.6666666666666666,\"#ed7953\"],[0.7777777777777778,\"#fb9f3a\"],[0.8888888888888888,\"#fdca26\"],[1.0,\"#f0f921\"]],\"diverging\":[[0,\"#8e0152\"],[0.1,\"#c51b7d\"],[0.2,\"#de77ae\"],[0.3,\"#f1b6da\"],[0.4,\"#fde0ef\"],[0.5,\"#f7f7f7\"],[0.6,\"#e6f5d0\"],[0.7,\"#b8e186\"],[0.8,\"#7fbc41\"],[0.9,\"#4d9221\"],[1,\"#276419\"]]},\"xaxis\":{\"gridcolor\":\"white\",\"linecolor\":\"white\",\"ticks\":\"\",\"title\":{\"standoff\":15},\"zerolinecolor\":\"white\",\"automargin\":true,\"zerolinewidth\":2},\"yaxis\":{\"gridcolor\":\"white\",\"linecolor\":\"white\",\"ticks\":\"\",\"title\":{\"standoff\":15},\"zerolinecolor\":\"white\",\"automargin\":true,\"zerolinewidth\":2},\"scene\":{\"xaxis\":{\"backgroundcolor\":\"#E5ECF6\",\"gridcolor\":\"white\",\"linecolor\":\"white\",\"showbackground\":true,\"ticks\":\"\",\"zerolinecolor\":\"white\",\"gridwidth\":2},\"yaxis\":{\"backgroundcolor\":\"#E5ECF6\",\"gridcolor\":\"white\",\"linecolor\":\"white\",\"showbackground\":true,\"ticks\":\"\",\"zerolinecolor\":\"white\",\"gridwidth\":2},\"zaxis\":{\"backgroundcolor\":\"#E5ECF6\",\"gridcolor\":\"white\",\"linecolor\":\"white\",\"showbackground\":true,\"ticks\":\"\",\"zerolinecolor\":\"white\",\"gridwidth\":2}},\"shapedefaults\":{\"line\":{\"color\":\"#2a3f5f\"}},\"annotationdefaults\":{\"arrowcolor\":\"#2a3f5f\",\"arrowhead\":0,\"arrowwidth\":1},\"geo\":{\"bgcolor\":\"white\",\"landcolor\":\"#E5ECF6\",\"subunitcolor\":\"white\",\"showland\":true,\"showlakes\":true,\"lakecolor\":\"white\"},\"title\":{\"x\":0.05},\"mapbox\":{\"style\":\"light\"}}},\"xaxis\":{\"anchor\":\"y\",\"domain\":[0.0,1.0],\"title\":{\"text\":\"Month\"},\"tickangle\":-45},\"yaxis\":{\"anchor\":\"x\",\"domain\":[0.0,1.0],\"title\":{\"text\":\"Total Likes\"}},\"legend\":{\"tracegroupgap\":0},\"title\":{\"text\":\"Total Likes Received Each Month\",\"x\":0.5},\"barmode\":\"relative\",\"margin\":{\"l\":50,\"r\":50,\"t\":50,\"b\":50}},                        {\"responsive\": true}                    ).then(function(){\n",
       "                            \n",
       "var gd = document.getElementById('bc79a2ea-80fe-4210-9f09-8a15dbdafbdf');\n",
       "var x = new MutationObserver(function (mutations, observer) {{\n",
       "        var display = window.getComputedStyle(gd).display;\n",
       "        if (!display || display === 'none') {{\n",
       "            console.log([gd, 'removed!']);\n",
       "            Plotly.purge(gd);\n",
       "            observer.disconnect();\n",
       "        }}\n",
       "}});\n",
       "\n",
       "// Listen for the removal of the full notebook cells\n",
       "var notebookContainer = gd.closest('#notebook-container');\n",
       "if (notebookContainer) {{\n",
       "    x.observe(notebookContainer, {childList: true});\n",
       "}}\n",
       "\n",
       "// Listen for the clearing of the current output cell\n",
       "var outputEl = gd.closest('.output');\n",
       "if (outputEl) {{\n",
       "    x.observe(outputEl, {childList: true});\n",
       "}}\n",
       "\n",
       "                        })                };                });            </script>        </div>"
      ]
     },
     "metadata": {},
     "output_type": "display_data"
    }
   ],
   "source": [
    "import pandas as pd\n",
    "import plotly.express as px\n",
    "\n",
    "# Define the dataset file path\n",
    "file_path = 'Downloads/dataset_instagram-scraper_2025-03-25_16-31-50-146.csv'\n",
    "\n",
    "# Load the Instagram data into a DataFrame\n",
    "instagram_data = pd.read_csv(file_path)\n",
    "\n",
    "# Check for required columns\n",
    "required_columns = {'likesCount', 'timestamp'}\n",
    "if required_columns.issubset(instagram_data.columns):\n",
    "    # Convert 'timestamp' to datetime format\n",
    "    instagram_data['timestamp'] = pd.to_datetime(instagram_data['timestamp'], errors='coerce').dt.tz_localize(None)\n",
    "\n",
    "    # Filter for posts made after December 2021\n",
    "    filtered_data = instagram_data[instagram_data['timestamp'] >= '2021-12-01']\n",
    "\n",
    "    # Ensure 'likesCount' is numeric\n",
    "    filtered_data['likesCount'] = pd.to_numeric(filtered_data['likesCount'], errors='coerce')\n",
    "\n",
    "    # Group by month and sum up the likes\n",
    "    filtered_data['month'] = filtered_data['timestamp'].dt.to_period('M')  # Extract year-month\n",
    "    likes_by_month = filtered_data.groupby('month')['likesCount'].sum().reset_index()\n",
    "    likes_by_month.columns = ['Month', 'Total Likes']\n",
    "\n",
    "    # Convert 'Month' back to datetime for plotting\n",
    "    likes_by_month['Month'] = likes_by_month['Month'].dt.to_timestamp()\n",
    "\n",
    "    # Create a bar chart for total likes\n",
    "    fig = px.bar(\n",
    "        likes_by_month,\n",
    "        x='Month',\n",
    "        y='Total Likes',\n",
    "        labels={\"Month\": \"Month\", \"Total Likes\": \"Total Likes\"},\n",
    "        title=\"Total Likes Received Each Month\"\n",
    "    )\n",
    "\n",
    "    # Customize the layout for better visibility\n",
    "    fig.update_layout(\n",
    "        xaxis_title=\"Month\",\n",
    "        yaxis_title=\"Total Likes\",\n",
    "        title_x=0.5,  # Center the title\n",
    "        margin=dict(l=50, r=50, t=50, b=50),  # Add padding\n",
    "        xaxis=dict(tickangle=-45)  # Rotate x-axis labels for readability\n",
    "    )\n",
    "\n",
    "    # Show the plot\n",
    "    fig.show()\n",
    "else:\n",
    "    print(\"The dataset does not contain the required columns ('likesCount' or 'timestamp'). Please check the column names.\")"
   ]
  }
 ],
 "metadata": {
  "kernelspec": {
   "display_name": "Python [conda env:anaconda3] *",
   "language": "python",
   "name": "conda-env-anaconda3-py"
  },
  "language_info": {
   "codemirror_mode": {
    "name": "ipython",
    "version": 3
   },
   "file_extension": ".py",
   "mimetype": "text/x-python",
   "name": "python",
   "nbconvert_exporter": "python",
   "pygments_lexer": "ipython3",
   "version": "3.12.7"
  }
 },
 "nbformat": 4,
 "nbformat_minor": 5
}
