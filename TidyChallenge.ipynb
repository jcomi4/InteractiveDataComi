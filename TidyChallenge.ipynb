{
 "cells": [
  {
   "cell_type": "code",
   "execution_count": 3,
   "id": "63b32160-19ee-4ee2-85dc-d768633c8a2c",
   "metadata": {},
   "outputs": [],
   "source": [
    "import pandas as pd\n",
    "import json"
   ]
  },
  {
   "cell_type": "code",
   "execution_count": 4,
   "id": "a470c1c7-951f-476d-bedf-99767ba661e2",
   "metadata": {},
   "outputs": [],
   "source": [
    "with open('chessbuds_messages.json') as j:\n",
    "    data = json.load(j)"
   ]
  },
  {
   "cell_type": "markdown",
   "id": "a9a814eb-b5b3-41fd-a1bc-0e2e283fcf7f",
   "metadata": {},
   "source": [
    "This is where I imported pandas and json, as well as the messy data. "
   ]
  },
  {
   "cell_type": "code",
   "execution_count": 5,
   "id": "7f83a5e1-e81f-48ed-9b76-3051932ce30c",
   "metadata": {},
   "outputs": [
    {
     "data": {
      "text/plain": [
       "dict"
      ]
     },
     "execution_count": 5,
     "metadata": {},
     "output_type": "execute_result"
    }
   ],
   "source": [
    "type(data)"
   ]
  },
  {
   "cell_type": "code",
   "execution_count": 6,
   "id": "889af1f0-7623-4354-9724-07a793fb398d",
   "metadata": {},
   "outputs": [
    {
     "data": {
      "text/plain": [
       "dict_keys(['participants', 'messages', 'title', 'is_still_participant', 'thread_type', 'thread_path', 'magic_words', 'joinable_mode'])"
      ]
     },
     "execution_count": 6,
     "metadata": {},
     "output_type": "execute_result"
    }
   ],
   "source": [
    "data.keys()"
   ]
  },
  {
   "cell_type": "code",
   "execution_count": 7,
   "id": "1cb1f126-e3e3-41d8-a5c7-184c8d1f3aa6",
   "metadata": {},
   "outputs": [
    {
     "data": {
      "text/plain": [
       "list"
      ]
     },
     "execution_count": 7,
     "metadata": {},
     "output_type": "execute_result"
    }
   ],
   "source": [
    "type(data['participants'])"
   ]
  },
  {
   "cell_type": "code",
   "execution_count": 8,
   "id": "a29dea2e-0cac-4e08-af7b-add1cde1f2c7",
   "metadata": {},
   "outputs": [
    {
     "data": {
      "text/plain": [
       "dict_keys(['name'])"
      ]
     },
     "execution_count": 8,
     "metadata": {},
     "output_type": "execute_result"
    }
   ],
   "source": [
    "data['participants'][0].keys()"
   ]
  },
  {
   "cell_type": "markdown",
   "id": "e85387ae-f565-44da-a284-53f11c152765",
   "metadata": {},
   "source": [
    "My first interactions with the data was to feel out which parameters had which information, and moreover, what I needed to input into pd.DataFrame. Initially, I started with participants as it was the first one, but it's dict was too simple for the database, so I moved on. "
   ]
  },
  {
   "cell_type": "code",
   "execution_count": 9,
   "id": "69b2eac5-44b7-4e51-a154-2637b76af05d",
   "metadata": {},
   "outputs": [
    {
     "data": {
      "text/plain": [
       "list"
      ]
     },
     "execution_count": 9,
     "metadata": {},
     "output_type": "execute_result"
    }
   ],
   "source": [
    "type(data['messages'])"
   ]
  },
  {
   "cell_type": "code",
   "execution_count": 10,
   "id": "7ecb5fa2-9a20-4a14-9cd4-5577b1dd5fb0",
   "metadata": {},
   "outputs": [
    {
     "data": {
      "text/plain": [
       "223"
      ]
     },
     "execution_count": 10,
     "metadata": {},
     "output_type": "execute_result"
    }
   ],
   "source": [
    "len(data['messages'])"
   ]
  },
  {
   "cell_type": "code",
   "execution_count": 11,
   "id": "80a16d3e-718b-419f-880c-9c32b289dc20",
   "metadata": {},
   "outputs": [
    {
     "data": {
      "text/plain": [
       "dict_keys(['sender_name', 'timestamp_ms', 'content', 'reactions', 'type', 'is_unsent', 'is_taken_down', 'bumped_message_metadata'])"
      ]
     },
     "execution_count": 11,
     "metadata": {},
     "output_type": "execute_result"
    }
   ],
   "source": [
    "data['messages'][0].keys()"
   ]
  },
  {
   "cell_type": "code",
   "execution_count": 12,
   "id": "3237f5a5-cf98-4aa5-94a7-39b966e4f190",
   "metadata": {},
   "outputs": [],
   "source": [
    "chessDf = pd.DataFrame(data['messages'])"
   ]
  },
  {
   "cell_type": "markdown",
   "id": "a3a3ff8f-4f6b-4ae6-a954-5877084a2d37",
   "metadata": {},
   "source": [
    "Here I found that the messages was what I was going to input into the DataFrame, by checking how many keys it had. I assigned that information to the chessDf using pd.DataFrame. Below, I called it and began to examine the data and figure out what needed to be changed to make it tidy. "
   ]
  },
  {
   "cell_type": "code",
   "execution_count": 13,
   "id": "819ba9e3-398e-4faa-b573-90d59d0f5850",
   "metadata": {},
   "outputs": [
    {
     "data": {
      "text/html": [
       "<div>\n",
       "<style scoped>\n",
       "    .dataframe tbody tr th:only-of-type {\n",
       "        vertical-align: middle;\n",
       "    }\n",
       "\n",
       "    .dataframe tbody tr th {\n",
       "        vertical-align: top;\n",
       "    }\n",
       "\n",
       "    .dataframe thead th {\n",
       "        text-align: right;\n",
       "    }\n",
       "</style>\n",
       "<table border=\"1\" class=\"dataframe\">\n",
       "  <thead>\n",
       "    <tr style=\"text-align: right;\">\n",
       "      <th></th>\n",
       "      <th>sender_name</th>\n",
       "      <th>timestamp_ms</th>\n",
       "      <th>content</th>\n",
       "      <th>reactions</th>\n",
       "      <th>type</th>\n",
       "      <th>is_unsent</th>\n",
       "      <th>is_taken_down</th>\n",
       "      <th>bumped_message_metadata</th>\n",
       "      <th>share</th>\n",
       "      <th>photos</th>\n",
       "      <th>gifs</th>\n",
       "      <th>users</th>\n",
       "    </tr>\n",
       "  </thead>\n",
       "  <tbody>\n",
       "    <tr>\n",
       "      <th>0</th>\n",
       "      <td>Joanna Rusch</td>\n",
       "      <td>1666374933946</td>\n",
       "      <td>Maybe he just wants to ride the publicity for ...</td>\n",
       "      <td>[{'reaction': 'ð', 'actor': 'Chad Larson'},...</td>\n",
       "      <td>Generic</td>\n",
       "      <td>False</td>\n",
       "      <td>False</td>\n",
       "      <td>{'bumped_message': 'Maybe he just wants to rid...</td>\n",
       "      <td>NaN</td>\n",
       "      <td>NaN</td>\n",
       "      <td>NaN</td>\n",
       "      <td>NaN</td>\n",
       "    </tr>\n",
       "    <tr>\n",
       "      <th>1</th>\n",
       "      <td>Chad Larson</td>\n",
       "      <td>1666373448613</td>\n",
       "      <td>To be fair to Hans....no one wants to be assoc...</td>\n",
       "      <td>[{'reaction': 'ð', 'actor': 'Scott Pence'},...</td>\n",
       "      <td>Generic</td>\n",
       "      <td>False</td>\n",
       "      <td>False</td>\n",
       "      <td>{'bumped_message': 'To be fair to Hans....no o...</td>\n",
       "      <td>NaN</td>\n",
       "      <td>NaN</td>\n",
       "      <td>NaN</td>\n",
       "      <td>NaN</td>\n",
       "    </tr>\n",
       "    <tr>\n",
       "      <th>2</th>\n",
       "      <td>Chad Larson</td>\n",
       "      <td>1666373216381</td>\n",
       "      <td>He would have to prove he didn't cheat and tha...</td>\n",
       "      <td>[{'reaction': 'ð', 'actor': 'Scott Pence'},...</td>\n",
       "      <td>Generic</td>\n",
       "      <td>False</td>\n",
       "      <td>False</td>\n",
       "      <td>{'bumped_message': 'He would have to prove he ...</td>\n",
       "      <td>NaN</td>\n",
       "      <td>NaN</td>\n",
       "      <td>NaN</td>\n",
       "      <td>NaN</td>\n",
       "    </tr>\n",
       "    <tr>\n",
       "      <th>3</th>\n",
       "      <td>Scott Pence</td>\n",
       "      <td>1666373164883</td>\n",
       "      <td>Yeah, no way. You over shoot and hope to get a...</td>\n",
       "      <td>[{'reaction': 'ð', 'actor': 'Chad Larson'},...</td>\n",
       "      <td>Generic</td>\n",
       "      <td>False</td>\n",
       "      <td>False</td>\n",
       "      <td>{'bumped_message': 'Yeah, no way. You over sho...</td>\n",
       "      <td>NaN</td>\n",
       "      <td>NaN</td>\n",
       "      <td>NaN</td>\n",
       "      <td>NaN</td>\n",
       "    </tr>\n",
       "    <tr>\n",
       "      <th>4</th>\n",
       "      <td>Chad Larson</td>\n",
       "      <td>1666373111157</td>\n",
       "      <td>From what I see, I don't think he could win.  ...</td>\n",
       "      <td>NaN</td>\n",
       "      <td>Generic</td>\n",
       "      <td>False</td>\n",
       "      <td>False</td>\n",
       "      <td>{'bumped_message': 'From what I see, I don't t...</td>\n",
       "      <td>NaN</td>\n",
       "      <td>NaN</td>\n",
       "      <td>NaN</td>\n",
       "      <td>NaN</td>\n",
       "    </tr>\n",
       "  </tbody>\n",
       "</table>\n",
       "</div>"
      ],
      "text/plain": [
       "    sender_name   timestamp_ms  \\\n",
       "0  Joanna Rusch  1666374933946   \n",
       "1   Chad Larson  1666373448613   \n",
       "2   Chad Larson  1666373216381   \n",
       "3   Scott Pence  1666373164883   \n",
       "4   Chad Larson  1666373111157   \n",
       "\n",
       "                                             content  \\\n",
       "0  Maybe he just wants to ride the publicity for ...   \n",
       "1  To be fair to Hans....no one wants to be assoc...   \n",
       "2  He would have to prove he didn't cheat and tha...   \n",
       "3  Yeah, no way. You over shoot and hope to get a...   \n",
       "4  From what I see, I don't think he could win.  ...   \n",
       "\n",
       "                                           reactions     type  is_unsent  \\\n",
       "0  [{'reaction': 'ð', 'actor': 'Chad Larson'},...  Generic      False   \n",
       "1  [{'reaction': 'ð', 'actor': 'Scott Pence'},...  Generic      False   \n",
       "2  [{'reaction': 'ð', 'actor': 'Scott Pence'},...  Generic      False   \n",
       "3  [{'reaction': 'ð', 'actor': 'Chad Larson'},...  Generic      False   \n",
       "4                                                NaN  Generic      False   \n",
       "\n",
       "   is_taken_down                            bumped_message_metadata share  \\\n",
       "0          False  {'bumped_message': 'Maybe he just wants to rid...   NaN   \n",
       "1          False  {'bumped_message': 'To be fair to Hans....no o...   NaN   \n",
       "2          False  {'bumped_message': 'He would have to prove he ...   NaN   \n",
       "3          False  {'bumped_message': 'Yeah, no way. You over sho...   NaN   \n",
       "4          False  {'bumped_message': 'From what I see, I don't t...   NaN   \n",
       "\n",
       "  photos gifs users  \n",
       "0    NaN  NaN   NaN  \n",
       "1    NaN  NaN   NaN  \n",
       "2    NaN  NaN   NaN  \n",
       "3    NaN  NaN   NaN  \n",
       "4    NaN  NaN   NaN  "
      ]
     },
     "execution_count": 13,
     "metadata": {},
     "output_type": "execute_result"
    }
   ],
   "source": [
    "chessDf.head()"
   ]
  },
  {
   "cell_type": "markdown",
   "id": "3ff9d7aa-b221-4488-a1da-8ed8a16b9fa8",
   "metadata": {},
   "source": [
    "After viewing the head of the database, a few things stuck out to me. All of the NaN entries in the share, photos, gifs, and user collumns go againt tidy principles, because you cannot have empty values. I needed to find a way to fix this. I also thought that the reactions and bumped_message_metadata collumns needed to be cleaned up as much of the content was repeated/unreadable, simillar to when we were working on the Spotify data. "
   ]
  },
  {
   "cell_type": "code",
   "execution_count": 14,
   "id": "2603460e-3e9c-40f3-9dc9-9e893cb8f1bb",
   "metadata": {},
   "outputs": [
    {
     "data": {
      "text/plain": [
       "list"
      ]
     },
     "execution_count": 14,
     "metadata": {},
     "output_type": "execute_result"
    }
   ],
   "source": [
    "type(chessDf['reactions'].iloc[0])"
   ]
  },
  {
   "cell_type": "code",
   "execution_count": 15,
   "id": "8b2453e3-2474-4ad8-867a-e296e2734f8e",
   "metadata": {},
   "outputs": [
    {
     "data": {
      "text/plain": [
       "dict"
      ]
     },
     "execution_count": 15,
     "metadata": {},
     "output_type": "execute_result"
    }
   ],
   "source": [
    "type(chessDf['reactions'].iloc[0][0])"
   ]
  },
  {
   "cell_type": "code",
   "execution_count": 16,
   "id": "24a4358d-7948-4fa9-ad8e-46fab7f35006",
   "metadata": {},
   "outputs": [
    {
     "data": {
      "text/plain": [
       "[[{'reaction': 'ð\\x9f\\x91\\x8d', 'actor': 'Chad Larson'},\n",
       "  {'reaction': 'ð\\x9f\\x91\\x8d', 'actor': 'Chad Larson'}],\n",
       " [{'reaction': 'ð\\x9f\\x98\\x86', 'actor': 'Scott Pence'},\n",
       "  {'reaction': 'ð\\x9f\\x98\\x86', 'actor': 'Scott Pence'}],\n",
       " [{'reaction': 'ð\\x9f\\x91\\x8d', 'actor': 'Scott Pence'},\n",
       "  {'reaction': 'ð\\x9f\\x91\\x8d', 'actor': 'Scott Pence'}],\n",
       " [{'reaction': 'ð\\x9f\\x91\\x8d', 'actor': 'Chad Larson'},\n",
       "  {'reaction': 'ð\\x9f\\x91\\x8d', 'actor': 'Chad Larson'}],\n",
       " nan,\n",
       " [{'reaction': 'ð\\x9f\\x91\\x8d', 'actor': 'Chad Larson'},\n",
       "  {'reaction': 'ð\\x9f\\x91\\x8d', 'actor': 'Chad Larson'}],\n",
       " [{'reaction': 'ð\\x9f\\x98\\x86', 'actor': 'Joanna Rusch'},\n",
       "  {'reaction': 'ð\\x9f\\x98\\x86', 'actor': 'Joanna Rusch'}],\n",
       " nan,\n",
       " [{'reaction': 'ð\\x9f\\x98\\x83', 'actor': 'Chad Larson'},\n",
       "  {'reaction': 'â\\x9d¤', 'actor': 'Joanna Rusch'},\n",
       "  {'reaction': 'ð\\x9f\\x98\\x83', 'actor': 'Chad Larson'},\n",
       "  {'reaction': 'â\\x9d¤', 'actor': 'Joanna Rusch'}],\n",
       " [{'reaction': 'ð\\x9f\\x98\\x83', 'actor': 'Chad Larson'},\n",
       "  {'reaction': 'ð\\x9f\\x98®', 'actor': 'Joanna Rusch'},\n",
       "  {'reaction': 'ð\\x9f\\x98\\x83', 'actor': 'Chad Larson'},\n",
       "  {'reaction': 'ð\\x9f\\x98®', 'actor': 'Joanna Rusch'}],\n",
       " nan,\n",
       " nan,\n",
       " nan,\n",
       " nan,\n",
       " nan,\n",
       " nan,\n",
       " nan,\n",
       " [{'reaction': 'ð\\x9f\\x91\\x8d', 'actor': 'Chad Larson'},\n",
       "  {'reaction': 'ð\\x9f\\x91\\x8d', 'actor': 'Scott Pence'},\n",
       "  {'reaction': 'ð\\x9f\\x91\\x8d', 'actor': 'Chad Larson'},\n",
       "  {'reaction': 'ð\\x9f\\x91\\x8d', 'actor': 'Scott Pence'}],\n",
       " nan,\n",
       " nan,\n",
       " nan,\n",
       " [{'reaction': 'ð\\x9f\\x98\\x86', 'actor': 'Chad Larson'},\n",
       "  {'reaction': 'ð\\x9f\\x98\\x86', 'actor': 'Joanna Rusch'},\n",
       "  {'reaction': 'ð\\x9f\\x98\\x86', 'actor': 'Chad Larson'},\n",
       "  {'reaction': 'ð\\x9f\\x98\\x86', 'actor': 'Joanna Rusch'}],\n",
       " nan,\n",
       " [{'reaction': 'ð\\x9f\\x91\\x8d', 'actor': 'Scott Pence'},\n",
       "  {'reaction': 'ð\\x9f\\x91\\x8d', 'actor': 'Scott Pence'}],\n",
       " nan,\n",
       " nan,\n",
       " nan,\n",
       " nan,\n",
       " nan,\n",
       " nan,\n",
       " nan,\n",
       " nan,\n",
       " nan,\n",
       " nan,\n",
       " nan,\n",
       " [{'reaction': 'ð\\x9f\\x91\\x8d', 'actor': 'Scott Pence'},\n",
       "  {'reaction': 'ð\\x9f\\x91\\x8d', 'actor': 'Scott Pence'}],\n",
       " nan,\n",
       " nan,\n",
       " nan,\n",
       " nan,\n",
       " nan,\n",
       " nan,\n",
       " nan,\n",
       " nan,\n",
       " nan,\n",
       " nan,\n",
       " nan,\n",
       " nan,\n",
       " nan,\n",
       " [{'reaction': 'ð\\x9f\\x91\\x8d', 'actor': 'Scott Pence'},\n",
       "  {'reaction': 'ð\\x9f\\x91\\x8d', 'actor': 'Scott Pence'}],\n",
       " nan,\n",
       " nan,\n",
       " nan,\n",
       " nan,\n",
       " [{'reaction': 'ð\\x9f\\x91\\x8d', 'actor': 'Joanna Rusch'},\n",
       "  {'reaction': 'ð\\x9f\\x91\\x8d', 'actor': 'Joanna Rusch'}],\n",
       " [{'reaction': 'ð\\x9f\\x98\\x86', 'actor': 'Scott Pence'},\n",
       "  {'reaction': 'ð\\x9f\\x98\\x86', 'actor': 'Scott Pence'}],\n",
       " nan,\n",
       " [{'reaction': 'â\\x9d¤', 'actor': 'Joanna Rusch'},\n",
       "  {'reaction': 'â\\x9d¤', 'actor': 'Joanna Rusch'}],\n",
       " [{'reaction': 'ð\\x9f\\x98\\x86', 'actor': 'Joanna Rusch'},\n",
       "  {'reaction': 'ð\\x9f\\x98\\x86', 'actor': 'Chad Larson'},\n",
       "  {'reaction': 'ð\\x9f\\x98\\x86', 'actor': 'Joanna Rusch'},\n",
       "  {'reaction': 'ð\\x9f\\x98\\x86', 'actor': 'Chad Larson'}],\n",
       " nan,\n",
       " nan,\n",
       " nan,\n",
       " nan,\n",
       " nan,\n",
       " nan,\n",
       " nan,\n",
       " nan,\n",
       " [{'reaction': 'ð\\x9f\\x98\\x86', 'actor': 'Scott Pence'},\n",
       "  {'reaction': 'ð\\x9f\\x98\\x86', 'actor': 'Scott Pence'}],\n",
       " nan,\n",
       " nan,\n",
       " nan,\n",
       " nan,\n",
       " nan,\n",
       " nan,\n",
       " nan,\n",
       " nan,\n",
       " nan,\n",
       " [{'reaction': 'ð\\x9f\\x91\\x8d', 'actor': 'Scott Pence'},\n",
       "  {'reaction': 'ð\\x9f\\x91\\x8d', 'actor': 'Scott Pence'}],\n",
       " nan,\n",
       " nan,\n",
       " nan,\n",
       " [{'reaction': 'ð\\x9f\\x98\\x86', 'actor': 'Joanna Rusch'},\n",
       "  {'reaction': 'ð\\x9f\\x98\\x86', 'actor': 'Chad Larson'},\n",
       "  {'reaction': 'ð\\x9f\\x91\\x8d', 'actor': 'David Silva'},\n",
       "  {'reaction': 'ð\\x9f\\x98\\x86', 'actor': 'Joanna Rusch'},\n",
       "  {'reaction': 'ð\\x9f\\x98\\x86', 'actor': 'Chad Larson'},\n",
       "  {'reaction': 'ð\\x9f\\x91\\x8d', 'actor': 'David Silva'}],\n",
       " [{'reaction': 'ð\\x9f\\x91\\x8d', 'actor': 'Scott Pence'},\n",
       "  {'reaction': 'ð\\x9f\\x91\\x8d', 'actor': 'Scott Pence'}],\n",
       " nan,\n",
       " nan,\n",
       " nan,\n",
       " nan,\n",
       " [{'reaction': 'ð\\x9f\\x98\\x86', 'actor': 'Joanna Rusch'},\n",
       "  {'reaction': 'ð\\x9f\\x98\\x86', 'actor': 'Joanna Rusch'}],\n",
       " [{'reaction': 'ð\\x9f\\x98\\x86', 'actor': 'Chad Larson'},\n",
       "  {'reaction': 'ð\\x9f\\x98\\x86', 'actor': 'Chad Larson'}],\n",
       " [{'reaction': 'ð\\x9f\\x98\\x86', 'actor': 'Aaron Rusch'},\n",
       "  {'reaction': 'ð\\x9f\\x98\\x86', 'actor': 'Aaron Rusch'}],\n",
       " nan,\n",
       " nan,\n",
       " nan,\n",
       " [{'reaction': 'ð\\x9f\\x91\\x8d', 'actor': 'Scott Pence'},\n",
       "  {'reaction': 'ð\\x9f\\x91\\x8d', 'actor': 'Scott Pence'}],\n",
       " [{'reaction': 'ð\\x9f\\x91\\x8d', 'actor': 'David Silva'}],\n",
       " [{'reaction': 'ð\\x9f\\x91\\x8d', 'actor': 'Aaron Rusch'},\n",
       "  {'reaction': 'ð\\x9f\\x91\\x8d', 'actor': 'Joanna Rusch'}],\n",
       " [{'reaction': 'ð\\x9f\\x98\\x86', 'actor': 'Scott Pence'},\n",
       "  {'reaction': 'ð\\x9f\\x98\\x86', 'actor': 'Joanna Rusch'}],\n",
       " [{'reaction': 'ð\\x9f\\x98\\x86', 'actor': 'Joanna Rusch'}],\n",
       " nan,\n",
       " nan,\n",
       " nan,\n",
       " [{'reaction': 'ð\\x9f\\x98\\x86', 'actor': 'Scott Pence'},\n",
       "  {'reaction': 'ð\\x9f\\x98\\x86', 'actor': 'Chad Larson'},\n",
       "  {'reaction': 'ð\\x9f\\x98\\x86', 'actor': 'Joanna Rusch'}],\n",
       " nan,\n",
       " nan,\n",
       " nan,\n",
       " nan,\n",
       " nan,\n",
       " nan,\n",
       " nan,\n",
       " nan,\n",
       " nan,\n",
       " [{'reaction': 'ð\\x9f¥°', 'actor': 'Chad Larson'}],\n",
       " nan,\n",
       " nan,\n",
       " [{'reaction': 'ð\\x9f\\x98®', 'actor': 'Chad Larson'}],\n",
       " [{'reaction': 'ð\\x9f\\x91\\x8d', 'actor': 'Scott Pence'}],\n",
       " nan,\n",
       " [{'reaction': 'ð\\x9f¤£', 'actor': 'Angela Babbitt Pence'},\n",
       "  {'reaction': 'ð\\x9f\\x98\\xa0', 'actor': 'David Silva'},\n",
       "  {'reaction': 'ð\\x9f\\x98\\x86', 'actor': 'Scott Pence'}],\n",
       " [{'reaction': 'ð\\x9f\\x91\\x8d', 'actor': 'Aaron Rusch'},\n",
       "  {'reaction': 'â\\x9d¤', 'actor': 'Chad Larson'}],\n",
       " nan,\n",
       " nan,\n",
       " nan,\n",
       " [{'reaction': 'ð\\x9f\\x98\\x86', 'actor': 'Scott Pence'}],\n",
       " nan,\n",
       " [{'reaction': 'ð\\x9f\\x98\\xa0', 'actor': 'David Silva'},\n",
       "  {'reaction': 'ð\\x9f\\x98\\x86', 'actor': 'Chad Larson'}],\n",
       " nan,\n",
       " nan,\n",
       " nan,\n",
       " nan,\n",
       " [{'reaction': 'ð\\x9f\\x98\\x86', 'actor': 'Chad Larson'}],\n",
       " nan,\n",
       " [{'reaction': 'ð\\x9f\\x98\\x86', 'actor': 'Chad Larson'}],\n",
       " [{'reaction': 'ð\\x9f\\x98\\x86', 'actor': 'Scott Pence'},\n",
       "  {'reaction': 'ð\\x9f\\x98\\x86', 'actor': 'Chad Larson'},\n",
       "  {'reaction': 'ð\\x9f\\x98\\x86', 'actor': 'Joanna Rusch'}],\n",
       " nan,\n",
       " nan,\n",
       " [{'reaction': 'ð\\x9f\\x98\\x86', 'actor': 'David Silva'},\n",
       "  {'reaction': 'â\\x99\\x9fï¸\\x8f', 'actor': 'Aaron Rusch'},\n",
       "  {'reaction': 'ð\\x9f\\x98\\x86', 'actor': 'Scott Pence'},\n",
       "  {'reaction': 'ð\\x9f\\x98\\x86', 'actor': 'Chad Larson'}],\n",
       " nan,\n",
       " nan,\n",
       " nan,\n",
       " nan,\n",
       " nan,\n",
       " nan,\n",
       " nan,\n",
       " nan,\n",
       " nan,\n",
       " [{'reaction': 'ð\\x9f\\x98\\x86', 'actor': 'Chad Larson'}],\n",
       " nan,\n",
       " nan,\n",
       " nan,\n",
       " [{'reaction': 'ð\\x9f\\x91\\x8d', 'actor': 'Chad Larson'},\n",
       "  {'reaction': 'ð\\x9f\\x98\\x86', 'actor': 'Joanna Rusch'}],\n",
       " [{'reaction': 'ð\\x9f\\x98\\x86', 'actor': 'Joanna Rusch'}],\n",
       " [{'reaction': 'ð\\x9f\\x98\\x86', 'actor': 'Scott Pence'},\n",
       "  {'reaction': 'ð\\x9f\\x98\\x86', 'actor': 'Chad Larson'}],\n",
       " nan,\n",
       " nan,\n",
       " [{'reaction': 'ð\\x9f\\x98\\x86', 'actor': 'Scott Pence'}],\n",
       " nan,\n",
       " nan,\n",
       " nan,\n",
       " [{'reaction': 'ð\\x9f\\x98\\x86', 'actor': 'Chad Larson'}],\n",
       " nan,\n",
       " [{'reaction': 'ð\\x9f\\x91\\x8d', 'actor': 'Chad Larson'}],\n",
       " nan,\n",
       " nan,\n",
       " nan,\n",
       " nan,\n",
       " [{'reaction': 'ð\\x9f\\x98®', 'actor': 'Chad Larson'}],\n",
       " nan,\n",
       " nan,\n",
       " nan,\n",
       " nan,\n",
       " nan,\n",
       " nan,\n",
       " nan,\n",
       " nan,\n",
       " nan,\n",
       " nan,\n",
       " nan,\n",
       " [{'reaction': 'ð\\x9f\\x98\\x86', 'actor': 'Joanna Rusch'}],\n",
       " nan,\n",
       " [{'reaction': 'ð\\x9f\\x91\\x8d', 'actor': 'Scott Pence'}],\n",
       " nan,\n",
       " nan,\n",
       " [{'reaction': 'ð\\x9f\\x98\\x86', 'actor': 'Chad Larson'}],\n",
       " nan,\n",
       " [{'reaction': 'ð\\x9f\\x91\\x8d', 'actor': 'Chad Larson'}],\n",
       " nan,\n",
       " nan,\n",
       " nan,\n",
       " [{'reaction': 'ð\\x9f\\x98\\x86', 'actor': 'Chad Larson'}],\n",
       " [{'reaction': 'ð\\x9f\\x98\\x86', 'actor': 'Chad Larson'}],\n",
       " [{'reaction': 'ð\\x9f\\x98\\x86', 'actor': 'Scott Pence'},\n",
       "  {'reaction': 'ð\\x9f\\x98\\x86', 'actor': 'Joanna Rusch'}],\n",
       " [{'reaction': 'ð\\x9f\\x98\\x86', 'actor': 'Scott Pence'}],\n",
       " [{'reaction': 'ð\\x9f\\x98\\x86', 'actor': 'Joanna Rusch'}],\n",
       " [{'reaction': 'ð\\x9f\\x98®', 'actor': 'Chad Larson'}],\n",
       " [{'reaction': 'ð\\x9f\\x91\\x8d', 'actor': 'Timothy Vanderpool'},\n",
       "  {'reaction': 'ð\\x9f\\x91\\x8d', 'actor': 'Scott Pence'},\n",
       "  {'reaction': 'ð\\x9f\\x91\\x8d', 'actor': 'Chad Larson'}],\n",
       " [{'reaction': 'ð\\x9f\\x98\\x86', 'actor': 'Chad Larson'},\n",
       "  {'reaction': 'ð\\x9f\\x98\\x86', 'actor': 'Joanna Rusch'}],\n",
       " [{'reaction': 'ð\\x9f\\x98\\x86', 'actor': 'Chad Larson'}],\n",
       " nan,\n",
       " [{'reaction': 'ð\\x9f\\x98\\x86', 'actor': 'Scott Pence'},\n",
       "  {'reaction': 'ð\\x9f\\x98\\x86', 'actor': 'Joanna Rusch'}],\n",
       " [{'reaction': 'ð\\x9f\\x91\\x8d', 'actor': 'Chad Larson'}],\n",
       " nan,\n",
       " nan,\n",
       " [{'reaction': 'ð\\x9f\\x98\\x86', 'actor': 'Joanna Rusch'}],\n",
       " [{'reaction': 'ð\\x9f\\x98®', 'actor': 'Chad Larson'}],\n",
       " nan,\n",
       " [{'reaction': 'ð\\x9f\\x91\\x8d', 'actor': 'Scott Pence'}],\n",
       " nan,\n",
       " nan,\n",
       " [{'reaction': 'ð\\x9f\\x98\\x86', 'actor': 'Chad Larson'},\n",
       "  {'reaction': 'ð\\x9f\\x98\\x86', 'actor': 'Joanna Rusch'}],\n",
       " nan,\n",
       " nan,\n",
       " nan,\n",
       " [{'reaction': 'ð\\x9f\\x98\\x86', 'actor': 'Chad Larson'}],\n",
       " nan,\n",
       " [{'reaction': 'ð\\x9f\\x98\\x86', 'actor': 'Scott Pence'}],\n",
       " [{'reaction': 'ð\\x9f\\x98\\x86', 'actor': 'Scott Pence'}],\n",
       " nan,\n",
       " [{'reaction': 'ð\\x9f\\x98\\x86', 'actor': 'Chad Larson'}],\n",
       " nan,\n",
       " [{'reaction': 'ð\\x9f\\x98\\x86', 'actor': 'Chad Larson'}],\n",
       " nan,\n",
       " nan,\n",
       " nan]"
      ]
     },
     "execution_count": 16,
     "metadata": {},
     "output_type": "execute_result"
    }
   ],
   "source": [
    "list(chessDf['reactions'])"
   ]
  },
  {
   "cell_type": "code",
   "execution_count": 17,
   "id": "914e9dd1-94de-45dc-911d-1e58a47ae720",
   "metadata": {},
   "outputs": [
    {
     "data": {
      "text/plain": [
       "'ð\\x9f\\x91\\x8d'"
      ]
     },
     "execution_count": 17,
     "metadata": {},
     "output_type": "execute_result"
    }
   ],
   "source": [
    "chessDf['reactions'].iloc[0][0]['reaction']"
   ]
  },
  {
   "cell_type": "markdown",
   "id": "83779ba9-c645-415b-971f-915f1b97c8d6",
   "metadata": {},
   "source": [
    "The code above is me trying to figure out which part of the reactions data I want to actually display in the collumn. I used .iloc to continue t odig into the reactions data until I found the actual reaction from the sender_name. I continued to check until the type switched from a list to a dict, because then I knew I would no longer be looking at a list of data, which would not fit/be tidy within a single collumn. This was the data that I wanted to replace the exsisting \"reactions\" collumn with. "
   ]
  },
  {
   "cell_type": "code",
   "execution_count": 18,
   "id": "3e279dd5-9a38-4e58-80df-a03fd0937f77",
   "metadata": {},
   "outputs": [],
   "source": [
    "chessDf['reactions'] = chessDf['reactions'].fillna('')"
   ]
  },
  {
   "cell_type": "code",
   "execution_count": 19,
   "id": "ed22e83b-fefe-4b24-a54e-a095fc4222ad",
   "metadata": {},
   "outputs": [],
   "source": [
    "chessDf['share'] = chessDf['share'].fillna('')"
   ]
  },
  {
   "cell_type": "code",
   "execution_count": 20,
   "id": "47df19d7-e894-4e0d-8deb-cbe65599b2ab",
   "metadata": {},
   "outputs": [],
   "source": [
    "chessDf['photos'] = chessDf['photos'].fillna('')"
   ]
  },
  {
   "cell_type": "code",
   "execution_count": 21,
   "id": "06b4d07f-488d-47c2-b861-e50e51e9a4d3",
   "metadata": {},
   "outputs": [],
   "source": [
    "chessDf['gifs'] = chessDf['gifs'].fillna('')"
   ]
  },
  {
   "cell_type": "code",
   "execution_count": 22,
   "id": "0f3eff3f-aa92-4f72-80b4-f8b187d3462c",
   "metadata": {},
   "outputs": [],
   "source": [
    "chessDf['users'] = chessDf['users'].fillna('')"
   ]
  },
  {
   "cell_type": "markdown",
   "id": "0caa035a-c648-4e5a-bb40-70e3e6817e88",
   "metadata": {},
   "source": [
    "The code from above was written by me while I was trying to figure out what to do about the \"reactions\" collumn. It replaces all of the na entries with a blank '' space. This is to ensure that the code meets tidy requirments. I found .fillna on the internet, and it was very helpful. "
   ]
  },
  {
   "cell_type": "code",
   "execution_count": 23,
   "id": "10947b4a-1b9f-4658-9c01-e580862943e0",
   "metadata": {},
   "outputs": [],
   "source": [
    "chessDf['reactions'] = [[y['reaction'] for y in x] for x in chessDf['reactions']]"
   ]
  },
  {
   "cell_type": "markdown",
   "id": "40c1855d-6301-429e-90b7-ee980371f709",
   "metadata": {},
   "source": [
    "As I explained in my email, here is where I ran into trouble. I spent a while studying the code from the spotify in-class example and my notes from Thursday, then I began to write the code. Initally, I was having trouble defining the exact perimiters of what I wanted, but I was able to narrow it down to here. I cannot manage to get past this error, and I am not sure what exatly this means. I know what I want to do to fix this data and make it tidy, but I can't get past this step. I hope at least my intentions with the code are clear enough to get my point across. "
   ]
  },
  {
   "cell_type": "code",
   "execution_count": 24,
   "id": "505cbbe6-32e7-4817-a7b3-f3a00d6cee2d",
   "metadata": {},
   "outputs": [
    {
     "data": {
      "text/html": [
       "<div>\n",
       "<style scoped>\n",
       "    .dataframe tbody tr th:only-of-type {\n",
       "        vertical-align: middle;\n",
       "    }\n",
       "\n",
       "    .dataframe tbody tr th {\n",
       "        vertical-align: top;\n",
       "    }\n",
       "\n",
       "    .dataframe thead th {\n",
       "        text-align: right;\n",
       "    }\n",
       "</style>\n",
       "<table border=\"1\" class=\"dataframe\">\n",
       "  <thead>\n",
       "    <tr style=\"text-align: right;\">\n",
       "      <th></th>\n",
       "      <th>sender_name</th>\n",
       "      <th>timestamp_ms</th>\n",
       "      <th>content</th>\n",
       "      <th>reactions</th>\n",
       "      <th>type</th>\n",
       "      <th>is_unsent</th>\n",
       "      <th>is_taken_down</th>\n",
       "      <th>bumped_message_metadata</th>\n",
       "      <th>share</th>\n",
       "      <th>photos</th>\n",
       "      <th>gifs</th>\n",
       "      <th>users</th>\n",
       "    </tr>\n",
       "  </thead>\n",
       "  <tbody>\n",
       "    <tr>\n",
       "      <th>0</th>\n",
       "      <td>Joanna Rusch</td>\n",
       "      <td>1666374933946</td>\n",
       "      <td>Maybe he just wants to ride the publicity for ...</td>\n",
       "      <td>[ð, ð]</td>\n",
       "      <td>Generic</td>\n",
       "      <td>False</td>\n",
       "      <td>False</td>\n",
       "      <td>{'bumped_message': 'Maybe he just wants to rid...</td>\n",
       "      <td></td>\n",
       "      <td></td>\n",
       "      <td></td>\n",
       "      <td></td>\n",
       "    </tr>\n",
       "    <tr>\n",
       "      <th>1</th>\n",
       "      <td>Chad Larson</td>\n",
       "      <td>1666373448613</td>\n",
       "      <td>To be fair to Hans....no one wants to be assoc...</td>\n",
       "      <td>[ð, ð]</td>\n",
       "      <td>Generic</td>\n",
       "      <td>False</td>\n",
       "      <td>False</td>\n",
       "      <td>{'bumped_message': 'To be fair to Hans....no o...</td>\n",
       "      <td></td>\n",
       "      <td></td>\n",
       "      <td></td>\n",
       "      <td></td>\n",
       "    </tr>\n",
       "    <tr>\n",
       "      <th>2</th>\n",
       "      <td>Chad Larson</td>\n",
       "      <td>1666373216381</td>\n",
       "      <td>He would have to prove he didn't cheat and tha...</td>\n",
       "      <td>[ð, ð]</td>\n",
       "      <td>Generic</td>\n",
       "      <td>False</td>\n",
       "      <td>False</td>\n",
       "      <td>{'bumped_message': 'He would have to prove he ...</td>\n",
       "      <td></td>\n",
       "      <td></td>\n",
       "      <td></td>\n",
       "      <td></td>\n",
       "    </tr>\n",
       "    <tr>\n",
       "      <th>3</th>\n",
       "      <td>Scott Pence</td>\n",
       "      <td>1666373164883</td>\n",
       "      <td>Yeah, no way. You over shoot and hope to get a...</td>\n",
       "      <td>[ð, ð]</td>\n",
       "      <td>Generic</td>\n",
       "      <td>False</td>\n",
       "      <td>False</td>\n",
       "      <td>{'bumped_message': 'Yeah, no way. You over sho...</td>\n",
       "      <td></td>\n",
       "      <td></td>\n",
       "      <td></td>\n",
       "      <td></td>\n",
       "    </tr>\n",
       "    <tr>\n",
       "      <th>4</th>\n",
       "      <td>Chad Larson</td>\n",
       "      <td>1666373111157</td>\n",
       "      <td>From what I see, I don't think he could win.  ...</td>\n",
       "      <td>[]</td>\n",
       "      <td>Generic</td>\n",
       "      <td>False</td>\n",
       "      <td>False</td>\n",
       "      <td>{'bumped_message': 'From what I see, I don't t...</td>\n",
       "      <td></td>\n",
       "      <td></td>\n",
       "      <td></td>\n",
       "      <td></td>\n",
       "    </tr>\n",
       "  </tbody>\n",
       "</table>\n",
       "</div>"
      ],
      "text/plain": [
       "    sender_name   timestamp_ms  \\\n",
       "0  Joanna Rusch  1666374933946   \n",
       "1   Chad Larson  1666373448613   \n",
       "2   Chad Larson  1666373216381   \n",
       "3   Scott Pence  1666373164883   \n",
       "4   Chad Larson  1666373111157   \n",
       "\n",
       "                                             content     reactions     type  \\\n",
       "0  Maybe he just wants to ride the publicity for ...  [ð, ð]  Generic   \n",
       "1  To be fair to Hans....no one wants to be assoc...  [ð, ð]  Generic   \n",
       "2  He would have to prove he didn't cheat and tha...  [ð, ð]  Generic   \n",
       "3  Yeah, no way. You over shoot and hope to get a...  [ð, ð]  Generic   \n",
       "4  From what I see, I don't think he could win.  ...            []  Generic   \n",
       "\n",
       "   is_unsent  is_taken_down  \\\n",
       "0      False          False   \n",
       "1      False          False   \n",
       "2      False          False   \n",
       "3      False          False   \n",
       "4      False          False   \n",
       "\n",
       "                             bumped_message_metadata share photos gifs users  \n",
       "0  {'bumped_message': 'Maybe he just wants to rid...                          \n",
       "1  {'bumped_message': 'To be fair to Hans....no o...                          \n",
       "2  {'bumped_message': 'He would have to prove he ...                          \n",
       "3  {'bumped_message': 'Yeah, no way. You over sho...                          \n",
       "4  {'bumped_message': 'From what I see, I don't t...                          "
      ]
     },
     "execution_count": 24,
     "metadata": {},
     "output_type": "execute_result"
    }
   ],
   "source": [
    "chessDf.head()"
   ]
  },
  {
   "cell_type": "markdown",
   "id": "6b01b0b2-e552-4d07-979a-4898abf4818a",
   "metadata": {},
   "source": [
    "Question 1: I have set the row-level to respresent a single message, while each column represents a single variable or attribute about the message. For example, the row labeled \"0\" is representative of a single message, and each following item in every column corresponds to the title of that column. Going from right to left: sender_name represents the name of the message sender. timestamp_ms respresents the timestamp that the message was sent. content is the actual message sent. reactions is any emojis or responses given to a message. type is the form of the message. is_taken_down checks if the message has been taken down. bumped_message_metadata is any metadata pertaing to the message. The following 3, share, photos, and gifs are all attachments that could be made to a message that was sent. "
   ]
  },
  {
   "cell_type": "markdown",
   "id": "1484d9e2-4756-4dbb-b833-9240f97475ea",
   "metadata": {},
   "source": [
    "Question 2: My data frame meets the three core requirments of being tidy data, although it is not exactly perfect. Each variable forms a column, each observation (in this case, a message), and only one observational unit is being tracked in this table. All 3 core requirments listed in the readings are being met, and some additional ones are as well. For example all slots that were originally Nan have been filled, even if only with blank \" \", as this is also a trait of tidy data. There are not, as far as I can tell, multiple variables stored in a single column nor are there variables stored in both columns and rows. There are some things that I would like to do to the code that would make it more easily understood/legible. These fall outside of the requirments for tidy data, but they would certainly help in many ways. For one, I would consider giving more accurate/understandable names to come of the categories, such as users or type, as they aren't easy to understand on first glance. Secondly, I would maybe consider cutting down on or removing some of the things measured by this data, as it isn't all as relevant as it may seem. Overall, if we had to use the rating system we used in class (Good, Bad, Ugly), I would give this data an \"ugly\", but with a few tweaks it could push over into good."
   ]
  },
  {
   "cell_type": "markdown",
   "id": "e2caebcd-a45a-4a59-b6d3-3540830ac25a",
   "metadata": {},
   "source": [
    "Question 3: There are many things I would consider for a visualization that would let someone explore and understand with their data to grow a better understanding of it. One of the things I would do would be to a timeline or line graph to explore the messages sent over time based on the timestamp_ms variable. This would orginize each message by the time that it was sent and would help users follow the conversation better and see how some variables, like reactions, increased over time. In this line graph, most data would be left out, as I don't think that much of it is needed. The goal of my visualization would be to the frequency of messages over time, as opposed to the content or reaction to the messages. This is because I belive it is easier to understand numbers or data information from visualizations than it is to understand or consume content. In this situation, the x-axis would be time, and the y-axsis would be number of messages sent. Another thing I would consider would be mapping the share, photo, user, and gif variables to a hamburger menu or some other drop-down solution, as many if not most of the messages do not have any data in these variables, meaning they are taking up much needed space. This is only possible if the data is interactive, which isn't guarenteed, but if it is, then this would be a good call. I think there are a lot of ways you could manipulate the data visualization to show many different messages."
   ]
  },
  {
   "cell_type": "code",
   "execution_count": null,
   "id": "f58bb47c-9c5f-4d02-9726-68194a7397a5",
   "metadata": {},
   "outputs": [],
   "source": []
  }
 ],
 "metadata": {
  "kernelspec": {
   "display_name": "Python 3 (ipykernel)",
   "language": "python",
   "name": "python3"
  },
  "language_info": {
   "codemirror_mode": {
    "name": "ipython",
    "version": 3
   },
   "file_extension": ".py",
   "mimetype": "text/x-python",
   "name": "python",
   "nbconvert_exporter": "python",
   "pygments_lexer": "ipython3",
   "version": "3.12.8"
  }
 },
 "nbformat": 4,
 "nbformat_minor": 5
}
