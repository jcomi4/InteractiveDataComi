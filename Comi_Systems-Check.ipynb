{
 "cells": [
  {
   "cell_type": "markdown",
   "id": "a186f715-8e82-41e1-9ccb-676912d40c5c",
   "metadata": {},
   "source": [
    "# System Checks\n",
    "## John Comi\n",
    "**There are many things I am looking to get out of this class.** I want to further my coding experience, *of course!*. That's my *primary* reason to be here. There are some others, though:\n",
    "***\n",
    "1. Work on a project or assignment I could host on my **website** or **portfolio**\n",
    "2. Learn how to *analyze* and *understand* data in new ways that will lead to unqiue **solutions** and **ideas**\n",
    "3. Gain experience in **graduate** courses as I end out my undergraduate program\n",
    "4. Personally, make some *new* friends or connections in the **grad** program, as most all my friends are in the **undergrad** program!\n",
    "***\n",
    "I am very excited for this course!\n",
    "![Image](https://banner2.cleanpng.com/20180326/voq/avjf54o0o.webp)"
   ]
  },
  {
   "cell_type": "code",
   "execution_count": 1,
   "id": "387ab37e-017c-4e15-95e0-d2845903ed08",
   "metadata": {},
   "outputs": [],
   "source": [
    "y = [1000,2000,3000]"
   ]
  },
  {
   "cell_type": "code",
   "execution_count": 7,
   "id": "9e04586b-a6d1-4d10-94fa-f091384ae111",
   "metadata": {},
   "outputs": [],
   "source": [
    "def first_function():\n",
    "    print('the year is')\n",
    "    return (20)"
   ]
  },
  {
   "cell_type": "code",
   "execution_count": 3,
   "id": "2aa12fc8-8467-4f52-b8a8-214a20cb4b1c",
   "metadata": {},
   "outputs": [
    {
     "name": "stdout",
     "output_type": "stream",
     "text": [
      "1\n",
      "2\n",
      "3\n",
      "4\n",
      "5\n"
     ]
    }
   ],
   "source": [
    "for i in [1,2,3,4,5]:\n",
    "    print(i)"
   ]
  },
  {
   "cell_type": "code",
   "execution_count": 9,
   "id": "b525eedb-9dd6-454a-803d-d3a5c294c0e5",
   "metadata": {},
   "outputs": [
    {
     "name": "stdout",
     "output_type": "stream",
     "text": [
      "the year is\n"
     ]
    },
    {
     "data": {
      "text/plain": [
       "2025"
      ]
     },
     "execution_count": 9,
     "metadata": {},
     "output_type": "execute_result"
    }
   ],
   "source": [
    "first_function() + y[1] + i"
   ]
  }
 ],
 "metadata": {
  "kernelspec": {
   "display_name": "Python 3 (ipykernel)",
   "language": "python",
   "name": "python3"
  },
  "language_info": {
   "codemirror_mode": {
    "name": "ipython",
    "version": 3
   },
   "file_extension": ".py",
   "mimetype": "text/x-python",
   "name": "python",
   "nbconvert_exporter": "python",
   "pygments_lexer": "ipython3",
   "version": "3.12.8"
  }
 },
 "nbformat": 4,
 "nbformat_minor": 5
}
