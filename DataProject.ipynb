{
 "cells": [
  {
   "cell_type": "markdown",
   "id": "1972b540-4b1d-4dee-9360-c708a8f2e1a3",
   "metadata": {},
   "source": [
    "- Notes and such -\n",
    "terminal code to acsess USB drive - jupyter notebook --notebook-dir \"D:\\\""
   ]
  },
  {
   "cell_type": "code",
   "execution_count": 314,
   "id": "9903bfca-deb5-445d-8702-fe49bd7edebb",
   "metadata": {},
   "outputs": [],
   "source": [
    "import pandas as pd\n",
    "import matplotlib.pyplot as plt"
   ]
  },
  {
   "cell_type": "code",
   "execution_count": 181,
   "id": "74aa19fb-3afd-4416-ae5f-c645446d091a",
   "metadata": {
    "collapsed": true,
    "jupyter": {
     "outputs_hidden": true,
     "source_hidden": true
    }
   },
   "outputs": [
    {
     "data": {
      "text/plain": [
       "Index(['Date', 'Open', 'High', 'Low', 'Close', 'Volume'], dtype='object')"
      ]
     },
     "execution_count": 181,
     "metadata": {},
     "output_type": "execute_result"
    }
   ],
   "source": [
    "stock_years = [\n",
    "    \"D:/Int_Data_Final_Project/Datasets/StockData/WBD_2021.csv\",\n",
    "    \"D:/Int_Data_Final_Project/Datasets/StockData/WBD_2022.csv\",\n",
    "    \"D:/Int_Data_Final_Project/Datasets/StockData/WBD_2023.csv\",\n",
    "    \"D:/Int_Data_Final_Project/Datasets/StockData/WBD_2024.csv\",\n",
    "    \"D:/Int_Data_Final_Project/Datasets/StockData/WBD_2025.csv\"\n",
    "]\n",
    "\n",
    "WBStockFull = pd.concat([pd.read_csv(file) for file in stock_years])\n",
    "WBStockFull.columns"
   ]
  },
  {
   "cell_type": "code",
   "execution_count": 183,
   "id": "f38c9cb8",
   "metadata": {
    "collapsed": true,
    "jupyter": {
     "outputs_hidden": true,
     "source_hidden": true
    }
   },
   "outputs": [
    {
     "data": {
      "text/plain": [
       "Index(['id', 'text', 'tweet_url', 'language', 'type', 'author_name',\n",
       "       'author_username', 'view_count', 'bookmark_count', 'favorite_count',\n",
       "       'retweet_count', 'reply_count', 'quote_count', 'created_at', 'source',\n",
       "       'hashtags', 'urls', 'media_type', 'media_urls'],\n",
       "      dtype='object')"
      ]
     },
     "execution_count": 183,
     "metadata": {},
     "output_type": "execute_result"
    }
   ],
   "source": [
    "mainwb = \"D:/Int_Data_Final_Project/Datasets/TwitterAccountData/TwExport_warnerbros_Posts.csv\"\n",
    "WB_MainDB = pd.read_csv(mainwb)\n",
    "WB_MainDB.columns"
   ]
  },
  {
   "cell_type": "code",
   "execution_count": 185,
   "id": "23749021-60f5-4456-9024-ec0218775b95",
   "metadata": {
    "collapsed": true,
    "jupyter": {
     "outputs_hidden": true,
     "source_hidden": true
    }
   },
   "outputs": [
    {
     "data": {
      "text/plain": [
       "Index(['id', 'text', 'tweet_url', 'language', 'type', 'author_name',\n",
       "       'author_username', 'view_count', 'bookmark_count', 'favorite_count',\n",
       "       'retweet_count', 'reply_count', 'quote_count', 'created_at', 'source',\n",
       "       'hashtags', 'urls', 'media_type', 'media_urls'],\n",
       "      dtype='object')"
      ]
     },
     "execution_count": 185,
     "metadata": {},
     "output_type": "execute_result"
    }
   ],
   "source": [
    "barbie = \"D:/Int_Data_Final_Project/Datasets/TwitterAccountData/TwExport_barbiethemovie_Posts.csv\"\n",
    "BarbieDB = pd.read_csv(barbie)\n",
    "BarbieDB.columns"
   ]
  },
  {
   "cell_type": "code",
   "execution_count": 187,
   "id": "7dcded0c-1b0b-45d9-88fd-228c26de8afd",
   "metadata": {
    "collapsed": true,
    "jupyter": {
     "outputs_hidden": true,
     "source_hidden": true
    }
   },
   "outputs": [
    {
     "data": {
      "text/plain": [
       "Index(['id', 'text', 'tweet_url', 'language', 'type', 'author_name',\n",
       "       'author_username', 'view_count', 'bookmark_count', 'favorite_count',\n",
       "       'retweet_count', 'reply_count', 'quote_count', 'created_at', 'source',\n",
       "       'hashtags', 'urls', 'media_type', 'media_urls'],\n",
       "      dtype='object')"
      ]
     },
     "execution_count": 187,
     "metadata": {},
     "output_type": "execute_result"
    }
   ],
   "source": [
    "beetlejuice = \"D:/Int_Data_Final_Project/Datasets/TwitterAccountData/TwExport_Beetlejuice_Posts.csv\"\n",
    "BeetleJuiceDB = pd.read_csv(beetlejuice)\n",
    "BeetleJuiceDB.columns"
   ]
  },
  {
   "cell_type": "code",
   "execution_count": 188,
   "id": "52e22690-97c5-422a-9a4f-30b2fda8e774",
   "metadata": {
    "collapsed": true,
    "jupyter": {
     "outputs_hidden": true,
     "source_hidden": true
    },
    "scrolled": true
   },
   "outputs": [
    {
     "data": {
      "text/plain": [
       "Index(['id', 'text', 'tweet_url', 'language', 'type', 'author_name',\n",
       "       'author_username', 'view_count', 'bookmark_count', 'favorite_count',\n",
       "       'retweet_count', 'reply_count', 'quote_count', 'created_at', 'source',\n",
       "       'hashtags', 'urls', 'media_type', 'media_urls'],\n",
       "      dtype='object')"
      ]
     },
     "execution_count": 188,
     "metadata": {},
     "output_type": "execute_result"
    }
   ],
   "source": [
    "blackadam = \"D:/Int_Data_Final_Project/Datasets/TwitterAccountData/TwExport_blackadammovie_Posts.csv\"\n",
    "BlackAdamDB = pd.read_csv(blackadam)\n",
    "BlackAdamDB.columns"
   ]
  },
  {
   "cell_type": "code",
   "execution_count": 190,
   "id": "8169dc22-1bc8-4832-9c9f-8e214736993f",
   "metadata": {
    "collapsed": true,
    "jupyter": {
     "outputs_hidden": true,
     "source_hidden": true
    }
   },
   "outputs": [
    {
     "data": {
      "text/plain": [
       "Index(['id', 'text', 'tweet_url', 'language', 'type', 'author_name',\n",
       "       'author_username', 'view_count', 'bookmark_count', 'favorite_count',\n",
       "       'retweet_count', 'reply_count', 'quote_count', 'created_at', 'source',\n",
       "       'hashtags', 'urls', 'media_type', 'media_urls'],\n",
       "      dtype='object')"
      ]
     },
     "execution_count": 190,
     "metadata": {},
     "output_type": "execute_result"
    }
   ],
   "source": [
    "bluebeetle = \"D:/Int_Data_Final_Project/Datasets/TwitterAccountData/TwExport_bluebeetle_Posts.csv\"\n",
    "BlueBeetleDB = pd.read_csv(bluebeetle)\n",
    "BlueBeetleDB.columns"
   ]
  },
  {
   "cell_type": "code",
   "execution_count": 191,
   "id": "e4132251-0a94-4061-a802-4879fc67ddb1",
   "metadata": {
    "collapsed": true,
    "jupyter": {
     "outputs_hidden": true,
     "source_hidden": true
    }
   },
   "outputs": [
    {
     "data": {
      "text/plain": [
       "Index(['id', 'text', 'tweet_url', 'language', 'type', 'author_name',\n",
       "       'author_username', 'view_count', 'bookmark_count', 'favorite_count',\n",
       "       'retweet_count', 'reply_count', 'quote_count', 'created_at', 'source',\n",
       "       'hashtags', 'urls', 'media_type', 'media_urls'],\n",
       "      dtype='object')"
      ]
     },
     "execution_count": 191,
     "metadata": {},
     "output_type": "execute_result"
    }
   ],
   "source": [
    "dune = \"D:/Int_Data_Final_Project/Datasets/TwitterAccountData/TwExport_dunemovie_Posts.csv\"\n",
    "DuneDB = pd.read_csv(dune)\n",
    "DuneDB.columns"
   ]
  },
  {
   "cell_type": "code",
   "execution_count": 192,
   "id": "9c1f4e8d-e6ec-4049-a7f7-e9fb5dcc3a4b",
   "metadata": {
    "collapsed": true,
    "jupyter": {
     "outputs_hidden": true,
     "source_hidden": true
    },
    "scrolled": true
   },
   "outputs": [
    {
     "data": {
      "text/plain": [
       "Index(['id', 'text', 'tweet_url', 'language', 'type', 'author_name',\n",
       "       'author_username', 'view_count', 'bookmark_count', 'favorite_count',\n",
       "       'retweet_count', 'reply_count', 'quote_count', 'created_at', 'source',\n",
       "       'hashtags', 'urls', 'media_type', 'media_urls'],\n",
       "      dtype='object')"
      ]
     },
     "execution_count": 192,
     "metadata": {},
     "output_type": "execute_result"
    }
   ],
   "source": [
    "elvis = \"D:/Int_Data_Final_Project/Datasets/TwitterAccountData/TwExport_ElvisMovie_Posts.csv\"\n",
    "ElvisDB = pd.read_csv(elvis)\n",
    "ElvisDB.columns"
   ]
  },
  {
   "cell_type": "code",
   "execution_count": 194,
   "id": "75b4189d-e493-4bdb-b916-46af5b5c0af3",
   "metadata": {
    "collapsed": true,
    "jupyter": {
     "outputs_hidden": true,
     "source_hidden": true
    }
   },
   "outputs": [
    {
     "data": {
      "text/plain": [
       "Index(['id', 'text', 'tweet_url', 'language', 'type', 'author_name',\n",
       "       'author_username', 'view_count', 'bookmark_count', 'favorite_count',\n",
       "       'retweet_count', 'reply_count', 'quote_count', 'created_at', 'source',\n",
       "       'hashtags', 'urls', 'media_type', 'media_urls'],\n",
       "      dtype='object')"
      ]
     },
     "execution_count": 194,
     "metadata": {},
     "output_type": "execute_result"
    }
   ],
   "source": [
    "f1 = \"D:/Int_Data_Final_Project/Datasets/TwitterAccountData/TwExport_F1Movie_Posts.csv\"\n",
    "F1DB = pd.read_csv(f1)\n",
    "F1DB.columns"
   ]
  },
  {
   "cell_type": "code",
   "execution_count": 196,
   "id": "b5178811-6d64-4106-a905-30ad4d0a479d",
   "metadata": {
    "collapsed": true,
    "jupyter": {
     "outputs_hidden": true,
     "source_hidden": true
    },
    "scrolled": true
   },
   "outputs": [
    {
     "data": {
      "text/plain": [
       "Index(['id', 'text', 'tweet_url', 'language', 'type', 'author_name',\n",
       "       'author_username', 'view_count', 'bookmark_count', 'favorite_count',\n",
       "       'retweet_count', 'reply_count', 'quote_count', 'created_at', 'source',\n",
       "       'hashtags', 'urls', 'media_type', 'media_urls'],\n",
       "      dtype='object')"
      ]
     },
     "execution_count": 196,
     "metadata": {},
     "output_type": "execute_result"
    }
   ],
   "source": [
    "fantasticbeasts = \"D:/Int_Data_Final_Project/Datasets/TwitterAccountData/TwExport_FantasticBeasts_Posts.csv\"\n",
    "BeastsDB = pd.read_csv(fantasticbeasts)\n",
    "BeastsDB.columns"
   ]
  },
  {
   "cell_type": "code",
   "execution_count": 197,
   "id": "e4c45dd2",
   "metadata": {
    "collapsed": true,
    "jupyter": {
     "outputs_hidden": true,
     "source_hidden": true
    },
    "scrolled": true
   },
   "outputs": [
    {
     "data": {
      "text/plain": [
       "Index(['id', 'text', 'tweet_url', 'language', 'type', 'author_name',\n",
       "       'author_username', 'view_count', 'bookmark_count', 'favorite_count',\n",
       "       'retweet_count', 'reply_count', 'quote_count', 'created_at', 'source',\n",
       "       'hashtags', 'urls', 'media_type', 'media_urls'],\n",
       "      dtype='object')"
      ]
     },
     "execution_count": 197,
     "metadata": {},
     "output_type": "execute_result"
    }
   ],
   "source": [
    "gxk = \"D:/Int_Data_Final_Project/Datasets/TwitterAccountData/TwExport_GodzillaXKong_Posts.csv\"\n",
    "GxKDB = pd.read_csv(gxk)\n",
    "GxKDB.columns"
   ]
  },
  {
   "cell_type": "code",
   "execution_count": 199,
   "id": "9480579d",
   "metadata": {
    "collapsed": true,
    "jupyter": {
     "outputs_hidden": true,
     "source_hidden": true
    },
    "scrolled": true
   },
   "outputs": [
    {
     "data": {
      "text/plain": [
       "Index(['id', 'text', 'tweet_url', 'language', 'type', 'author_name',\n",
       "       'author_username', 'view_count', 'bookmark_count', 'favorite_count',\n",
       "       'retweet_count', 'reply_count', 'quote_count', 'created_at', 'source',\n",
       "       'hashtags', 'urls', 'media_type', 'media_urls'],\n",
       "      dtype='object')"
      ]
     },
     "execution_count": 199,
     "metadata": {},
     "output_type": "execute_result"
    }
   ],
   "source": [
    "dragon = \"D:/Int_Data_Final_Project/Datasets/TwitterAccountData/TwExport_HTTYDragon_Posts.csv\"\n",
    "HTTYDDB = pd.read_csv(dragon)\n",
    "HTTYDDB.columns"
   ]
  },
  {
   "cell_type": "code",
   "execution_count": 201,
   "id": "ccf0d46c",
   "metadata": {
    "collapsed": true,
    "jupyter": {
     "outputs_hidden": true,
     "source_hidden": true
    }
   },
   "outputs": [
    {
     "data": {
      "text/plain": [
       "Index(['id', 'text', 'tweet_url', 'language', 'type', 'author_name',\n",
       "       'author_username', 'view_count', 'bookmark_count', 'favorite_count',\n",
       "       'retweet_count', 'reply_count', 'quote_count', 'created_at', 'source',\n",
       "       'hashtags', 'urls', 'media_type', 'media_urls'],\n",
       "      dtype='object')"
      ]
     },
     "execution_count": 201,
     "metadata": {},
     "output_type": "execute_result"
    }
   ],
   "source": [
    "joker = \"D:/Int_Data_Final_Project/Datasets/TwitterAccountData/TwExport_jokermovie_Posts.csv\"\n",
    "JokerDB = pd.read_csv(joker)\n",
    "JokerDB.columns"
   ]
  },
  {
   "cell_type": "code",
   "execution_count": 203,
   "id": "99aa86a8",
   "metadata": {
    "collapsed": true,
    "jupyter": {
     "outputs_hidden": true,
     "source_hidden": true
    }
   },
   "outputs": [
    {
     "data": {
      "text/plain": [
       "Index(['id', 'text', 'tweet_url', 'language', 'type', 'author_name',\n",
       "       'author_username', 'view_count', 'bookmark_count', 'favorite_count',\n",
       "       'retweet_count', 'reply_count', 'quote_count', 'created_at', 'source',\n",
       "       'hashtags', 'urls', 'media_type', 'media_urls'],\n",
       "      dtype='object')"
      ]
     },
     "execution_count": 203,
     "metadata": {},
     "output_type": "execute_result"
    }
   ],
   "source": [
    "shazam = \"D:/Int_Data_Final_Project/Datasets/TwitterAccountData/TwExport_ShazamMovie_Posts.csv\"\n",
    "ShazamDB = pd.read_csv(shazam)\n",
    "ShazamDB.columns"
   ]
  },
  {
   "cell_type": "code",
   "execution_count": 205,
   "id": "c46274cf-7e21-4f40-92d7-ae0e062b362e",
   "metadata": {
    "collapsed": true,
    "jupyter": {
     "outputs_hidden": true,
     "source_hidden": true
    }
   },
   "outputs": [
    {
     "data": {
      "text/plain": [
       "Index(['id', 'text', 'tweet_url', 'language', 'type', 'author_name',\n",
       "       'author_username', 'view_count', 'bookmark_count', 'favorite_count',\n",
       "       'retweet_count', 'reply_count', 'quote_count', 'created_at', 'source',\n",
       "       'hashtags', 'urls', 'media_type', 'media_urls'],\n",
       "      dtype='object')"
      ]
     },
     "execution_count": 205,
     "metadata": {},
     "output_type": "execute_result"
    }
   ],
   "source": [
    "superman = \"D:/Int_Data_Final_Project/Datasets/TwitterAccountData/TwExport_Superman_Posts.csv\"\n",
    "SupermanDB = pd.read_csv(superman)\n",
    "SupermanDB.columns"
   ]
  },
  {
   "cell_type": "code",
   "execution_count": 206,
   "id": "98a0a025",
   "metadata": {
    "collapsed": true,
    "jupyter": {
     "outputs_hidden": true,
     "source_hidden": true
    }
   },
   "outputs": [
    {
     "data": {
      "text/plain": [
       "Index(['id', 'text', 'tweet_url', 'language', 'type', 'author_name',\n",
       "       'author_username', 'view_count', 'bookmark_count', 'favorite_count',\n",
       "       'retweet_count', 'reply_count', 'quote_count', 'created_at', 'source',\n",
       "       'hashtags', 'urls', 'media_type', 'media_urls'],\n",
       "      dtype='object')"
      ]
     },
     "execution_count": 206,
     "metadata": {},
     "output_type": "execute_result"
    }
   ],
   "source": [
    "batman = \"D:/Int_Data_Final_Project/Datasets/TwitterAccountData/TwExport_TheBatman_Posts.csv\"\n",
    "BatmanDB = pd.read_csv(batman)\n",
    "BatmanDB.columns"
   ]
  },
  {
   "cell_type": "code",
   "execution_count": 209,
   "id": "8a6008e4",
   "metadata": {
    "collapsed": true,
    "jupyter": {
     "outputs_hidden": true,
     "source_hidden": true
    }
   },
   "outputs": [
    {
     "data": {
      "text/plain": [
       "Index(['id', 'text', 'tweet_url', 'language', 'type', 'author_name',\n",
       "       'author_username', 'view_count', 'bookmark_count', 'favorite_count',\n",
       "       'retweet_count', 'reply_count', 'quote_count', 'created_at', 'source',\n",
       "       'hashtags', 'urls', 'media_type', 'media_urls'],\n",
       "      dtype='object')"
      ]
     },
     "execution_count": 209,
     "metadata": {},
     "output_type": "execute_result"
    }
   ],
   "source": [
    "conjuring = \"D:/Int_Data_Final_Project/Datasets/TwitterAccountData/TwExport_TheConjuring_Posts.csv\"\n",
    "ConjuringDB = pd.read_csv(conjuring)\n",
    "ConjuringDB.columns"
   ]
  },
  {
   "cell_type": "code",
   "execution_count": 210,
   "id": "7312dbd0",
   "metadata": {
    "collapsed": true,
    "jupyter": {
     "outputs_hidden": true,
     "source_hidden": true
    }
   },
   "outputs": [
    {
     "data": {
      "text/plain": [
       "Index(['id', 'text', 'tweet_url', 'language', 'type', 'author_name',\n",
       "       'author_username', 'view_count', 'bookmark_count', 'favorite_count',\n",
       "       'retweet_count', 'reply_count', 'quote_count', 'created_at', 'source',\n",
       "       'hashtags', 'urls', 'media_type', 'media_urls'],\n",
       "      dtype='object')"
      ]
     },
     "execution_count": 210,
     "metadata": {},
     "output_type": "execute_result"
    }
   ],
   "source": [
    "wonka = \"D:/Int_Data_Final_Project/Datasets/TwitterAccountData/TwExport_WonkaMovie_Posts.csv\"\n",
    "WonkaDB = pd.read_csv(wonka)\n",
    "WonkaDB.columns"
   ]
  },
  {
   "cell_type": "code",
   "execution_count": 211,
   "id": "d02da12b-1666-49a7-81b6-4a066d994ab0",
   "metadata": {
    "collapsed": true,
    "jupyter": {
     "outputs_hidden": true,
     "source_hidden": true
    },
    "scrolled": true
   },
   "outputs": [
    {
     "name": "stdout",
     "output_type": "stream",
     "text": [
      "          Date   Open\n",
      "0   12/28/2021  21.46\n",
      "1   11/22/2021  22.21\n",
      "2   10/19/2021  21.42\n",
      "3   09/16/2021  22.64\n",
      "4   09/14/2021  22.76\n",
      "5   09/10/2021  22.77\n",
      "6   09/07/2021  23.94\n",
      "7   08/23/2021  24.16\n",
      "8   08/03/2021  24.42\n",
      "9   07/26/2021  24.79\n",
      "10  07/07/2021  25.85\n",
      "11  06/18/2021  24.48\n",
      "12  06/11/2021  24.60\n",
      "13  06/03/2021  25.86\n",
      "14  05/31/2021  27.02\n",
      "15  05/21/2021  26.32\n",
      "16  05/18/2021  27.94\n",
      "17  04/30/2021  31.95\n",
      "18  04/29/2021  31.05\n",
      "19  04/27/2021  32.00\n",
      "20  04/22/2021  32.30\n",
      "21  04/19/2021  30.83\n",
      "22  04/06/2021  35.54\n",
      "23  04/01/2021  36.06\n",
      "24  03/29/2021  36.00\n",
      "25  03/26/2021  45.60\n",
      "26  03/18/2021  61.50\n",
      "27  03/15/2021  60.50\n",
      "28  03/11/2021  55.50\n",
      "29  03/10/2021  54.50\n",
      "30  03/05/2021  54.00\n",
      "31  03/03/2021  50.50\n",
      "32  03/02/2021  48.00\n",
      "33  02/26/2021  42.60\n",
      "34  02/25/2021  43.00\n",
      "35  02/24/2021  43.40\n",
      "36  02/22/2021  41.80\n",
      "37  02/04/2021  34.00\n",
      "38  02/02/2021  33.60\n",
      "39  01/29/2021  35.60\n",
      "40  01/07/2021  28.00\n",
      "0   12/30/2022   8.77\n",
      "1   12/28/2022   8.61\n",
      "2   12/23/2022   8.73\n",
      "3   12/19/2022   9.10\n",
      "4   12/16/2022   9.38\n",
      "5   12/02/2022  11.08\n",
      "6   11/14/2022  11.60\n",
      "7   11/09/2022   9.97\n",
      "8   11/07/2022  10.56\n",
      "9   10/11/2022  12.34\n",
      "10  10/10/2022  12.30\n",
      "11  10/03/2022  12.00\n",
      "12  09/26/2022  12.00\n",
      "13  09/19/2022  13.00\n",
      "14  08/31/2022  13.22\n",
      "15  08/24/2022  13.14\n",
      "16  08/23/2022  12.98\n",
      "17  08/18/2022  12.90\n",
      "18  08/17/2022  13.18\n",
      "19  08/08/2022  13.90\n",
      "20  08/03/2022  16.00\n",
      "21  08/01/2022  14.38\n",
      "22  07/29/2022  15.12\n",
      "23  07/25/2022  14.30\n",
      "24  07/22/2022  14.46\n",
      "25  07/13/2022  13.42\n",
      "26  07/05/2022  13.66\n",
      "27  06/21/2022  13.60\n",
      "28  06/17/2022  13.24\n",
      "29  06/14/2022  13.36\n",
      "30  06/13/2022  13.42\n",
      "31  06/10/2022  14.64\n",
      "32  06/09/2022  15.70\n",
      "33  06/02/2022  16.64\n",
      "34  05/31/2022  16.80\n",
      "35  05/23/2022  16.66\n",
      "36  05/20/2022  16.96\n",
      "37  05/19/2022  16.10\n",
      "38  05/18/2022  17.10\n",
      "39  05/17/2022  16.92\n",
      "40  05/11/2022  16.52\n",
      "41  05/10/2022  16.38\n",
      "42  05/09/2022  16.52\n",
      "43  05/04/2022  18.10\n",
      "44  05/03/2022  18.02\n",
      "45  05/02/2022  17.46\n",
      "46  04/29/2022  17.22\n",
      "47  04/28/2022  18.06\n",
      "48  04/26/2022  19.76\n",
      "49  04/25/2022  18.66\n",
      "50  04/22/2022  19.50\n",
      "51  04/21/2022  20.90\n",
      "52  04/20/2022  21.55\n",
      "53  04/13/2022  22.62\n",
      "54  03/15/2022  21.98\n",
      "55  02/24/2022  23.67\n",
      "56  02/17/2022  25.74\n",
      "57  02/11/2022  26.11\n",
      "58  02/01/2022  24.15\n",
      "59  01/26/2022  23.10\n",
      "60  01/25/2022  23.75\n",
      "61  01/21/2022  23.70\n",
      "62  01/19/2022  26.39\n",
      "63  01/10/2022  27.03\n",
      "0   12/14/2023  10.95\n",
      "1   12/11/2023  10.78\n",
      "2   12/05/2023  10.55\n",
      "3   11/30/2023   9.82\n",
      "4   11/17/2023   9.58\n",
      "5   11/13/2023   9.36\n",
      "6   11/09/2023   9.07\n",
      "7   10/26/2023   9.17\n",
      "8   10/23/2023   9.58\n",
      "9   10/17/2023  10.22\n",
      "10  10/04/2023   9.88\n",
      "11  09/29/2023  10.37\n",
      "12  09/28/2023  10.43\n",
      "13  09/25/2023  10.51\n",
      "14  09/11/2023  10.91\n",
      "15  09/06/2023  10.94\n",
      "16  09/05/2023  11.04\n",
      "17  08/16/2023  12.24\n",
      "18  08/08/2023  13.00\n",
      "19  08/07/2023  12.74\n",
      "20  08/03/2023  11.51\n",
      "21  07/31/2023  11.67\n",
      "22  07/26/2023  11.26\n",
      "23  07/20/2023  11.65\n",
      "24  07/19/2023  11.53\n",
      "25  07/05/2023  11.69\n",
      "26  06/28/2023  11.23\n",
      "27  06/26/2023  10.78\n",
      "28  06/19/2023  11.66\n",
      "29  06/09/2023  12.89\n",
      "30  06/07/2023  11.41\n",
      "31  06/06/2023  10.78\n",
      "32  05/31/2023  10.62\n",
      "33  05/22/2023  11.31\n",
      "34  05/19/2023  11.40\n",
      "35  05/05/2023  11.25\n",
      "36  05/04/2023  11.25\n",
      "37  04/20/2023  12.85\n",
      "38  04/13/2023  12.97\n",
      "39  04/05/2023  13.67\n",
      "40  04/03/2023  13.82\n",
      "41  03/29/2023  13.40\n",
      "42  03/22/2023  13.86\n",
      "43  03/17/2023  13.90\n",
      "44  03/14/2023  13.14\n",
      "45  03/07/2023  14.22\n",
      "46  02/20/2023  14.32\n",
      "47  02/09/2023  13.68\n",
      "48  02/08/2023  14.04\n",
      "49  02/06/2023  14.02\n",
      "50  02/03/2023  14.48\n",
      "51  02/02/2023  14.24\n",
      "52  01/31/2023  13.30\n",
      "0   12/17/2024  11.00\n",
      "1   12/09/2024  10.04\n",
      "2   12/02/2024   9.37\n",
      "3   11/01/2024   7.47\n",
      "4   10/23/2024   6.65\n",
      "5   10/15/2024   7.09\n",
      "6   10/11/2024   6.87\n",
      "7   09/04/2024   6.75\n",
      "8   08/23/2024   6.79\n",
      "9   08/19/2024   6.72\n",
      "10  08/13/2024   6.29\n",
      "11  08/05/2024   7.02\n",
      "12  07/26/2024   7.40\n",
      "13  07/19/2024   7.71\n",
      "14  07/16/2024   7.13\n",
      "15  07/12/2024   6.86\n",
      "16  07/09/2024   6.56\n",
      "17  06/26/2024   6.69\n",
      "18  06/25/2024   7.03\n",
      "19  06/21/2024   6.65\n",
      "20  06/18/2024   6.72\n",
      "21  06/13/2024   7.22\n",
      "22  06/04/2024   7.65\n",
      "23  05/13/2024   7.57\n",
      "24  04/23/2024   7.81\n",
      "25  04/03/2024   7.98\n",
      "26  04/02/2024   8.04\n",
      "27  03/21/2024   8.09\n",
      "28  03/19/2024   7.54\n",
      "29  03/15/2024   7.82\n",
      "30  03/14/2024   7.86\n",
      "31  02/26/2024   8.05\n",
      "32  02/23/2024   8.98\n",
      "33  02/22/2024   8.87\n",
      "34  02/16/2024   9.39\n",
      "35  02/15/2024   9.07\n",
      "36  02/13/2024   8.87\n",
      "37  02/08/2024   9.05\n",
      "38  02/07/2024   9.00\n",
      "39  01/30/2024   9.58\n",
      "40  01/26/2024   9.68\n",
      "41  01/18/2024   9.38\n",
      "42  01/08/2024  10.26\n",
      "43  01/05/2024  10.00\n",
      "0   03/20/2025   9.90\n",
      "1   03/18/2025   9.55\n",
      "2   03/14/2025   9.07\n",
      "3   02/20/2025  10.27\n",
      "4   01/31/2025  10.11\n"
     ]
    }
   ],
   "source": [
    "open_price_by_date = WBStockFull[['Date', 'Open']]\n",
    "pd.set_option('display.max_rows', None)\n",
    "print(open_price_by_date)"
   ]
  },
  {
   "cell_type": "code",
   "execution_count": 316,
   "id": "fcc6fb4a-d8b9-43c3-aa9c-28ad80aeca01",
   "metadata": {
    "collapsed": true,
    "jupyter": {
     "outputs_hidden": true,
     "source_hidden": true
    }
   },
   "outputs": [
    {
     "name": "stdout",
     "output_type": "stream",
     "text": [
      "             created_at  view_count\n",
      "0   2023-03-12 19:46:11       85655\n",
      "1   2023-03-12 19:30:16       71719\n",
      "2   2023-03-12 18:55:41       66023\n",
      "3   2023-03-12 19:03:38       35651\n",
      "4   2023-03-12 18:55:11       35327\n",
      "5   2023-03-12 18:29:22       52372\n",
      "6   2023-03-12 13:00:01       60074\n",
      "7   2023-03-08 17:49:45    17632489\n",
      "8   2023-03-08 13:00:11      107109\n",
      "9   2023-03-06 21:00:26     1766842\n",
      "10  2023-03-06 21:00:41       60212\n",
      "11  2023-03-06 20:00:00       33652\n",
      "12  2023-03-06 19:07:25      313279\n",
      "13  2023-03-06 19:07:38      122820\n",
      "14  2023-03-06 16:50:14       46629\n",
      "15  2023-03-06 16:50:15       28187\n",
      "16  2023-03-06 13:09:50       59552\n",
      "17  2023-03-06 02:09:15       29523\n",
      "18  2023-03-06 01:30:11      815645\n",
      "19  2023-03-05 15:00:35       52514\n",
      "20  2023-03-03 17:00:02       89520\n",
      "21  2023-03-03 17:00:18       19582\n",
      "22  2023-03-03 15:00:02       33853\n",
      "23  2023-03-03 13:00:01       16332\n",
      "24  2023-03-03 13:00:19       18472\n",
      "25  2023-02-28 19:14:18       16947\n",
      "26  2023-02-28 03:29:35       27812\n",
      "27  2023-02-18 14:25:28       13420\n",
      "28  2023-03-02 15:00:03       20128\n",
      "29  2023-03-02 15:00:18       92081\n",
      "30  2023-03-02 13:00:00       38362\n",
      "31  2023-03-02 13:00:17       30185\n",
      "32  2023-03-01 17:20:00       49686\n",
      "33  2023-03-01 18:00:02       27599\n",
      "34  2023-02-28 18:14:37       92713\n",
      "35  2023-02-28 02:21:38       32145\n",
      "36  2023-02-28 16:43:20        5669\n",
      "37  2023-02-27 13:35:07       13421\n",
      "38  2023-02-27 13:51:37       12652\n",
      "39  2023-02-27 17:00:01       12602\n",
      "40  2023-02-28 14:33:21       21686\n",
      "41  2023-02-26 19:58:37        3413\n",
      "42  2023-02-27 13:17:29       29446\n",
      "43  2023-02-25 22:32:01        3777\n",
      "44  2023-02-23 14:32:00       26996\n",
      "45  2023-02-28 01:27:59        3856\n",
      "46  2023-02-27 15:49:31       27082\n",
      "47  2023-02-27 15:49:43       42384\n",
      "48  2023-02-26 23:28:44       22664\n",
      "49  2023-02-20 10:45:24       30217\n",
      "50  2023-02-23 15:10:00        6658\n",
      "51  2023-02-23 15:14:00       29530\n",
      "52  2023-02-20 08:59:04      349147\n",
      "53  2023-02-19 16:41:38      187816\n",
      "54  2023-02-19 16:19:17       47414\n",
      "55  2023-02-19 15:45:38        4512\n",
      "56  2023-02-19 15:40:58      402911\n",
      "57  2023-02-19 15:36:24       29680\n",
      "58  2023-02-19 15:35:24      452394\n",
      "59  2023-02-18 12:00:05       32509\n",
      "60  2023-02-17 12:00:01       67597\n",
      "61  2023-02-16 14:30:01       52597\n",
      "62  2023-02-16 03:31:40       12069\n",
      "63  2023-02-15 07:26:40       23738\n",
      "64  2023-02-14 22:54:08        3298\n",
      "65  2023-02-13 15:40:54       37542\n",
      "66  2023-02-09 16:45:00       31247\n",
      "67  2023-02-07 15:20:32       11511\n",
      "68  2023-02-10 23:27:52       12091\n",
      "69  2023-02-10 22:07:09        9480\n",
      "70  2023-02-12 13:25:32        8500\n",
      "71  2023-02-09 17:07:46      109240\n",
      "72  2023-02-07 14:12:50        5266\n",
      "73  2023-02-08 14:15:08        5168\n",
      "74  2023-02-02 19:00:03        9339\n",
      "75  2023-02-01 17:30:00        3605\n",
      "76  2023-02-02 14:14:55       24644\n",
      "77  2023-02-02 14:14:56       23838\n",
      "78  2023-02-01 21:28:32       31297\n",
      "79  2023-01-30 15:02:24       40372\n",
      "80  2023-02-01 10:19:36       39450\n",
      "81  2023-01-30 23:53:54        4898\n",
      "82  2023-01-31 00:07:48        4878\n",
      "83  2023-01-31 00:05:06       30199\n",
      "84  2023-01-31 13:07:17       31876\n",
      "85  2023-01-30 21:09:07        4269\n",
      "86  2023-01-28 14:13:00        4479\n",
      "87  2023-01-29 16:27:20        4015\n",
      "88  2023-01-30 10:36:27       44611\n",
      "89  2023-01-27 15:58:14       31509\n",
      "90  2023-01-25 16:00:04       18977\n",
      "91  2023-01-24 14:04:55        4798\n",
      "92  2023-01-24 23:23:43      138796\n",
      "93  2023-01-24 12:17:43      153338\n",
      "94  2023-01-24 12:17:53       23937\n",
      "95  2023-01-24 12:17:54       22940\n",
      "96  2023-01-23 13:54:33      110071\n",
      "97  2023-01-23 12:48:34       25569\n",
      "98  2023-01-21 19:28:00       87660\n",
      "99  2023-01-20 10:29:23       15943\n",
      "100 2023-01-19 19:28:49     1011074\n",
      "101 2023-01-19 15:39:36      177246\n",
      "102 2023-01-18 19:12:38      434172\n",
      "103 2023-01-18 10:30:12       10983\n",
      "104 2023-01-14 17:00:00       11210\n",
      "105 2023-01-12 20:18:40       29640\n",
      "106 2023-01-15 14:05:10     2368927\n",
      "107 2023-01-15 14:05:11      144498\n",
      "108 2023-01-15 14:05:12       37027\n",
      "109 2023-01-14 13:00:05       30653\n",
      "110 2023-01-12 19:17:49       36102\n",
      "111 2023-01-12 15:10:57        5840\n",
      "112 2023-01-12 13:00:40       29819\n",
      "113 2023-01-11 16:00:08        6805\n",
      "114 2023-01-11 15:15:06       17102\n",
      "115 2023-01-10 21:23:46        7082\n",
      "116 2023-01-10 14:27:13        6909\n",
      "117 2023-01-10 21:55:19      941688\n",
      "118 2023-01-10 22:01:29       72663\n",
      "119 2023-01-10 15:15:10       24774\n",
      "120 2023-01-10 15:00:19       29723\n",
      "121 2023-01-10 09:48:29        3857\n",
      "122 2023-01-09 17:27:01       23791\n",
      "123 2023-01-09 17:16:52       25006\n",
      "124 2023-01-06 02:41:17       59074\n",
      "125 2023-01-05 14:00:23        9219\n",
      "126 2023-01-09 17:43:04       10154\n",
      "127 2023-01-09 15:58:31      693454\n",
      "128 2023-01-09 14:13:15       30499\n",
      "129 2023-01-09 12:22:04       47217\n",
      "130 2023-01-06 17:00:40        8334\n",
      "131 2023-01-06 13:30:03       24824\n",
      "132 2023-01-05 17:34:12       26114\n",
      "133 2023-01-04 16:12:03       31121\n",
      "134 2023-01-05 15:02:54        4007\n",
      "135 2023-01-03 13:25:39       35001\n",
      "136 2023-01-03 12:06:31       39900\n",
      "137 2023-01-03 12:01:45       26777\n",
      "138 2023-01-03 10:59:55       92152\n",
      "139 2022-12-29 12:33:19      104562\n",
      "140 2022-12-21 14:06:31       75448\n",
      "141 2022-12-21 17:48:09      123021\n",
      "142 2022-12-21 16:21:12       83705\n",
      "143 2022-12-21 13:27:12      352349\n",
      "144 2022-12-21 16:09:32      153159\n",
      "145 2022-12-21 15:01:08       34163\n",
      "146 2022-12-21 10:06:13       29448\n",
      "147 2022-12-20 11:39:07       21695\n",
      "148 2022-12-20 11:15:17        4874\n",
      "149 2022-12-19 12:23:50        4290\n",
      "150 2022-12-14 22:33:00        5146\n",
      "151 2022-12-14 17:36:56       44161\n",
      "152 2022-12-14 17:47:08       28804\n",
      "153 2022-12-14 17:40:12       99629\n",
      "154 2022-12-14 14:41:28       12569\n",
      "155 2022-12-14 13:07:54       27954\n",
      "156 2022-12-10 16:40:13      817046\n",
      "157 2022-12-11 12:45:00       26771\n",
      "158 2022-12-12 14:45:22       38192\n",
      "159 2022-12-09 14:51:07        5292\n",
      "160 2022-12-09 13:34:48       21493\n",
      "161 2022-12-09 03:42:01       23661\n",
      "162 2022-12-09 11:53:39       25335\n",
      "163 2022-12-08 11:31:08        4030\n",
      "164 2022-12-08 03:18:43       23650\n",
      "165 2022-12-07 04:30:30       76802\n",
      "166 2022-12-07 04:30:00       67739\n",
      "167 2022-12-07 04:30:30       79773\n",
      "168 2022-12-07 04:30:00        3791\n",
      "169 2022-12-07 04:30:30        4375\n",
      "170 2022-12-07 13:14:05        4632\n",
      "171 2022-12-07 00:05:12        4458\n",
      "172 2022-12-06 14:15:21        2425\n",
      "173 2022-12-04 20:23:27        6374\n",
      "174 2022-12-04 21:03:01        2311\n",
      "175 2022-12-04 21:09:53       34857\n",
      "176 2022-12-04 22:26:28        3565\n",
      "177 2022-12-04 22:46:11        3669\n",
      "178 2022-12-04 22:52:40       34857\n",
      "179 2022-12-04 22:57:20       27129\n",
      "180 2022-12-05 12:02:21       22275\n",
      "181 2022-12-05 05:33:00      376970\n",
      "182 2022-12-01 19:31:44      150220\n",
      "183 2022-12-01 14:21:19      424866\n",
      "184 2022-11-22 14:10:05       30538\n",
      "185 2022-11-20 14:41:41       42726\n",
      "186 2022-11-16 17:48:06       45602\n",
      "187 2022-11-16 12:00:02       62010\n",
      "188 2022-11-10 13:30:19       54192\n",
      "189 2022-11-03 16:00:03       43594\n",
      "190 2022-10-25 14:32:10       28224\n",
      "191 2022-10-13 08:21:41       34292\n",
      "192 2022-09-17 11:00:35       35927\n",
      "193 2022-09-13 14:00:23       19989\n",
      "194 2022-09-04 09:00:00       50927\n",
      "195 2022-09-03 12:05:55        5410\n",
      "196 2022-09-02 16:00:00        4770\n",
      "197 2022-09-02 13:00:00       30083\n",
      "198 2022-09-02 14:00:27      495045\n",
      "199 2022-09-01 13:00:02       25695\n",
      "200 2022-09-01 13:00:05       44559\n",
      "201 2022-08-22 00:00:41       49354\n",
      "202 2022-08-21 12:25:58      272088\n",
      "203 2022-08-20 10:22:28      147899\n",
      "204 2022-08-15 21:16:48       73213\n",
      "205 2022-08-04 16:51:30       35592\n",
      "206 2022-08-26 19:31:30       23536\n",
      "207 2022-08-26 11:00:03       32156\n",
      "208 2022-08-26 14:28:40       36281\n",
      "209 2022-08-24 20:48:15       43870\n",
      "210 2022-08-24 18:50:07       33328\n",
      "211 2022-08-23 11:48:32       25589\n",
      "212 2022-08-22 18:35:24        9568\n",
      "213 2022-08-18 09:48:48       15844\n",
      "214 2022-08-17 16:00:04       30620\n",
      "215 2022-08-17 12:00:05       34718\n",
      "216 2022-08-16 19:09:37       25217\n",
      "217 2022-08-16 17:38:18        6630\n",
      "218 2022-08-16 17:00:02        8260\n",
      "219 2022-08-16 17:00:07       22172\n",
      "220 2022-08-16 17:00:10      361491\n",
      "221 2022-08-16 15:25:47     1248882\n",
      "222 2022-08-16 12:00:11       43180\n",
      "223 2022-08-15 09:44:58        8993\n",
      "224 2022-08-14 08:00:15       15300\n",
      "225 2022-08-15 13:00:04       19982\n",
      "226 2022-08-12 13:00:02       31869\n",
      "227 2022-08-11 17:45:11       14877\n",
      "228 2022-08-11 13:00:05       13721\n",
      "229 2022-08-11 13:00:07       31900\n",
      "230 2022-08-11 13:00:09       26309\n",
      "231 2022-08-09 13:47:25        7260\n",
      "232 2022-08-09 15:00:36        5632\n",
      "233 2022-08-09 13:00:02      334282\n",
      "234 2022-08-08 19:31:54       61045\n",
      "235 2022-08-07 17:47:28       30175\n",
      "236 2022-08-06 11:55:02      234291\n",
      "237 2022-08-08 17:23:43      559322\n",
      "238 2022-08-08 14:00:15       39658\n",
      "239 2022-08-05 05:04:00       17114\n",
      "240 2022-08-04 19:49:16       67348\n",
      "241 2022-08-05 13:00:03       63307\n",
      "242 2022-08-05 13:00:05       57202\n",
      "243 2022-08-04 10:54:38      156366\n",
      "244 2022-08-04 10:04:40       19975\n",
      "245 2022-08-03 15:12:37       17840\n",
      "246 2022-08-02 20:17:04       25444\n",
      "247 2022-08-01 16:43:34       28288\n",
      "248 2022-08-01 16:10:34       16345\n",
      "249 2022-08-02 10:33:54       18563\n",
      "250 2022-08-01 13:00:36       25875\n",
      "251 2022-08-02 11:00:36       25040\n",
      "252 2022-07-30 12:00:20       28782\n",
      "253 2022-08-01 10:00:26       32309\n",
      "254 2022-08-01 06:00:21       15769\n",
      "255 2022-08-01 15:10:06       45266\n",
      "256 2022-08-01 15:34:07       42230\n",
      "257 2022-07-31 19:45:45       93371\n",
      "258 2022-08-01 14:00:32       32684\n",
      "259 2022-07-29 14:07:10       22085\n",
      "260 2022-07-28 16:41:37       16421\n",
      "261 2022-07-29 14:00:00       13486\n",
      "262 2022-07-28 13:02:17       59376\n",
      "263 2022-07-25 10:30:13       29956\n",
      "264 2022-07-27 19:03:00       26689\n",
      "265 2022-07-26 23:32:01       38431\n",
      "266 2022-07-27 10:26:15       36212\n",
      "267 2022-07-26 08:12:48       76719\n",
      "268 2022-07-22 11:52:24       26803\n",
      "269 2022-07-22 11:52:25       23954\n",
      "270 2022-07-22 11:52:26       17304\n",
      "271 2022-07-18 17:13:09       31464\n",
      "272 2022-07-15 19:00:01       36576\n",
      "273 2022-07-15 15:34:21       39294\n",
      "274 2022-07-11 11:00:01       45425\n",
      "275 2022-07-08 04:33:04       65172\n",
      "276 2022-07-02 17:59:08       14290\n",
      "277 2022-06-29 18:01:21       50594\n",
      "278 2022-07-07 13:21:57     1336156\n",
      "279 2022-07-03 01:00:06       19210\n",
      "280 2022-07-06 21:02:39       17700\n",
      "281 2022-07-07 09:00:23       12862\n",
      "282 2022-07-06 15:57:59       15673\n",
      "283 2022-07-01 19:19:37       24993\n",
      "284 2022-07-05 15:18:08       61954\n",
      "285 2022-07-05 16:18:44       23291\n",
      "286 2022-07-05 19:32:42       33351\n",
      "287 2022-07-05 19:55:57       20742\n",
      "288 2022-07-04 13:05:00       16317\n",
      "289 2022-07-05 13:00:01       19202\n",
      "290 2022-07-04 13:00:01       81803\n",
      "291 2022-07-03 17:00:01       32600\n",
      "292 2022-07-03 13:00:01       22726\n",
      "293 2022-07-02 17:00:01       15195\n",
      "294 2022-07-02 13:00:01       22986\n",
      "295 2022-07-01 20:00:01       16774\n",
      "296 2022-07-01 17:00:00       18995\n",
      "297 2022-07-01 16:03:14       12913\n",
      "298 2022-07-01 13:00:00       25796\n",
      "299 2022-06-30 19:04:07       12230\n",
      "300 2022-06-30 15:05:17      191645\n",
      "301 2022-06-30 16:00:01       14184\n",
      "302 2022-06-30 14:00:00       26486\n",
      "303 2022-06-30 12:00:00        9821\n",
      "304 2022-06-29 16:55:00       36530\n",
      "305 2022-06-29 19:19:34        8609\n",
      "306 2022-06-30 06:46:02        8707\n",
      "307 2022-06-24 16:35:26       15603\n",
      "308 2022-06-30 01:01:31       17613\n",
      "309 2022-06-29 19:06:10       13548\n",
      "310 2022-06-29 16:31:22        8459\n",
      "311 2022-06-29 12:00:12       15413\n",
      "312 2022-06-29 16:00:00       18630\n",
      "313 2022-06-28 12:00:26       26512\n",
      "314 2022-06-29 13:00:00        8935\n",
      "315 2022-06-25 11:17:21       10040\n",
      "316 2022-06-28 07:08:24        6974\n",
      "317 2022-06-26 04:18:21       11193\n",
      "318 2022-06-28 14:30:00        9713\n",
      "319 2022-06-28 11:47:55       33786\n",
      "320 2022-06-28 11:47:57       22043\n",
      "321 2022-06-27 12:00:11     4075765\n",
      "322 2022-06-27 20:04:04        9592\n",
      "323 2022-06-27 15:25:10       19612\n",
      "324 2022-06-25 13:00:01       16914\n",
      "325 2022-06-27 17:03:21       20807\n",
      "326 2022-06-27 17:00:02       10661\n",
      "327 2022-06-27 17:13:05        7305\n",
      "328 2022-06-27 12:15:57        7961\n",
      "329 2022-06-27 15:15:10       10525\n",
      "330 2022-06-27 14:51:12       12110\n",
      "331 2022-06-27 15:54:43       16324\n",
      "332 2022-06-27 13:42:47       22823\n",
      "333 2022-06-27 14:00:02       14336\n",
      "334 2022-06-26 21:00:00       34821\n",
      "335 2022-06-24 00:47:47        9240\n",
      "336 2022-06-26 20:00:02        6949\n",
      "337 2022-06-25 12:35:04        8394\n",
      "338 2022-06-26 18:00:01       14487\n",
      "339 2022-06-26 15:00:38       32756\n",
      "340 2022-06-26 12:24:19        7824\n",
      "341 2022-06-26 13:11:48       10344\n",
      "342 2022-06-26 15:37:21       19179\n",
      "343 2022-06-26 15:56:48        7601\n",
      "344 2022-06-26 00:42:14       21442\n",
      "345 2022-06-25 20:00:00        8468\n",
      "346 2022-06-25 18:00:01        9681\n",
      "347 2022-06-25 16:00:00        6534\n",
      "348 2022-06-25 14:00:00       11557\n",
      "349 2022-06-25 12:00:00       42575\n",
      "350 2022-06-24 16:46:55       19886\n",
      "351 2022-06-24 20:00:02       55726\n",
      "352 2022-06-24 19:30:00       25890\n",
      "353 2022-06-24 19:00:02        7171\n",
      "354 2022-06-24 17:00:00       35256\n",
      "355 2022-06-24 16:31:17       13355\n",
      "356 2022-06-24 15:00:02       29922\n",
      "357 2022-06-24 14:20:05       31978\n",
      "358 2022-06-24 14:00:01       66238\n",
      "359 2022-06-24 12:01:23       16753\n",
      "360 2022-06-23 14:04:11       61834\n",
      "361 2022-06-24 11:00:02        9543\n",
      "362 2022-06-17 06:04:00        9378\n",
      "363 2022-06-23 22:38:03        7487\n",
      "364 2022-06-23 14:43:40        6260\n",
      "365 2022-06-23 11:11:14        9137\n",
      "366 2022-06-23 09:41:13        8163\n",
      "367 2022-06-23 21:00:01        7393\n",
      "368 2022-06-23 20:00:01       12640\n",
      "369 2022-06-23 20:23:04       10840\n",
      "370 2022-06-23 19:06:55       17965\n",
      "371 2022-06-23 17:00:00       35089\n",
      "372 2022-06-23 16:20:07       24579\n",
      "373                 NaT        9630\n",
      "374                 NaT       12879\n",
      "375                 NaT       44196\n",
      "376                 NaT       10008\n",
      "377                 NaT       52451\n",
      "378                 NaT       54478\n",
      "379                 NaT       72302\n",
      "380                 NaT       74430\n",
      "381                 NaT       60094\n",
      "382                 NaT       63437\n",
      "383                 NaT       31719\n",
      "384                 NaT       44544\n",
      "385                 NaT      157437\n",
      "386                 NaT      152746\n",
      "387                 NaT       44820\n",
      "388                 NaT      439129\n",
      "389                 NaT       51351\n",
      "390                 NaT       56084\n",
      "391                 NaT       56817\n",
      "392                 NaT       79726\n",
      "393                 NaT       85711\n",
      "394                 NaT      385300\n",
      "395                 NaT       70796\n",
      "396                 NaT       38035\n",
      "397                 NaT       45633\n",
      "398                 NaT       32051\n",
      "399                 NaT       29696\n"
     ]
    }
   ],
   "source": [
    "views = BarbieDB[['created_at', 'view_count']]\n",
    "\n",
    "pd.set_option('display.max_rows', None)\n",
    "\n",
    "print(views)"
   ]
  },
  {
   "cell_type": "code",
   "execution_count": 270,
   "id": "7d1250ca-7914-40f8-9fd5-1a83cace9b66",
   "metadata": {
    "collapsed": true,
    "jupyter": {
     "outputs_hidden": true,
     "source_hidden": true
    }
   },
   "outputs": [
    {
     "name": "stdout",
     "output_type": "stream",
     "text": [
      "created_at\n",
      "2022-06-17    9.378000e+03\n",
      "2022-06-23    1.830791e+04\n",
      "2022-06-24    2.588931e+04\n",
      "2022-06-25    1.427038e+04\n",
      "2022-06-26    1.665960e+04\n",
      "2022-06-27    3.523184e+05\n",
      "2022-06-28    1.980560e+04\n",
      "2022-06-29    2.008975e+04\n",
      "2022-06-30    4.009800e+04\n",
      "2022-07-01    1.989420e+04\n",
      "2022-07-02    1.749033e+04\n",
      "2022-07-03    2.484533e+04\n",
      "2022-07-04    4.906000e+04\n",
      "2022-07-05    3.170800e+04\n",
      "2022-07-06    1.668650e+04\n",
      "2022-07-07    6.745090e+05\n",
      "2022-07-08    6.517200e+04\n",
      "2022-07-11    4.542500e+04\n",
      "2022-07-15    3.793500e+04\n",
      "2022-07-18    3.146400e+04\n",
      "2022-07-22    2.268700e+04\n",
      "2022-07-25    2.995600e+04\n",
      "2022-07-26    5.757500e+04\n",
      "2022-07-27    3.145050e+04\n",
      "2022-07-28    3.789850e+04\n",
      "2022-07-29    1.778550e+04\n",
      "2022-07-30    2.878200e+04\n",
      "2022-07-31    9.337100e+04\n",
      "2022-08-01    2.984575e+04\n",
      "2022-08-02    2.301567e+04\n",
      "2022-08-03    1.784000e+04\n",
      "2022-08-04    6.982025e+04\n",
      "2022-08-05    4.587433e+04\n",
      "2022-08-06    2.342910e+05\n",
      "2022-08-07    3.017500e+04\n",
      "2022-08-08    2.200083e+05\n",
      "2022-08-09    1.157247e+05\n",
      "2022-08-11    2.170175e+04\n",
      "2022-08-12    3.186900e+04\n",
      "2022-08-14    1.530000e+04\n",
      "2022-08-15    3.406267e+04\n",
      "2022-08-16    2.451189e+05\n",
      "2022-08-17    3.266900e+04\n",
      "2022-08-18    1.584400e+04\n",
      "2022-08-20    1.478990e+05\n",
      "2022-08-21    2.720880e+05\n",
      "2022-08-22    2.946100e+04\n",
      "2022-08-23    2.558900e+04\n",
      "2022-08-24    3.859900e+04\n",
      "2022-08-26    3.065767e+04\n",
      "2022-09-01    3.512700e+04\n",
      "2022-09-02    1.766327e+05\n",
      "2022-09-03    5.410000e+03\n",
      "2022-09-04    5.092700e+04\n",
      "2022-09-13    1.998900e+04\n",
      "2022-09-17    3.592700e+04\n",
      "2022-10-13    3.429200e+04\n",
      "2022-10-25    2.822400e+04\n",
      "2022-11-03    4.359400e+04\n",
      "2022-11-10    5.419200e+04\n",
      "2022-11-16    5.380600e+04\n",
      "2022-11-20    4.272600e+04\n",
      "2022-11-22    3.053800e+04\n",
      "2022-12-01    2.875430e+05\n",
      "2022-12-04    1.610886e+04\n",
      "2022-12-05    1.996225e+05\n",
      "2022-12-06    2.425000e+03\n",
      "2022-12-07    3.451000e+04\n",
      "2022-12-08    1.384000e+04\n",
      "2022-12-09    1.894525e+04\n",
      "2022-12-10    8.170460e+05\n",
      "2022-12-11    2.677100e+04\n",
      "2022-12-12    3.819200e+04\n",
      "2022-12-14    3.637717e+04\n",
      "2022-12-19    4.290000e+03\n",
      "2022-12-20    1.328450e+04\n",
      "2022-12-21    1.216133e+05\n",
      "2022-12-29    1.045620e+05\n",
      "2023-01-03    4.845750e+04\n",
      "2023-01-04    3.112100e+04\n",
      "2023-01-05    1.311333e+04\n",
      "2023-01-06    3.074400e+04\n",
      "2023-01-09    1.383535e+05\n",
      "2023-01-10    1.552423e+05\n",
      "2023-01-11    1.195350e+04\n",
      "2023-01-12    2.535025e+04\n",
      "2023-01-14    2.093150e+04\n",
      "2023-01-15    8.501507e+05\n",
      "2023-01-18    2.225775e+05\n",
      "2023-01-19    5.941600e+05\n",
      "2023-01-20    1.594300e+04\n",
      "2023-01-21    8.766000e+04\n",
      "2023-01-23    6.782000e+04\n",
      "2023-01-24    6.876180e+04\n",
      "2023-01-25    1.897700e+04\n",
      "2023-01-27    3.150900e+04\n",
      "2023-01-28    4.479000e+03\n",
      "2023-01-29    4.015000e+03\n",
      "2023-01-30    2.353750e+04\n",
      "2023-01-31    2.231767e+04\n",
      "2023-02-01    2.478400e+04\n",
      "2023-02-02    1.927367e+04\n",
      "2023-02-07    8.388500e+03\n",
      "2023-02-08    5.168000e+03\n",
      "2023-02-09    7.024350e+04\n",
      "2023-02-10    1.078550e+04\n",
      "2023-02-12    8.500000e+03\n",
      "2023-02-13    3.754200e+04\n",
      "2023-02-14    3.298000e+03\n",
      "2023-02-15    2.373800e+04\n",
      "2023-02-16    3.233300e+04\n",
      "2023-02-17    6.759700e+04\n",
      "2023-02-18    2.296450e+04\n",
      "2023-02-19    1.874545e+05\n",
      "2023-02-20    1.896820e+05\n",
      "2023-02-23    2.106133e+04\n",
      "2023-02-25    3.777000e+03\n",
      "2023-02-26    1.303850e+04\n",
      "2023-02-27    2.293117e+04\n",
      "2023-02-28    2.868971e+04\n",
      "2023-03-01    3.864250e+04\n",
      "2023-03-02    4.518900e+04\n",
      "2023-03-03    3.555180e+04\n",
      "2023-03-05    5.251400e+04\n",
      "2023-03-06    3.276341e+05\n",
      "2023-03-08    8.869799e+06\n",
      "2023-03-12    5.811729e+04\n",
      "Name: view_count, dtype: float64\n"
     ]
    }
   ],
   "source": [
    "print(average_views)"
   ]
  },
  {
   "cell_type": "code",
   "execution_count": 318,
   "id": "fbe78f67-976f-4f9e-8b23-7505f79d2361",
   "metadata": {
    "collapsed": true,
    "jupyter": {
     "outputs_hidden": true,
     "source_hidden": true
    }
   },
   "outputs": [
    {
     "data": {
      "image/png": "[encoded data removed]",
      "text/plain": [
       "<Figure size 640x480 with 1 Axes>"
      ]
     },
     "metadata": {},
     "output_type": "display_data"
    }
   ],
   "source": [
    "average_views = BarbieDB.groupby(BarbieDB['created_at'])['view_count'].mean()\n",
    "\n",
    "plt.plot(average_views.index, average_views.values)\n",
    "\n",
    "plt.xlabel('Date')\n",
    "plt.ylabel('Average View Count (to the power of 7)')\n",
    "plt.title('views ovar time')\n",
    "plt.show()"
   ]
  },
  {
   "cell_type": "markdown",
   "id": "f7aaf9bf-3410-40fb-96d0-ebae72bb308a",
   "metadata": {},
   "source": [
    "Reflection 1: \n",
    "My first initial thoughts on completing this part of the project is to acknowledge just how much data is involved. This is, by far, the most data I’ve ever worked with. Even considering that much of it (outside of the financial stuff) uses the same parameters, this is still just the largest dataset by pure volume. Keeping track of it all is going to be very difficult, but also very important. Beyond the size of the data, I was also surprised by the depth of the insights. When I first started to use TweetExporter, I was shocked by how much it was able to pull from these tweets. Just about every single piece of data I could need was here. It took over 2 hours to fully export all the data onto a thumb drive and took another hour or two to get it into a jupyter notebook, and that was all before I started to experiment and study the data. All I’ve done so far is try to take the average from a number of views, and chart the open stock price for every month that I have. I did this to make sure the data was two things. The first being complete, and for this I measured views because I wanted to make sure it filled every month. The second is accurate. I did this by checking the stock price of a certain month on Yahoo Finance and comparing that with my data. It was always accurate. I am very excited to work with this data, but I need to make sure that I don’t get lost in all the numbers. "
   ]
  }
 ],
 "metadata": {
  "kernelspec": {
   "display_name": "Python 3 (ipykernel)",
   "language": "python",
   "name": "python3"
  },
  "language_info": {
   "codemirror_mode": {
    "name": "ipython",
    "version": 3
   },
   "file_extension": ".py",
   "mimetype": "text/x-python",
   "name": "python",
   "nbconvert_exporter": "python",
   "pygments_lexer": "ipython3",
   "version": "3.12.8"
  }
 },
 "nbformat": 4,
 "nbformat_minor": 5
}
