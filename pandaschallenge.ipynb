{
 "cells": [
  {
   "cell_type": "code",
   "execution_count": 2,
   "id": "68a87127-25b0-40e9-8b67-27e12950ea92",
   "metadata": {},
   "outputs": [],
   "source": [
    "import pandas as pd"
   ]
  },
  {
   "cell_type": "code",
   "execution_count": 6,
   "id": "d42b9669-6de1-4af7-8847-b76cf623ba41",
   "metadata": {},
   "outputs": [],
   "source": [
    "a = ['Venus', 'Neptune', 'Jupiter']\n",
    "b = [0,16,95]\n",
    "c = [12104,49244,142984]\n",
    "\n",
    "PlanetDf = pd.DataFrame({'Planet':a, 'Moons':b, 'Size (in km)':c})"
   ]
  },
  {
   "cell_type": "code",
   "execution_count": 43,
   "id": "1839df73-b3ef-4d2f-9906-ba9239d5928e",
   "metadata": {},
   "outputs": [
    {
     "data": {
      "text/html": [
       "<div>\n",
       "<style scoped>\n",
       "    .dataframe tbody tr th:only-of-type {\n",
       "        vertical-align: middle;\n",
       "    }\n",
       "\n",
       "    .dataframe tbody tr th {\n",
       "        vertical-align: top;\n",
       "    }\n",
       "\n",
       "    .dataframe thead th {\n",
       "        text-align: right;\n",
       "    }\n",
       "</style>\n",
       "<table border=\"1\" class=\"dataframe\">\n",
       "  <thead>\n",
       "    <tr style=\"text-align: right;\">\n",
       "      <th></th>\n",
       "      <th>Planet</th>\n",
       "      <th>Moons</th>\n",
       "      <th>Size (in km)</th>\n",
       "    </tr>\n",
       "  </thead>\n",
       "  <tbody>\n",
       "    <tr>\n",
       "      <th>0</th>\n",
       "      <td>Venus</td>\n",
       "      <td>0</td>\n",
       "      <td>12104</td>\n",
       "    </tr>\n",
       "    <tr>\n",
       "      <th>1</th>\n",
       "      <td>Neptune</td>\n",
       "      <td>16</td>\n",
       "      <td>49244</td>\n",
       "    </tr>\n",
       "    <tr>\n",
       "      <th>2</th>\n",
       "      <td>Jupiter</td>\n",
       "      <td>95</td>\n",
       "      <td>142984</td>\n",
       "    </tr>\n",
       "  </tbody>\n",
       "</table>\n",
       "</div>"
      ],
      "text/plain": [
       "    Planet  Moons  Size (in km)\n",
       "0    Venus      0         12104\n",
       "1  Neptune     16         49244\n",
       "2  Jupiter     95        142984"
      ]
     },
     "execution_count": 43,
     "metadata": {},
     "output_type": "execute_result"
    }
   ],
   "source": [
    "PlanetDf.head()"
   ]
  },
  {
   "cell_type": "code",
   "execution_count": 11,
   "id": "b6d1fb56-5e2f-47da-9aad-8ef476e02c1c",
   "metadata": {},
   "outputs": [
    {
     "data": {
      "text/plain": [
       "RangeIndex(start=0, stop=3, step=1)"
      ]
     },
     "execution_count": 11,
     "metadata": {},
     "output_type": "execute_result"
    }
   ],
   "source": [
    "PlanetDf.index"
   ]
  },
  {
   "cell_type": "code",
   "execution_count": 30,
   "id": "013337d0-c319-4078-852f-3aea49347981",
   "metadata": {},
   "outputs": [
    {
     "data": {
      "text/plain": [
       "0      Venus\n",
       "1    Neptune\n",
       "2    Jupiter\n",
       "Name: Planet, dtype: object"
      ]
     },
     "execution_count": 30,
     "metadata": {},
     "output_type": "execute_result"
    }
   ],
   "source": [
    "PlanetDf.iloc[0:3,0]"
   ]
  },
  {
   "cell_type": "code",
   "execution_count": 33,
   "id": "e9c4cb62-0686-4231-94e6-6a74f9a9fc48",
   "metadata": {},
   "outputs": [
    {
     "data": {
      "text/plain": [
       "Planet          Venus\n",
       "Moons               0\n",
       "Size (in km)    12104\n",
       "Name: 0, dtype: object"
      ]
     },
     "execution_count": 33,
     "metadata": {},
     "output_type": "execute_result"
    }
   ],
   "source": [
    "PlanetDf.iloc[0,0:3]"
   ]
  },
  {
   "cell_type": "code",
   "execution_count": 45,
   "id": "a260b7db-914d-416b-9986-98e7d4818b04",
   "metadata": {},
   "outputs": [],
   "source": [
    "PlanetDf = pd.DataFrame({'Planet':['Venus','Neptune','Jupiter'],\n",
    "                         'Moons':[0,16,95],\n",
    "                         'Size (in km)':[12104,49244,142984]})"
   ]
  },
  {
   "cell_type": "code",
   "execution_count": 49,
   "id": "ed841b15-0162-42d7-8142-f7539a624b14",
   "metadata": {},
   "outputs": [],
   "source": [
    "PlanetDf.to_csv(\"Planets.csv\")"
   ]
  },
  {
   "cell_type": "markdown",
   "id": "17aeb0db-c44b-4881-8b0c-36308ec2d41f",
   "metadata": {},
   "source": [
    "What does the \"write/render/evaluate\" loop provide for creators of interactive data visualizations?<br>\n",
    "    It provides creators with a chance to iterate on their work, continuously improving their creations and allowing them to see whatever existing flaws may be in their data or visualization. Without this loop, all data would be kept to it's first draft, which limits possiblities greatly. This simple process allows for an evolution of the visualization, and it is something that I do quite frequently on all projects that I work on.<br>\n",
    "Why are dynamic, interactive data visualizations useful when communicating data?<br>\n",
    "    Dynamic, interactive data visualizations can allow the reader to engage with the content themselves, allowing them to make discoveries on their own terms and view the data in their own light. This allows for expression within data and can greatly expand upon what is possible with traditional data storytelling. <br>\n",
    "Do you agree with Murray's claim that open-source tools that avoid proprietary software are best for publishing data visualization? In a few sentences, explain why you do or do not agree.<br>\n",
    "    Yes, in many ways I agree with Murray’s statements. I believe that all software should be open source, although many would see that as a radical idea. Regardless, it is difficult to argue that open source software is purely a good thing for the consumer. Open source software is the most compatible, accessible, and safe. It means that all data, no matter what, is housed in a familiar and understandable container that does not require a subscription or access to said data. While I can acknowledge the importance of specialty software, and understand the need for some to remain closed-source due to profits, I can say for the most part that open source software is the safest and best way for most companies. <br>"
   ]
  }
 ],
 "metadata": {
  "kernelspec": {
   "display_name": "Python 3 (ipykernel)",
   "language": "python",
   "name": "python3"
  },
  "language_info": {
   "codemirror_mode": {
    "name": "ipython",
    "version": 3
   },
   "file_extension": ".py",
   "mimetype": "text/x-python",
   "name": "python",
   "nbconvert_exporter": "python",
   "pygments_lexer": "ipython3",
   "version": "3.12.8"
  }
 },
 "nbformat": 4,
 "nbformat_minor": 5
}
