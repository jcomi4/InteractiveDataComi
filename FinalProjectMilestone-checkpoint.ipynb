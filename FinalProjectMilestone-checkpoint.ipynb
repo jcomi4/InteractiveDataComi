{
 "cells": [
  {
   "cell_type": "code",
   "execution_count": 1,
   "id": "9903bfca-deb5-445d-8702-fe49bd7edebb",
   "metadata": {},
   "outputs": [],
   "source": [
    "import pandas as pd\n",
    "import matplotlib.pyplot as plt\n",
    "import plotly.express as px\n",
    "import plotly.graph_objects as go\n"
   ]
  },
  {
   "cell_type": "code",
   "execution_count": 2,
   "id": "74aa19fb-3afd-4416-ae5f-c645446d091a",
   "metadata": {},
   "outputs": [
    {
     "data": {
      "text/plain": [
       "Index(['Date', 'Open', 'High', 'Low', 'Close', 'Volume'], dtype='object')"
      ]
     },
     "execution_count": 2,
     "metadata": {},
     "output_type": "execute_result"
    }
   ],
   "source": [
    "stock_years = [\n",
    "    \"D:/Int_Data_Final_Project/Datasets/StockData/WBD_2021.csv\",\n",
    "    \"D:/Int_Data_Final_Project/Datasets/StockData/WBD_2022.csv\",\n",
    "    \"D:/Int_Data_Final_Project/Datasets/StockData/WBD_2023.csv\",\n",
    "    \"D:/Int_Data_Final_Project/Datasets/StockData/WBD_2024.csv\",\n",
    "    \"D:/Int_Data_Final_Project/Datasets/StockData/WBD_2025.csv\"\n",
    "]\n",
    "\n",
    "WBStockFull = pd.concat([pd.read_csv(file) for file in stock_years])\n",
    "WBStockFull.columns"
   ]
  },
  {
   "cell_type": "code",
   "execution_count": 3,
   "id": "f38c9cb8",
   "metadata": {
    "jupyter": {
     "source_hidden": true
    },
    "scrolled": true
   },
   "outputs": [
    {
     "data": {
      "text/plain": [
       "Index(['id', 'text', 'tweet_url', 'language', 'type', 'author_name',\n",
       "       'author_username', 'view_count', 'bookmark_count', 'favorite_count',\n",
       "       'retweet_count', 'reply_count', 'quote_count', 'created_at', 'source',\n",
       "       'hashtags', 'urls', 'media_type', 'media_urls'],\n",
       "      dtype='object')"
      ]
     },
     "execution_count": 3,
     "metadata": {},
     "output_type": "execute_result"
    }
   ],
   "source": [
    "mainwb = \"D:/Int_Data_Final_Project/Datasets/TwitterAccountData/TwExport_warnerbros_Posts.csv\"\n",
    "WB_MainDB = pd.read_csv(mainwb)\n",
    "WB_MainDB.columns"
   ]
  },
  {
   "cell_type": "code",
   "execution_count": 4,
   "id": "23749021-60f5-4456-9024-ec0218775b95",
   "metadata": {},
   "outputs": [
    {
     "data": {
      "text/plain": [
       "Index(['id', 'text', 'tweet_url', 'language', 'type', 'author_name',\n",
       "       'author_username', 'view_count', 'bookmark_count', 'favorite_count',\n",
       "       'retweet_count', 'reply_count', 'quote_count', 'created_at', 'source',\n",
       "       'hashtags', 'urls', 'media_type', 'media_urls'],\n",
       "      dtype='object')"
      ]
     },
     "execution_count": 4,
     "metadata": {},
     "output_type": "execute_result"
    }
   ],
   "source": [
    "barbie = \"D:/Int_Data_Final_Project/Datasets/TwitterAccountData/TwExport_barbiethemovie_Posts.csv\"\n",
    "BarbieDB = pd.read_csv(barbie)\n",
    "BarbieDB.columns"
   ]
  },
  {
   "cell_type": "code",
   "execution_count": 5,
   "id": "7dcded0c-1b0b-45d9-88fd-228c26de8afd",
   "metadata": {
    "scrolled": true
   },
   "outputs": [
    {
     "data": {
      "text/plain": [
       "Index(['id', 'text', 'tweet_url', 'language', 'type', 'author_name',\n",
       "       'author_username', 'view_count', 'bookmark_count', 'favorite_count',\n",
       "       'retweet_count', 'reply_count', 'quote_count', 'created_at', 'source',\n",
       "       'hashtags', 'urls', 'media_type', 'media_urls'],\n",
       "      dtype='object')"
      ]
     },
     "execution_count": 5,
     "metadata": {},
     "output_type": "execute_result"
    }
   ],
   "source": [
    "beetlejuice = \"D:/Int_Data_Final_Project/Datasets/TwitterAccountData/TwExport_Beetlejuice_Posts.csv\"\n",
    "BeetleJuiceDB = pd.read_csv(beetlejuice)\n",
    "BeetleJuiceDB.columns"
   ]
  },
  {
   "cell_type": "code",
   "execution_count": 6,
   "id": "8169dc22-1bc8-4832-9c9f-8e214736993f",
   "metadata": {},
   "outputs": [
    {
     "data": {
      "text/plain": [
       "Index(['id', 'text', 'tweet_url', 'language', 'type', 'author_name',\n",
       "       'author_username', 'view_count', 'bookmark_count', 'favorite_count',\n",
       "       'retweet_count', 'reply_count', 'quote_count', 'created_at', 'source',\n",
       "       'hashtags', 'urls', 'media_type', 'media_urls'],\n",
       "      dtype='object')"
      ]
     },
     "execution_count": 6,
     "metadata": {},
     "output_type": "execute_result"
    }
   ],
   "source": [
    "bluebeetle = \"D:/Int_Data_Final_Project/Datasets/TwitterAccountData/TwExport_bluebeetle_Posts.csv\"\n",
    "BlueBeetleDB = pd.read_csv(bluebeetle)\n",
    "BlueBeetleDB.columns"
   ]
  },
  {
   "cell_type": "code",
   "execution_count": 7,
   "id": "e4132251-0a94-4061-a802-4879fc67ddb1",
   "metadata": {},
   "outputs": [
    {
     "data": {
      "text/plain": [
       "Index(['id', 'text', 'tweet_url', 'language', 'type', 'author_name',\n",
       "       'author_username', 'view_count', 'bookmark_count', 'favorite_count',\n",
       "       'retweet_count', 'reply_count', 'quote_count', 'created_at', 'source',\n",
       "       'hashtags', 'urls', 'media_type', 'media_urls'],\n",
       "      dtype='object')"
      ]
     },
     "execution_count": 7,
     "metadata": {},
     "output_type": "execute_result"
    }
   ],
   "source": [
    "dune = \"D:/Int_Data_Final_Project/Datasets/TwitterAccountData/TwExport_dunemovie_Posts.csv\"\n",
    "DuneDB = pd.read_csv(dune)\n",
    "DuneDB.columns"
   ]
  },
  {
   "cell_type": "code",
   "execution_count": 8,
   "id": "75b4189d-e493-4bdb-b916-46af5b5c0af3",
   "metadata": {
    "jupyter": {
     "source_hidden": true
    }
   },
   "outputs": [
    {
     "data": {
      "text/plain": [
       "Index(['id', 'text', 'tweet_url', 'language', 'type', 'author_name',\n",
       "       'author_username', 'view_count', 'bookmark_count', 'favorite_count',\n",
       "       'retweet_count', 'reply_count', 'quote_count', 'created_at', 'source',\n",
       "       'hashtags', 'urls', 'media_type', 'media_urls'],\n",
       "      dtype='object')"
      ]
     },
     "execution_count": 8,
     "metadata": {},
     "output_type": "execute_result"
    }
   ],
   "source": [
    "f1 = \"D:/Int_Data_Final_Project/Datasets/TwitterAccountData/TwExport_F1Movie_Posts.csv\"\n",
    "F1DB = pd.read_csv(f1)\n",
    "F1DB.columns"
   ]
  },
  {
   "cell_type": "code",
   "execution_count": 9,
   "id": "e4c45dd2",
   "metadata": {
    "jupyter": {
     "source_hidden": true
    },
    "scrolled": true
   },
   "outputs": [
    {
     "data": {
      "text/plain": [
       "Index(['id', 'text', 'tweet_url', 'language', 'type', 'author_name',\n",
       "       'author_username', 'view_count', 'bookmark_count', 'favorite_count',\n",
       "       'retweet_count', 'reply_count', 'quote_count', 'created_at', 'source',\n",
       "       'hashtags', 'urls', 'media_type', 'media_urls'],\n",
       "      dtype='object')"
      ]
     },
     "execution_count": 9,
     "metadata": {},
     "output_type": "execute_result"
    }
   ],
   "source": [
    "gxk = \"D:/Int_Data_Final_Project/Datasets/TwitterAccountData/TwExport_GodzillaXKong_Posts.csv\"\n",
    "GxKDB = pd.read_csv(gxk)\n",
    "GxKDB.columns"
   ]
  },
  {
   "cell_type": "code",
   "execution_count": 10,
   "id": "9480579d",
   "metadata": {
    "scrolled": true
   },
   "outputs": [
    {
     "data": {
      "text/plain": [
       "Index(['id', 'text', 'tweet_url', 'language', 'type', 'author_name',\n",
       "       'author_username', 'view_count', 'bookmark_count', 'favorite_count',\n",
       "       'retweet_count', 'reply_count', 'quote_count', 'created_at', 'source',\n",
       "       'hashtags', 'urls', 'media_type', 'media_urls'],\n",
       "      dtype='object')"
      ]
     },
     "execution_count": 10,
     "metadata": {},
     "output_type": "execute_result"
    }
   ],
   "source": [
    "dragon = \"D:/Int_Data_Final_Project/Datasets/TwitterAccountData/TwExport_HTTYDragon_Posts.csv\"\n",
    "HTTYDDB = pd.read_csv(dragon)\n",
    "HTTYDDB.columns"
   ]
  },
  {
   "cell_type": "code",
   "execution_count": 11,
   "id": "ccf0d46c",
   "metadata": {
    "jupyter": {
     "source_hidden": true
    },
    "scrolled": true
   },
   "outputs": [
    {
     "data": {
      "text/plain": [
       "Index(['id', 'text', 'tweet_url', 'language', 'type', 'author_name',\n",
       "       'author_username', 'view_count', 'bookmark_count', 'favorite_count',\n",
       "       'retweet_count', 'reply_count', 'quote_count', 'created_at', 'source',\n",
       "       'hashtags', 'urls', 'media_type', 'media_urls'],\n",
       "      dtype='object')"
      ]
     },
     "execution_count": 11,
     "metadata": {},
     "output_type": "execute_result"
    }
   ],
   "source": [
    "joker = \"D:/Int_Data_Final_Project/Datasets/TwitterAccountData/TwExport_jokermovie_Posts.csv\"\n",
    "JokerDB = pd.read_csv(joker)\n",
    "JokerDB.columns"
   ]
  },
  {
   "cell_type": "code",
   "execution_count": 12,
   "id": "99aa86a8",
   "metadata": {
    "jupyter": {
     "source_hidden": true
    },
    "scrolled": true
   },
   "outputs": [
    {
     "data": {
      "text/plain": [
       "Index(['id', 'text', 'tweet_url', 'language', 'type', 'author_name',\n",
       "       'author_username', 'view_count', 'bookmark_count', 'favorite_count',\n",
       "       'retweet_count', 'reply_count', 'quote_count', 'created_at', 'source',\n",
       "       'hashtags', 'urls', 'media_type', 'media_urls'],\n",
       "      dtype='object')"
      ]
     },
     "execution_count": 12,
     "metadata": {},
     "output_type": "execute_result"
    }
   ],
   "source": [
    "shazam = \"D:/Int_Data_Final_Project/Datasets/TwitterAccountData/TwExport_ShazamMovie_Posts.csv\"\n",
    "ShazamDB = pd.read_csv(shazam)\n",
    "ShazamDB.columns"
   ]
  },
  {
   "cell_type": "code",
   "execution_count": 13,
   "id": "c46274cf-7e21-4f40-92d7-ae0e062b362e",
   "metadata": {
    "jupyter": {
     "source_hidden": true
    }
   },
   "outputs": [
    {
     "data": {
      "text/plain": [
       "Index(['id', 'text', 'tweet_url', 'language', 'type', 'author_name',\n",
       "       'author_username', 'view_count', 'bookmark_count', 'favorite_count',\n",
       "       'retweet_count', 'reply_count', 'quote_count', 'created_at', 'source',\n",
       "       'hashtags', 'urls', 'media_type', 'media_urls'],\n",
       "      dtype='object')"
      ]
     },
     "execution_count": 13,
     "metadata": {},
     "output_type": "execute_result"
    }
   ],
   "source": [
    "superman = \"D:/Int_Data_Final_Project/Datasets/TwitterAccountData/TwExport_Superman_Posts.csv\"\n",
    "SupermanDB = pd.read_csv(superman)\n",
    "SupermanDB.columns"
   ]
  },
  {
   "cell_type": "code",
   "execution_count": 14,
   "id": "8a6008e4",
   "metadata": {
    "jupyter": {
     "source_hidden": true
    }
   },
   "outputs": [
    {
     "data": {
      "text/plain": [
       "Index(['id', 'text', 'tweet_url', 'language', 'type', 'author_name',\n",
       "       'author_username', 'view_count', 'bookmark_count', 'favorite_count',\n",
       "       'retweet_count', 'reply_count', 'quote_count', 'created_at', 'source',\n",
       "       'hashtags', 'urls', 'media_type', 'media_urls'],\n",
       "      dtype='object')"
      ]
     },
     "execution_count": 14,
     "metadata": {},
     "output_type": "execute_result"
    }
   ],
   "source": [
    "conjuring = \"D:/Int_Data_Final_Project/Datasets/TwitterAccountData/TwExport_TheConjuring_Posts.csv\"\n",
    "ConjuringDB = pd.read_csv(conjuring)\n",
    "ConjuringDB.columns"
   ]
  },
  {
   "cell_type": "code",
   "execution_count": 15,
   "id": "7312dbd0",
   "metadata": {
    "jupyter": {
     "source_hidden": true
    }
   },
   "outputs": [
    {
     "data": {
      "text/plain": [
       "Index(['id', 'text', 'tweet_url', 'language', 'type', 'author_name',\n",
       "       'author_username', 'view_count', 'bookmark_count', 'favorite_count',\n",
       "       'retweet_count', 'reply_count', 'quote_count', 'created_at', 'source',\n",
       "       'hashtags', 'urls', 'media_type', 'media_urls'],\n",
       "      dtype='object')"
      ]
     },
     "execution_count": 15,
     "metadata": {},
     "output_type": "execute_result"
    }
   ],
   "source": [
    "wonka = \"D:/Int_Data_Final_Project/Datasets/TwitterAccountData/TwExport_WonkaMovie_Posts.csv\"\n",
    "WonkaDB = pd.read_csv(wonka)\n",
    "WonkaDB.columns"
   ]
  },
  {
   "cell_type": "markdown",
   "id": "8d3fe879-a5a2-4f32-9a64-145b7a0e11a8",
   "metadata": {},
   "source": [
    "End of Importing the Data"
   ]
  },
  {
   "cell_type": "code",
   "execution_count": 16,
   "id": "70d261c9-2059-4daf-b0e8-947201f23fa3",
   "metadata": {},
   "outputs": [],
   "source": [
    "WBStockFull['Date'] = pd.to_datetime(WBStockFull['Date'])\n",
    "\n",
    "BarbieDB['created_at'] = pd.to_datetime(BarbieDB['created_at'])\n",
    "BeetleJuiceDB['created_at'] = pd.to_datetime(BeetleJuiceDB['created_at'])\n",
    "BlueBeetleDB['created_at'] = pd.to_datetime(BlueBeetleDB['created_at'])\n",
    "DuneDB['created_at'] = pd.to_datetime(DuneDB['created_at'])\n",
    "F1DB['created_at'] = pd.to_datetime(F1DB['created_at'])\n",
    "GxKDB['created_at'] = pd.to_datetime(GxKDB['created_at'])\n",
    "HTTYDDB['created_at'] = pd.to_datetime(HTTYDDB['created_at'])\n",
    "JokerDB['created_at'] = pd.to_datetime(JokerDB['created_at'])\n",
    "ShazamDB['created_at'] = pd.to_datetime(ShazamDB['created_at'])\n",
    "SupermanDB['created_at'] = pd.to_datetime(SupermanDB['created_at'])\n",
    "ConjuringDB['created_at'] = pd.to_datetime(ConjuringDB['created_at'])\n",
    "WonkaDB['created_at'] = pd.to_datetime(WonkaDB['created_at'])"
   ]
  },
  {
   "cell_type": "code",
   "execution_count": 17,
   "id": "b0529f65-02d2-4401-bcea-587a104ea17b",
   "metadata": {},
   "outputs": [],
   "source": [
    "WBStockFull['Date'] = pd.to_datetime(WBStockFull['Date'])\n",
    "\n",
    "BarbieDB['created_at'] = pd.to_datetime(BarbieDB['created_at'])\n",
    "BeetleJuiceDB['created_at'] = pd.to_datetime(BeetleJuiceDB['created_at'])\n",
    "BlueBeetleDB['created_at'] = pd.to_datetime(BlueBeetleDB['created_at'])\n",
    "DuneDB['created_at'] = pd.to_datetime(DuneDB['created_at'])\n",
    "F1DB['created_at'] = pd.to_datetime(F1DB['created_at'])\n",
    "GxKDB['created_at'] = pd.to_datetime(GxKDB['created_at'])\n",
    "HTTYDDB['created_at'] = pd.to_datetime(HTTYDDB['created_at'])\n",
    "JokerDB['created_at'] = pd.to_datetime(JokerDB['created_at'])\n",
    "ShazamDB['created_at'] = pd.to_datetime(ShazamDB['created_at'])\n",
    "SupermanDB['created_at'] = pd.to_datetime(SupermanDB['created_at'])\n",
    "ConjuringDB['created_at'] = pd.to_datetime(ConjuringDB['created_at'])\n",
    "WonkaDB['created_at'] = pd.to_datetime(WonkaDB['created_at'])"
   ]
  },
  {
   "cell_type": "code",
   "execution_count": 18,
   "id": "0ef6bc0c-0c57-42b4-b981-296dd2e33b71",
   "metadata": {},
   "outputs": [],
   "source": [
    "BarbieDB_views = BarbieDB[(BarbieDB['created_at'].dt.year == 2023) & (BarbieDB['type'] == 'Tweet')].groupby(BarbieDB['created_at'].dt.date)['view_count'].sum()\n",
    "BeetleJuiceDB_views = BeetleJuiceDB[(BeetleJuiceDB['created_at'].dt.year == 2024) & (BeetleJuiceDB['type'] == 'Tweet')].groupby(BeetleJuiceDB['created_at'].dt.date)['view_count'].sum()\n",
    "BlueBeetleDB_views = BlueBeetleDB[(BlueBeetleDB['created_at'].dt.year == 2023) & (BlueBeetleDB['type'] == 'Tweet')].groupby(BlueBeetleDB['created_at'].dt.date)['view_count'].sum()\n",
    "DuneDB_views = DuneDB[(DuneDB['created_at'].dt.year == 2024) & (DuneDB['type'] == 'Tweet')].groupby(DuneDB['created_at'].dt.date)['view_count'].sum()\n",
    "F1DB_views = F1DB[(F1DB['created_at'].dt.year == 2023) & (F1DB['type'] == 'Tweet')].groupby(F1DB['created_at'].dt.date)['view_count'].sum()\n",
    "GxKDB_views = GxKDB[(GxKDB['created_at'].dt.year == 2024) & (GxKDB['type'] == 'Tweet')].groupby(GxKDB['created_at'].dt.date)['view_count'].sum()\n",
    "HTTYDDB_views = HTTYDDB[(HTTYDDB['created_at'].dt.year == 2023) & (HTTYDDB['type'] == 'Tweet')].groupby(HTTYDDB['created_at'].dt.date)['view_count'].sum()\n",
    "JokerDB_views = JokerDB[(JokerDB['created_at'].dt.year == 2024) & (JokerDB['type'] == 'Tweet')].groupby(JokerDB['created_at'].dt.date)['view_count'].sum()\n",
    "ShazamDB_views = ShazamDB[(ShazamDB['created_at'].dt.year == 2023) & (ShazamDB['type'] == 'Tweet')].groupby(ShazamDB['created_at'].dt.date)['view_count'].sum()\n",
    "SupermanDB_views = SupermanDB[(SupermanDB['created_at'].dt.year == 2023) & (SupermanDB['type'] == 'Tweet')].groupby(SupermanDB['created_at'].dt.date)['view_count'].sum()\n",
    "ConjuringDB_views = ConjuringDB[(ConjuringDB['created_at'].dt.year == 2023) & (ConjuringDB['type'] == 'Tweet')].groupby(ConjuringDB['created_at'].dt.date)['view_count'].sum()\n",
    "WonkaDB_views = WonkaDB[(WonkaDB['created_at'].dt.year == 2023) & (WonkaDB['type'] == 'Tweet')].groupby(WonkaDB['created_at'].dt.date)['view_count'].sum()"
   ]
  },
  {
   "cell_type": "code",
   "execution_count": 37,
   "id": "4ab8c685-8e5a-4fcd-a447-3c8b3ee5bec2",
   "metadata": {},
   "outputs": [
    {
     "data": {
      "application/vnd.plotly.v1+json": {
       "config": {
        "plotlyServerURL": "https://plot.ly"
       },
       "data": [
        {
         "customdata": [
          [
           "Joker"
          ],
          [
           "Beetlejuice Beetlejuice"
          ],
          [
           "Dune 2"
          ],
          [
           "Godzilla x Kong: A New Empire"
          ]
         ],
         "domain": {
          "x": [
           0,
           1
          ],
          "y": [
           0,
           1
          ]
         },
         "hovertemplate": "Movies=%{customdata[0]}<br>Values=%{value}<extra></extra>",
         "labels": [
          "Joker",
          "Beetlejuice Beetlejuice",
          "Dune 2",
          "Godzilla x Kong: A New Empire"
         ],
         "legendgroup": "",
         "marker": {
          "colors": [
           "#009427",
           "#94008f",
           "#d16200",
           "#e6e600"
          ]
         },
         "name": "",
         "showlegend": true,
         "type": "pie",
         "values": [
          207500287,
          451900435,
          714644358,
          571850016
         ]
        }
       ],
       "layout": {
        "autosize": true,
        "legend": {
         "tracegroupgap": 0
        },
        "template": {
         "data": {
          "bar": [
           {
            "error_x": {
             "color": "#2a3f5f"
            },
            "error_y": {
             "color": "#2a3f5f"
            },
            "marker": {
             "line": {
              "color": "#E5ECF6",
              "width": 0.5
             },
             "pattern": {
              "fillmode": "overlay",
              "size": 10,
              "solidity": 0.2
             }
            },
            "type": "bar"
           }
          ],
          "barpolar": [
           {
            "marker": {
             "line": {
              "color": "#E5ECF6",
              "width": 0.5
             },
             "pattern": {
              "fillmode": "overlay",
              "size": 10,
              "solidity": 0.2
             }
            },
            "type": "barpolar"
           }
          ],
          "carpet": [
           {
            "aaxis": {
             "endlinecolor": "#2a3f5f",
             "gridcolor": "white",
             "linecolor": "white",
             "minorgridcolor": "white",
             "startlinecolor": "#2a3f5f"
            },
            "baxis": {
             "endlinecolor": "#2a3f5f",
             "gridcolor": "white",
             "linecolor": "white",
             "minorgridcolor": "white",
             "startlinecolor": "#2a3f5f"
            },
            "type": "carpet"
           }
          ],
          "choropleth": [
           {
            "colorbar": {
             "outlinewidth": 0,
             "ticks": ""
            },
            "type": "choropleth"
           }
          ],
          "contour": [
           {
            "colorbar": {
             "outlinewidth": 0,
             "ticks": ""
            },
            "colorscale": [
             [
              0,
              "#0d0887"
             ],
             [
              0.1111111111111111,
              "#46039f"
             ],
             [
              0.2222222222222222,
              "#7201a8"
             ],
             [
              0.3333333333333333,
              "#9c179e"
             ],
             [
              0.4444444444444444,
              "#bd3786"
             ],
             [
              0.5555555555555556,
              "#d8576b"
             ],
             [
              0.6666666666666666,
              "#ed7953"
             ],
             [
              0.7777777777777778,
              "#fb9f3a"
             ],
             [
              0.8888888888888888,
              "#fdca26"
             ],
             [
              1,
              "#f0f921"
             ]
            ],
            "type": "contour"
           }
          ],
          "contourcarpet": [
           {
            "colorbar": {
             "outlinewidth": 0,
             "ticks": ""
            },
            "type": "contourcarpet"
           }
          ],
          "heatmap": [
           {
            "colorbar": {
             "outlinewidth": 0,
             "ticks": ""
            },
            "colorscale": [
             [
              0,
              "#0d0887"
             ],
             [
              0.1111111111111111,
              "#46039f"
             ],
             [
              0.2222222222222222,
              "#7201a8"
             ],
             [
              0.3333333333333333,
              "#9c179e"
             ],
             [
              0.4444444444444444,
              "#bd3786"
             ],
             [
              0.5555555555555556,
              "#d8576b"
             ],
             [
              0.6666666666666666,
              "#ed7953"
             ],
             [
              0.7777777777777778,
              "#fb9f3a"
             ],
             [
              0.8888888888888888,
              "#fdca26"
             ],
             [
              1,
              "#f0f921"
             ]
            ],
            "type": "heatmap"
           }
          ],
          "heatmapgl": [
           {
            "colorbar": {
             "outlinewidth": 0,
             "ticks": ""
            },
            "colorscale": [
             [
              0,
              "#0d0887"
             ],
             [
              0.1111111111111111,
              "#46039f"
             ],
             [
              0.2222222222222222,
              "#7201a8"
             ],
             [
              0.3333333333333333,
              "#9c179e"
             ],
             [
              0.4444444444444444,
              "#bd3786"
             ],
             [
              0.5555555555555556,
              "#d8576b"
             ],
             [
              0.6666666666666666,
              "#ed7953"
             ],
             [
              0.7777777777777778,
              "#fb9f3a"
             ],
             [
              0.8888888888888888,
              "#fdca26"
             ],
             [
              1,
              "#f0f921"
             ]
            ],
            "type": "heatmapgl"
           }
          ],
          "histogram": [
           {
            "marker": {
             "pattern": {
              "fillmode": "overlay",
              "size": 10,
              "solidity": 0.2
             }
            },
            "type": "histogram"
           }
          ],
          "histogram2d": [
           {
            "colorbar": {
             "outlinewidth": 0,
             "ticks": ""
            },
            "colorscale": [
             [
              0,
              "#0d0887"
             ],
             [
              0.1111111111111111,
              "#46039f"
             ],
             [
              0.2222222222222222,
              "#7201a8"
             ],
             [
              0.3333333333333333,
              "#9c179e"
             ],
             [
              0.4444444444444444,
              "#bd3786"
             ],
             [
              0.5555555555555556,
              "#d8576b"
             ],
             [
              0.6666666666666666,
              "#ed7953"
             ],
             [
              0.7777777777777778,
              "#fb9f3a"
             ],
             [
              0.8888888888888888,
              "#fdca26"
             ],
             [
              1,
              "#f0f921"
             ]
            ],
            "type": "histogram2d"
           }
          ],
          "histogram2dcontour": [
           {
            "colorbar": {
             "outlinewidth": 0,
             "ticks": ""
            },
            "colorscale": [
             [
              0,
              "#0d0887"
             ],
             [
              0.1111111111111111,
              "#46039f"
             ],
             [
              0.2222222222222222,
              "#7201a8"
             ],
             [
              0.3333333333333333,
              "#9c179e"
             ],
             [
              0.4444444444444444,
              "#bd3786"
             ],
             [
              0.5555555555555556,
              "#d8576b"
             ],
             [
              0.6666666666666666,
              "#ed7953"
             ],
             [
              0.7777777777777778,
              "#fb9f3a"
             ],
             [
              0.8888888888888888,
              "#fdca26"
             ],
             [
              1,
              "#f0f921"
             ]
            ],
            "type": "histogram2dcontour"
           }
          ],
          "mesh3d": [
           {
            "colorbar": {
             "outlinewidth": 0,
             "ticks": ""
            },
            "type": "mesh3d"
           }
          ],
          "parcoords": [
           {
            "line": {
             "colorbar": {
              "outlinewidth": 0,
              "ticks": ""
             }
            },
            "type": "parcoords"
           }
          ],
          "pie": [
           {
            "automargin": true,
            "type": "pie"
           }
          ],
          "scatter": [
           {
            "fillpattern": {
             "fillmode": "overlay",
             "size": 10,
             "solidity": 0.2
            },
            "type": "scatter"
           }
          ],
          "scatter3d": [
           {
            "line": {
             "colorbar": {
              "outlinewidth": 0,
              "ticks": ""
             }
            },
            "marker": {
             "colorbar": {
              "outlinewidth": 0,
              "ticks": ""
             }
            },
            "type": "scatter3d"
           }
          ],
          "scattercarpet": [
           {
            "marker": {
             "colorbar": {
              "outlinewidth": 0,
              "ticks": ""
             }
            },
            "type": "scattercarpet"
           }
          ],
          "scattergeo": [
           {
            "marker": {
             "colorbar": {
              "outlinewidth": 0,
              "ticks": ""
             }
            },
            "type": "scattergeo"
           }
          ],
          "scattergl": [
           {
            "marker": {
             "colorbar": {
              "outlinewidth": 0,
              "ticks": ""
             }
            },
            "type": "scattergl"
           }
          ],
          "scattermapbox": [
           {
            "marker": {
             "colorbar": {
              "outlinewidth": 0,
              "ticks": ""
             }
            },
            "type": "scattermapbox"
           }
          ],
          "scatterpolar": [
           {
            "marker": {
             "colorbar": {
              "outlinewidth": 0,
              "ticks": ""
             }
            },
            "type": "scatterpolar"
           }
          ],
          "scatterpolargl": [
           {
            "marker": {
             "colorbar": {
              "outlinewidth": 0,
              "ticks": ""
             }
            },
            "type": "scatterpolargl"
           }
          ],
          "scatterternary": [
           {
            "marker": {
             "colorbar": {
              "outlinewidth": 0,
              "ticks": ""
             }
            },
            "type": "scatterternary"
           }
          ],
          "surface": [
           {
            "colorbar": {
             "outlinewidth": 0,
             "ticks": ""
            },
            "colorscale": [
             [
              0,
              "#0d0887"
             ],
             [
              0.1111111111111111,
              "#46039f"
             ],
             [
              0.2222222222222222,
              "#7201a8"
             ],
             [
              0.3333333333333333,
              "#9c179e"
             ],
             [
              0.4444444444444444,
              "#bd3786"
             ],
             [
              0.5555555555555556,
              "#d8576b"
             ],
             [
              0.6666666666666666,
              "#ed7953"
             ],
             [
              0.7777777777777778,
              "#fb9f3a"
             ],
             [
              0.8888888888888888,
              "#fdca26"
             ],
             [
              1,
              "#f0f921"
             ]
            ],
            "type": "surface"
           }
          ],
          "table": [
           {
            "cells": {
             "fill": {
              "color": "#EBF0F8"
             },
             "line": {
              "color": "white"
             }
            },
            "header": {
             "fill": {
              "color": "#C8D4E3"
             },
             "line": {
              "color": "white"
             }
            },
            "type": "table"
           }
          ]
         },
         "layout": {
          "annotationdefaults": {
           "arrowcolor": "#2a3f5f",
           "arrowhead": 0,
           "arrowwidth": 1
          },
          "autotypenumbers": "strict",
          "coloraxis": {
           "colorbar": {
            "outlinewidth": 0,
            "ticks": ""
           }
          },
          "colorscale": {
           "diverging": [
            [
             0,
             "#8e0152"
            ],
            [
             0.1,
             "#c51b7d"
            ],
            [
             0.2,
             "#de77ae"
            ],
            [
             0.3,
             "#f1b6da"
            ],
            [
             0.4,
             "#fde0ef"
            ],
            [
             0.5,
             "#f7f7f7"
            ],
            [
             0.6,
             "#e6f5d0"
            ],
            [
             0.7,
             "#b8e186"
            ],
            [
             0.8,
             "#7fbc41"
            ],
            [
             0.9,
             "#4d9221"
            ],
            [
             1,
             "#276419"
            ]
           ],
           "sequential": [
            [
             0,
             "#0d0887"
            ],
            [
             0.1111111111111111,
             "#46039f"
            ],
            [
             0.2222222222222222,
             "#7201a8"
            ],
            [
             0.3333333333333333,
             "#9c179e"
            ],
            [
             0.4444444444444444,
             "#bd3786"
            ],
            [
             0.5555555555555556,
             "#d8576b"
            ],
            [
             0.6666666666666666,
             "#ed7953"
            ],
            [
             0.7777777777777778,
             "#fb9f3a"
            ],
            [
             0.8888888888888888,
             "#fdca26"
            ],
            [
             1,
             "#f0f921"
            ]
           ],
           "sequentialminus": [
            [
             0,
             "#0d0887"
            ],
            [
             0.1111111111111111,
             "#46039f"
            ],
            [
             0.2222222222222222,
             "#7201a8"
            ],
            [
             0.3333333333333333,
             "#9c179e"
            ],
            [
             0.4444444444444444,
             "#bd3786"
            ],
            [
             0.5555555555555556,
             "#d8576b"
            ],
            [
             0.6666666666666666,
             "#ed7953"
            ],
            [
             0.7777777777777778,
             "#fb9f3a"
            ],
            [
             0.8888888888888888,
             "#fdca26"
            ],
            [
             1,
             "#f0f921"
            ]
           ]
          },
          "colorway": [
           "#636efa",
           "#EF553B",
           "#00cc96",
           "#ab63fa",
           "#FFA15A",
           "#19d3f3",
           "#FF6692",
           "#B6E880",
           "#FF97FF",
           "#FECB52"
          ],
          "font": {
           "color": "#2a3f5f"
          },
          "geo": {
           "bgcolor": "white",
           "lakecolor": "white",
           "landcolor": "#E5ECF6",
           "showlakes": true,
           "showland": true,
           "subunitcolor": "white"
          },
          "hoverlabel": {
           "align": "left"
          },
          "hovermode": "closest",
          "mapbox": {
           "style": "light"
          },
          "paper_bgcolor": "white",
          "plot_bgcolor": "#E5ECF6",
          "polar": {
           "angularaxis": {
            "gridcolor": "white",
            "linecolor": "white",
            "ticks": ""
           },
           "bgcolor": "#E5ECF6",
           "radialaxis": {
            "gridcolor": "white",
            "linecolor": "white",
            "ticks": ""
           }
          },
          "scene": {
           "xaxis": {
            "backgroundcolor": "#E5ECF6",
            "gridcolor": "white",
            "gridwidth": 2,
            "linecolor": "white",
            "showbackground": true,
            "ticks": "",
            "zerolinecolor": "white"
           },
           "yaxis": {
            "backgroundcolor": "#E5ECF6",
            "gridcolor": "white",
            "gridwidth": 2,
            "linecolor": "white",
            "showbackground": true,
            "ticks": "",
            "zerolinecolor": "white"
           },
           "zaxis": {
            "backgroundcolor": "#E5ECF6",
            "gridcolor": "white",
            "gridwidth": 2,
            "linecolor": "white",
            "showbackground": true,
            "ticks": "",
            "zerolinecolor": "white"
           }
          },
          "shapedefaults": {
           "line": {
            "color": "#2a3f5f"
           }
          },
          "ternary": {
           "aaxis": {
            "gridcolor": "white",
            "linecolor": "white",
            "ticks": ""
           },
           "baxis": {
            "gridcolor": "white",
            "linecolor": "white",
            "ticks": ""
           },
           "bgcolor": "#E5ECF6",
           "caxis": {
            "gridcolor": "white",
            "linecolor": "white",
            "ticks": ""
           }
          },
          "title": {
           "x": 0.05
          },
          "xaxis": {
           "automargin": true,
           "gridcolor": "white",
           "linecolor": "white",
           "ticks": "",
           "title": {
            "standoff": 15
           },
           "zerolinecolor": "white",
           "zerolinewidth": 2
          },
          "yaxis": {
           "automargin": true,
           "gridcolor": "white",
           "linecolor": "white",
           "ticks": "",
           "title": {
            "standoff": 15
           },
           "zerolinecolor": "white",
           "zerolinewidth": 2
          }
         }
        },
        "title": {
         "text": "Box Office Results of 2024 Movies"
        }
       }
      },
      "image/png": "[encoded data removed]",
      "text/html": [
       "<div>                            <div id=\"8ebeeef5-8201-4ca1-ade1-55f545d3c1ea\" class=\"plotly-graph-div\" style=\"height:525px; width:100%;\"></div>            <script type=\"text/javascript\">                require([\"plotly\"], function(Plotly) {                    window.PLOTLYENV=window.PLOTLYENV || {};                                    if (document.getElementById(\"8ebeeef5-8201-4ca1-ade1-55f545d3c1ea\")) {                    Plotly.newPlot(                        \"8ebeeef5-8201-4ca1-ade1-55f545d3c1ea\",                        [{\"customdata\":[[\"Joker\"],[\"Beetlejuice Beetlejuice\"],[\"Dune 2\"],[\"Godzilla x Kong: A New Empire\"]],\"domain\":{\"x\":[0.0,1.0],\"y\":[0.0,1.0]},\"hovertemplate\":\"Movies=%{customdata[0]}\\u003cbr\\u003eValues=%{value}\\u003cextra\\u003e\\u003c\\u002fextra\\u003e\",\"labels\":[\"Joker\",\"Beetlejuice Beetlejuice\",\"Dune 2\",\"Godzilla x Kong: A New Empire\"],\"legendgroup\":\"\",\"marker\":{\"colors\":[\"#009427\",\"#94008f\",\"#d16200\",\"#e6e600\"]},\"name\":\"\",\"showlegend\":true,\"values\":[207500287,451900435,714644358,571850016],\"type\":\"pie\"}],                        {\"template\":{\"data\":{\"histogram2dcontour\":[{\"type\":\"histogram2dcontour\",\"colorbar\":{\"outlinewidth\":0,\"ticks\":\"\"},\"colorscale\":[[0.0,\"#0d0887\"],[0.1111111111111111,\"#46039f\"],[0.2222222222222222,\"#7201a8\"],[0.3333333333333333,\"#9c179e\"],[0.4444444444444444,\"#bd3786\"],[0.5555555555555556,\"#d8576b\"],[0.6666666666666666,\"#ed7953\"],[0.7777777777777778,\"#fb9f3a\"],[0.8888888888888888,\"#fdca26\"],[1.0,\"#f0f921\"]]}],\"choropleth\":[{\"type\":\"choropleth\",\"colorbar\":{\"outlinewidth\":0,\"ticks\":\"\"}}],\"histogram2d\":[{\"type\":\"histogram2d\",\"colorbar\":{\"outlinewidth\":0,\"ticks\":\"\"},\"colorscale\":[[0.0,\"#0d0887\"],[0.1111111111111111,\"#46039f\"],[0.2222222222222222,\"#7201a8\"],[0.3333333333333333,\"#9c179e\"],[0.4444444444444444,\"#bd3786\"],[0.5555555555555556,\"#d8576b\"],[0.6666666666666666,\"#ed7953\"],[0.7777777777777778,\"#fb9f3a\"],[0.8888888888888888,\"#fdca26\"],[1.0,\"#f0f921\"]]}],\"heatmap\":[{\"type\":\"heatmap\",\"colorbar\":{\"outlinewidth\":0,\"ticks\":\"\"},\"colorscale\":[[0.0,\"#0d0887\"],[0.1111111111111111,\"#46039f\"],[0.2222222222222222,\"#7201a8\"],[0.3333333333333333,\"#9c179e\"],[0.4444444444444444,\"#bd3786\"],[0.5555555555555556,\"#d8576b\"],[0.6666666666666666,\"#ed7953\"],[0.7777777777777778,\"#fb9f3a\"],[0.8888888888888888,\"#fdca26\"],[1.0,\"#f0f921\"]]}],\"heatmapgl\":[{\"type\":\"heatmapgl\",\"colorbar\":{\"outlinewidth\":0,\"ticks\":\"\"},\"colorscale\":[[0.0,\"#0d0887\"],[0.1111111111111111,\"#46039f\"],[0.2222222222222222,\"#7201a8\"],[0.3333333333333333,\"#9c179e\"],[0.4444444444444444,\"#bd3786\"],[0.5555555555555556,\"#d8576b\"],[0.6666666666666666,\"#ed7953\"],[0.7777777777777778,\"#fb9f3a\"],[0.8888888888888888,\"#fdca26\"],[1.0,\"#f0f921\"]]}],\"contourcarpet\":[{\"type\":\"contourcarpet\",\"colorbar\":{\"outlinewidth\":0,\"ticks\":\"\"}}],\"contour\":[{\"type\":\"contour\",\"colorbar\":{\"outlinewidth\":0,\"ticks\":\"\"},\"colorscale\":[[0.0,\"#0d0887\"],[0.1111111111111111,\"#46039f\"],[0.2222222222222222,\"#7201a8\"],[0.3333333333333333,\"#9c179e\"],[0.4444444444444444,\"#bd3786\"],[0.5555555555555556,\"#d8576b\"],[0.6666666666666666,\"#ed7953\"],[0.7777777777777778,\"#fb9f3a\"],[0.8888888888888888,\"#fdca26\"],[1.0,\"#f0f921\"]]}],\"surface\":[{\"type\":\"surface\",\"colorbar\":{\"outlinewidth\":0,\"ticks\":\"\"},\"colorscale\":[[0.0,\"#0d0887\"],[0.1111111111111111,\"#46039f\"],[0.2222222222222222,\"#7201a8\"],[0.3333333333333333,\"#9c179e\"],[0.4444444444444444,\"#bd3786\"],[0.5555555555555556,\"#d8576b\"],[0.6666666666666666,\"#ed7953\"],[0.7777777777777778,\"#fb9f3a\"],[0.8888888888888888,\"#fdca26\"],[1.0,\"#f0f921\"]]}],\"mesh3d\":[{\"type\":\"mesh3d\",\"colorbar\":{\"outlinewidth\":0,\"ticks\":\"\"}}],\"scatter\":[{\"fillpattern\":{\"fillmode\":\"overlay\",\"size\":10,\"solidity\":0.2},\"type\":\"scatter\"}],\"parcoords\":[{\"type\":\"parcoords\",\"line\":{\"colorbar\":{\"outlinewidth\":0,\"ticks\":\"\"}}}],\"scatterpolargl\":[{\"type\":\"scatterpolargl\",\"marker\":{\"colorbar\":{\"outlinewidth\":0,\"ticks\":\"\"}}}],\"bar\":[{\"error_x\":{\"color\":\"#2a3f5f\"},\"error_y\":{\"color\":\"#2a3f5f\"},\"marker\":{\"line\":{\"color\":\"#E5ECF6\",\"width\":0.5},\"pattern\":{\"fillmode\":\"overlay\",\"size\":10,\"solidity\":0.2}},\"type\":\"bar\"}],\"scattergeo\":[{\"type\":\"scattergeo\",\"marker\":{\"colorbar\":{\"outlinewidth\":0,\"ticks\":\"\"}}}],\"scatterpolar\":[{\"type\":\"scatterpolar\",\"marker\":{\"colorbar\":{\"outlinewidth\":0,\"ticks\":\"\"}}}],\"histogram\":[{\"marker\":{\"pattern\":{\"fillmode\":\"overlay\",\"size\":10,\"solidity\":0.2}},\"type\":\"histogram\"}],\"scattergl\":[{\"type\":\"scattergl\",\"marker\":{\"colorbar\":{\"outlinewidth\":0,\"ticks\":\"\"}}}],\"scatter3d\":[{\"type\":\"scatter3d\",\"line\":{\"colorbar\":{\"outlinewidth\":0,\"ticks\":\"\"}},\"marker\":{\"colorbar\":{\"outlinewidth\":0,\"ticks\":\"\"}}}],\"scattermapbox\":[{\"type\":\"scattermapbox\",\"marker\":{\"colorbar\":{\"outlinewidth\":0,\"ticks\":\"\"}}}],\"scatterternary\":[{\"type\":\"scatterternary\",\"marker\":{\"colorbar\":{\"outlinewidth\":0,\"ticks\":\"\"}}}],\"scattercarpet\":[{\"type\":\"scattercarpet\",\"marker\":{\"colorbar\":{\"outlinewidth\":0,\"ticks\":\"\"}}}],\"carpet\":[{\"aaxis\":{\"endlinecolor\":\"#2a3f5f\",\"gridcolor\":\"white\",\"linecolor\":\"white\",\"minorgridcolor\":\"white\",\"startlinecolor\":\"#2a3f5f\"},\"baxis\":{\"endlinecolor\":\"#2a3f5f\",\"gridcolor\":\"white\",\"linecolor\":\"white\",\"minorgridcolor\":\"white\",\"startlinecolor\":\"#2a3f5f\"},\"type\":\"carpet\"}],\"table\":[{\"cells\":{\"fill\":{\"color\":\"#EBF0F8\"},\"line\":{\"color\":\"white\"}},\"header\":{\"fill\":{\"color\":\"#C8D4E3\"},\"line\":{\"color\":\"white\"}},\"type\":\"table\"}],\"barpolar\":[{\"marker\":{\"line\":{\"color\":\"#E5ECF6\",\"width\":0.5},\"pattern\":{\"fillmode\":\"overlay\",\"size\":10,\"solidity\":0.2}},\"type\":\"barpolar\"}],\"pie\":[{\"automargin\":true,\"type\":\"pie\"}]},\"layout\":{\"autotypenumbers\":\"strict\",\"colorway\":[\"#636efa\",\"#EF553B\",\"#00cc96\",\"#ab63fa\",\"#FFA15A\",\"#19d3f3\",\"#FF6692\",\"#B6E880\",\"#FF97FF\",\"#FECB52\"],\"font\":{\"color\":\"#2a3f5f\"},\"hovermode\":\"closest\",\"hoverlabel\":{\"align\":\"left\"},\"paper_bgcolor\":\"white\",\"plot_bgcolor\":\"#E5ECF6\",\"polar\":{\"bgcolor\":\"#E5ECF6\",\"angularaxis\":{\"gridcolor\":\"white\",\"linecolor\":\"white\",\"ticks\":\"\"},\"radialaxis\":{\"gridcolor\":\"white\",\"linecolor\":\"white\",\"ticks\":\"\"}},\"ternary\":{\"bgcolor\":\"#E5ECF6\",\"aaxis\":{\"gridcolor\":\"white\",\"linecolor\":\"white\",\"ticks\":\"\"},\"baxis\":{\"gridcolor\":\"white\",\"linecolor\":\"white\",\"ticks\":\"\"},\"caxis\":{\"gridcolor\":\"white\",\"linecolor\":\"white\",\"ticks\":\"\"}},\"coloraxis\":{\"colorbar\":{\"outlinewidth\":0,\"ticks\":\"\"}},\"colorscale\":{\"sequential\":[[0.0,\"#0d0887\"],[0.1111111111111111,\"#46039f\"],[0.2222222222222222,\"#7201a8\"],[0.3333333333333333,\"#9c179e\"],[0.4444444444444444,\"#bd3786\"],[0.5555555555555556,\"#d8576b\"],[0.6666666666666666,\"#ed7953\"],[0.7777777777777778,\"#fb9f3a\"],[0.8888888888888888,\"#fdca26\"],[1.0,\"#f0f921\"]],\"sequentialminus\":[[0.0,\"#0d0887\"],[0.1111111111111111,\"#46039f\"],[0.2222222222222222,\"#7201a8\"],[0.3333333333333333,\"#9c179e\"],[0.4444444444444444,\"#bd3786\"],[0.5555555555555556,\"#d8576b\"],[0.6666666666666666,\"#ed7953\"],[0.7777777777777778,\"#fb9f3a\"],[0.8888888888888888,\"#fdca26\"],[1.0,\"#f0f921\"]],\"diverging\":[[0,\"#8e0152\"],[0.1,\"#c51b7d\"],[0.2,\"#de77ae\"],[0.3,\"#f1b6da\"],[0.4,\"#fde0ef\"],[0.5,\"#f7f7f7\"],[0.6,\"#e6f5d0\"],[0.7,\"#b8e186\"],[0.8,\"#7fbc41\"],[0.9,\"#4d9221\"],[1,\"#276419\"]]},\"xaxis\":{\"gridcolor\":\"white\",\"linecolor\":\"white\",\"ticks\":\"\",\"title\":{\"standoff\":15},\"zerolinecolor\":\"white\",\"automargin\":true,\"zerolinewidth\":2},\"yaxis\":{\"gridcolor\":\"white\",\"linecolor\":\"white\",\"ticks\":\"\",\"title\":{\"standoff\":15},\"zerolinecolor\":\"white\",\"automargin\":true,\"zerolinewidth\":2},\"scene\":{\"xaxis\":{\"backgroundcolor\":\"#E5ECF6\",\"gridcolor\":\"white\",\"linecolor\":\"white\",\"showbackground\":true,\"ticks\":\"\",\"zerolinecolor\":\"white\",\"gridwidth\":2},\"yaxis\":{\"backgroundcolor\":\"#E5ECF6\",\"gridcolor\":\"white\",\"linecolor\":\"white\",\"showbackground\":true,\"ticks\":\"\",\"zerolinecolor\":\"white\",\"gridwidth\":2},\"zaxis\":{\"backgroundcolor\":\"#E5ECF6\",\"gridcolor\":\"white\",\"linecolor\":\"white\",\"showbackground\":true,\"ticks\":\"\",\"zerolinecolor\":\"white\",\"gridwidth\":2}},\"shapedefaults\":{\"line\":{\"color\":\"#2a3f5f\"}},\"annotationdefaults\":{\"arrowcolor\":\"#2a3f5f\",\"arrowhead\":0,\"arrowwidth\":1},\"geo\":{\"bgcolor\":\"white\",\"landcolor\":\"#E5ECF6\",\"subunitcolor\":\"white\",\"showland\":true,\"showlakes\":true,\"lakecolor\":\"white\"},\"title\":{\"x\":0.05},\"mapbox\":{\"style\":\"light\"}}},\"legend\":{\"tracegroupgap\":0},\"title\":{\"text\":\"Box Office Results of 2024 Movies\"}},                        {\"responsive\": true}                    ).then(function(){\n",
       "                            \n",
       "var gd = document.getElementById('8ebeeef5-8201-4ca1-ade1-55f545d3c1ea');\n",
       "var x = new MutationObserver(function (mutations, observer) {{\n",
       "        var display = window.getComputedStyle(gd).display;\n",
       "        if (!display || display === 'none') {{\n",
       "            console.log([gd, 'removed!']);\n",
       "            Plotly.purge(gd);\n",
       "            observer.disconnect();\n",
       "        }}\n",
       "}});\n",
       "\n",
       "// Listen for the removal of the full notebook cells\n",
       "var notebookContainer = gd.closest('#notebook-container');\n",
       "if (notebookContainer) {{\n",
       "    x.observe(notebookContainer, {childList: true});\n",
       "}}\n",
       "\n",
       "// Listen for the clearing of the current output cell\n",
       "var outputEl = gd.closest('.output');\n",
       "if (outputEl) {{\n",
       "    x.observe(outputEl, {childList: true});\n",
       "}}\n",
       "\n",
       "                        })                };                });            </script>        </div>"
      ]
     },
     "metadata": {},
     "output_type": "display_data"
    }
   ],
   "source": [
    "data = {\n",
    "    'Movies': ['Joker', 'Beetlejuice Beetlejuice', 'Dune 2', 'Godzilla x Kong: A New Empire'],\n",
    "    'Values': [207500287, 451900435, 714644358, 571850016]\n",
    "}\n",
    "\n",
    "df = pd.DataFrame(data)\n",
    "\n",
    "custom_colors = {\n",
    "    'Joker': '#009427',\n",
    "    'Beetlejuice Beetlejuice': '#94008f',\n",
    "    'Dune 2': '#d16200',\n",
    "    'Godzilla x Kong: A New Empire': '#e6e600'\n",
    "}\n",
    "\n",
    "fig = px.pie(\n",
    "    df,\n",
    "    names='Movies',\n",
    "    values='Values',\n",
    "    title='Box Office Results of 2024 Movies',\n",
    "    color='Movies',\n",
    "    color_discrete_map=custom_colors\n",
    ")\n",
    "\n",
    "fig.show()\n",
    "html_file = '2024BO.html'\n",
    "fig.write_html(html_file)\n"
   ]
  },
  {
   "cell_type": "code",
   "execution_count": 38,
   "id": "73f94e98-4d98-4a30-97a2-621ed3e54afe",
   "metadata": {},
   "outputs": [
    {
     "data": {
      "application/vnd.plotly.v1+json": {
       "config": {
        "plotlyServerURL": "https://plot.ly"
       },
       "data": [
        {
         "customdata": [
          [
           "DuneDB"
          ],
          [
           "GxKDB"
          ],
          [
           "BeetlejuiceDB"
          ],
          [
           "JokerDB"
          ]
         ],
         "domain": {
          "x": [
           0,
           1
          ],
          "y": [
           0,
           1
          ]
         },
         "hovertemplate": "Database=%{customdata[0]}<br>Average View Count=%{value}<extra></extra>",
         "labels": [
          "DuneDB",
          "GxKDB",
          "BeetlejuiceDB",
          "JokerDB"
         ],
         "legendgroup": "",
         "marker": {
          "colors": [
           "#d16200",
           "#e6e600",
           "#94008f",
           "#009427"
          ]
         },
         "name": "",
         "showlegend": true,
         "type": "pie",
         "values": [
          271385.35279187816,
          1017806.2412451361,
          166320.6913580247,
          494511.84
         ]
        }
       ],
       "layout": {
        "autosize": true,
        "legend": {
         "tracegroupgap": 0
        },
        "template": {
         "data": {
          "bar": [
           {
            "error_x": {
             "color": "#2a3f5f"
            },
            "error_y": {
             "color": "#2a3f5f"
            },
            "marker": {
             "line": {
              "color": "#E5ECF6",
              "width": 0.5
             },
             "pattern": {
              "fillmode": "overlay",
              "size": 10,
              "solidity": 0.2
             }
            },
            "type": "bar"
           }
          ],
          "barpolar": [
           {
            "marker": {
             "line": {
              "color": "#E5ECF6",
              "width": 0.5
             },
             "pattern": {
              "fillmode": "overlay",
              "size": 10,
              "solidity": 0.2
             }
            },
            "type": "barpolar"
           }
          ],
          "carpet": [
           {
            "aaxis": {
             "endlinecolor": "#2a3f5f",
             "gridcolor": "white",
             "linecolor": "white",
             "minorgridcolor": "white",
             "startlinecolor": "#2a3f5f"
            },
            "baxis": {
             "endlinecolor": "#2a3f5f",
             "gridcolor": "white",
             "linecolor": "white",
             "minorgridcolor": "white",
             "startlinecolor": "#2a3f5f"
            },
            "type": "carpet"
           }
          ],
          "choropleth": [
           {
            "colorbar": {
             "outlinewidth": 0,
             "ticks": ""
            },
            "type": "choropleth"
           }
          ],
          "contour": [
           {
            "colorbar": {
             "outlinewidth": 0,
             "ticks": ""
            },
            "colorscale": [
             [
              0,
              "#0d0887"
             ],
             [
              0.1111111111111111,
              "#46039f"
             ],
             [
              0.2222222222222222,
              "#7201a8"
             ],
             [
              0.3333333333333333,
              "#9c179e"
             ],
             [
              0.4444444444444444,
              "#bd3786"
             ],
             [
              0.5555555555555556,
              "#d8576b"
             ],
             [
              0.6666666666666666,
              "#ed7953"
             ],
             [
              0.7777777777777778,
              "#fb9f3a"
             ],
             [
              0.8888888888888888,
              "#fdca26"
             ],
             [
              1,
              "#f0f921"
             ]
            ],
            "type": "contour"
           }
          ],
          "contourcarpet": [
           {
            "colorbar": {
             "outlinewidth": 0,
             "ticks": ""
            },
            "type": "contourcarpet"
           }
          ],
          "heatmap": [
           {
            "colorbar": {
             "outlinewidth": 0,
             "ticks": ""
            },
            "colorscale": [
             [
              0,
              "#0d0887"
             ],
             [
              0.1111111111111111,
              "#46039f"
             ],
             [
              0.2222222222222222,
              "#7201a8"
             ],
             [
              0.3333333333333333,
              "#9c179e"
             ],
             [
              0.4444444444444444,
              "#bd3786"
             ],
             [
              0.5555555555555556,
              "#d8576b"
             ],
             [
              0.6666666666666666,
              "#ed7953"
             ],
             [
              0.7777777777777778,
              "#fb9f3a"
             ],
             [
              0.8888888888888888,
              "#fdca26"
             ],
             [
              1,
              "#f0f921"
             ]
            ],
            "type": "heatmap"
           }
          ],
          "heatmapgl": [
           {
            "colorbar": {
             "outlinewidth": 0,
             "ticks": ""
            },
            "colorscale": [
             [
              0,
              "#0d0887"
             ],
             [
              0.1111111111111111,
              "#46039f"
             ],
             [
              0.2222222222222222,
              "#7201a8"
             ],
             [
              0.3333333333333333,
              "#9c179e"
             ],
             [
              0.4444444444444444,
              "#bd3786"
             ],
             [
              0.5555555555555556,
              "#d8576b"
             ],
             [
              0.6666666666666666,
              "#ed7953"
             ],
             [
              0.7777777777777778,
              "#fb9f3a"
             ],
             [
              0.8888888888888888,
              "#fdca26"
             ],
             [
              1,
              "#f0f921"
             ]
            ],
            "type": "heatmapgl"
           }
          ],
          "histogram": [
           {
            "marker": {
             "pattern": {
              "fillmode": "overlay",
              "size": 10,
              "solidity": 0.2
             }
            },
            "type": "histogram"
           }
          ],
          "histogram2d": [
           {
            "colorbar": {
             "outlinewidth": 0,
             "ticks": ""
            },
            "colorscale": [
             [
              0,
              "#0d0887"
             ],
             [
              0.1111111111111111,
              "#46039f"
             ],
             [
              0.2222222222222222,
              "#7201a8"
             ],
             [
              0.3333333333333333,
              "#9c179e"
             ],
             [
              0.4444444444444444,
              "#bd3786"
             ],
             [
              0.5555555555555556,
              "#d8576b"
             ],
             [
              0.6666666666666666,
              "#ed7953"
             ],
             [
              0.7777777777777778,
              "#fb9f3a"
             ],
             [
              0.8888888888888888,
              "#fdca26"
             ],
             [
              1,
              "#f0f921"
             ]
            ],
            "type": "histogram2d"
           }
          ],
          "histogram2dcontour": [
           {
            "colorbar": {
             "outlinewidth": 0,
             "ticks": ""
            },
            "colorscale": [
             [
              0,
              "#0d0887"
             ],
             [
              0.1111111111111111,
              "#46039f"
             ],
             [
              0.2222222222222222,
              "#7201a8"
             ],
             [
              0.3333333333333333,
              "#9c179e"
             ],
             [
              0.4444444444444444,
              "#bd3786"
             ],
             [
              0.5555555555555556,
              "#d8576b"
             ],
             [
              0.6666666666666666,
              "#ed7953"
             ],
             [
              0.7777777777777778,
              "#fb9f3a"
             ],
             [
              0.8888888888888888,
              "#fdca26"
             ],
             [
              1,
              "#f0f921"
             ]
            ],
            "type": "histogram2dcontour"
           }
          ],
          "mesh3d": [
           {
            "colorbar": {
             "outlinewidth": 0,
             "ticks": ""
            },
            "type": "mesh3d"
           }
          ],
          "parcoords": [
           {
            "line": {
             "colorbar": {
              "outlinewidth": 0,
              "ticks": ""
             }
            },
            "type": "parcoords"
           }
          ],
          "pie": [
           {
            "automargin": true,
            "type": "pie"
           }
          ],
          "scatter": [
           {
            "fillpattern": {
             "fillmode": "overlay",
             "size": 10,
             "solidity": 0.2
            },
            "type": "scatter"
           }
          ],
          "scatter3d": [
           {
            "line": {
             "colorbar": {
              "outlinewidth": 0,
              "ticks": ""
             }
            },
            "marker": {
             "colorbar": {
              "outlinewidth": 0,
              "ticks": ""
             }
            },
            "type": "scatter3d"
           }
          ],
          "scattercarpet": [
           {
            "marker": {
             "colorbar": {
              "outlinewidth": 0,
              "ticks": ""
             }
            },
            "type": "scattercarpet"
           }
          ],
          "scattergeo": [
           {
            "marker": {
             "colorbar": {
              "outlinewidth": 0,
              "ticks": ""
             }
            },
            "type": "scattergeo"
           }
          ],
          "scattergl": [
           {
            "marker": {
             "colorbar": {
              "outlinewidth": 0,
              "ticks": ""
             }
            },
            "type": "scattergl"
           }
          ],
          "scattermapbox": [
           {
            "marker": {
             "colorbar": {
              "outlinewidth": 0,
              "ticks": ""
             }
            },
            "type": "scattermapbox"
           }
          ],
          "scatterpolar": [
           {
            "marker": {
             "colorbar": {
              "outlinewidth": 0,
              "ticks": ""
             }
            },
            "type": "scatterpolar"
           }
          ],
          "scatterpolargl": [
           {
            "marker": {
             "colorbar": {
              "outlinewidth": 0,
              "ticks": ""
             }
            },
            "type": "scatterpolargl"
           }
          ],
          "scatterternary": [
           {
            "marker": {
             "colorbar": {
              "outlinewidth": 0,
              "ticks": ""
             }
            },
            "type": "scatterternary"
           }
          ],
          "surface": [
           {
            "colorbar": {
             "outlinewidth": 0,
             "ticks": ""
            },
            "colorscale": [
             [
              0,
              "#0d0887"
             ],
             [
              0.1111111111111111,
              "#46039f"
             ],
             [
              0.2222222222222222,
              "#7201a8"
             ],
             [
              0.3333333333333333,
              "#9c179e"
             ],
             [
              0.4444444444444444,
              "#bd3786"
             ],
             [
              0.5555555555555556,
              "#d8576b"
             ],
             [
              0.6666666666666666,
              "#ed7953"
             ],
             [
              0.7777777777777778,
              "#fb9f3a"
             ],
             [
              0.8888888888888888,
              "#fdca26"
             ],
             [
              1,
              "#f0f921"
             ]
            ],
            "type": "surface"
           }
          ],
          "table": [
           {
            "cells": {
             "fill": {
              "color": "#EBF0F8"
             },
             "line": {
              "color": "white"
             }
            },
            "header": {
             "fill": {
              "color": "#C8D4E3"
             },
             "line": {
              "color": "white"
             }
            },
            "type": "table"
           }
          ]
         },
         "layout": {
          "annotationdefaults": {
           "arrowcolor": "#2a3f5f",
           "arrowhead": 0,
           "arrowwidth": 1
          },
          "autotypenumbers": "strict",
          "coloraxis": {
           "colorbar": {
            "outlinewidth": 0,
            "ticks": ""
           }
          },
          "colorscale": {
           "diverging": [
            [
             0,
             "#8e0152"
            ],
            [
             0.1,
             "#c51b7d"
            ],
            [
             0.2,
             "#de77ae"
            ],
            [
             0.3,
             "#f1b6da"
            ],
            [
             0.4,
             "#fde0ef"
            ],
            [
             0.5,
             "#f7f7f7"
            ],
            [
             0.6,
             "#e6f5d0"
            ],
            [
             0.7,
             "#b8e186"
            ],
            [
             0.8,
             "#7fbc41"
            ],
            [
             0.9,
             "#4d9221"
            ],
            [
             1,
             "#276419"
            ]
           ],
           "sequential": [
            [
             0,
             "#0d0887"
            ],
            [
             0.1111111111111111,
             "#46039f"
            ],
            [
             0.2222222222222222,
             "#7201a8"
            ],
            [
             0.3333333333333333,
             "#9c179e"
            ],
            [
             0.4444444444444444,
             "#bd3786"
            ],
            [
             0.5555555555555556,
             "#d8576b"
            ],
            [
             0.6666666666666666,
             "#ed7953"
            ],
            [
             0.7777777777777778,
             "#fb9f3a"
            ],
            [
             0.8888888888888888,
             "#fdca26"
            ],
            [
             1,
             "#f0f921"
            ]
           ],
           "sequentialminus": [
            [
             0,
             "#0d0887"
            ],
            [
             0.1111111111111111,
             "#46039f"
            ],
            [
             0.2222222222222222,
             "#7201a8"
            ],
            [
             0.3333333333333333,
             "#9c179e"
            ],
            [
             0.4444444444444444,
             "#bd3786"
            ],
            [
             0.5555555555555556,
             "#d8576b"
            ],
            [
             0.6666666666666666,
             "#ed7953"
            ],
            [
             0.7777777777777778,
             "#fb9f3a"
            ],
            [
             0.8888888888888888,
             "#fdca26"
            ],
            [
             1,
             "#f0f921"
            ]
           ]
          },
          "colorway": [
           "#636efa",
           "#EF553B",
           "#00cc96",
           "#ab63fa",
           "#FFA15A",
           "#19d3f3",
           "#FF6692",
           "#B6E880",
           "#FF97FF",
           "#FECB52"
          ],
          "font": {
           "color": "#2a3f5f"
          },
          "geo": {
           "bgcolor": "white",
           "lakecolor": "white",
           "landcolor": "#E5ECF6",
           "showlakes": true,
           "showland": true,
           "subunitcolor": "white"
          },
          "hoverlabel": {
           "align": "left"
          },
          "hovermode": "closest",
          "mapbox": {
           "style": "light"
          },
          "paper_bgcolor": "white",
          "plot_bgcolor": "#E5ECF6",
          "polar": {
           "angularaxis": {
            "gridcolor": "white",
            "linecolor": "white",
            "ticks": ""
           },
           "bgcolor": "#E5ECF6",
           "radialaxis": {
            "gridcolor": "white",
            "linecolor": "white",
            "ticks": ""
           }
          },
          "scene": {
           "xaxis": {
            "backgroundcolor": "#E5ECF6",
            "gridcolor": "white",
            "gridwidth": 2,
            "linecolor": "white",
            "showbackground": true,
            "ticks": "",
            "zerolinecolor": "white"
           },
           "yaxis": {
            "backgroundcolor": "#E5ECF6",
            "gridcolor": "white",
            "gridwidth": 2,
            "linecolor": "white",
            "showbackground": true,
            "ticks": "",
            "zerolinecolor": "white"
           },
           "zaxis": {
            "backgroundcolor": "#E5ECF6",
            "gridcolor": "white",
            "gridwidth": 2,
            "linecolor": "white",
            "showbackground": true,
            "ticks": "",
            "zerolinecolor": "white"
           }
          },
          "shapedefaults": {
           "line": {
            "color": "#2a3f5f"
           }
          },
          "ternary": {
           "aaxis": {
            "gridcolor": "white",
            "linecolor": "white",
            "ticks": ""
           },
           "baxis": {
            "gridcolor": "white",
            "linecolor": "white",
            "ticks": ""
           },
           "bgcolor": "#E5ECF6",
           "caxis": {
            "gridcolor": "white",
            "linecolor": "white",
            "ticks": ""
           }
          },
          "title": {
           "x": 0.05
          },
          "xaxis": {
           "automargin": true,
           "gridcolor": "white",
           "linecolor": "white",
           "ticks": "",
           "title": {
            "standoff": 15
           },
           "zerolinecolor": "white",
           "zerolinewidth": 2
          },
          "yaxis": {
           "automargin": true,
           "gridcolor": "white",
           "linecolor": "white",
           "ticks": "",
           "title": {
            "standoff": 15
           },
           "zerolinecolor": "white",
           "zerolinewidth": 2
          }
         }
        },
        "title": {
         "text": "Percentage of Total views"
        }
       }
      },
      "image/png": "[encoded data removed]",
      "text/html": [
       "<div>                            <div id=\"4ec5e270-8548-41a1-8d0b-2198e0f563df\" class=\"plotly-graph-div\" style=\"height:525px; width:100%;\"></div>            <script type=\"text/javascript\">                require([\"plotly\"], function(Plotly) {                    window.PLOTLYENV=window.PLOTLYENV || {};                                    if (document.getElementById(\"4ec5e270-8548-41a1-8d0b-2198e0f563df\")) {                    Plotly.newPlot(                        \"4ec5e270-8548-41a1-8d0b-2198e0f563df\",                        [{\"customdata\":[[\"DuneDB\"],[\"GxKDB\"],[\"BeetlejuiceDB\"],[\"JokerDB\"]],\"domain\":{\"x\":[0.0,1.0],\"y\":[0.0,1.0]},\"hovertemplate\":\"Database=%{customdata[0]}\\u003cbr\\u003eAverage View Count=%{value}\\u003cextra\\u003e\\u003c\\u002fextra\\u003e\",\"labels\":[\"DuneDB\",\"GxKDB\",\"BeetlejuiceDB\",\"JokerDB\"],\"legendgroup\":\"\",\"marker\":{\"colors\":[\"#d16200\",\"#e6e600\",\"#94008f\",\"#009427\"]},\"name\":\"\",\"showlegend\":true,\"values\":[271385.35279187816,1017806.2412451361,166320.6913580247,494511.84],\"type\":\"pie\"}],                        {\"template\":{\"data\":{\"histogram2dcontour\":[{\"type\":\"histogram2dcontour\",\"colorbar\":{\"outlinewidth\":0,\"ticks\":\"\"},\"colorscale\":[[0.0,\"#0d0887\"],[0.1111111111111111,\"#46039f\"],[0.2222222222222222,\"#7201a8\"],[0.3333333333333333,\"#9c179e\"],[0.4444444444444444,\"#bd3786\"],[0.5555555555555556,\"#d8576b\"],[0.6666666666666666,\"#ed7953\"],[0.7777777777777778,\"#fb9f3a\"],[0.8888888888888888,\"#fdca26\"],[1.0,\"#f0f921\"]]}],\"choropleth\":[{\"type\":\"choropleth\",\"colorbar\":{\"outlinewidth\":0,\"ticks\":\"\"}}],\"histogram2d\":[{\"type\":\"histogram2d\",\"colorbar\":{\"outlinewidth\":0,\"ticks\":\"\"},\"colorscale\":[[0.0,\"#0d0887\"],[0.1111111111111111,\"#46039f\"],[0.2222222222222222,\"#7201a8\"],[0.3333333333333333,\"#9c179e\"],[0.4444444444444444,\"#bd3786\"],[0.5555555555555556,\"#d8576b\"],[0.6666666666666666,\"#ed7953\"],[0.7777777777777778,\"#fb9f3a\"],[0.8888888888888888,\"#fdca26\"],[1.0,\"#f0f921\"]]}],\"heatmap\":[{\"type\":\"heatmap\",\"colorbar\":{\"outlinewidth\":0,\"ticks\":\"\"},\"colorscale\":[[0.0,\"#0d0887\"],[0.1111111111111111,\"#46039f\"],[0.2222222222222222,\"#7201a8\"],[0.3333333333333333,\"#9c179e\"],[0.4444444444444444,\"#bd3786\"],[0.5555555555555556,\"#d8576b\"],[0.6666666666666666,\"#ed7953\"],[0.7777777777777778,\"#fb9f3a\"],[0.8888888888888888,\"#fdca26\"],[1.0,\"#f0f921\"]]}],\"heatmapgl\":[{\"type\":\"heatmapgl\",\"colorbar\":{\"outlinewidth\":0,\"ticks\":\"\"},\"colorscale\":[[0.0,\"#0d0887\"],[0.1111111111111111,\"#46039f\"],[0.2222222222222222,\"#7201a8\"],[0.3333333333333333,\"#9c179e\"],[0.4444444444444444,\"#bd3786\"],[0.5555555555555556,\"#d8576b\"],[0.6666666666666666,\"#ed7953\"],[0.7777777777777778,\"#fb9f3a\"],[0.8888888888888888,\"#fdca26\"],[1.0,\"#f0f921\"]]}],\"contourcarpet\":[{\"type\":\"contourcarpet\",\"colorbar\":{\"outlinewidth\":0,\"ticks\":\"\"}}],\"contour\":[{\"type\":\"contour\",\"colorbar\":{\"outlinewidth\":0,\"ticks\":\"\"},\"colorscale\":[[0.0,\"#0d0887\"],[0.1111111111111111,\"#46039f\"],[0.2222222222222222,\"#7201a8\"],[0.3333333333333333,\"#9c179e\"],[0.4444444444444444,\"#bd3786\"],[0.5555555555555556,\"#d8576b\"],[0.6666666666666666,\"#ed7953\"],[0.7777777777777778,\"#fb9f3a\"],[0.8888888888888888,\"#fdca26\"],[1.0,\"#f0f921\"]]}],\"surface\":[{\"type\":\"surface\",\"colorbar\":{\"outlinewidth\":0,\"ticks\":\"\"},\"colorscale\":[[0.0,\"#0d0887\"],[0.1111111111111111,\"#46039f\"],[0.2222222222222222,\"#7201a8\"],[0.3333333333333333,\"#9c179e\"],[0.4444444444444444,\"#bd3786\"],[0.5555555555555556,\"#d8576b\"],[0.6666666666666666,\"#ed7953\"],[0.7777777777777778,\"#fb9f3a\"],[0.8888888888888888,\"#fdca26\"],[1.0,\"#f0f921\"]]}],\"mesh3d\":[{\"type\":\"mesh3d\",\"colorbar\":{\"outlinewidth\":0,\"ticks\":\"\"}}],\"scatter\":[{\"fillpattern\":{\"fillmode\":\"overlay\",\"size\":10,\"solidity\":0.2},\"type\":\"scatter\"}],\"parcoords\":[{\"type\":\"parcoords\",\"line\":{\"colorbar\":{\"outlinewidth\":0,\"ticks\":\"\"}}}],\"scatterpolargl\":[{\"type\":\"scatterpolargl\",\"marker\":{\"colorbar\":{\"outlinewidth\":0,\"ticks\":\"\"}}}],\"bar\":[{\"error_x\":{\"color\":\"#2a3f5f\"},\"error_y\":{\"color\":\"#2a3f5f\"},\"marker\":{\"line\":{\"color\":\"#E5ECF6\",\"width\":0.5},\"pattern\":{\"fillmode\":\"overlay\",\"size\":10,\"solidity\":0.2}},\"type\":\"bar\"}],\"scattergeo\":[{\"type\":\"scattergeo\",\"marker\":{\"colorbar\":{\"outlinewidth\":0,\"ticks\":\"\"}}}],\"scatterpolar\":[{\"type\":\"scatterpolar\",\"marker\":{\"colorbar\":{\"outlinewidth\":0,\"ticks\":\"\"}}}],\"histogram\":[{\"marker\":{\"pattern\":{\"fillmode\":\"overlay\",\"size\":10,\"solidity\":0.2}},\"type\":\"histogram\"}],\"scattergl\":[{\"type\":\"scattergl\",\"marker\":{\"colorbar\":{\"outlinewidth\":0,\"ticks\":\"\"}}}],\"scatter3d\":[{\"type\":\"scatter3d\",\"line\":{\"colorbar\":{\"outlinewidth\":0,\"ticks\":\"\"}},\"marker\":{\"colorbar\":{\"outlinewidth\":0,\"ticks\":\"\"}}}],\"scattermapbox\":[{\"type\":\"scattermapbox\",\"marker\":{\"colorbar\":{\"outlinewidth\":0,\"ticks\":\"\"}}}],\"scatterternary\":[{\"type\":\"scatterternary\",\"marker\":{\"colorbar\":{\"outlinewidth\":0,\"ticks\":\"\"}}}],\"scattercarpet\":[{\"type\":\"scattercarpet\",\"marker\":{\"colorbar\":{\"outlinewidth\":0,\"ticks\":\"\"}}}],\"carpet\":[{\"aaxis\":{\"endlinecolor\":\"#2a3f5f\",\"gridcolor\":\"white\",\"linecolor\":\"white\",\"minorgridcolor\":\"white\",\"startlinecolor\":\"#2a3f5f\"},\"baxis\":{\"endlinecolor\":\"#2a3f5f\",\"gridcolor\":\"white\",\"linecolor\":\"white\",\"minorgridcolor\":\"white\",\"startlinecolor\":\"#2a3f5f\"},\"type\":\"carpet\"}],\"table\":[{\"cells\":{\"fill\":{\"color\":\"#EBF0F8\"},\"line\":{\"color\":\"white\"}},\"header\":{\"fill\":{\"color\":\"#C8D4E3\"},\"line\":{\"color\":\"white\"}},\"type\":\"table\"}],\"barpolar\":[{\"marker\":{\"line\":{\"color\":\"#E5ECF6\",\"width\":0.5},\"pattern\":{\"fillmode\":\"overlay\",\"size\":10,\"solidity\":0.2}},\"type\":\"barpolar\"}],\"pie\":[{\"automargin\":true,\"type\":\"pie\"}]},\"layout\":{\"autotypenumbers\":\"strict\",\"colorway\":[\"#636efa\",\"#EF553B\",\"#00cc96\",\"#ab63fa\",\"#FFA15A\",\"#19d3f3\",\"#FF6692\",\"#B6E880\",\"#FF97FF\",\"#FECB52\"],\"font\":{\"color\":\"#2a3f5f\"},\"hovermode\":\"closest\",\"hoverlabel\":{\"align\":\"left\"},\"paper_bgcolor\":\"white\",\"plot_bgcolor\":\"#E5ECF6\",\"polar\":{\"bgcolor\":\"#E5ECF6\",\"angularaxis\":{\"gridcolor\":\"white\",\"linecolor\":\"white\",\"ticks\":\"\"},\"radialaxis\":{\"gridcolor\":\"white\",\"linecolor\":\"white\",\"ticks\":\"\"}},\"ternary\":{\"bgcolor\":\"#E5ECF6\",\"aaxis\":{\"gridcolor\":\"white\",\"linecolor\":\"white\",\"ticks\":\"\"},\"baxis\":{\"gridcolor\":\"white\",\"linecolor\":\"white\",\"ticks\":\"\"},\"caxis\":{\"gridcolor\":\"white\",\"linecolor\":\"white\",\"ticks\":\"\"}},\"coloraxis\":{\"colorbar\":{\"outlinewidth\":0,\"ticks\":\"\"}},\"colorscale\":{\"sequential\":[[0.0,\"#0d0887\"],[0.1111111111111111,\"#46039f\"],[0.2222222222222222,\"#7201a8\"],[0.3333333333333333,\"#9c179e\"],[0.4444444444444444,\"#bd3786\"],[0.5555555555555556,\"#d8576b\"],[0.6666666666666666,\"#ed7953\"],[0.7777777777777778,\"#fb9f3a\"],[0.8888888888888888,\"#fdca26\"],[1.0,\"#f0f921\"]],\"sequentialminus\":[[0.0,\"#0d0887\"],[0.1111111111111111,\"#46039f\"],[0.2222222222222222,\"#7201a8\"],[0.3333333333333333,\"#9c179e\"],[0.4444444444444444,\"#bd3786\"],[0.5555555555555556,\"#d8576b\"],[0.6666666666666666,\"#ed7953\"],[0.7777777777777778,\"#fb9f3a\"],[0.8888888888888888,\"#fdca26\"],[1.0,\"#f0f921\"]],\"diverging\":[[0,\"#8e0152\"],[0.1,\"#c51b7d\"],[0.2,\"#de77ae\"],[0.3,\"#f1b6da\"],[0.4,\"#fde0ef\"],[0.5,\"#f7f7f7\"],[0.6,\"#e6f5d0\"],[0.7,\"#b8e186\"],[0.8,\"#7fbc41\"],[0.9,\"#4d9221\"],[1,\"#276419\"]]},\"xaxis\":{\"gridcolor\":\"white\",\"linecolor\":\"white\",\"ticks\":\"\",\"title\":{\"standoff\":15},\"zerolinecolor\":\"white\",\"automargin\":true,\"zerolinewidth\":2},\"yaxis\":{\"gridcolor\":\"white\",\"linecolor\":\"white\",\"ticks\":\"\",\"title\":{\"standoff\":15},\"zerolinecolor\":\"white\",\"automargin\":true,\"zerolinewidth\":2},\"scene\":{\"xaxis\":{\"backgroundcolor\":\"#E5ECF6\",\"gridcolor\":\"white\",\"linecolor\":\"white\",\"showbackground\":true,\"ticks\":\"\",\"zerolinecolor\":\"white\",\"gridwidth\":2},\"yaxis\":{\"backgroundcolor\":\"#E5ECF6\",\"gridcolor\":\"white\",\"linecolor\":\"white\",\"showbackground\":true,\"ticks\":\"\",\"zerolinecolor\":\"white\",\"gridwidth\":2},\"zaxis\":{\"backgroundcolor\":\"#E5ECF6\",\"gridcolor\":\"white\",\"linecolor\":\"white\",\"showbackground\":true,\"ticks\":\"\",\"zerolinecolor\":\"white\",\"gridwidth\":2}},\"shapedefaults\":{\"line\":{\"color\":\"#2a3f5f\"}},\"annotationdefaults\":{\"arrowcolor\":\"#2a3f5f\",\"arrowhead\":0,\"arrowwidth\":1},\"geo\":{\"bgcolor\":\"white\",\"landcolor\":\"#E5ECF6\",\"subunitcolor\":\"white\",\"showland\":true,\"showlakes\":true,\"lakecolor\":\"white\"},\"title\":{\"x\":0.05},\"mapbox\":{\"style\":\"light\"}}},\"legend\":{\"tracegroupgap\":0},\"title\":{\"text\":\"Percentage of Total views\"}},                        {\"responsive\": true}                    ).then(function(){\n",
       "                            \n",
       "var gd = document.getElementById('4ec5e270-8548-41a1-8d0b-2198e0f563df');\n",
       "var x = new MutationObserver(function (mutations, observer) {{\n",
       "        var display = window.getComputedStyle(gd).display;\n",
       "        if (!display || display === 'none') {{\n",
       "            console.log([gd, 'removed!']);\n",
       "            Plotly.purge(gd);\n",
       "            observer.disconnect();\n",
       "        }}\n",
       "}});\n",
       "\n",
       "// Listen for the removal of the full notebook cells\n",
       "var notebookContainer = gd.closest('#notebook-container');\n",
       "if (notebookContainer) {{\n",
       "    x.observe(notebookContainer, {childList: true});\n",
       "}}\n",
       "\n",
       "// Listen for the clearing of the current output cell\n",
       "var outputEl = gd.closest('.output');\n",
       "if (outputEl) {{\n",
       "    x.observe(outputEl, {childList: true});\n",
       "}}\n",
       "\n",
       "                        })                };                });            </script>        </div>"
      ]
     },
     "metadata": {},
     "output_type": "display_data"
    }
   ],
   "source": [
    "average_view_counts = {\n",
    "    \"DuneDB\": DuneDB['view_count'].mean(),\n",
    "    \"GxKDB\": GxKDB['view_count'].mean(),\n",
    "    \"BeetlejuiceDB\": BeetleJuiceDB['view_count'].mean(),\n",
    "    \"JokerDB\": JokerDB['view_count'].mean(),\n",
    "}\n",
    "\n",
    "view_counts_df = pd.DataFrame(\n",
    "    list(average_view_counts.items()),\n",
    "    columns=[\"Database\", \"Average View Count\"]\n",
    ")\n",
    "\n",
    "custom_colors = {\n",
    "    \"DuneDB\": \"#d16200\",\n",
    "    \"GxKDB\": \"#e6e600\",\n",
    "    \"BeetlejuiceDB\": \"#94008f\",\n",
    "    \"JokerDB\": \"#009427\"\n",
    "}\n",
    "\n",
    "view_counts_df['Database'] = pd.Categorical(\n",
    "    view_counts_df['Database'],\n",
    "    categories=[\"DuneDB\", \"GxKDB\", \"BeetlejuiceDB\", \"JokerDB\"],\n",
    "    ordered=True\n",
    ")\n",
    "\n",
    "fig = px.pie(\n",
    "    view_counts_df,\n",
    "    values='Average View Count',\n",
    "    names='Database',\n",
    "    title='Percentage of Total views',\n",
    "    color='Database',\n",
    "    color_discrete_map=custom_colors\n",
    ")\n",
    "\n",
    "fig.show()\n",
    "html_file = '2024Views.html'\n",
    "fig.write_html(html_file)"
   ]
  },
  {
   "cell_type": "code",
   "execution_count": 39,
   "id": "97412c9f-f012-4983-9147-41e3813f5bc4",
   "metadata": {},
   "outputs": [
    {
     "data": {
      "application/vnd.plotly.v1+json": {
       "config": {
        "plotlyServerURL": "https://plot.ly"
       },
       "data": [
        {
         "customdata": [
          [
           "Barbie"
          ],
          [
           "Shazam 2"
          ],
          [
           "Blue Beetle"
          ],
          [
           "Wonka"
          ]
         ],
         "domain": {
          "x": [
           0,
           1
          ],
          "y": [
           0,
           1
          ]
         },
         "hovertemplate": "Movies=%{customdata[0]}<br>Values=%{value}<extra></extra>",
         "labels": [
          "Barbie",
          "Shazam 2",
          "Blue Beetle",
          "Wonka"
         ],
         "legendgroup": "",
         "marker": {
          "colors": [
           "#ff0099",
           "#d10026",
           "#0003d1",
           "#8a00a6"
          ]
         },
         "name": "",
         "showlegend": true,
         "type": "pie",
         "values": [
          1447038421,
          134138006,
          130788072,
          634502312
         ]
        }
       ],
       "layout": {
        "autosize": true,
        "legend": {
         "tracegroupgap": 0
        },
        "template": {
         "data": {
          "bar": [
           {
            "error_x": {
             "color": "#2a3f5f"
            },
            "error_y": {
             "color": "#2a3f5f"
            },
            "marker": {
             "line": {
              "color": "#E5ECF6",
              "width": 0.5
             },
             "pattern": {
              "fillmode": "overlay",
              "size": 10,
              "solidity": 0.2
             }
            },
            "type": "bar"
           }
          ],
          "barpolar": [
           {
            "marker": {
             "line": {
              "color": "#E5ECF6",
              "width": 0.5
             },
             "pattern": {
              "fillmode": "overlay",
              "size": 10,
              "solidity": 0.2
             }
            },
            "type": "barpolar"
           }
          ],
          "carpet": [
           {
            "aaxis": {
             "endlinecolor": "#2a3f5f",
             "gridcolor": "white",
             "linecolor": "white",
             "minorgridcolor": "white",
             "startlinecolor": "#2a3f5f"
            },
            "baxis": {
             "endlinecolor": "#2a3f5f",
             "gridcolor": "white",
             "linecolor": "white",
             "minorgridcolor": "white",
             "startlinecolor": "#2a3f5f"
            },
            "type": "carpet"
           }
          ],
          "choropleth": [
           {
            "colorbar": {
             "outlinewidth": 0,
             "ticks": ""
            },
            "type": "choropleth"
           }
          ],
          "contour": [
           {
            "colorbar": {
             "outlinewidth": 0,
             "ticks": ""
            },
            "colorscale": [
             [
              0,
              "#0d0887"
             ],
             [
              0.1111111111111111,
              "#46039f"
             ],
             [
              0.2222222222222222,
              "#7201a8"
             ],
             [
              0.3333333333333333,
              "#9c179e"
             ],
             [
              0.4444444444444444,
              "#bd3786"
             ],
             [
              0.5555555555555556,
              "#d8576b"
             ],
             [
              0.6666666666666666,
              "#ed7953"
             ],
             [
              0.7777777777777778,
              "#fb9f3a"
             ],
             [
              0.8888888888888888,
              "#fdca26"
             ],
             [
              1,
              "#f0f921"
             ]
            ],
            "type": "contour"
           }
          ],
          "contourcarpet": [
           {
            "colorbar": {
             "outlinewidth": 0,
             "ticks": ""
            },
            "type": "contourcarpet"
           }
          ],
          "heatmap": [
           {
            "colorbar": {
             "outlinewidth": 0,
             "ticks": ""
            },
            "colorscale": [
             [
              0,
              "#0d0887"
             ],
             [
              0.1111111111111111,
              "#46039f"
             ],
             [
              0.2222222222222222,
              "#7201a8"
             ],
             [
              0.3333333333333333,
              "#9c179e"
             ],
             [
              0.4444444444444444,
              "#bd3786"
             ],
             [
              0.5555555555555556,
              "#d8576b"
             ],
             [
              0.6666666666666666,
              "#ed7953"
             ],
             [
              0.7777777777777778,
              "#fb9f3a"
             ],
             [
              0.8888888888888888,
              "#fdca26"
             ],
             [
              1,
              "#f0f921"
             ]
            ],
            "type": "heatmap"
           }
          ],
          "heatmapgl": [
           {
            "colorbar": {
             "outlinewidth": 0,
             "ticks": ""
            },
            "colorscale": [
             [
              0,
              "#0d0887"
             ],
             [
              0.1111111111111111,
              "#46039f"
             ],
             [
              0.2222222222222222,
              "#7201a8"
             ],
             [
              0.3333333333333333,
              "#9c179e"
             ],
             [
              0.4444444444444444,
              "#bd3786"
             ],
             [
              0.5555555555555556,
              "#d8576b"
             ],
             [
              0.6666666666666666,
              "#ed7953"
             ],
             [
              0.7777777777777778,
              "#fb9f3a"
             ],
             [
              0.8888888888888888,
              "#fdca26"
             ],
             [
              1,
              "#f0f921"
             ]
            ],
            "type": "heatmapgl"
           }
          ],
          "histogram": [
           {
            "marker": {
             "pattern": {
              "fillmode": "overlay",
              "size": 10,
              "solidity": 0.2
             }
            },
            "type": "histogram"
           }
          ],
          "histogram2d": [
           {
            "colorbar": {
             "outlinewidth": 0,
             "ticks": ""
            },
            "colorscale": [
             [
              0,
              "#0d0887"
             ],
             [
              0.1111111111111111,
              "#46039f"
             ],
             [
              0.2222222222222222,
              "#7201a8"
             ],
             [
              0.3333333333333333,
              "#9c179e"
             ],
             [
              0.4444444444444444,
              "#bd3786"
             ],
             [
              0.5555555555555556,
              "#d8576b"
             ],
             [
              0.6666666666666666,
              "#ed7953"
             ],
             [
              0.7777777777777778,
              "#fb9f3a"
             ],
             [
              0.8888888888888888,
              "#fdca26"
             ],
             [
              1,
              "#f0f921"
             ]
            ],
            "type": "histogram2d"
           }
          ],
          "histogram2dcontour": [
           {
            "colorbar": {
             "outlinewidth": 0,
             "ticks": ""
            },
            "colorscale": [
             [
              0,
              "#0d0887"
             ],
             [
              0.1111111111111111,
              "#46039f"
             ],
             [
              0.2222222222222222,
              "#7201a8"
             ],
             [
              0.3333333333333333,
              "#9c179e"
             ],
             [
              0.4444444444444444,
              "#bd3786"
             ],
             [
              0.5555555555555556,
              "#d8576b"
             ],
             [
              0.6666666666666666,
              "#ed7953"
             ],
             [
              0.7777777777777778,
              "#fb9f3a"
             ],
             [
              0.8888888888888888,
              "#fdca26"
             ],
             [
              1,
              "#f0f921"
             ]
            ],
            "type": "histogram2dcontour"
           }
          ],
          "mesh3d": [
           {
            "colorbar": {
             "outlinewidth": 0,
             "ticks": ""
            },
            "type": "mesh3d"
           }
          ],
          "parcoords": [
           {
            "line": {
             "colorbar": {
              "outlinewidth": 0,
              "ticks": ""
             }
            },
            "type": "parcoords"
           }
          ],
          "pie": [
           {
            "automargin": true,
            "type": "pie"
           }
          ],
          "scatter": [
           {
            "fillpattern": {
             "fillmode": "overlay",
             "size": 10,
             "solidity": 0.2
            },
            "type": "scatter"
           }
          ],
          "scatter3d": [
           {
            "line": {
             "colorbar": {
              "outlinewidth": 0,
              "ticks": ""
             }
            },
            "marker": {
             "colorbar": {
              "outlinewidth": 0,
              "ticks": ""
             }
            },
            "type": "scatter3d"
           }
          ],
          "scattercarpet": [
           {
            "marker": {
             "colorbar": {
              "outlinewidth": 0,
              "ticks": ""
             }
            },
            "type": "scattercarpet"
           }
          ],
          "scattergeo": [
           {
            "marker": {
             "colorbar": {
              "outlinewidth": 0,
              "ticks": ""
             }
            },
            "type": "scattergeo"
           }
          ],
          "scattergl": [
           {
            "marker": {
             "colorbar": {
              "outlinewidth": 0,
              "ticks": ""
             }
            },
            "type": "scattergl"
           }
          ],
          "scattermapbox": [
           {
            "marker": {
             "colorbar": {
              "outlinewidth": 0,
              "ticks": ""
             }
            },
            "type": "scattermapbox"
           }
          ],
          "scatterpolar": [
           {
            "marker": {
             "colorbar": {
              "outlinewidth": 0,
              "ticks": ""
             }
            },
            "type": "scatterpolar"
           }
          ],
          "scatterpolargl": [
           {
            "marker": {
             "colorbar": {
              "outlinewidth": 0,
              "ticks": ""
             }
            },
            "type": "scatterpolargl"
           }
          ],
          "scatterternary": [
           {
            "marker": {
             "colorbar": {
              "outlinewidth": 0,
              "ticks": ""
             }
            },
            "type": "scatterternary"
           }
          ],
          "surface": [
           {
            "colorbar": {
             "outlinewidth": 0,
             "ticks": ""
            },
            "colorscale": [
             [
              0,
              "#0d0887"
             ],
             [
              0.1111111111111111,
              "#46039f"
             ],
             [
              0.2222222222222222,
              "#7201a8"
             ],
             [
              0.3333333333333333,
              "#9c179e"
             ],
             [
              0.4444444444444444,
              "#bd3786"
             ],
             [
              0.5555555555555556,
              "#d8576b"
             ],
             [
              0.6666666666666666,
              "#ed7953"
             ],
             [
              0.7777777777777778,
              "#fb9f3a"
             ],
             [
              0.8888888888888888,
              "#fdca26"
             ],
             [
              1,
              "#f0f921"
             ]
            ],
            "type": "surface"
           }
          ],
          "table": [
           {
            "cells": {
             "fill": {
              "color": "#EBF0F8"
             },
             "line": {
              "color": "white"
             }
            },
            "header": {
             "fill": {
              "color": "#C8D4E3"
             },
             "line": {
              "color": "white"
             }
            },
            "type": "table"
           }
          ]
         },
         "layout": {
          "annotationdefaults": {
           "arrowcolor": "#2a3f5f",
           "arrowhead": 0,
           "arrowwidth": 1
          },
          "autotypenumbers": "strict",
          "coloraxis": {
           "colorbar": {
            "outlinewidth": 0,
            "ticks": ""
           }
          },
          "colorscale": {
           "diverging": [
            [
             0,
             "#8e0152"
            ],
            [
             0.1,
             "#c51b7d"
            ],
            [
             0.2,
             "#de77ae"
            ],
            [
             0.3,
             "#f1b6da"
            ],
            [
             0.4,
             "#fde0ef"
            ],
            [
             0.5,
             "#f7f7f7"
            ],
            [
             0.6,
             "#e6f5d0"
            ],
            [
             0.7,
             "#b8e186"
            ],
            [
             0.8,
             "#7fbc41"
            ],
            [
             0.9,
             "#4d9221"
            ],
            [
             1,
             "#276419"
            ]
           ],
           "sequential": [
            [
             0,
             "#0d0887"
            ],
            [
             0.1111111111111111,
             "#46039f"
            ],
            [
             0.2222222222222222,
             "#7201a8"
            ],
            [
             0.3333333333333333,
             "#9c179e"
            ],
            [
             0.4444444444444444,
             "#bd3786"
            ],
            [
             0.5555555555555556,
             "#d8576b"
            ],
            [
             0.6666666666666666,
             "#ed7953"
            ],
            [
             0.7777777777777778,
             "#fb9f3a"
            ],
            [
             0.8888888888888888,
             "#fdca26"
            ],
            [
             1,
             "#f0f921"
            ]
           ],
           "sequentialminus": [
            [
             0,
             "#0d0887"
            ],
            [
             0.1111111111111111,
             "#46039f"
            ],
            [
             0.2222222222222222,
             "#7201a8"
            ],
            [
             0.3333333333333333,
             "#9c179e"
            ],
            [
             0.4444444444444444,
             "#bd3786"
            ],
            [
             0.5555555555555556,
             "#d8576b"
            ],
            [
             0.6666666666666666,
             "#ed7953"
            ],
            [
             0.7777777777777778,
             "#fb9f3a"
            ],
            [
             0.8888888888888888,
             "#fdca26"
            ],
            [
             1,
             "#f0f921"
            ]
           ]
          },
          "colorway": [
           "#636efa",
           "#EF553B",
           "#00cc96",
           "#ab63fa",
           "#FFA15A",
           "#19d3f3",
           "#FF6692",
           "#B6E880",
           "#FF97FF",
           "#FECB52"
          ],
          "font": {
           "color": "#2a3f5f"
          },
          "geo": {
           "bgcolor": "white",
           "lakecolor": "white",
           "landcolor": "#E5ECF6",
           "showlakes": true,
           "showland": true,
           "subunitcolor": "white"
          },
          "hoverlabel": {
           "align": "left"
          },
          "hovermode": "closest",
          "mapbox": {
           "style": "light"
          },
          "paper_bgcolor": "white",
          "plot_bgcolor": "#E5ECF6",
          "polar": {
           "angularaxis": {
            "gridcolor": "white",
            "linecolor": "white",
            "ticks": ""
           },
           "bgcolor": "#E5ECF6",
           "radialaxis": {
            "gridcolor": "white",
            "linecolor": "white",
            "ticks": ""
           }
          },
          "scene": {
           "xaxis": {
            "backgroundcolor": "#E5ECF6",
            "gridcolor": "white",
            "gridwidth": 2,
            "linecolor": "white",
            "showbackground": true,
            "ticks": "",
            "zerolinecolor": "white"
           },
           "yaxis": {
            "backgroundcolor": "#E5ECF6",
            "gridcolor": "white",
            "gridwidth": 2,
            "linecolor": "white",
            "showbackground": true,
            "ticks": "",
            "zerolinecolor": "white"
           },
           "zaxis": {
            "backgroundcolor": "#E5ECF6",
            "gridcolor": "white",
            "gridwidth": 2,
            "linecolor": "white",
            "showbackground": true,
            "ticks": "",
            "zerolinecolor": "white"
           }
          },
          "shapedefaults": {
           "line": {
            "color": "#2a3f5f"
           }
          },
          "ternary": {
           "aaxis": {
            "gridcolor": "white",
            "linecolor": "white",
            "ticks": ""
           },
           "baxis": {
            "gridcolor": "white",
            "linecolor": "white",
            "ticks": ""
           },
           "bgcolor": "#E5ECF6",
           "caxis": {
            "gridcolor": "white",
            "linecolor": "white",
            "ticks": ""
           }
          },
          "title": {
           "x": 0.05
          },
          "xaxis": {
           "automargin": true,
           "gridcolor": "white",
           "linecolor": "white",
           "ticks": "",
           "title": {
            "standoff": 15
           },
           "zerolinecolor": "white",
           "zerolinewidth": 2
          },
          "yaxis": {
           "automargin": true,
           "gridcolor": "white",
           "linecolor": "white",
           "ticks": "",
           "title": {
            "standoff": 15
           },
           "zerolinecolor": "white",
           "zerolinewidth": 2
          }
         }
        },
        "title": {
         "text": "Box Office Results of 2023 Movies"
        }
       }
      },
      "image/png": "[encoded data removed]",
      "text/html": [
       "<div>                            <div id=\"e4a90cbc-d383-45dc-8603-5cb8bfa56d89\" class=\"plotly-graph-div\" style=\"height:525px; width:100%;\"></div>            <script type=\"text/javascript\">                require([\"plotly\"], function(Plotly) {                    window.PLOTLYENV=window.PLOTLYENV || {};                                    if (document.getElementById(\"e4a90cbc-d383-45dc-8603-5cb8bfa56d89\")) {                    Plotly.newPlot(                        \"e4a90cbc-d383-45dc-8603-5cb8bfa56d89\",                        [{\"customdata\":[[\"Barbie\"],[\"Shazam 2\"],[\"Blue Beetle\"],[\"Wonka\"]],\"domain\":{\"x\":[0.0,1.0],\"y\":[0.0,1.0]},\"hovertemplate\":\"Movies=%{customdata[0]}\\u003cbr\\u003eValues=%{value}\\u003cextra\\u003e\\u003c\\u002fextra\\u003e\",\"labels\":[\"Barbie\",\"Shazam 2\",\"Blue Beetle\",\"Wonka\"],\"legendgroup\":\"\",\"marker\":{\"colors\":[\"#ff0099\",\"#d10026\",\"#0003d1\",\"#8a00a6\"]},\"name\":\"\",\"showlegend\":true,\"values\":[1447038421,134138006,130788072,634502312],\"type\":\"pie\"}],                        {\"template\":{\"data\":{\"histogram2dcontour\":[{\"type\":\"histogram2dcontour\",\"colorbar\":{\"outlinewidth\":0,\"ticks\":\"\"},\"colorscale\":[[0.0,\"#0d0887\"],[0.1111111111111111,\"#46039f\"],[0.2222222222222222,\"#7201a8\"],[0.3333333333333333,\"#9c179e\"],[0.4444444444444444,\"#bd3786\"],[0.5555555555555556,\"#d8576b\"],[0.6666666666666666,\"#ed7953\"],[0.7777777777777778,\"#fb9f3a\"],[0.8888888888888888,\"#fdca26\"],[1.0,\"#f0f921\"]]}],\"choropleth\":[{\"type\":\"choropleth\",\"colorbar\":{\"outlinewidth\":0,\"ticks\":\"\"}}],\"histogram2d\":[{\"type\":\"histogram2d\",\"colorbar\":{\"outlinewidth\":0,\"ticks\":\"\"},\"colorscale\":[[0.0,\"#0d0887\"],[0.1111111111111111,\"#46039f\"],[0.2222222222222222,\"#7201a8\"],[0.3333333333333333,\"#9c179e\"],[0.4444444444444444,\"#bd3786\"],[0.5555555555555556,\"#d8576b\"],[0.6666666666666666,\"#ed7953\"],[0.7777777777777778,\"#fb9f3a\"],[0.8888888888888888,\"#fdca26\"],[1.0,\"#f0f921\"]]}],\"heatmap\":[{\"type\":\"heatmap\",\"colorbar\":{\"outlinewidth\":0,\"ticks\":\"\"},\"colorscale\":[[0.0,\"#0d0887\"],[0.1111111111111111,\"#46039f\"],[0.2222222222222222,\"#7201a8\"],[0.3333333333333333,\"#9c179e\"],[0.4444444444444444,\"#bd3786\"],[0.5555555555555556,\"#d8576b\"],[0.6666666666666666,\"#ed7953\"],[0.7777777777777778,\"#fb9f3a\"],[0.8888888888888888,\"#fdca26\"],[1.0,\"#f0f921\"]]}],\"heatmapgl\":[{\"type\":\"heatmapgl\",\"colorbar\":{\"outlinewidth\":0,\"ticks\":\"\"},\"colorscale\":[[0.0,\"#0d0887\"],[0.1111111111111111,\"#46039f\"],[0.2222222222222222,\"#7201a8\"],[0.3333333333333333,\"#9c179e\"],[0.4444444444444444,\"#bd3786\"],[0.5555555555555556,\"#d8576b\"],[0.6666666666666666,\"#ed7953\"],[0.7777777777777778,\"#fb9f3a\"],[0.8888888888888888,\"#fdca26\"],[1.0,\"#f0f921\"]]}],\"contourcarpet\":[{\"type\":\"contourcarpet\",\"colorbar\":{\"outlinewidth\":0,\"ticks\":\"\"}}],\"contour\":[{\"type\":\"contour\",\"colorbar\":{\"outlinewidth\":0,\"ticks\":\"\"},\"colorscale\":[[0.0,\"#0d0887\"],[0.1111111111111111,\"#46039f\"],[0.2222222222222222,\"#7201a8\"],[0.3333333333333333,\"#9c179e\"],[0.4444444444444444,\"#bd3786\"],[0.5555555555555556,\"#d8576b\"],[0.6666666666666666,\"#ed7953\"],[0.7777777777777778,\"#fb9f3a\"],[0.8888888888888888,\"#fdca26\"],[1.0,\"#f0f921\"]]}],\"surface\":[{\"type\":\"surface\",\"colorbar\":{\"outlinewidth\":0,\"ticks\":\"\"},\"colorscale\":[[0.0,\"#0d0887\"],[0.1111111111111111,\"#46039f\"],[0.2222222222222222,\"#7201a8\"],[0.3333333333333333,\"#9c179e\"],[0.4444444444444444,\"#bd3786\"],[0.5555555555555556,\"#d8576b\"],[0.6666666666666666,\"#ed7953\"],[0.7777777777777778,\"#fb9f3a\"],[0.8888888888888888,\"#fdca26\"],[1.0,\"#f0f921\"]]}],\"mesh3d\":[{\"type\":\"mesh3d\",\"colorbar\":{\"outlinewidth\":0,\"ticks\":\"\"}}],\"scatter\":[{\"fillpattern\":{\"fillmode\":\"overlay\",\"size\":10,\"solidity\":0.2},\"type\":\"scatter\"}],\"parcoords\":[{\"type\":\"parcoords\",\"line\":{\"colorbar\":{\"outlinewidth\":0,\"ticks\":\"\"}}}],\"scatterpolargl\":[{\"type\":\"scatterpolargl\",\"marker\":{\"colorbar\":{\"outlinewidth\":0,\"ticks\":\"\"}}}],\"bar\":[{\"error_x\":{\"color\":\"#2a3f5f\"},\"error_y\":{\"color\":\"#2a3f5f\"},\"marker\":{\"line\":{\"color\":\"#E5ECF6\",\"width\":0.5},\"pattern\":{\"fillmode\":\"overlay\",\"size\":10,\"solidity\":0.2}},\"type\":\"bar\"}],\"scattergeo\":[{\"type\":\"scattergeo\",\"marker\":{\"colorbar\":{\"outlinewidth\":0,\"ticks\":\"\"}}}],\"scatterpolar\":[{\"type\":\"scatterpolar\",\"marker\":{\"colorbar\":{\"outlinewidth\":0,\"ticks\":\"\"}}}],\"histogram\":[{\"marker\":{\"pattern\":{\"fillmode\":\"overlay\",\"size\":10,\"solidity\":0.2}},\"type\":\"histogram\"}],\"scattergl\":[{\"type\":\"scattergl\",\"marker\":{\"colorbar\":{\"outlinewidth\":0,\"ticks\":\"\"}}}],\"scatter3d\":[{\"type\":\"scatter3d\",\"line\":{\"colorbar\":{\"outlinewidth\":0,\"ticks\":\"\"}},\"marker\":{\"colorbar\":{\"outlinewidth\":0,\"ticks\":\"\"}}}],\"scattermapbox\":[{\"type\":\"scattermapbox\",\"marker\":{\"colorbar\":{\"outlinewidth\":0,\"ticks\":\"\"}}}],\"scatterternary\":[{\"type\":\"scatterternary\",\"marker\":{\"colorbar\":{\"outlinewidth\":0,\"ticks\":\"\"}}}],\"scattercarpet\":[{\"type\":\"scattercarpet\",\"marker\":{\"colorbar\":{\"outlinewidth\":0,\"ticks\":\"\"}}}],\"carpet\":[{\"aaxis\":{\"endlinecolor\":\"#2a3f5f\",\"gridcolor\":\"white\",\"linecolor\":\"white\",\"minorgridcolor\":\"white\",\"startlinecolor\":\"#2a3f5f\"},\"baxis\":{\"endlinecolor\":\"#2a3f5f\",\"gridcolor\":\"white\",\"linecolor\":\"white\",\"minorgridcolor\":\"white\",\"startlinecolor\":\"#2a3f5f\"},\"type\":\"carpet\"}],\"table\":[{\"cells\":{\"fill\":{\"color\":\"#EBF0F8\"},\"line\":{\"color\":\"white\"}},\"header\":{\"fill\":{\"color\":\"#C8D4E3\"},\"line\":{\"color\":\"white\"}},\"type\":\"table\"}],\"barpolar\":[{\"marker\":{\"line\":{\"color\":\"#E5ECF6\",\"width\":0.5},\"pattern\":{\"fillmode\":\"overlay\",\"size\":10,\"solidity\":0.2}},\"type\":\"barpolar\"}],\"pie\":[{\"automargin\":true,\"type\":\"pie\"}]},\"layout\":{\"autotypenumbers\":\"strict\",\"colorway\":[\"#636efa\",\"#EF553B\",\"#00cc96\",\"#ab63fa\",\"#FFA15A\",\"#19d3f3\",\"#FF6692\",\"#B6E880\",\"#FF97FF\",\"#FECB52\"],\"font\":{\"color\":\"#2a3f5f\"},\"hovermode\":\"closest\",\"hoverlabel\":{\"align\":\"left\"},\"paper_bgcolor\":\"white\",\"plot_bgcolor\":\"#E5ECF6\",\"polar\":{\"bgcolor\":\"#E5ECF6\",\"angularaxis\":{\"gridcolor\":\"white\",\"linecolor\":\"white\",\"ticks\":\"\"},\"radialaxis\":{\"gridcolor\":\"white\",\"linecolor\":\"white\",\"ticks\":\"\"}},\"ternary\":{\"bgcolor\":\"#E5ECF6\",\"aaxis\":{\"gridcolor\":\"white\",\"linecolor\":\"white\",\"ticks\":\"\"},\"baxis\":{\"gridcolor\":\"white\",\"linecolor\":\"white\",\"ticks\":\"\"},\"caxis\":{\"gridcolor\":\"white\",\"linecolor\":\"white\",\"ticks\":\"\"}},\"coloraxis\":{\"colorbar\":{\"outlinewidth\":0,\"ticks\":\"\"}},\"colorscale\":{\"sequential\":[[0.0,\"#0d0887\"],[0.1111111111111111,\"#46039f\"],[0.2222222222222222,\"#7201a8\"],[0.3333333333333333,\"#9c179e\"],[0.4444444444444444,\"#bd3786\"],[0.5555555555555556,\"#d8576b\"],[0.6666666666666666,\"#ed7953\"],[0.7777777777777778,\"#fb9f3a\"],[0.8888888888888888,\"#fdca26\"],[1.0,\"#f0f921\"]],\"sequentialminus\":[[0.0,\"#0d0887\"],[0.1111111111111111,\"#46039f\"],[0.2222222222222222,\"#7201a8\"],[0.3333333333333333,\"#9c179e\"],[0.4444444444444444,\"#bd3786\"],[0.5555555555555556,\"#d8576b\"],[0.6666666666666666,\"#ed7953\"],[0.7777777777777778,\"#fb9f3a\"],[0.8888888888888888,\"#fdca26\"],[1.0,\"#f0f921\"]],\"diverging\":[[0,\"#8e0152\"],[0.1,\"#c51b7d\"],[0.2,\"#de77ae\"],[0.3,\"#f1b6da\"],[0.4,\"#fde0ef\"],[0.5,\"#f7f7f7\"],[0.6,\"#e6f5d0\"],[0.7,\"#b8e186\"],[0.8,\"#7fbc41\"],[0.9,\"#4d9221\"],[1,\"#276419\"]]},\"xaxis\":{\"gridcolor\":\"white\",\"linecolor\":\"white\",\"ticks\":\"\",\"title\":{\"standoff\":15},\"zerolinecolor\":\"white\",\"automargin\":true,\"zerolinewidth\":2},\"yaxis\":{\"gridcolor\":\"white\",\"linecolor\":\"white\",\"ticks\":\"\",\"title\":{\"standoff\":15},\"zerolinecolor\":\"white\",\"automargin\":true,\"zerolinewidth\":2},\"scene\":{\"xaxis\":{\"backgroundcolor\":\"#E5ECF6\",\"gridcolor\":\"white\",\"linecolor\":\"white\",\"showbackground\":true,\"ticks\":\"\",\"zerolinecolor\":\"white\",\"gridwidth\":2},\"yaxis\":{\"backgroundcolor\":\"#E5ECF6\",\"gridcolor\":\"white\",\"linecolor\":\"white\",\"showbackground\":true,\"ticks\":\"\",\"zerolinecolor\":\"white\",\"gridwidth\":2},\"zaxis\":{\"backgroundcolor\":\"#E5ECF6\",\"gridcolor\":\"white\",\"linecolor\":\"white\",\"showbackground\":true,\"ticks\":\"\",\"zerolinecolor\":\"white\",\"gridwidth\":2}},\"shapedefaults\":{\"line\":{\"color\":\"#2a3f5f\"}},\"annotationdefaults\":{\"arrowcolor\":\"#2a3f5f\",\"arrowhead\":0,\"arrowwidth\":1},\"geo\":{\"bgcolor\":\"white\",\"landcolor\":\"#E5ECF6\",\"subunitcolor\":\"white\",\"showland\":true,\"showlakes\":true,\"lakecolor\":\"white\"},\"title\":{\"x\":0.05},\"mapbox\":{\"style\":\"light\"}}},\"legend\":{\"tracegroupgap\":0},\"title\":{\"text\":\"Box Office Results of 2023 Movies\"}},                        {\"responsive\": true}                    ).then(function(){\n",
       "                            \n",
       "var gd = document.getElementById('e4a90cbc-d383-45dc-8603-5cb8bfa56d89');\n",
       "var x = new MutationObserver(function (mutations, observer) {{\n",
       "        var display = window.getComputedStyle(gd).display;\n",
       "        if (!display || display === 'none') {{\n",
       "            console.log([gd, 'removed!']);\n",
       "            Plotly.purge(gd);\n",
       "            observer.disconnect();\n",
       "        }}\n",
       "}});\n",
       "\n",
       "// Listen for the removal of the full notebook cells\n",
       "var notebookContainer = gd.closest('#notebook-container');\n",
       "if (notebookContainer) {{\n",
       "    x.observe(notebookContainer, {childList: true});\n",
       "}}\n",
       "\n",
       "// Listen for the clearing of the current output cell\n",
       "var outputEl = gd.closest('.output');\n",
       "if (outputEl) {{\n",
       "    x.observe(outputEl, {childList: true});\n",
       "}}\n",
       "\n",
       "                        })                };                });            </script>        </div>"
      ]
     },
     "metadata": {},
     "output_type": "display_data"
    }
   ],
   "source": [
    "data = {\n",
    "    'Movies': ['Barbie', 'Shazam 2', 'Blue Beetle', 'Wonka'],\n",
    "    'Values': [1447038421, 134138006, 130788072, 634502312]\n",
    "}\n",
    "\n",
    "df = pd.DataFrame(data)\n",
    "\n",
    "custom_colors = {\n",
    "    'Barbie': '#ff0099',\n",
    "    'Wonka': '#8a00a6',\n",
    "    'Shazam 2': '#d10026',\n",
    "    'Blue Beetle': '#0003d1'\n",
    "}\n",
    "\n",
    "df['Movies'] = pd.Categorical(\n",
    "    df['Movies'], \n",
    "    categories=['Barbie', 'Wonka', 'Shazam 2', 'Blue Beetle'], \n",
    "    ordered=True\n",
    ")\n",
    "\n",
    "fig = px.pie(\n",
    "    df, \n",
    "    names='Movies', \n",
    "    values='Values', \n",
    "    title='Box Office Results of 2023 Movies',\n",
    "    color='Movies',\n",
    "    color_discrete_map=custom_colors\n",
    ")\n",
    "html_file = '2023BO.html'\n",
    "fig.write_html(html_file)\n",
    "fig.show()"
   ]
  },
  {
   "cell_type": "code",
   "execution_count": 40,
   "id": "c7ae0aa4-0632-4ce4-906e-5f77cb60b126",
   "metadata": {},
   "outputs": [
    {
     "data": {
      "application/vnd.plotly.v1+json": {
       "config": {
        "plotlyServerURL": "https://plot.ly"
       },
       "data": [
        {
         "customdata": [
          [
           "BarbieDB"
          ],
          [
           "WonkaDB"
          ],
          [
           "ShazamDB"
          ],
          [
           "BlueBeetleDB"
          ]
         ],
         "direction": "clockwise",
         "domain": {
          "x": [
           0,
           1
          ],
          "y": [
           0,
           1
          ]
         },
         "hovertemplate": "Database=%{customdata[0]}<br>Average View Count=%{value}<extra></extra>",
         "labels": [
          "BarbieDB",
          "WonkaDB",
          "ShazamDB",
          "BlueBeetleDB"
         ],
         "legendgroup": "",
         "marker": {
          "colors": [
           "#ff0099",
           "#8a00a6",
           "#d10026",
           "#0003d1"
          ]
         },
         "name": "",
         "showlegend": true,
         "sort": false,
         "type": "pie",
         "values": [
          540572.5120120121,
          362278.3953488372,
          116161.73170731707,
          195693.55592105264
         ]
        }
       ],
       "layout": {
        "autosize": true,
        "legend": {
         "tracegroupgap": 0
        },
        "template": {
         "data": {
          "bar": [
           {
            "error_x": {
             "color": "#2a3f5f"
            },
            "error_y": {
             "color": "#2a3f5f"
            },
            "marker": {
             "line": {
              "color": "#E5ECF6",
              "width": 0.5
             },
             "pattern": {
              "fillmode": "overlay",
              "size": 10,
              "solidity": 0.2
             }
            },
            "type": "bar"
           }
          ],
          "barpolar": [
           {
            "marker": {
             "line": {
              "color": "#E5ECF6",
              "width": 0.5
             },
             "pattern": {
              "fillmode": "overlay",
              "size": 10,
              "solidity": 0.2
             }
            },
            "type": "barpolar"
           }
          ],
          "carpet": [
           {
            "aaxis": {
             "endlinecolor": "#2a3f5f",
             "gridcolor": "white",
             "linecolor": "white",
             "minorgridcolor": "white",
             "startlinecolor": "#2a3f5f"
            },
            "baxis": {
             "endlinecolor": "#2a3f5f",
             "gridcolor": "white",
             "linecolor": "white",
             "minorgridcolor": "white",
             "startlinecolor": "#2a3f5f"
            },
            "type": "carpet"
           }
          ],
          "choropleth": [
           {
            "colorbar": {
             "outlinewidth": 0,
             "ticks": ""
            },
            "type": "choropleth"
           }
          ],
          "contour": [
           {
            "colorbar": {
             "outlinewidth": 0,
             "ticks": ""
            },
            "colorscale": [
             [
              0,
              "#0d0887"
             ],
             [
              0.1111111111111111,
              "#46039f"
             ],
             [
              0.2222222222222222,
              "#7201a8"
             ],
             [
              0.3333333333333333,
              "#9c179e"
             ],
             [
              0.4444444444444444,
              "#bd3786"
             ],
             [
              0.5555555555555556,
              "#d8576b"
             ],
             [
              0.6666666666666666,
              "#ed7953"
             ],
             [
              0.7777777777777778,
              "#fb9f3a"
             ],
             [
              0.8888888888888888,
              "#fdca26"
             ],
             [
              1,
              "#f0f921"
             ]
            ],
            "type": "contour"
           }
          ],
          "contourcarpet": [
           {
            "colorbar": {
             "outlinewidth": 0,
             "ticks": ""
            },
            "type": "contourcarpet"
           }
          ],
          "heatmap": [
           {
            "colorbar": {
             "outlinewidth": 0,
             "ticks": ""
            },
            "colorscale": [
             [
              0,
              "#0d0887"
             ],
             [
              0.1111111111111111,
              "#46039f"
             ],
             [
              0.2222222222222222,
              "#7201a8"
             ],
             [
              0.3333333333333333,
              "#9c179e"
             ],
             [
              0.4444444444444444,
              "#bd3786"
             ],
             [
              0.5555555555555556,
              "#d8576b"
             ],
             [
              0.6666666666666666,
              "#ed7953"
             ],
             [
              0.7777777777777778,
              "#fb9f3a"
             ],
             [
              0.8888888888888888,
              "#fdca26"
             ],
             [
              1,
              "#f0f921"
             ]
            ],
            "type": "heatmap"
           }
          ],
          "heatmapgl": [
           {
            "colorbar": {
             "outlinewidth": 0,
             "ticks": ""
            },
            "colorscale": [
             [
              0,
              "#0d0887"
             ],
             [
              0.1111111111111111,
              "#46039f"
             ],
             [
              0.2222222222222222,
              "#7201a8"
             ],
             [
              0.3333333333333333,
              "#9c179e"
             ],
             [
              0.4444444444444444,
              "#bd3786"
             ],
             [
              0.5555555555555556,
              "#d8576b"
             ],
             [
              0.6666666666666666,
              "#ed7953"
             ],
             [
              0.7777777777777778,
              "#fb9f3a"
             ],
             [
              0.8888888888888888,
              "#fdca26"
             ],
             [
              1,
              "#f0f921"
             ]
            ],
            "type": "heatmapgl"
           }
          ],
          "histogram": [
           {
            "marker": {
             "pattern": {
              "fillmode": "overlay",
              "size": 10,
              "solidity": 0.2
             }
            },
            "type": "histogram"
           }
          ],
          "histogram2d": [
           {
            "colorbar": {
             "outlinewidth": 0,
             "ticks": ""
            },
            "colorscale": [
             [
              0,
              "#0d0887"
             ],
             [
              0.1111111111111111,
              "#46039f"
             ],
             [
              0.2222222222222222,
              "#7201a8"
             ],
             [
              0.3333333333333333,
              "#9c179e"
             ],
             [
              0.4444444444444444,
              "#bd3786"
             ],
             [
              0.5555555555555556,
              "#d8576b"
             ],
             [
              0.6666666666666666,
              "#ed7953"
             ],
             [
              0.7777777777777778,
              "#fb9f3a"
             ],
             [
              0.8888888888888888,
              "#fdca26"
             ],
             [
              1,
              "#f0f921"
             ]
            ],
            "type": "histogram2d"
           }
          ],
          "histogram2dcontour": [
           {
            "colorbar": {
             "outlinewidth": 0,
             "ticks": ""
            },
            "colorscale": [
             [
              0,
              "#0d0887"
             ],
             [
              0.1111111111111111,
              "#46039f"
             ],
             [
              0.2222222222222222,
              "#7201a8"
             ],
             [
              0.3333333333333333,
              "#9c179e"
             ],
             [
              0.4444444444444444,
              "#bd3786"
             ],
             [
              0.5555555555555556,
              "#d8576b"
             ],
             [
              0.6666666666666666,
              "#ed7953"
             ],
             [
              0.7777777777777778,
              "#fb9f3a"
             ],
             [
              0.8888888888888888,
              "#fdca26"
             ],
             [
              1,
              "#f0f921"
             ]
            ],
            "type": "histogram2dcontour"
           }
          ],
          "mesh3d": [
           {
            "colorbar": {
             "outlinewidth": 0,
             "ticks": ""
            },
            "type": "mesh3d"
           }
          ],
          "parcoords": [
           {
            "line": {
             "colorbar": {
              "outlinewidth": 0,
              "ticks": ""
             }
            },
            "type": "parcoords"
           }
          ],
          "pie": [
           {
            "automargin": true,
            "type": "pie"
           }
          ],
          "scatter": [
           {
            "fillpattern": {
             "fillmode": "overlay",
             "size": 10,
             "solidity": 0.2
            },
            "type": "scatter"
           }
          ],
          "scatter3d": [
           {
            "line": {
             "colorbar": {
              "outlinewidth": 0,
              "ticks": ""
             }
            },
            "marker": {
             "colorbar": {
              "outlinewidth": 0,
              "ticks": ""
             }
            },
            "type": "scatter3d"
           }
          ],
          "scattercarpet": [
           {
            "marker": {
             "colorbar": {
              "outlinewidth": 0,
              "ticks": ""
             }
            },
            "type": "scattercarpet"
           }
          ],
          "scattergeo": [
           {
            "marker": {
             "colorbar": {
              "outlinewidth": 0,
              "ticks": ""
             }
            },
            "type": "scattergeo"
           }
          ],
          "scattergl": [
           {
            "marker": {
             "colorbar": {
              "outlinewidth": 0,
              "ticks": ""
             }
            },
            "type": "scattergl"
           }
          ],
          "scattermapbox": [
           {
            "marker": {
             "colorbar": {
              "outlinewidth": 0,
              "ticks": ""
             }
            },
            "type": "scattermapbox"
           }
          ],
          "scatterpolar": [
           {
            "marker": {
             "colorbar": {
              "outlinewidth": 0,
              "ticks": ""
             }
            },
            "type": "scatterpolar"
           }
          ],
          "scatterpolargl": [
           {
            "marker": {
             "colorbar": {
              "outlinewidth": 0,
              "ticks": ""
             }
            },
            "type": "scatterpolargl"
           }
          ],
          "scatterternary": [
           {
            "marker": {
             "colorbar": {
              "outlinewidth": 0,
              "ticks": ""
             }
            },
            "type": "scatterternary"
           }
          ],
          "surface": [
           {
            "colorbar": {
             "outlinewidth": 0,
             "ticks": ""
            },
            "colorscale": [
             [
              0,
              "#0d0887"
             ],
             [
              0.1111111111111111,
              "#46039f"
             ],
             [
              0.2222222222222222,
              "#7201a8"
             ],
             [
              0.3333333333333333,
              "#9c179e"
             ],
             [
              0.4444444444444444,
              "#bd3786"
             ],
             [
              0.5555555555555556,
              "#d8576b"
             ],
             [
              0.6666666666666666,
              "#ed7953"
             ],
             [
              0.7777777777777778,
              "#fb9f3a"
             ],
             [
              0.8888888888888888,
              "#fdca26"
             ],
             [
              1,
              "#f0f921"
             ]
            ],
            "type": "surface"
           }
          ],
          "table": [
           {
            "cells": {
             "fill": {
              "color": "#EBF0F8"
             },
             "line": {
              "color": "white"
             }
            },
            "header": {
             "fill": {
              "color": "#C8D4E3"
             },
             "line": {
              "color": "white"
             }
            },
            "type": "table"
           }
          ]
         },
         "layout": {
          "annotationdefaults": {
           "arrowcolor": "#2a3f5f",
           "arrowhead": 0,
           "arrowwidth": 1
          },
          "autotypenumbers": "strict",
          "coloraxis": {
           "colorbar": {
            "outlinewidth": 0,
            "ticks": ""
           }
          },
          "colorscale": {
           "diverging": [
            [
             0,
             "#8e0152"
            ],
            [
             0.1,
             "#c51b7d"
            ],
            [
             0.2,
             "#de77ae"
            ],
            [
             0.3,
             "#f1b6da"
            ],
            [
             0.4,
             "#fde0ef"
            ],
            [
             0.5,
             "#f7f7f7"
            ],
            [
             0.6,
             "#e6f5d0"
            ],
            [
             0.7,
             "#b8e186"
            ],
            [
             0.8,
             "#7fbc41"
            ],
            [
             0.9,
             "#4d9221"
            ],
            [
             1,
             "#276419"
            ]
           ],
           "sequential": [
            [
             0,
             "#0d0887"
            ],
            [
             0.1111111111111111,
             "#46039f"
            ],
            [
             0.2222222222222222,
             "#7201a8"
            ],
            [
             0.3333333333333333,
             "#9c179e"
            ],
            [
             0.4444444444444444,
             "#bd3786"
            ],
            [
             0.5555555555555556,
             "#d8576b"
            ],
            [
             0.6666666666666666,
             "#ed7953"
            ],
            [
             0.7777777777777778,
             "#fb9f3a"
            ],
            [
             0.8888888888888888,
             "#fdca26"
            ],
            [
             1,
             "#f0f921"
            ]
           ],
           "sequentialminus": [
            [
             0,
             "#0d0887"
            ],
            [
             0.1111111111111111,
             "#46039f"
            ],
            [
             0.2222222222222222,
             "#7201a8"
            ],
            [
             0.3333333333333333,
             "#9c179e"
            ],
            [
             0.4444444444444444,
             "#bd3786"
            ],
            [
             0.5555555555555556,
             "#d8576b"
            ],
            [
             0.6666666666666666,
             "#ed7953"
            ],
            [
             0.7777777777777778,
             "#fb9f3a"
            ],
            [
             0.8888888888888888,
             "#fdca26"
            ],
            [
             1,
             "#f0f921"
            ]
           ]
          },
          "colorway": [
           "#636efa",
           "#EF553B",
           "#00cc96",
           "#ab63fa",
           "#FFA15A",
           "#19d3f3",
           "#FF6692",
           "#B6E880",
           "#FF97FF",
           "#FECB52"
          ],
          "font": {
           "color": "#2a3f5f"
          },
          "geo": {
           "bgcolor": "white",
           "lakecolor": "white",
           "landcolor": "#E5ECF6",
           "showlakes": true,
           "showland": true,
           "subunitcolor": "white"
          },
          "hoverlabel": {
           "align": "left"
          },
          "hovermode": "closest",
          "mapbox": {
           "style": "light"
          },
          "paper_bgcolor": "white",
          "plot_bgcolor": "#E5ECF6",
          "polar": {
           "angularaxis": {
            "gridcolor": "white",
            "linecolor": "white",
            "ticks": ""
           },
           "bgcolor": "#E5ECF6",
           "radialaxis": {
            "gridcolor": "white",
            "linecolor": "white",
            "ticks": ""
           }
          },
          "scene": {
           "xaxis": {
            "backgroundcolor": "#E5ECF6",
            "gridcolor": "white",
            "gridwidth": 2,
            "linecolor": "white",
            "showbackground": true,
            "ticks": "",
            "zerolinecolor": "white"
           },
           "yaxis": {
            "backgroundcolor": "#E5ECF6",
            "gridcolor": "white",
            "gridwidth": 2,
            "linecolor": "white",
            "showbackground": true,
            "ticks": "",
            "zerolinecolor": "white"
           },
           "zaxis": {
            "backgroundcolor": "#E5ECF6",
            "gridcolor": "white",
            "gridwidth": 2,
            "linecolor": "white",
            "showbackground": true,
            "ticks": "",
            "zerolinecolor": "white"
           }
          },
          "shapedefaults": {
           "line": {
            "color": "#2a3f5f"
           }
          },
          "ternary": {
           "aaxis": {
            "gridcolor": "white",
            "linecolor": "white",
            "ticks": ""
           },
           "baxis": {
            "gridcolor": "white",
            "linecolor": "white",
            "ticks": ""
           },
           "bgcolor": "#E5ECF6",
           "caxis": {
            "gridcolor": "white",
            "linecolor": "white",
            "ticks": ""
           }
          },
          "title": {
           "x": 0.05
          },
          "xaxis": {
           "automargin": true,
           "gridcolor": "white",
           "linecolor": "white",
           "ticks": "",
           "title": {
            "standoff": 15
           },
           "zerolinecolor": "white",
           "zerolinewidth": 2
          },
          "yaxis": {
           "automargin": true,
           "gridcolor": "white",
           "linecolor": "white",
           "ticks": "",
           "title": {
            "standoff": 15
           },
           "zerolinecolor": "white",
           "zerolinewidth": 2
          }
         }
        },
        "title": {
         "text": "Percentage of Total Views"
        }
       }
      },
      "image/png": "[encoded data removed]",
      "text/html": [
       "<div>                            <div id=\"b0a31e54-7583-46ec-bb07-c603d951d075\" class=\"plotly-graph-div\" style=\"height:525px; width:100%;\"></div>            <script type=\"text/javascript\">                require([\"plotly\"], function(Plotly) {                    window.PLOTLYENV=window.PLOTLYENV || {};                                    if (document.getElementById(\"b0a31e54-7583-46ec-bb07-c603d951d075\")) {                    Plotly.newPlot(                        \"b0a31e54-7583-46ec-bb07-c603d951d075\",                        [{\"customdata\":[[\"BarbieDB\"],[\"WonkaDB\"],[\"ShazamDB\"],[\"BlueBeetleDB\"]],\"direction\":\"clockwise\",\"domain\":{\"x\":[0.0,1.0],\"y\":[0.0,1.0]},\"hovertemplate\":\"Database=%{customdata[0]}\\u003cbr\\u003eAverage View Count=%{value}\\u003cextra\\u003e\\u003c\\u002fextra\\u003e\",\"labels\":[\"BarbieDB\",\"WonkaDB\",\"ShazamDB\",\"BlueBeetleDB\"],\"legendgroup\":\"\",\"marker\":{\"colors\":[\"#ff0099\",\"#8a00a6\",\"#d10026\",\"#0003d1\"]},\"name\":\"\",\"showlegend\":true,\"sort\":false,\"values\":[540572.5120120121,362278.3953488372,116161.73170731707,195693.55592105264],\"type\":\"pie\"}],                        {\"template\":{\"data\":{\"histogram2dcontour\":[{\"type\":\"histogram2dcontour\",\"colorbar\":{\"outlinewidth\":0,\"ticks\":\"\"},\"colorscale\":[[0.0,\"#0d0887\"],[0.1111111111111111,\"#46039f\"],[0.2222222222222222,\"#7201a8\"],[0.3333333333333333,\"#9c179e\"],[0.4444444444444444,\"#bd3786\"],[0.5555555555555556,\"#d8576b\"],[0.6666666666666666,\"#ed7953\"],[0.7777777777777778,\"#fb9f3a\"],[0.8888888888888888,\"#fdca26\"],[1.0,\"#f0f921\"]]}],\"choropleth\":[{\"type\":\"choropleth\",\"colorbar\":{\"outlinewidth\":0,\"ticks\":\"\"}}],\"histogram2d\":[{\"type\":\"histogram2d\",\"colorbar\":{\"outlinewidth\":0,\"ticks\":\"\"},\"colorscale\":[[0.0,\"#0d0887\"],[0.1111111111111111,\"#46039f\"],[0.2222222222222222,\"#7201a8\"],[0.3333333333333333,\"#9c179e\"],[0.4444444444444444,\"#bd3786\"],[0.5555555555555556,\"#d8576b\"],[0.6666666666666666,\"#ed7953\"],[0.7777777777777778,\"#fb9f3a\"],[0.8888888888888888,\"#fdca26\"],[1.0,\"#f0f921\"]]}],\"heatmap\":[{\"type\":\"heatmap\",\"colorbar\":{\"outlinewidth\":0,\"ticks\":\"\"},\"colorscale\":[[0.0,\"#0d0887\"],[0.1111111111111111,\"#46039f\"],[0.2222222222222222,\"#7201a8\"],[0.3333333333333333,\"#9c179e\"],[0.4444444444444444,\"#bd3786\"],[0.5555555555555556,\"#d8576b\"],[0.6666666666666666,\"#ed7953\"],[0.7777777777777778,\"#fb9f3a\"],[0.8888888888888888,\"#fdca26\"],[1.0,\"#f0f921\"]]}],\"heatmapgl\":[{\"type\":\"heatmapgl\",\"colorbar\":{\"outlinewidth\":0,\"ticks\":\"\"},\"colorscale\":[[0.0,\"#0d0887\"],[0.1111111111111111,\"#46039f\"],[0.2222222222222222,\"#7201a8\"],[0.3333333333333333,\"#9c179e\"],[0.4444444444444444,\"#bd3786\"],[0.5555555555555556,\"#d8576b\"],[0.6666666666666666,\"#ed7953\"],[0.7777777777777778,\"#fb9f3a\"],[0.8888888888888888,\"#fdca26\"],[1.0,\"#f0f921\"]]}],\"contourcarpet\":[{\"type\":\"contourcarpet\",\"colorbar\":{\"outlinewidth\":0,\"ticks\":\"\"}}],\"contour\":[{\"type\":\"contour\",\"colorbar\":{\"outlinewidth\":0,\"ticks\":\"\"},\"colorscale\":[[0.0,\"#0d0887\"],[0.1111111111111111,\"#46039f\"],[0.2222222222222222,\"#7201a8\"],[0.3333333333333333,\"#9c179e\"],[0.4444444444444444,\"#bd3786\"],[0.5555555555555556,\"#d8576b\"],[0.6666666666666666,\"#ed7953\"],[0.7777777777777778,\"#fb9f3a\"],[0.8888888888888888,\"#fdca26\"],[1.0,\"#f0f921\"]]}],\"surface\":[{\"type\":\"surface\",\"colorbar\":{\"outlinewidth\":0,\"ticks\":\"\"},\"colorscale\":[[0.0,\"#0d0887\"],[0.1111111111111111,\"#46039f\"],[0.2222222222222222,\"#7201a8\"],[0.3333333333333333,\"#9c179e\"],[0.4444444444444444,\"#bd3786\"],[0.5555555555555556,\"#d8576b\"],[0.6666666666666666,\"#ed7953\"],[0.7777777777777778,\"#fb9f3a\"],[0.8888888888888888,\"#fdca26\"],[1.0,\"#f0f921\"]]}],\"mesh3d\":[{\"type\":\"mesh3d\",\"colorbar\":{\"outlinewidth\":0,\"ticks\":\"\"}}],\"scatter\":[{\"fillpattern\":{\"fillmode\":\"overlay\",\"size\":10,\"solidity\":0.2},\"type\":\"scatter\"}],\"parcoords\":[{\"type\":\"parcoords\",\"line\":{\"colorbar\":{\"outlinewidth\":0,\"ticks\":\"\"}}}],\"scatterpolargl\":[{\"type\":\"scatterpolargl\",\"marker\":{\"colorbar\":{\"outlinewidth\":0,\"ticks\":\"\"}}}],\"bar\":[{\"error_x\":{\"color\":\"#2a3f5f\"},\"error_y\":{\"color\":\"#2a3f5f\"},\"marker\":{\"line\":{\"color\":\"#E5ECF6\",\"width\":0.5},\"pattern\":{\"fillmode\":\"overlay\",\"size\":10,\"solidity\":0.2}},\"type\":\"bar\"}],\"scattergeo\":[{\"type\":\"scattergeo\",\"marker\":{\"colorbar\":{\"outlinewidth\":0,\"ticks\":\"\"}}}],\"scatterpolar\":[{\"type\":\"scatterpolar\",\"marker\":{\"colorbar\":{\"outlinewidth\":0,\"ticks\":\"\"}}}],\"histogram\":[{\"marker\":{\"pattern\":{\"fillmode\":\"overlay\",\"size\":10,\"solidity\":0.2}},\"type\":\"histogram\"}],\"scattergl\":[{\"type\":\"scattergl\",\"marker\":{\"colorbar\":{\"outlinewidth\":0,\"ticks\":\"\"}}}],\"scatter3d\":[{\"type\":\"scatter3d\",\"line\":{\"colorbar\":{\"outlinewidth\":0,\"ticks\":\"\"}},\"marker\":{\"colorbar\":{\"outlinewidth\":0,\"ticks\":\"\"}}}],\"scattermapbox\":[{\"type\":\"scattermapbox\",\"marker\":{\"colorbar\":{\"outlinewidth\":0,\"ticks\":\"\"}}}],\"scatterternary\":[{\"type\":\"scatterternary\",\"marker\":{\"colorbar\":{\"outlinewidth\":0,\"ticks\":\"\"}}}],\"scattercarpet\":[{\"type\":\"scattercarpet\",\"marker\":{\"colorbar\":{\"outlinewidth\":0,\"ticks\":\"\"}}}],\"carpet\":[{\"aaxis\":{\"endlinecolor\":\"#2a3f5f\",\"gridcolor\":\"white\",\"linecolor\":\"white\",\"minorgridcolor\":\"white\",\"startlinecolor\":\"#2a3f5f\"},\"baxis\":{\"endlinecolor\":\"#2a3f5f\",\"gridcolor\":\"white\",\"linecolor\":\"white\",\"minorgridcolor\":\"white\",\"startlinecolor\":\"#2a3f5f\"},\"type\":\"carpet\"}],\"table\":[{\"cells\":{\"fill\":{\"color\":\"#EBF0F8\"},\"line\":{\"color\":\"white\"}},\"header\":{\"fill\":{\"color\":\"#C8D4E3\"},\"line\":{\"color\":\"white\"}},\"type\":\"table\"}],\"barpolar\":[{\"marker\":{\"line\":{\"color\":\"#E5ECF6\",\"width\":0.5},\"pattern\":{\"fillmode\":\"overlay\",\"size\":10,\"solidity\":0.2}},\"type\":\"barpolar\"}],\"pie\":[{\"automargin\":true,\"type\":\"pie\"}]},\"layout\":{\"autotypenumbers\":\"strict\",\"colorway\":[\"#636efa\",\"#EF553B\",\"#00cc96\",\"#ab63fa\",\"#FFA15A\",\"#19d3f3\",\"#FF6692\",\"#B6E880\",\"#FF97FF\",\"#FECB52\"],\"font\":{\"color\":\"#2a3f5f\"},\"hovermode\":\"closest\",\"hoverlabel\":{\"align\":\"left\"},\"paper_bgcolor\":\"white\",\"plot_bgcolor\":\"#E5ECF6\",\"polar\":{\"bgcolor\":\"#E5ECF6\",\"angularaxis\":{\"gridcolor\":\"white\",\"linecolor\":\"white\",\"ticks\":\"\"},\"radialaxis\":{\"gridcolor\":\"white\",\"linecolor\":\"white\",\"ticks\":\"\"}},\"ternary\":{\"bgcolor\":\"#E5ECF6\",\"aaxis\":{\"gridcolor\":\"white\",\"linecolor\":\"white\",\"ticks\":\"\"},\"baxis\":{\"gridcolor\":\"white\",\"linecolor\":\"white\",\"ticks\":\"\"},\"caxis\":{\"gridcolor\":\"white\",\"linecolor\":\"white\",\"ticks\":\"\"}},\"coloraxis\":{\"colorbar\":{\"outlinewidth\":0,\"ticks\":\"\"}},\"colorscale\":{\"sequential\":[[0.0,\"#0d0887\"],[0.1111111111111111,\"#46039f\"],[0.2222222222222222,\"#7201a8\"],[0.3333333333333333,\"#9c179e\"],[0.4444444444444444,\"#bd3786\"],[0.5555555555555556,\"#d8576b\"],[0.6666666666666666,\"#ed7953\"],[0.7777777777777778,\"#fb9f3a\"],[0.8888888888888888,\"#fdca26\"],[1.0,\"#f0f921\"]],\"sequentialminus\":[[0.0,\"#0d0887\"],[0.1111111111111111,\"#46039f\"],[0.2222222222222222,\"#7201a8\"],[0.3333333333333333,\"#9c179e\"],[0.4444444444444444,\"#bd3786\"],[0.5555555555555556,\"#d8576b\"],[0.6666666666666666,\"#ed7953\"],[0.7777777777777778,\"#fb9f3a\"],[0.8888888888888888,\"#fdca26\"],[1.0,\"#f0f921\"]],\"diverging\":[[0,\"#8e0152\"],[0.1,\"#c51b7d\"],[0.2,\"#de77ae\"],[0.3,\"#f1b6da\"],[0.4,\"#fde0ef\"],[0.5,\"#f7f7f7\"],[0.6,\"#e6f5d0\"],[0.7,\"#b8e186\"],[0.8,\"#7fbc41\"],[0.9,\"#4d9221\"],[1,\"#276419\"]]},\"xaxis\":{\"gridcolor\":\"white\",\"linecolor\":\"white\",\"ticks\":\"\",\"title\":{\"standoff\":15},\"zerolinecolor\":\"white\",\"automargin\":true,\"zerolinewidth\":2},\"yaxis\":{\"gridcolor\":\"white\",\"linecolor\":\"white\",\"ticks\":\"\",\"title\":{\"standoff\":15},\"zerolinecolor\":\"white\",\"automargin\":true,\"zerolinewidth\":2},\"scene\":{\"xaxis\":{\"backgroundcolor\":\"#E5ECF6\",\"gridcolor\":\"white\",\"linecolor\":\"white\",\"showbackground\":true,\"ticks\":\"\",\"zerolinecolor\":\"white\",\"gridwidth\":2},\"yaxis\":{\"backgroundcolor\":\"#E5ECF6\",\"gridcolor\":\"white\",\"linecolor\":\"white\",\"showbackground\":true,\"ticks\":\"\",\"zerolinecolor\":\"white\",\"gridwidth\":2},\"zaxis\":{\"backgroundcolor\":\"#E5ECF6\",\"gridcolor\":\"white\",\"linecolor\":\"white\",\"showbackground\":true,\"ticks\":\"\",\"zerolinecolor\":\"white\",\"gridwidth\":2}},\"shapedefaults\":{\"line\":{\"color\":\"#2a3f5f\"}},\"annotationdefaults\":{\"arrowcolor\":\"#2a3f5f\",\"arrowhead\":0,\"arrowwidth\":1},\"geo\":{\"bgcolor\":\"white\",\"landcolor\":\"#E5ECF6\",\"subunitcolor\":\"white\",\"showland\":true,\"showlakes\":true,\"lakecolor\":\"white\"},\"title\":{\"x\":0.05},\"mapbox\":{\"style\":\"light\"}}},\"legend\":{\"tracegroupgap\":0},\"title\":{\"text\":\"Percentage of Total Views\"}},                        {\"responsive\": true}                    ).then(function(){\n",
       "                            \n",
       "var gd = document.getElementById('b0a31e54-7583-46ec-bb07-c603d951d075');\n",
       "var x = new MutationObserver(function (mutations, observer) {{\n",
       "        var display = window.getComputedStyle(gd).display;\n",
       "        if (!display || display === 'none') {{\n",
       "            console.log([gd, 'removed!']);\n",
       "            Plotly.purge(gd);\n",
       "            observer.disconnect();\n",
       "        }}\n",
       "}});\n",
       "\n",
       "// Listen for the removal of the full notebook cells\n",
       "var notebookContainer = gd.closest('#notebook-container');\n",
       "if (notebookContainer) {{\n",
       "    x.observe(notebookContainer, {childList: true});\n",
       "}}\n",
       "\n",
       "// Listen for the clearing of the current output cell\n",
       "var outputEl = gd.closest('.output');\n",
       "if (outputEl) {{\n",
       "    x.observe(outputEl, {childList: true});\n",
       "}}\n",
       "\n",
       "                        })                };                });            </script>        </div>"
      ]
     },
     "metadata": {},
     "output_type": "display_data"
    }
   ],
   "source": [
    "average_view_counts = {\n",
    "    \"BarbieDB\": BarbieDB['view_count'].mean(),\n",
    "    \"WonkaDB\": WonkaDB['view_count'].mean(),\n",
    "    \"ShazamDB\": ShazamDB['view_count'].mean(),\n",
    "    \"BlueBeetleDB\": BlueBeetleDB['view_count'].mean(),\n",
    "}\n",
    "\n",
    "view_counts_df = pd.DataFrame(\n",
    "    list(average_view_counts.items()),\n",
    "    columns=[\"Database\", \"Average View Count\"]\n",
    ")\n",
    "\n",
    "view_counts_df['Database'] = pd.Categorical(\n",
    "    view_counts_df['Database'],\n",
    "    categories=[\"BarbieDB\", \"WonkaDB\", \"ShazamDB\", \"BlueBeetleDB\"],\n",
    "    ordered=True\n",
    ")\n",
    "\n",
    "custom_colors = {\n",
    "    \"BarbieDB\": \"#ff0099\",\n",
    "    \"WonkaDB\": \"#8a00a6\",\n",
    "    \"ShazamDB\": \"#d10026\",\n",
    "    \"BlueBeetleDB\": \"#0003d1\"\n",
    "}\n",
    "\n",
    "fig = px.pie(\n",
    "    view_counts_df,\n",
    "    values='Average View Count',\n",
    "    names='Database',\n",
    "    title='Percentage of Total Views',\n",
    "    color='Database',\n",
    "    color_discrete_map=custom_colors,\n",
    "    category_orders={\"Database\": [\"BarbieDB\", \"WonkaDB\", \"ShazamDB\", \"BlueBeetleDB\"]}\n",
    ")\n",
    "\n",
    "html_file = '2023Views.html'\n",
    "fig.write_html(html_file)\n",
    "\n",
    "fig.show()"
   ]
  },
  {
   "cell_type": "code",
   "execution_count": 41,
   "id": "8ace6c72-634d-4a22-bfa0-1c262b03ab65",
   "metadata": {},
   "outputs": [
    {
     "data": {
      "application/vnd.plotly.v1+json": {
       "config": {
        "plotlyServerURL": "https://plot.ly"
       },
       "data": [
        {
         "marker": {
          "color": "#009427"
         },
         "name": "JokerDB",
         "type": "bar",
         "visible": "legendonly",
         "x": [
          "2024-01-02",
          "2024-02-14",
          "2024-04-02",
          "2024-04-09",
          "2024-07-23",
          "2024-08-04",
          "2024-08-09",
          "2024-08-16",
          "2024-08-19",
          "2024-08-23",
          "2024-08-30",
          "2024-09-02",
          "2024-09-03",
          "2024-09-04",
          "2024-09-06",
          "2024-09-09",
          "2024-09-12",
          "2024-09-13",
          "2024-09-16",
          "2024-09-17",
          "2024-09-18",
          "2024-09-19",
          "2024-09-20",
          "2024-09-23",
          "2024-09-24",
          "2024-09-25",
          "2024-09-26",
          "2024-09-27",
          "2024-09-28",
          "2024-10-01",
          "2024-10-02",
          "2024-10-03",
          "2024-10-04",
          "2024-10-05",
          "2024-10-06",
          "2024-10-08",
          "2024-10-09",
          "2024-10-15",
          "2024-10-18",
          "2024-10-22",
          "2024-10-28",
          "2024-10-29",
          "2024-10-31",
          "2024-11-02",
          "2024-11-06",
          "2024-11-22",
          "2024-11-26",
          "2024-11-27",
          "2024-12-13",
          "2024-12-17",
          "2024-12-23",
          "2024-12-26",
          "2024-12-27"
         ],
         "y": [
          137363,
          357797,
          1977733,
          19864602,
          1388219,
          68927,
          245731,
          52918,
          685045,
          86211,
          545072,
          277303,
          590864,
          405806,
          161437,
          561376,
          22307,
          153898,
          54056,
          28886,
          8795164,
          119324,
          130037,
          179437,
          82073,
          129754,
          103736,
          130279,
          28954,
          352939,
          313311,
          351618,
          121738,
          45065,
          45822,
          29697,
          32923,
          30457,
          18121,
          64176,
          149551,
          36886,
          20681,
          25384,
          27888,
          18822,
          30683,
          18846,
          45088,
          22691,
          38141,
          44635,
          49110
         ],
         "yaxis": "y2"
        },
        {
         "marker": {
          "color": "#94008f"
         },
         "name": "BeetleJuiceDB",
         "type": "bar",
         "visible": "legendonly",
         "x": [
          "2024-05-21",
          "2024-05-23",
          "2024-06-10",
          "2024-06-27",
          "2024-07-18",
          "2024-07-26",
          "2024-07-30",
          "2024-08-05",
          "2024-08-06",
          "2024-08-07",
          "2024-08-08",
          "2024-08-09",
          "2024-08-10",
          "2024-08-11",
          "2024-08-12",
          "2024-08-13",
          "2024-08-14",
          "2024-08-15",
          "2024-08-16",
          "2024-08-17",
          "2024-08-18",
          "2024-08-19",
          "2024-08-20",
          "2024-08-21",
          "2024-08-22",
          "2024-08-23",
          "2024-08-24",
          "2024-08-25",
          "2024-08-26",
          "2024-08-27",
          "2024-08-28",
          "2024-08-29",
          "2024-08-30",
          "2024-08-31",
          "2024-09-01",
          "2024-09-02",
          "2024-09-03",
          "2024-09-04",
          "2024-09-05",
          "2024-09-06",
          "2024-09-07",
          "2024-09-08",
          "2024-09-09",
          "2024-09-10",
          "2024-09-11",
          "2024-09-12",
          "2024-09-13",
          "2024-09-14",
          "2024-09-17",
          "2024-09-18",
          "2024-09-19",
          "2024-09-20",
          "2024-09-21",
          "2024-10-01",
          "2024-10-07",
          "2024-10-08",
          "2024-10-22",
          "2024-10-23",
          "2024-10-26",
          "2024-10-31",
          "2024-11-01",
          "2024-11-02",
          "2024-11-06",
          "2024-11-26",
          "2024-11-27",
          "2024-11-28",
          "2024-12-09",
          "2024-12-10",
          "2024-12-12",
          "2024-12-13",
          "2024-12-18"
         ],
         "y": [
          103909,
          352925,
          1326948,
          55315,
          503348,
          20360,
          30773,
          516535,
          47992,
          64994,
          12456,
          21852,
          10420,
          29267,
          22979,
          24068,
          26608,
          55634,
          57671,
          52270,
          9657,
          23413,
          36675,
          34621,
          16054,
          62834,
          35504,
          64112,
          328787,
          67915,
          24136,
          21172,
          98176,
          32504,
          24463,
          32776,
          48896,
          50888,
          142628,
          685104,
          103429,
          37382,
          25740,
          49947,
          33881,
          79531,
          96816,
          31825,
          24268,
          10034,
          16349,
          72409,
          21464,
          49508,
          38150,
          22683,
          35633,
          55048,
          11049,
          8679,
          12324,
          8807,
          6467,
          53321,
          43847,
          8578,
          28086,
          20877,
          20270,
          24834,
          26701
         ],
         "yaxis": "y2"
        },
        {
         "marker": {
          "color": "#d16200"
         },
         "name": "DuneDB",
         "type": "bar",
         "visible": "legendonly",
         "x": [
          "2024-01-01",
          "2024-01-17",
          "2024-01-21",
          "2024-01-22",
          "2024-01-24",
          "2024-01-25",
          "2024-01-26",
          "2024-01-27",
          "2024-01-28",
          "2024-01-29",
          "2024-01-30",
          "2024-01-31",
          "2024-02-01",
          "2024-02-05",
          "2024-02-06",
          "2024-02-07",
          "2024-02-08",
          "2024-02-09",
          "2024-02-10",
          "2024-02-12",
          "2024-02-13",
          "2024-02-14",
          "2024-02-15",
          "2024-02-16",
          "2024-02-18",
          "2024-02-19",
          "2024-02-20",
          "2024-02-21",
          "2024-02-22",
          "2024-02-23",
          "2024-02-24",
          "2024-02-25",
          "2024-02-26",
          "2024-02-27",
          "2024-02-28",
          "2024-02-29",
          "2024-03-01",
          "2024-03-02",
          "2024-03-03",
          "2024-03-04",
          "2024-03-05",
          "2024-03-06",
          "2024-03-07",
          "2024-03-08",
          "2024-03-09",
          "2024-03-10",
          "2024-03-12",
          "2024-03-13",
          "2024-03-14",
          "2024-03-15",
          "2024-03-16",
          "2024-03-17",
          "2024-03-18",
          "2024-03-21",
          "2024-03-22",
          "2024-03-28",
          "2024-03-29",
          "2024-04-08",
          "2024-04-09",
          "2024-04-15",
          "2024-04-16",
          "2024-04-18",
          "2024-04-19",
          "2024-04-26",
          "2024-05-03",
          "2024-05-07",
          "2024-05-08",
          "2024-05-10",
          "2024-05-11",
          "2024-05-14",
          "2024-05-16",
          "2024-05-30",
          "2024-06-01",
          "2024-10-15",
          "2024-10-24",
          "2024-11-07",
          "2024-11-08",
          "2024-11-18",
          "2024-11-20",
          "2024-11-21",
          "2024-12-03",
          "2024-12-06",
          "2024-12-08",
          "2024-12-09",
          "2024-12-10",
          "2024-12-11",
          "2024-12-12",
          "2024-12-13",
          "2024-12-16",
          "2024-12-18",
          "2024-12-27",
          "2024-12-30"
         ],
         "y": [
          257833,
          299020,
          330411,
          134887,
          1221929,
          145991,
          177337,
          161017,
          353955,
          108838,
          158457,
          96168,
          306873,
          117700,
          102259,
          103283,
          80931,
          290526,
          95021,
          8282577,
          67724,
          276011,
          82729,
          77670,
          43906,
          57018,
          40265,
          79234,
          81460,
          179852,
          121361,
          159640,
          272231,
          319359,
          246487,
          341111,
          412639,
          180688,
          75808,
          238358,
          118717,
          2117941,
          58528,
          210290,
          189560,
          62908,
          119256,
          992860,
          96289,
          58388,
          81132,
          62503,
          92785,
          89812,
          413190,
          143082,
          4002780,
          2623123,
          543532,
          146635,
          81521,
          190915,
          64517,
          300610,
          135779,
          36823,
          40236,
          47306,
          37902,
          50222,
          94338,
          41553,
          39948,
          114657,
          756165,
          54128,
          73092,
          29958,
          53864,
          42117,
          965392,
          1479096,
          19241,
          1774211,
          26059,
          34841,
          61082,
          39274,
          55081,
          145985,
          135737,
          1447550
         ],
         "yaxis": "y2"
        },
        {
         "marker": {
          "color": "#e6e600"
         },
         "name": "GxKDB",
         "type": "bar",
         "visible": "legendonly",
         "x": [
          "2024-01-16",
          "2024-01-18",
          "2024-01-22",
          "2024-02-01",
          "2024-02-02",
          "2024-02-06",
          "2024-02-09",
          "2024-02-10",
          "2024-02-11",
          "2024-02-13",
          "2024-02-14",
          "2024-02-18",
          "2024-02-21",
          "2024-02-29",
          "2024-03-02",
          "2024-03-04",
          "2024-03-06",
          "2024-03-08",
          "2024-03-10",
          "2024-03-11",
          "2024-03-13",
          "2024-03-14",
          "2024-03-15",
          "2024-03-16",
          "2024-03-17",
          "2024-03-18",
          "2024-03-19",
          "2024-03-20",
          "2024-03-21",
          "2024-03-22",
          "2024-03-23",
          "2024-03-24",
          "2024-03-25",
          "2024-03-26",
          "2024-03-27",
          "2024-03-28",
          "2024-03-29",
          "2024-03-30",
          "2024-03-31",
          "2024-04-01",
          "2024-04-02",
          "2024-04-03",
          "2024-04-04",
          "2024-04-05",
          "2024-04-06",
          "2024-04-07",
          "2024-04-08",
          "2024-04-09",
          "2024-04-10",
          "2024-04-11",
          "2024-04-12",
          "2024-04-13",
          "2024-04-14",
          "2024-04-15",
          "2024-04-26",
          "2024-05-07",
          "2024-05-14",
          "2024-05-28",
          "2024-05-30",
          "2024-06-04"
         ],
         "y": [
          215456,
          259314,
          58187,
          112164,
          119354,
          236981,
          170227,
          204569,
          464312,
          765956,
          6954172,
          78558,
          151272,
          176939,
          284843,
          147905,
          105257,
          104370,
          454662,
          229371,
          387937,
          68984,
          346029,
          52666,
          61990,
          38836,
          933704,
          21442,
          40268,
          60926,
          26879,
          363214,
          188288,
          466671,
          186189,
          527861,
          300428,
          216711,
          155044,
          301978,
          73621,
          180914,
          164643,
          300890,
          39270,
          117272,
          66473,
          254744,
          115403,
          96354,
          1983269,
          134685,
          204815,
          180813,
          53073,
          163844,
          45725,
          29686,
          35036,
          28961
         ],
         "yaxis": "y2"
        },
        {
         "line": {
          "color": "blue",
          "width": 4
         },
         "mode": "lines",
         "name": "Views Trend (Moving Average)",
         "type": "scatter",
         "x": [
          "2024-01-01",
          "2024-01-02",
          "2024-01-16",
          "2024-01-17",
          "2024-01-18",
          "2024-01-21",
          "2024-01-22",
          "2024-01-22",
          "2024-01-24",
          "2024-01-25",
          "2024-01-26",
          "2024-01-27",
          "2024-01-28",
          "2024-01-29",
          "2024-01-30",
          "2024-01-31",
          "2024-02-01",
          "2024-02-01",
          "2024-02-02",
          "2024-02-05",
          "2024-02-06",
          "2024-02-06",
          "2024-02-07",
          "2024-02-08",
          "2024-02-09",
          "2024-02-09",
          "2024-02-10",
          "2024-02-10",
          "2024-02-11",
          "2024-02-12",
          "2024-02-13",
          "2024-02-13",
          "2024-02-14",
          "2024-02-14",
          "2024-02-14",
          "2024-02-15",
          "2024-02-16",
          "2024-02-18",
          "2024-02-18",
          "2024-02-19",
          "2024-02-20",
          "2024-02-21",
          "2024-02-21",
          "2024-02-22",
          "2024-02-23",
          "2024-02-24",
          "2024-02-25",
          "2024-02-26",
          "2024-02-27",
          "2024-02-28",
          "2024-02-29",
          "2024-02-29",
          "2024-03-01",
          "2024-03-02",
          "2024-03-02",
          "2024-03-03",
          "2024-03-04",
          "2024-03-04",
          "2024-03-05",
          "2024-03-06",
          "2024-03-06",
          "2024-03-07",
          "2024-03-08",
          "2024-03-08",
          "2024-03-09",
          "2024-03-10",
          "2024-03-10",
          "2024-03-11",
          "2024-03-12",
          "2024-03-13",
          "2024-03-13",
          "2024-03-14",
          "2024-03-14",
          "2024-03-15",
          "2024-03-15",
          "2024-03-16",
          "2024-03-16",
          "2024-03-17",
          "2024-03-17",
          "2024-03-18",
          "2024-03-18",
          "2024-03-19",
          "2024-03-20",
          "2024-03-21",
          "2024-03-21",
          "2024-03-22",
          "2024-03-22",
          "2024-03-23",
          "2024-03-24",
          "2024-03-25",
          "2024-03-26",
          "2024-03-27",
          "2024-03-28",
          "2024-03-28",
          "2024-03-29",
          "2024-03-29",
          "2024-03-30",
          "2024-03-31",
          "2024-04-01",
          "2024-04-02",
          "2024-04-02",
          "2024-04-03",
          "2024-04-04",
          "2024-04-05",
          "2024-04-06",
          "2024-04-07",
          "2024-04-08",
          "2024-04-08",
          "2024-04-09",
          "2024-04-09",
          "2024-04-09",
          "2024-04-10",
          "2024-04-11",
          "2024-04-12",
          "2024-04-13",
          "2024-04-14",
          "2024-04-15",
          "2024-04-15",
          "2024-04-16",
          "2024-04-18",
          "2024-04-19",
          "2024-04-26",
          "2024-04-26",
          "2024-05-03",
          "2024-05-07",
          "2024-05-07",
          "2024-05-08",
          "2024-05-10",
          "2024-05-11",
          "2024-05-14",
          "2024-05-14",
          "2024-05-16",
          "2024-05-21",
          "2024-05-23",
          "2024-05-28",
          "2024-05-30",
          "2024-05-30",
          "2024-06-01",
          "2024-06-04",
          "2024-06-10",
          "2024-06-27",
          "2024-07-18",
          "2024-07-23",
          "2024-07-26",
          "2024-07-30",
          "2024-08-04",
          "2024-08-05",
          "2024-08-06",
          "2024-08-07",
          "2024-08-08",
          "2024-08-09",
          "2024-08-09",
          "2024-08-10",
          "2024-08-11",
          "2024-08-12",
          "2024-08-13",
          "2024-08-14",
          "2024-08-15",
          "2024-08-16",
          "2024-08-16",
          "2024-08-17",
          "2024-08-18",
          "2024-08-19",
          "2024-08-19",
          "2024-08-20",
          "2024-08-21",
          "2024-08-22",
          "2024-08-23",
          "2024-08-23",
          "2024-08-24",
          "2024-08-25",
          "2024-08-26",
          "2024-08-27",
          "2024-08-28",
          "2024-08-29",
          "2024-08-30",
          "2024-08-30",
          "2024-08-31",
          "2024-09-01",
          "2024-09-02",
          "2024-09-02",
          "2024-09-03",
          "2024-09-03",
          "2024-09-04",
          "2024-09-04",
          "2024-09-05",
          "2024-09-06",
          "2024-09-06",
          "2024-09-07",
          "2024-09-08",
          "2024-09-09",
          "2024-09-09",
          "2024-09-10",
          "2024-09-11",
          "2024-09-12",
          "2024-09-12",
          "2024-09-13",
          "2024-09-13",
          "2024-09-14",
          "2024-09-16",
          "2024-09-17",
          "2024-09-17",
          "2024-09-18",
          "2024-09-18",
          "2024-09-19",
          "2024-09-19",
          "2024-09-20",
          "2024-09-20",
          "2024-09-21",
          "2024-09-23",
          "2024-09-24",
          "2024-09-25",
          "2024-09-26",
          "2024-09-27",
          "2024-09-28",
          "2024-10-01",
          "2024-10-01",
          "2024-10-02",
          "2024-10-03",
          "2024-10-04",
          "2024-10-05",
          "2024-10-06",
          "2024-10-07",
          "2024-10-08",
          "2024-10-08",
          "2024-10-09",
          "2024-10-15",
          "2024-10-15",
          "2024-10-18",
          "2024-10-22",
          "2024-10-22",
          "2024-10-23",
          "2024-10-24",
          "2024-10-26",
          "2024-10-28",
          "2024-10-29",
          "2024-10-31",
          "2024-10-31",
          "2024-11-01",
          "2024-11-02",
          "2024-11-02",
          "2024-11-06",
          "2024-11-06",
          "2024-11-07",
          "2024-11-08",
          "2024-11-18",
          "2024-11-20",
          "2024-11-21",
          "2024-11-22",
          "2024-11-26",
          "2024-11-26",
          "2024-11-27",
          "2024-11-27",
          "2024-11-28",
          "2024-12-03",
          "2024-12-06",
          "2024-12-08",
          "2024-12-09",
          "2024-12-09",
          "2024-12-10",
          "2024-12-10",
          "2024-12-11",
          "2024-12-12",
          "2024-12-12",
          "2024-12-13",
          "2024-12-13",
          "2024-12-13",
          "2024-12-16",
          "2024-12-17",
          "2024-12-18",
          "2024-12-18",
          "2024-12-23",
          "2024-12-26",
          "2024-12-27",
          "2024-12-27",
          "2024-12-30"
         ],
         "y": [
          257833,
          197598,
          203550.66666666666,
          227418,
          233797.2,
          249899.5,
          222512,
          211558.875,
          323822.22222222225,
          306039.1,
          294338.9090909091,
          283228.75,
          288669.23076923075,
          275824.14285714284,
          267999.6666666667,
          257260.1875,
          260178.58823529413,
          251955.55555555556,
          244976.52631578947,
          238612.7,
          238535,
          232340.63636363635,
          226729.4347826087,
          220654.5,
          223449.36,
          221402.34615384616,
          216721.55555555556,
          216287.5357142857,
          224840.10344827586,
          493431.3333333333,
          479698.8387096774,
          488644.375,
          684569.4545454546,
          674958.5,
          663560,
          647425.8055555555,
          632027,
          616550.1315789474,
          602755.4615384615,
          589112.025,
          575725.512195122,
          565619.4761904762,
          554308.1860465116,
          543561.6363636364,
          535479.2,
          526476.6304347826,
          518671.59574468085,
          513537.4166666667,
          509574.5918367347,
          504312.84,
          501112.8039215686,
          494878.6923076923,
          493327,
          487537.3888888889,
          483852.0363636364,
          476565.53571428574,
          472386.4561403509,
          466791.9482758621,
          460892.3728813559,
          488509.85,
          482227.01639344264,
          475393.1612903226,
          471185.1746031746,
          465453.6875,
          461209.1692307692,
          455174.30303030304,
          455166.6567164179,
          451846.1323529412,
          447025.9855072464,
          446181.85714285716,
          453881.54929577466,
          448535.75,
          443710.4520547945,
          442390.4324324324,
          437270.4,
          432584.36842105264,
          427650.36363636365,
          422968.9871794872,
          418399.63291139243,
          414329.45,
          409693.72839506174,
          416084.0975609756,
          411329.3734939759,
          406911.9761904762,
          403181.38823529414,
          403297.76744186046,
          399362.4597701149,
          395129.6931818182,
          394771.08988764044,
          392476.8333333333,
          393292.1538461539,
          391041.0326086957,
          392512.2150537634,
          389858.7021276596,
          388917.3263157895,
          426561.7291666667,
          424398.3195876289,
          421649.806122449,
          420441,
          436013.92,
          432425.8712871287,
          429960.06862745096,
          427384.17475728155,
          426167.8846153846,
          422483.14285714284,
          419603.7924528302,
          416303.5046728972,
          436737.01851851854,
          614974.3119266055,
          611699.490909091,
          611085.3693693693,
          606659.6339285715,
          602143.6548672566,
          614258.7894736842,
          610088.5826086956,
          606594.8448275862,
          602663.5641025641,
          599088.5593220339,
          594739.2521008403,
          591374.05,
          587019.8595041322,
          582643.2459016393,
          580350.2926829269,
          576765.0403225806,
          573461.672,
          569202.6349206349,
          565037.5433070866,
          560992.765625,
          556937.7984496125,
          553039.9846153846,
          549167.3511450381,
          545721.6742424242,
          542399.7744360903,
          540985.7835820896,
          537198.3777777777,
          533553.9264705882,
          529915.109489051,
          526364.6231884058,
          522786.1798561151,
          528530.1928571429,
          525174.0567375886,
          525020.352112676,
          531056.7062937063,
          527510.2013888889,
          524084.4275862069,
          520966.91095890413,
          520936.7619047619,
          517741.1891891892,
          514702.61744966445,
          511354.30666666664,
          509595.2119205298,
          506386.375,
          503144.76470588235,
          500067.63636363635,
          496989.6451612903,
          493958.0961538461,
          490981.3439490446,
          488225.9810126582,
          485518.08805031446,
          482814.3375,
          480140.14906832296,
          477235.93209876545,
          478510.83435582824,
          475735.8475609756,
          473074.87272727274,
          470433.5843373494,
          467712.748502994,
          465302.75595238095,
          463059.6094674556,
          460544.5764705882,
          458226.2573099415,
          457473.7034883721,
          455221.9190751445,
          452744.4137931034,
          450278.28571428574,
          448277.70454545453,
          448824.5649717514,
          446485.6853932584,
          444128.0167597765,
          441842.72777777776,
          440933.6685082873,
          441757.46153846156,
          439610.6775956284,
          439426.95652173914,
          437326.74594594596,
          435742.34408602153,
          434275.4705882353,
          435609.66489361704,
          433852.09523809527,
          431765.4105263158,
          429639.6230366492,
          430325.75,
          428354.8756476684,
          426321.5051546392,
          424543.09230769234,
          422490.86734693876,
          420837.6954314721,
          419489.51515151514,
          417541.4522613065,
          415724.025,
          413776.4825870647,
          411871.08415841585,
          453168.09359605913,
          450995.8676470588,
          449377.956097561,
          447275.87378640776,
          445464.922705314,
          443948.4423076923,
          441926.985645933,
          440677.0333333333,
          438977.4881516588,
          437518.88679245283,
          435951.8309859155,
          434523.45327102806,
          432637.0837209302,
          432268.1111111111,
          430504.2396313364,
          429966.65596330276,
          429608.89954337897,
          428209.4863636364,
          426475.80090497737,
          424761.14414414414,
          423027.4618834081,
          421271.5223214286,
          419500.0177777778,
          417789.5,
          416083.18942731275,
          414761.1447368421,
          413029.09170305677,
          411388.23913043475,
          409885.1558441558,
          408355.6853448276,
          409848.4291845494,
          408144.1581196581,
          407043.76170212764,
          405475.2966101695,
          403801.0506329114,
          402191.3025210084,
          400560.05857740587,
          398927.75416666665,
          397377.78008298756,
          395762.4462809917,
          394248.5596707819,
          392854.62295081967,
          391549.4693877551,
          390079.5853658537,
          388718.3886639676,
          387320.80241935485,
          385840.8875502008,
          384510.808,
          383101.13545816735,
          381655.6785714286,
          380320.46640316205,
          378856.91338582675,
          381157.05098039214,
          385445.875,
          384020.953307393,
          389409.2868217054,
          388014.2162162162,
          386622.0807692308,
          385220.7586206897,
          383883.43129770993,
          382500.87072243344,
          381283.375,
          379992.77358490566,
          378657.5902255639,
          377408.265917603,
          376205.552238806,
          374891.3717472119,
          373601.77777777775,
          372761.86346863466,
          371531.63970588235,
          370334.2161172161,
          369478.0218978102,
          368313.0472727273,
          372223.32608695654
         ],
         "yaxis": "y2"
        },
        {
         "line": {
          "color": "rgba(100, 100, 100, 0.5)",
          "width": 3
         },
         "mode": "lines",
         "name": "Stock Price (2024)",
         "type": "scatter",
         "x": [
          "2024-12-17T00:00:00",
          "2024-12-09T00:00:00",
          "2024-12-02T00:00:00",
          "2024-11-01T00:00:00",
          "2024-10-23T00:00:00",
          "2024-10-15T00:00:00",
          "2024-10-11T00:00:00",
          "2024-09-04T00:00:00",
          "2024-08-23T00:00:00",
          "2024-08-19T00:00:00",
          "2024-08-13T00:00:00",
          "2024-08-05T00:00:00",
          "2024-07-26T00:00:00",
          "2024-07-19T00:00:00",
          "2024-07-16T00:00:00",
          "2024-07-12T00:00:00",
          "2024-07-09T00:00:00",
          "2024-06-26T00:00:00",
          "2024-06-25T00:00:00",
          "2024-06-21T00:00:00",
          "2024-06-18T00:00:00",
          "2024-06-13T00:00:00",
          "2024-06-04T00:00:00",
          "2024-05-13T00:00:00",
          "2024-04-23T00:00:00",
          "2024-04-03T00:00:00",
          "2024-04-02T00:00:00",
          "2024-03-21T00:00:00",
          "2024-03-19T00:00:00",
          "2024-03-15T00:00:00",
          "2024-03-14T00:00:00",
          "2024-02-26T00:00:00",
          "2024-02-23T00:00:00",
          "2024-02-22T00:00:00",
          "2024-02-16T00:00:00",
          "2024-02-15T00:00:00",
          "2024-02-13T00:00:00",
          "2024-02-08T00:00:00",
          "2024-02-07T00:00:00",
          "2024-01-30T00:00:00",
          "2024-01-26T00:00:00",
          "2024-01-18T00:00:00",
          "2024-01-08T00:00:00",
          "2024-01-05T00:00:00"
         ],
         "y": [
          11,
          10.04,
          9.37,
          7.47,
          6.65,
          7.09,
          6.87,
          6.75,
          6.79,
          6.72,
          6.29,
          7.02,
          7.4,
          7.71,
          7.13,
          6.86,
          6.56,
          6.69,
          7.03,
          6.65,
          6.72,
          7.22,
          7.65,
          7.57,
          7.81,
          7.98,
          8.04,
          8.09,
          7.54,
          7.82,
          7.86,
          8.05,
          8.98,
          8.87,
          9.39,
          9.07,
          8.87,
          9.05,
          9,
          9.58,
          9.68,
          9.38,
          10.26,
          10
         ],
         "yaxis": "y"
        }
       ],
       "layout": {
        "autosize": true,
        "legend": {
         "font": {
          "color": "black"
         }
        },
        "paper_bgcolor": "white",
        "plot_bgcolor": "white",
        "template": {
         "data": {
          "bar": [
           {
            "error_x": {
             "color": "#2a3f5f"
            },
            "error_y": {
             "color": "#2a3f5f"
            },
            "marker": {
             "line": {
              "color": "#E5ECF6",
              "width": 0.5
             },
             "pattern": {
              "fillmode": "overlay",
              "size": 10,
              "solidity": 0.2
             }
            },
            "type": "bar"
           }
          ],
          "barpolar": [
           {
            "marker": {
             "line": {
              "color": "#E5ECF6",
              "width": 0.5
             },
             "pattern": {
              "fillmode": "overlay",
              "size": 10,
              "solidity": 0.2
             }
            },
            "type": "barpolar"
           }
          ],
          "carpet": [
           {
            "aaxis": {
             "endlinecolor": "#2a3f5f",
             "gridcolor": "white",
             "linecolor": "white",
             "minorgridcolor": "white",
             "startlinecolor": "#2a3f5f"
            },
            "baxis": {
             "endlinecolor": "#2a3f5f",
             "gridcolor": "white",
             "linecolor": "white",
             "minorgridcolor": "white",
             "startlinecolor": "#2a3f5f"
            },
            "type": "carpet"
           }
          ],
          "choropleth": [
           {
            "colorbar": {
             "outlinewidth": 0,
             "ticks": ""
            },
            "type": "choropleth"
           }
          ],
          "contour": [
           {
            "colorbar": {
             "outlinewidth": 0,
             "ticks": ""
            },
            "colorscale": [
             [
              0,
              "#0d0887"
             ],
             [
              0.1111111111111111,
              "#46039f"
             ],
             [
              0.2222222222222222,
              "#7201a8"
             ],
             [
              0.3333333333333333,
              "#9c179e"
             ],
             [
              0.4444444444444444,
              "#bd3786"
             ],
             [
              0.5555555555555556,
              "#d8576b"
             ],
             [
              0.6666666666666666,
              "#ed7953"
             ],
             [
              0.7777777777777778,
              "#fb9f3a"
             ],
             [
              0.8888888888888888,
              "#fdca26"
             ],
             [
              1,
              "#f0f921"
             ]
            ],
            "type": "contour"
           }
          ],
          "contourcarpet": [
           {
            "colorbar": {
             "outlinewidth": 0,
             "ticks": ""
            },
            "type": "contourcarpet"
           }
          ],
          "heatmap": [
           {
            "colorbar": {
             "outlinewidth": 0,
             "ticks": ""
            },
            "colorscale": [
             [
              0,
              "#0d0887"
             ],
             [
              0.1111111111111111,
              "#46039f"
             ],
             [
              0.2222222222222222,
              "#7201a8"
             ],
             [
              0.3333333333333333,
              "#9c179e"
             ],
             [
              0.4444444444444444,
              "#bd3786"
             ],
             [
              0.5555555555555556,
              "#d8576b"
             ],
             [
              0.6666666666666666,
              "#ed7953"
             ],
             [
              0.7777777777777778,
              "#fb9f3a"
             ],
             [
              0.8888888888888888,
              "#fdca26"
             ],
             [
              1,
              "#f0f921"
             ]
            ],
            "type": "heatmap"
           }
          ],
          "heatmapgl": [
           {
            "colorbar": {
             "outlinewidth": 0,
             "ticks": ""
            },
            "colorscale": [
             [
              0,
              "#0d0887"
             ],
             [
              0.1111111111111111,
              "#46039f"
             ],
             [
              0.2222222222222222,
              "#7201a8"
             ],
             [
              0.3333333333333333,
              "#9c179e"
             ],
             [
              0.4444444444444444,
              "#bd3786"
             ],
             [
              0.5555555555555556,
              "#d8576b"
             ],
             [
              0.6666666666666666,
              "#ed7953"
             ],
             [
              0.7777777777777778,
              "#fb9f3a"
             ],
             [
              0.8888888888888888,
              "#fdca26"
             ],
             [
              1,
              "#f0f921"
             ]
            ],
            "type": "heatmapgl"
           }
          ],
          "histogram": [
           {
            "marker": {
             "pattern": {
              "fillmode": "overlay",
              "size": 10,
              "solidity": 0.2
             }
            },
            "type": "histogram"
           }
          ],
          "histogram2d": [
           {
            "colorbar": {
             "outlinewidth": 0,
             "ticks": ""
            },
            "colorscale": [
             [
              0,
              "#0d0887"
             ],
             [
              0.1111111111111111,
              "#46039f"
             ],
             [
              0.2222222222222222,
              "#7201a8"
             ],
             [
              0.3333333333333333,
              "#9c179e"
             ],
             [
              0.4444444444444444,
              "#bd3786"
             ],
             [
              0.5555555555555556,
              "#d8576b"
             ],
             [
              0.6666666666666666,
              "#ed7953"
             ],
             [
              0.7777777777777778,
              "#fb9f3a"
             ],
             [
              0.8888888888888888,
              "#fdca26"
             ],
             [
              1,
              "#f0f921"
             ]
            ],
            "type": "histogram2d"
           }
          ],
          "histogram2dcontour": [
           {
            "colorbar": {
             "outlinewidth": 0,
             "ticks": ""
            },
            "colorscale": [
             [
              0,
              "#0d0887"
             ],
             [
              0.1111111111111111,
              "#46039f"
             ],
             [
              0.2222222222222222,
              "#7201a8"
             ],
             [
              0.3333333333333333,
              "#9c179e"
             ],
             [
              0.4444444444444444,
              "#bd3786"
             ],
             [
              0.5555555555555556,
              "#d8576b"
             ],
             [
              0.6666666666666666,
              "#ed7953"
             ],
             [
              0.7777777777777778,
              "#fb9f3a"
             ],
             [
              0.8888888888888888,
              "#fdca26"
             ],
             [
              1,
              "#f0f921"
             ]
            ],
            "type": "histogram2dcontour"
           }
          ],
          "mesh3d": [
           {
            "colorbar": {
             "outlinewidth": 0,
             "ticks": ""
            },
            "type": "mesh3d"
           }
          ],
          "parcoords": [
           {
            "line": {
             "colorbar": {
              "outlinewidth": 0,
              "ticks": ""
             }
            },
            "type": "parcoords"
           }
          ],
          "pie": [
           {
            "automargin": true,
            "type": "pie"
           }
          ],
          "scatter": [
           {
            "fillpattern": {
             "fillmode": "overlay",
             "size": 10,
             "solidity": 0.2
            },
            "type": "scatter"
           }
          ],
          "scatter3d": [
           {
            "line": {
             "colorbar": {
              "outlinewidth": 0,
              "ticks": ""
             }
            },
            "marker": {
             "colorbar": {
              "outlinewidth": 0,
              "ticks": ""
             }
            },
            "type": "scatter3d"
           }
          ],
          "scattercarpet": [
           {
            "marker": {
             "colorbar": {
              "outlinewidth": 0,
              "ticks": ""
             }
            },
            "type": "scattercarpet"
           }
          ],
          "scattergeo": [
           {
            "marker": {
             "colorbar": {
              "outlinewidth": 0,
              "ticks": ""
             }
            },
            "type": "scattergeo"
           }
          ],
          "scattergl": [
           {
            "marker": {
             "colorbar": {
              "outlinewidth": 0,
              "ticks": ""
             }
            },
            "type": "scattergl"
           }
          ],
          "scattermapbox": [
           {
            "marker": {
             "colorbar": {
              "outlinewidth": 0,
              "ticks": ""
             }
            },
            "type": "scattermapbox"
           }
          ],
          "scatterpolar": [
           {
            "marker": {
             "colorbar": {
              "outlinewidth": 0,
              "ticks": ""
             }
            },
            "type": "scatterpolar"
           }
          ],
          "scatterpolargl": [
           {
            "marker": {
             "colorbar": {
              "outlinewidth": 0,
              "ticks": ""
             }
            },
            "type": "scatterpolargl"
           }
          ],
          "scatterternary": [
           {
            "marker": {
             "colorbar": {
              "outlinewidth": 0,
              "ticks": ""
             }
            },
            "type": "scatterternary"
           }
          ],
          "surface": [
           {
            "colorbar": {
             "outlinewidth": 0,
             "ticks": ""
            },
            "colorscale": [
             [
              0,
              "#0d0887"
             ],
             [
              0.1111111111111111,
              "#46039f"
             ],
             [
              0.2222222222222222,
              "#7201a8"
             ],
             [
              0.3333333333333333,
              "#9c179e"
             ],
             [
              0.4444444444444444,
              "#bd3786"
             ],
             [
              0.5555555555555556,
              "#d8576b"
             ],
             [
              0.6666666666666666,
              "#ed7953"
             ],
             [
              0.7777777777777778,
              "#fb9f3a"
             ],
             [
              0.8888888888888888,
              "#fdca26"
             ],
             [
              1,
              "#f0f921"
             ]
            ],
            "type": "surface"
           }
          ],
          "table": [
           {
            "cells": {
             "fill": {
              "color": "#EBF0F8"
             },
             "line": {
              "color": "white"
             }
            },
            "header": {
             "fill": {
              "color": "#C8D4E3"
             },
             "line": {
              "color": "white"
             }
            },
            "type": "table"
           }
          ]
         },
         "layout": {
          "annotationdefaults": {
           "arrowcolor": "#2a3f5f",
           "arrowhead": 0,
           "arrowwidth": 1
          },
          "autotypenumbers": "strict",
          "coloraxis": {
           "colorbar": {
            "outlinewidth": 0,
            "ticks": ""
           }
          },
          "colorscale": {
           "diverging": [
            [
             0,
             "#8e0152"
            ],
            [
             0.1,
             "#c51b7d"
            ],
            [
             0.2,
             "#de77ae"
            ],
            [
             0.3,
             "#f1b6da"
            ],
            [
             0.4,
             "#fde0ef"
            ],
            [
             0.5,
             "#f7f7f7"
            ],
            [
             0.6,
             "#e6f5d0"
            ],
            [
             0.7,
             "#b8e186"
            ],
            [
             0.8,
             "#7fbc41"
            ],
            [
             0.9,
             "#4d9221"
            ],
            [
             1,
             "#276419"
            ]
           ],
           "sequential": [
            [
             0,
             "#0d0887"
            ],
            [
             0.1111111111111111,
             "#46039f"
            ],
            [
             0.2222222222222222,
             "#7201a8"
            ],
            [
             0.3333333333333333,
             "#9c179e"
            ],
            [
             0.4444444444444444,
             "#bd3786"
            ],
            [
             0.5555555555555556,
             "#d8576b"
            ],
            [
             0.6666666666666666,
             "#ed7953"
            ],
            [
             0.7777777777777778,
             "#fb9f3a"
            ],
            [
             0.8888888888888888,
             "#fdca26"
            ],
            [
             1,
             "#f0f921"
            ]
           ],
           "sequentialminus": [
            [
             0,
             "#0d0887"
            ],
            [
             0.1111111111111111,
             "#46039f"
            ],
            [
             0.2222222222222222,
             "#7201a8"
            ],
            [
             0.3333333333333333,
             "#9c179e"
            ],
            [
             0.4444444444444444,
             "#bd3786"
            ],
            [
             0.5555555555555556,
             "#d8576b"
            ],
            [
             0.6666666666666666,
             "#ed7953"
            ],
            [
             0.7777777777777778,
             "#fb9f3a"
            ],
            [
             0.8888888888888888,
             "#fdca26"
            ],
            [
             1,
             "#f0f921"
            ]
           ]
          },
          "colorway": [
           "#636efa",
           "#EF553B",
           "#00cc96",
           "#ab63fa",
           "#FFA15A",
           "#19d3f3",
           "#FF6692",
           "#B6E880",
           "#FF97FF",
           "#FECB52"
          ],
          "font": {
           "color": "#2a3f5f"
          },
          "geo": {
           "bgcolor": "white",
           "lakecolor": "white",
           "landcolor": "#E5ECF6",
           "showlakes": true,
           "showland": true,
           "subunitcolor": "white"
          },
          "hoverlabel": {
           "align": "left"
          },
          "hovermode": "closest",
          "mapbox": {
           "style": "light"
          },
          "paper_bgcolor": "white",
          "plot_bgcolor": "#E5ECF6",
          "polar": {
           "angularaxis": {
            "gridcolor": "white",
            "linecolor": "white",
            "ticks": ""
           },
           "bgcolor": "#E5ECF6",
           "radialaxis": {
            "gridcolor": "white",
            "linecolor": "white",
            "ticks": ""
           }
          },
          "scene": {
           "xaxis": {
            "backgroundcolor": "#E5ECF6",
            "gridcolor": "white",
            "gridwidth": 2,
            "linecolor": "white",
            "showbackground": true,
            "ticks": "",
            "zerolinecolor": "white"
           },
           "yaxis": {
            "backgroundcolor": "#E5ECF6",
            "gridcolor": "white",
            "gridwidth": 2,
            "linecolor": "white",
            "showbackground": true,
            "ticks": "",
            "zerolinecolor": "white"
           },
           "zaxis": {
            "backgroundcolor": "#E5ECF6",
            "gridcolor": "white",
            "gridwidth": 2,
            "linecolor": "white",
            "showbackground": true,
            "ticks": "",
            "zerolinecolor": "white"
           }
          },
          "shapedefaults": {
           "line": {
            "color": "#2a3f5f"
           }
          },
          "ternary": {
           "aaxis": {
            "gridcolor": "white",
            "linecolor": "white",
            "ticks": ""
           },
           "baxis": {
            "gridcolor": "white",
            "linecolor": "white",
            "ticks": ""
           },
           "bgcolor": "#E5ECF6",
           "caxis": {
            "gridcolor": "white",
            "linecolor": "white",
            "ticks": ""
           }
          },
          "title": {
           "x": 0.05
          },
          "xaxis": {
           "automargin": true,
           "gridcolor": "white",
           "linecolor": "white",
           "ticks": "",
           "title": {
            "standoff": 15
           },
           "zerolinecolor": "white",
           "zerolinewidth": 2
          },
          "yaxis": {
           "automargin": true,
           "gridcolor": "white",
           "linecolor": "white",
           "ticks": "",
           "title": {
            "standoff": 15
           },
           "zerolinecolor": "white",
           "zerolinewidth": 2
          }
         }
        },
        "title": {
         "font": {
          "color": "black"
         },
         "text": "Stock Price vs. Movie Views (2024)"
        },
        "xaxis": {
         "range": [
          "2024-01-01T00:00:00",
          "2024-06-30T00:00:00"
         ],
         "rangeslider": {
          "autorange": true,
          "range": [
           "2024-01-01",
           "2024-12-30"
          ],
          "visible": true,
          "yaxis": {
           "_template": null,
           "rangemode": "match"
          },
          "yaxis2": {
           "_template": null,
           "rangemode": "match"
          }
         },
         "tickfont": {
          "color": "black"
         },
         "title": {
          "font": {
           "color": "black"
          },
          "text": "Date"
         },
         "type": "date"
        },
        "yaxis": {
         "range": [
          5.99,
          11.2
         ],
         "showgrid": false,
         "side": "left",
         "tickfont": {
          "color": "black"
         },
         "title": {
          "font": {
           "color": "black"
          },
          "text": "Stock Price"
         },
         "type": "linear"
        },
        "yaxis2": {
         "overlaying": "y",
         "range": [
          0,
          1000000
         ],
         "showgrid": false,
         "side": "right",
         "tickfont": {
          "color": "black"
         },
         "title": {
          "font": {
           "color": "black"
          },
          "text": "Views"
         },
         "type": "linear"
        }
       }
      },
      "image/png": "[encoded data removed]",
      "text/html": [
       "<div>                            <div id=\"b7165be7-5713-4b3a-bbcf-cc459f8c823b\" class=\"plotly-graph-div\" style=\"height:800px; width:100%;\"></div>            <script type=\"text/javascript\">                require([\"plotly\"], function(Plotly) {                    window.PLOTLYENV=window.PLOTLYENV || {};                                    if (document.getElementById(\"b7165be7-5713-4b3a-bbcf-cc459f8c823b\")) {                    Plotly.newPlot(                        \"b7165be7-5713-4b3a-bbcf-cc459f8c823b\",                        [{\"marker\":{\"color\":\"#009427\"},\"name\":\"JokerDB\",\"visible\":\"legendonly\",\"x\":[\"2024-01-02\",\"2024-02-14\",\"2024-04-02\",\"2024-04-09\",\"2024-07-23\",\"2024-08-04\",\"2024-08-09\",\"2024-08-16\",\"2024-08-19\",\"2024-08-23\",\"2024-08-30\",\"2024-09-02\",\"2024-09-03\",\"2024-09-04\",\"2024-09-06\",\"2024-09-09\",\"2024-09-12\",\"2024-09-13\",\"2024-09-16\",\"2024-09-17\",\"2024-09-18\",\"2024-09-19\",\"2024-09-20\",\"2024-09-23\",\"2024-09-24\",\"2024-09-25\",\"2024-09-26\",\"2024-09-27\",\"2024-09-28\",\"2024-10-01\",\"2024-10-02\",\"2024-10-03\",\"2024-10-04\",\"2024-10-05\",\"2024-10-06\",\"2024-10-08\",\"2024-10-09\",\"2024-10-15\",\"2024-10-18\",\"2024-10-22\",\"2024-10-28\",\"2024-10-29\",\"2024-10-31\",\"2024-11-02\",\"2024-11-06\",\"2024-11-22\",\"2024-11-26\",\"2024-11-27\",\"2024-12-13\",\"2024-12-17\",\"2024-12-23\",\"2024-12-26\",\"2024-12-27\"],\"y\":[137363.0,357797.0,1977733.0,19864602.0,1388219.0,68927.0,245731.0,52918.0,685045.0,86211.0,545072.0,277303.0,590864.0,405806.0,161437.0,561376.0,22307.0,153898.0,54056.0,28886.0,8795164.0,119324.0,130037.0,179437.0,82073.0,129754.0,103736.0,130279.0,28954.0,352939.0,313311.0,351618.0,121738.0,45065.0,45822.0,29697.0,32923.0,30457.0,18121.0,64176.0,149551.0,36886.0,20681.0,25384.0,27888.0,18822.0,30683.0,18846.0,45088.0,22691.0,38141.0,44635.0,49110.0],\"yaxis\":\"y2\",\"type\":\"bar\"},{\"marker\":{\"color\":\"#94008f\"},\"name\":\"BeetleJuiceDB\",\"visible\":\"legendonly\",\"x\":[\"2024-05-21\",\"2024-05-23\",\"2024-06-10\",\"2024-06-27\",\"2024-07-18\",\"2024-07-26\",\"2024-07-30\",\"2024-08-05\",\"2024-08-06\",\"2024-08-07\",\"2024-08-08\",\"2024-08-09\",\"2024-08-10\",\"2024-08-11\",\"2024-08-12\",\"2024-08-13\",\"2024-08-14\",\"2024-08-15\",\"2024-08-16\",\"2024-08-17\",\"2024-08-18\",\"2024-08-19\",\"2024-08-20\",\"2024-08-21\",\"2024-08-22\",\"2024-08-23\",\"2024-08-24\",\"2024-08-25\",\"2024-08-26\",\"2024-08-27\",\"2024-08-28\",\"2024-08-29\",\"2024-08-30\",\"2024-08-31\",\"2024-09-01\",\"2024-09-02\",\"2024-09-03\",\"2024-09-04\",\"2024-09-05\",\"2024-09-06\",\"2024-09-07\",\"2024-09-08\",\"2024-09-09\",\"2024-09-10\",\"2024-09-11\",\"2024-09-12\",\"2024-09-13\",\"2024-09-14\",\"2024-09-17\",\"2024-09-18\",\"2024-09-19\",\"2024-09-20\",\"2024-09-21\",\"2024-10-01\",\"2024-10-07\",\"2024-10-08\",\"2024-10-22\",\"2024-10-23\",\"2024-10-26\",\"2024-10-31\",\"2024-11-01\",\"2024-11-02\",\"2024-11-06\",\"2024-11-26\",\"2024-11-27\",\"2024-11-28\",\"2024-12-09\",\"2024-12-10\",\"2024-12-12\",\"2024-12-13\",\"2024-12-18\"],\"y\":[103909.0,352925.0,1326948.0,55315.0,503348.0,20360.0,30773.0,516535.0,47992.0,64994.0,12456.0,21852.0,10420.0,29267.0,22979.0,24068.0,26608.0,55634.0,57671.0,52270.0,9657.0,23413.0,36675.0,34621.0,16054.0,62834.0,35504.0,64112.0,328787.0,67915.0,24136.0,21172.0,98176.0,32504.0,24463.0,32776.0,48896.0,50888.0,142628.0,685104.0,103429.0,37382.0,25740.0,49947.0,33881.0,79531.0,96816.0,31825.0,24268.0,10034.0,16349.0,72409.0,21464.0,49508.0,38150.0,22683.0,35633.0,55048.0,11049.0,8679.0,12324.0,8807.0,6467.0,53321.0,43847.0,8578.0,28086.0,20877.0,20270.0,24834.0,26701.0],\"yaxis\":\"y2\",\"type\":\"bar\"},{\"marker\":{\"color\":\"#d16200\"},\"name\":\"DuneDB\",\"visible\":\"legendonly\",\"x\":[\"2024-01-01\",\"2024-01-17\",\"2024-01-21\",\"2024-01-22\",\"2024-01-24\",\"2024-01-25\",\"2024-01-26\",\"2024-01-27\",\"2024-01-28\",\"2024-01-29\",\"2024-01-30\",\"2024-01-31\",\"2024-02-01\",\"2024-02-05\",\"2024-02-06\",\"2024-02-07\",\"2024-02-08\",\"2024-02-09\",\"2024-02-10\",\"2024-02-12\",\"2024-02-13\",\"2024-02-14\",\"2024-02-15\",\"2024-02-16\",\"2024-02-18\",\"2024-02-19\",\"2024-02-20\",\"2024-02-21\",\"2024-02-22\",\"2024-02-23\",\"2024-02-24\",\"2024-02-25\",\"2024-02-26\",\"2024-02-27\",\"2024-02-28\",\"2024-02-29\",\"2024-03-01\",\"2024-03-02\",\"2024-03-03\",\"2024-03-04\",\"2024-03-05\",\"2024-03-06\",\"2024-03-07\",\"2024-03-08\",\"2024-03-09\",\"2024-03-10\",\"2024-03-12\",\"2024-03-13\",\"2024-03-14\",\"2024-03-15\",\"2024-03-16\",\"2024-03-17\",\"2024-03-18\",\"2024-03-21\",\"2024-03-22\",\"2024-03-28\",\"2024-03-29\",\"2024-04-08\",\"2024-04-09\",\"2024-04-15\",\"2024-04-16\",\"2024-04-18\",\"2024-04-19\",\"2024-04-26\",\"2024-05-03\",\"2024-05-07\",\"2024-05-08\",\"2024-05-10\",\"2024-05-11\",\"2024-05-14\",\"2024-05-16\",\"2024-05-30\",\"2024-06-01\",\"2024-10-15\",\"2024-10-24\",\"2024-11-07\",\"2024-11-08\",\"2024-11-18\",\"2024-11-20\",\"2024-11-21\",\"2024-12-03\",\"2024-12-06\",\"2024-12-08\",\"2024-12-09\",\"2024-12-10\",\"2024-12-11\",\"2024-12-12\",\"2024-12-13\",\"2024-12-16\",\"2024-12-18\",\"2024-12-27\",\"2024-12-30\"],\"y\":[257833.0,299020.0,330411.0,134887.0,1221929.0,145991.0,177337.0,161017.0,353955.0,108838.0,158457.0,96168.0,306873.0,117700.0,102259.0,103283.0,80931.0,290526.0,95021.0,8282577.0,67724.0,276011.0,82729.0,77670.0,43906.0,57018.0,40265.0,79234.0,81460.0,179852.0,121361.0,159640.0,272231.0,319359.0,246487.0,341111.0,412639.0,180688.0,75808.0,238358.0,118717.0,2117941.0,58528.0,210290.0,189560.0,62908.0,119256.0,992860.0,96289.0,58388.0,81132.0,62503.0,92785.0,89812.0,413190.0,143082.0,4002780.0,2623123.0,543532.0,146635.0,81521.0,190915.0,64517.0,300610.0,135779.0,36823.0,40236.0,47306.0,37902.0,50222.0,94338.0,41553.0,39948.0,114657.0,756165.0,54128.0,73092.0,29958.0,53864.0,42117.0,965392.0,1479096.0,19241.0,1774211.0,26059.0,34841.0,61082.0,39274.0,55081.0,145985.0,135737.0,1447550.0],\"yaxis\":\"y2\",\"type\":\"bar\"},{\"marker\":{\"color\":\"#e6e600\"},\"name\":\"GxKDB\",\"visible\":\"legendonly\",\"x\":[\"2024-01-16\",\"2024-01-18\",\"2024-01-22\",\"2024-02-01\",\"2024-02-02\",\"2024-02-06\",\"2024-02-09\",\"2024-02-10\",\"2024-02-11\",\"2024-02-13\",\"2024-02-14\",\"2024-02-18\",\"2024-02-21\",\"2024-02-29\",\"2024-03-02\",\"2024-03-04\",\"2024-03-06\",\"2024-03-08\",\"2024-03-10\",\"2024-03-11\",\"2024-03-13\",\"2024-03-14\",\"2024-03-15\",\"2024-03-16\",\"2024-03-17\",\"2024-03-18\",\"2024-03-19\",\"2024-03-20\",\"2024-03-21\",\"2024-03-22\",\"2024-03-23\",\"2024-03-24\",\"2024-03-25\",\"2024-03-26\",\"2024-03-27\",\"2024-03-28\",\"2024-03-29\",\"2024-03-30\",\"2024-03-31\",\"2024-04-01\",\"2024-04-02\",\"2024-04-03\",\"2024-04-04\",\"2024-04-05\",\"2024-04-06\",\"2024-04-07\",\"2024-04-08\",\"2024-04-09\",\"2024-04-10\",\"2024-04-11\",\"2024-04-12\",\"2024-04-13\",\"2024-04-14\",\"2024-04-15\",\"2024-04-26\",\"2024-05-07\",\"2024-05-14\",\"2024-05-28\",\"2024-05-30\",\"2024-06-04\"],\"y\":[215456.0,259314.0,58187.0,112164.0,119354.0,236981.0,170227.0,204569.0,464312.0,765956.0,6954172.0,78558.0,151272.0,176939.0,284843.0,147905.0,105257.0,104370.0,454662.0,229371.0,387937.0,68984.0,346029.0,52666.0,61990.0,38836.0,933704.0,21442.0,40268.0,60926.0,26879.0,363214.0,188288.0,466671.0,186189.0,527861.0,300428.0,216711.0,155044.0,301978.0,73621.0,180914.0,164643.0,300890.0,39270.0,117272.0,66473.0,254744.0,115403.0,96354.0,1983269.0,134685.0,204815.0,180813.0,53073.0,163844.0,45725.0,29686.0,35036.0,28961.0],\"yaxis\":\"y2\",\"type\":\"bar\"},{\"line\":{\"color\":\"blue\",\"width\":4},\"mode\":\"lines\",\"name\":\"Views Trend (Moving Average)\",\"x\":[\"2024-01-01\",\"2024-01-02\",\"2024-01-16\",\"2024-01-17\",\"2024-01-18\",\"2024-01-21\",\"2024-01-22\",\"2024-01-22\",\"2024-01-24\",\"2024-01-25\",\"2024-01-26\",\"2024-01-27\",\"2024-01-28\",\"2024-01-29\",\"2024-01-30\",\"2024-01-31\",\"2024-02-01\",\"2024-02-01\",\"2024-02-02\",\"2024-02-05\",\"2024-02-06\",\"2024-02-06\",\"2024-02-07\",\"2024-02-08\",\"2024-02-09\",\"2024-02-09\",\"2024-02-10\",\"2024-02-10\",\"2024-02-11\",\"2024-02-12\",\"2024-02-13\",\"2024-02-13\",\"2024-02-14\",\"2024-02-14\",\"2024-02-14\",\"2024-02-15\",\"2024-02-16\",\"2024-02-18\",\"2024-02-18\",\"2024-02-19\",\"2024-02-20\",\"2024-02-21\",\"2024-02-21\",\"2024-02-22\",\"2024-02-23\",\"2024-02-24\",\"2024-02-25\",\"2024-02-26\",\"2024-02-27\",\"2024-02-28\",\"2024-02-29\",\"2024-02-29\",\"2024-03-01\",\"2024-03-02\",\"2024-03-02\",\"2024-03-03\",\"2024-03-04\",\"2024-03-04\",\"2024-03-05\",\"2024-03-06\",\"2024-03-06\",\"2024-03-07\",\"2024-03-08\",\"2024-03-08\",\"2024-03-09\",\"2024-03-10\",\"2024-03-10\",\"2024-03-11\",\"2024-03-12\",\"2024-03-13\",\"2024-03-13\",\"2024-03-14\",\"2024-03-14\",\"2024-03-15\",\"2024-03-15\",\"2024-03-16\",\"2024-03-16\",\"2024-03-17\",\"2024-03-17\",\"2024-03-18\",\"2024-03-18\",\"2024-03-19\",\"2024-03-20\",\"2024-03-21\",\"2024-03-21\",\"2024-03-22\",\"2024-03-22\",\"2024-03-23\",\"2024-03-24\",\"2024-03-25\",\"2024-03-26\",\"2024-03-27\",\"2024-03-28\",\"2024-03-28\",\"2024-03-29\",\"2024-03-29\",\"2024-03-30\",\"2024-03-31\",\"2024-04-01\",\"2024-04-02\",\"2024-04-02\",\"2024-04-03\",\"2024-04-04\",\"2024-04-05\",\"2024-04-06\",\"2024-04-07\",\"2024-04-08\",\"2024-04-08\",\"2024-04-09\",\"2024-04-09\",\"2024-04-09\",\"2024-04-10\",\"2024-04-11\",\"2024-04-12\",\"2024-04-13\",\"2024-04-14\",\"2024-04-15\",\"2024-04-15\",\"2024-04-16\",\"2024-04-18\",\"2024-04-19\",\"2024-04-26\",\"2024-04-26\",\"2024-05-03\",\"2024-05-07\",\"2024-05-07\",\"2024-05-08\",\"2024-05-10\",\"2024-05-11\",\"2024-05-14\",\"2024-05-14\",\"2024-05-16\",\"2024-05-21\",\"2024-05-23\",\"2024-05-28\",\"2024-05-30\",\"2024-05-30\",\"2024-06-01\",\"2024-06-04\",\"2024-06-10\",\"2024-06-27\",\"2024-07-18\",\"2024-07-23\",\"2024-07-26\",\"2024-07-30\",\"2024-08-04\",\"2024-08-05\",\"2024-08-06\",\"2024-08-07\",\"2024-08-08\",\"2024-08-09\",\"2024-08-09\",\"2024-08-10\",\"2024-08-11\",\"2024-08-12\",\"2024-08-13\",\"2024-08-14\",\"2024-08-15\",\"2024-08-16\",\"2024-08-16\",\"2024-08-17\",\"2024-08-18\",\"2024-08-19\",\"2024-08-19\",\"2024-08-20\",\"2024-08-21\",\"2024-08-22\",\"2024-08-23\",\"2024-08-23\",\"2024-08-24\",\"2024-08-25\",\"2024-08-26\",\"2024-08-27\",\"2024-08-28\",\"2024-08-29\",\"2024-08-30\",\"2024-08-30\",\"2024-08-31\",\"2024-09-01\",\"2024-09-02\",\"2024-09-02\",\"2024-09-03\",\"2024-09-03\",\"2024-09-04\",\"2024-09-04\",\"2024-09-05\",\"2024-09-06\",\"2024-09-06\",\"2024-09-07\",\"2024-09-08\",\"2024-09-09\",\"2024-09-09\",\"2024-09-10\",\"2024-09-11\",\"2024-09-12\",\"2024-09-12\",\"2024-09-13\",\"2024-09-13\",\"2024-09-14\",\"2024-09-16\",\"2024-09-17\",\"2024-09-17\",\"2024-09-18\",\"2024-09-18\",\"2024-09-19\",\"2024-09-19\",\"2024-09-20\",\"2024-09-20\",\"2024-09-21\",\"2024-09-23\",\"2024-09-24\",\"2024-09-25\",\"2024-09-26\",\"2024-09-27\",\"2024-09-28\",\"2024-10-01\",\"2024-10-01\",\"2024-10-02\",\"2024-10-03\",\"2024-10-04\",\"2024-10-05\",\"2024-10-06\",\"2024-10-07\",\"2024-10-08\",\"2024-10-08\",\"2024-10-09\",\"2024-10-15\",\"2024-10-15\",\"2024-10-18\",\"2024-10-22\",\"2024-10-22\",\"2024-10-23\",\"2024-10-24\",\"2024-10-26\",\"2024-10-28\",\"2024-10-29\",\"2024-10-31\",\"2024-10-31\",\"2024-11-01\",\"2024-11-02\",\"2024-11-02\",\"2024-11-06\",\"2024-11-06\",\"2024-11-07\",\"2024-11-08\",\"2024-11-18\",\"2024-11-20\",\"2024-11-21\",\"2024-11-22\",\"2024-11-26\",\"2024-11-26\",\"2024-11-27\",\"2024-11-27\",\"2024-11-28\",\"2024-12-03\",\"2024-12-06\",\"2024-12-08\",\"2024-12-09\",\"2024-12-09\",\"2024-12-10\",\"2024-12-10\",\"2024-12-11\",\"2024-12-12\",\"2024-12-12\",\"2024-12-13\",\"2024-12-13\",\"2024-12-13\",\"2024-12-16\",\"2024-12-17\",\"2024-12-18\",\"2024-12-18\",\"2024-12-23\",\"2024-12-26\",\"2024-12-27\",\"2024-12-27\",\"2024-12-30\"],\"y\":[257833.0,197598.0,203550.66666666666,227418.0,233797.2,249899.5,222512.0,211558.875,323822.22222222225,306039.1,294338.9090909091,283228.75,288669.23076923075,275824.14285714284,267999.6666666667,257260.1875,260178.58823529413,251955.55555555556,244976.52631578947,238612.7,238535.0,232340.63636363635,226729.4347826087,220654.5,223449.36,221402.34615384616,216721.55555555556,216287.5357142857,224840.10344827586,493431.3333333333,479698.8387096774,488644.375,684569.4545454546,674958.5,663560.0,647425.8055555555,632027.0,616550.1315789474,602755.4615384615,589112.025,575725.512195122,565619.4761904762,554308.1860465116,543561.6363636364,535479.2,526476.6304347826,518671.59574468085,513537.4166666667,509574.5918367347,504312.84,501112.8039215686,494878.6923076923,493327.0,487537.3888888889,483852.0363636364,476565.53571428574,472386.4561403509,466791.9482758621,460892.3728813559,488509.85,482227.01639344264,475393.1612903226,471185.1746031746,465453.6875,461209.1692307692,455174.30303030304,455166.6567164179,451846.1323529412,447025.9855072464,446181.85714285716,453881.54929577466,448535.75,443710.4520547945,442390.4324324324,437270.4,432584.36842105264,427650.36363636365,422968.9871794872,418399.63291139243,414329.45,409693.72839506174,416084.0975609756,411329.3734939759,406911.9761904762,403181.38823529414,403297.76744186046,399362.4597701149,395129.6931818182,394771.08988764044,392476.8333333333,393292.1538461539,391041.0326086957,392512.2150537634,389858.7021276596,388917.3263157895,426561.7291666667,424398.3195876289,421649.806122449,420441.0,436013.92,432425.8712871287,429960.06862745096,427384.17475728155,426167.8846153846,422483.14285714284,419603.7924528302,416303.5046728972,436737.01851851854,614974.3119266055,611699.490909091,611085.3693693693,606659.6339285715,602143.6548672566,614258.7894736842,610088.5826086956,606594.8448275862,602663.5641025641,599088.5593220339,594739.2521008403,591374.05,587019.8595041322,582643.2459016393,580350.2926829269,576765.0403225806,573461.672,569202.6349206349,565037.5433070866,560992.765625,556937.7984496125,553039.9846153846,549167.3511450381,545721.6742424242,542399.7744360903,540985.7835820896,537198.3777777777,533553.9264705882,529915.109489051,526364.6231884058,522786.1798561151,528530.1928571429,525174.0567375886,525020.352112676,531056.7062937063,527510.2013888889,524084.4275862069,520966.91095890413,520936.7619047619,517741.1891891892,514702.61744966445,511354.30666666664,509595.2119205298,506386.375,503144.76470588235,500067.63636363635,496989.6451612903,493958.0961538461,490981.3439490446,488225.9810126582,485518.08805031446,482814.3375,480140.14906832296,477235.93209876545,478510.83435582824,475735.8475609756,473074.87272727274,470433.5843373494,467712.748502994,465302.75595238095,463059.6094674556,460544.5764705882,458226.2573099415,457473.7034883721,455221.9190751445,452744.4137931034,450278.28571428574,448277.70454545453,448824.5649717514,446485.6853932584,444128.0167597765,441842.72777777776,440933.6685082873,441757.46153846156,439610.6775956284,439426.95652173914,437326.74594594596,435742.34408602153,434275.4705882353,435609.66489361704,433852.09523809527,431765.4105263158,429639.6230366492,430325.75,428354.8756476684,426321.5051546392,424543.09230769234,422490.86734693876,420837.6954314721,419489.51515151514,417541.4522613065,415724.025,413776.4825870647,411871.08415841585,453168.09359605913,450995.8676470588,449377.956097561,447275.87378640776,445464.922705314,443948.4423076923,441926.985645933,440677.0333333333,438977.4881516588,437518.88679245283,435951.8309859155,434523.45327102806,432637.0837209302,432268.1111111111,430504.2396313364,429966.65596330276,429608.89954337897,428209.4863636364,426475.80090497737,424761.14414414414,423027.4618834081,421271.5223214286,419500.0177777778,417789.5,416083.18942731275,414761.1447368421,413029.09170305677,411388.23913043475,409885.1558441558,408355.6853448276,409848.4291845494,408144.1581196581,407043.76170212764,405475.2966101695,403801.0506329114,402191.3025210084,400560.05857740587,398927.75416666665,397377.78008298756,395762.4462809917,394248.5596707819,392854.62295081967,391549.4693877551,390079.5853658537,388718.3886639676,387320.80241935485,385840.8875502008,384510.808,383101.13545816735,381655.6785714286,380320.46640316205,378856.91338582675,381157.05098039214,385445.875,384020.953307393,389409.2868217054,388014.2162162162,386622.0807692308,385220.7586206897,383883.43129770993,382500.87072243344,381283.375,379992.77358490566,378657.5902255639,377408.265917603,376205.552238806,374891.3717472119,373601.77777777775,372761.86346863466,371531.63970588235,370334.2161172161,369478.0218978102,368313.0472727273,372223.32608695654],\"yaxis\":\"y2\",\"type\":\"scatter\"},{\"line\":{\"color\":\"rgba(100, 100, 100, 0.5)\",\"width\":3},\"mode\":\"lines\",\"name\":\"Stock Price (2024)\",\"x\":[\"2024-12-17T00:00:00\",\"2024-12-09T00:00:00\",\"2024-12-02T00:00:00\",\"2024-11-01T00:00:00\",\"2024-10-23T00:00:00\",\"2024-10-15T00:00:00\",\"2024-10-11T00:00:00\",\"2024-09-04T00:00:00\",\"2024-08-23T00:00:00\",\"2024-08-19T00:00:00\",\"2024-08-13T00:00:00\",\"2024-08-05T00:00:00\",\"2024-07-26T00:00:00\",\"2024-07-19T00:00:00\",\"2024-07-16T00:00:00\",\"2024-07-12T00:00:00\",\"2024-07-09T00:00:00\",\"2024-06-26T00:00:00\",\"2024-06-25T00:00:00\",\"2024-06-21T00:00:00\",\"2024-06-18T00:00:00\",\"2024-06-13T00:00:00\",\"2024-06-04T00:00:00\",\"2024-05-13T00:00:00\",\"2024-04-23T00:00:00\",\"2024-04-03T00:00:00\",\"2024-04-02T00:00:00\",\"2024-03-21T00:00:00\",\"2024-03-19T00:00:00\",\"2024-03-15T00:00:00\",\"2024-03-14T00:00:00\",\"2024-02-26T00:00:00\",\"2024-02-23T00:00:00\",\"2024-02-22T00:00:00\",\"2024-02-16T00:00:00\",\"2024-02-15T00:00:00\",\"2024-02-13T00:00:00\",\"2024-02-08T00:00:00\",\"2024-02-07T00:00:00\",\"2024-01-30T00:00:00\",\"2024-01-26T00:00:00\",\"2024-01-18T00:00:00\",\"2024-01-08T00:00:00\",\"2024-01-05T00:00:00\"],\"y\":[11.0,10.04,9.37,7.47,6.65,7.09,6.87,6.75,6.79,6.72,6.29,7.02,7.4,7.71,7.13,6.86,6.56,6.69,7.03,6.65,6.72,7.22,7.65,7.57,7.81,7.98,8.04,8.09,7.54,7.82,7.86,8.05,8.98,8.87,9.39,9.07,8.87,9.05,9.0,9.58,9.68,9.38,10.26,10.0],\"yaxis\":\"y\",\"type\":\"scatter\"}],                        {\"template\":{\"data\":{\"histogram2dcontour\":[{\"type\":\"histogram2dcontour\",\"colorbar\":{\"outlinewidth\":0,\"ticks\":\"\"},\"colorscale\":[[0.0,\"#0d0887\"],[0.1111111111111111,\"#46039f\"],[0.2222222222222222,\"#7201a8\"],[0.3333333333333333,\"#9c179e\"],[0.4444444444444444,\"#bd3786\"],[0.5555555555555556,\"#d8576b\"],[0.6666666666666666,\"#ed7953\"],[0.7777777777777778,\"#fb9f3a\"],[0.8888888888888888,\"#fdca26\"],[1.0,\"#f0f921\"]]}],\"choropleth\":[{\"type\":\"choropleth\",\"colorbar\":{\"outlinewidth\":0,\"ticks\":\"\"}}],\"histogram2d\":[{\"type\":\"histogram2d\",\"colorbar\":{\"outlinewidth\":0,\"ticks\":\"\"},\"colorscale\":[[0.0,\"#0d0887\"],[0.1111111111111111,\"#46039f\"],[0.2222222222222222,\"#7201a8\"],[0.3333333333333333,\"#9c179e\"],[0.4444444444444444,\"#bd3786\"],[0.5555555555555556,\"#d8576b\"],[0.6666666666666666,\"#ed7953\"],[0.7777777777777778,\"#fb9f3a\"],[0.8888888888888888,\"#fdca26\"],[1.0,\"#f0f921\"]]}],\"heatmap\":[{\"type\":\"heatmap\",\"colorbar\":{\"outlinewidth\":0,\"ticks\":\"\"},\"colorscale\":[[0.0,\"#0d0887\"],[0.1111111111111111,\"#46039f\"],[0.2222222222222222,\"#7201a8\"],[0.3333333333333333,\"#9c179e\"],[0.4444444444444444,\"#bd3786\"],[0.5555555555555556,\"#d8576b\"],[0.6666666666666666,\"#ed7953\"],[0.7777777777777778,\"#fb9f3a\"],[0.8888888888888888,\"#fdca26\"],[1.0,\"#f0f921\"]]}],\"heatmapgl\":[{\"type\":\"heatmapgl\",\"colorbar\":{\"outlinewidth\":0,\"ticks\":\"\"},\"colorscale\":[[0.0,\"#0d0887\"],[0.1111111111111111,\"#46039f\"],[0.2222222222222222,\"#7201a8\"],[0.3333333333333333,\"#9c179e\"],[0.4444444444444444,\"#bd3786\"],[0.5555555555555556,\"#d8576b\"],[0.6666666666666666,\"#ed7953\"],[0.7777777777777778,\"#fb9f3a\"],[0.8888888888888888,\"#fdca26\"],[1.0,\"#f0f921\"]]}],\"contourcarpet\":[{\"type\":\"contourcarpet\",\"colorbar\":{\"outlinewidth\":0,\"ticks\":\"\"}}],\"contour\":[{\"type\":\"contour\",\"colorbar\":{\"outlinewidth\":0,\"ticks\":\"\"},\"colorscale\":[[0.0,\"#0d0887\"],[0.1111111111111111,\"#46039f\"],[0.2222222222222222,\"#7201a8\"],[0.3333333333333333,\"#9c179e\"],[0.4444444444444444,\"#bd3786\"],[0.5555555555555556,\"#d8576b\"],[0.6666666666666666,\"#ed7953\"],[0.7777777777777778,\"#fb9f3a\"],[0.8888888888888888,\"#fdca26\"],[1.0,\"#f0f921\"]]}],\"surface\":[{\"type\":\"surface\",\"colorbar\":{\"outlinewidth\":0,\"ticks\":\"\"},\"colorscale\":[[0.0,\"#0d0887\"],[0.1111111111111111,\"#46039f\"],[0.2222222222222222,\"#7201a8\"],[0.3333333333333333,\"#9c179e\"],[0.4444444444444444,\"#bd3786\"],[0.5555555555555556,\"#d8576b\"],[0.6666666666666666,\"#ed7953\"],[0.7777777777777778,\"#fb9f3a\"],[0.8888888888888888,\"#fdca26\"],[1.0,\"#f0f921\"]]}],\"mesh3d\":[{\"type\":\"mesh3d\",\"colorbar\":{\"outlinewidth\":0,\"ticks\":\"\"}}],\"scatter\":[{\"fillpattern\":{\"fillmode\":\"overlay\",\"size\":10,\"solidity\":0.2},\"type\":\"scatter\"}],\"parcoords\":[{\"type\":\"parcoords\",\"line\":{\"colorbar\":{\"outlinewidth\":0,\"ticks\":\"\"}}}],\"scatterpolargl\":[{\"type\":\"scatterpolargl\",\"marker\":{\"colorbar\":{\"outlinewidth\":0,\"ticks\":\"\"}}}],\"bar\":[{\"error_x\":{\"color\":\"#2a3f5f\"},\"error_y\":{\"color\":\"#2a3f5f\"},\"marker\":{\"line\":{\"color\":\"#E5ECF6\",\"width\":0.5},\"pattern\":{\"fillmode\":\"overlay\",\"size\":10,\"solidity\":0.2}},\"type\":\"bar\"}],\"scattergeo\":[{\"type\":\"scattergeo\",\"marker\":{\"colorbar\":{\"outlinewidth\":0,\"ticks\":\"\"}}}],\"scatterpolar\":[{\"type\":\"scatterpolar\",\"marker\":{\"colorbar\":{\"outlinewidth\":0,\"ticks\":\"\"}}}],\"histogram\":[{\"marker\":{\"pattern\":{\"fillmode\":\"overlay\",\"size\":10,\"solidity\":0.2}},\"type\":\"histogram\"}],\"scattergl\":[{\"type\":\"scattergl\",\"marker\":{\"colorbar\":{\"outlinewidth\":0,\"ticks\":\"\"}}}],\"scatter3d\":[{\"type\":\"scatter3d\",\"line\":{\"colorbar\":{\"outlinewidth\":0,\"ticks\":\"\"}},\"marker\":{\"colorbar\":{\"outlinewidth\":0,\"ticks\":\"\"}}}],\"scattermapbox\":[{\"type\":\"scattermapbox\",\"marker\":{\"colorbar\":{\"outlinewidth\":0,\"ticks\":\"\"}}}],\"scatterternary\":[{\"type\":\"scatterternary\",\"marker\":{\"colorbar\":{\"outlinewidth\":0,\"ticks\":\"\"}}}],\"scattercarpet\":[{\"type\":\"scattercarpet\",\"marker\":{\"colorbar\":{\"outlinewidth\":0,\"ticks\":\"\"}}}],\"carpet\":[{\"aaxis\":{\"endlinecolor\":\"#2a3f5f\",\"gridcolor\":\"white\",\"linecolor\":\"white\",\"minorgridcolor\":\"white\",\"startlinecolor\":\"#2a3f5f\"},\"baxis\":{\"endlinecolor\":\"#2a3f5f\",\"gridcolor\":\"white\",\"linecolor\":\"white\",\"minorgridcolor\":\"white\",\"startlinecolor\":\"#2a3f5f\"},\"type\":\"carpet\"}],\"table\":[{\"cells\":{\"fill\":{\"color\":\"#EBF0F8\"},\"line\":{\"color\":\"white\"}},\"header\":{\"fill\":{\"color\":\"#C8D4E3\"},\"line\":{\"color\":\"white\"}},\"type\":\"table\"}],\"barpolar\":[{\"marker\":{\"line\":{\"color\":\"#E5ECF6\",\"width\":0.5},\"pattern\":{\"fillmode\":\"overlay\",\"size\":10,\"solidity\":0.2}},\"type\":\"barpolar\"}],\"pie\":[{\"automargin\":true,\"type\":\"pie\"}]},\"layout\":{\"autotypenumbers\":\"strict\",\"colorway\":[\"#636efa\",\"#EF553B\",\"#00cc96\",\"#ab63fa\",\"#FFA15A\",\"#19d3f3\",\"#FF6692\",\"#B6E880\",\"#FF97FF\",\"#FECB52\"],\"font\":{\"color\":\"#2a3f5f\"},\"hovermode\":\"closest\",\"hoverlabel\":{\"align\":\"left\"},\"paper_bgcolor\":\"white\",\"plot_bgcolor\":\"#E5ECF6\",\"polar\":{\"bgcolor\":\"#E5ECF6\",\"angularaxis\":{\"gridcolor\":\"white\",\"linecolor\":\"white\",\"ticks\":\"\"},\"radialaxis\":{\"gridcolor\":\"white\",\"linecolor\":\"white\",\"ticks\":\"\"}},\"ternary\":{\"bgcolor\":\"#E5ECF6\",\"aaxis\":{\"gridcolor\":\"white\",\"linecolor\":\"white\",\"ticks\":\"\"},\"baxis\":{\"gridcolor\":\"white\",\"linecolor\":\"white\",\"ticks\":\"\"},\"caxis\":{\"gridcolor\":\"white\",\"linecolor\":\"white\",\"ticks\":\"\"}},\"coloraxis\":{\"colorbar\":{\"outlinewidth\":0,\"ticks\":\"\"}},\"colorscale\":{\"sequential\":[[0.0,\"#0d0887\"],[0.1111111111111111,\"#46039f\"],[0.2222222222222222,\"#7201a8\"],[0.3333333333333333,\"#9c179e\"],[0.4444444444444444,\"#bd3786\"],[0.5555555555555556,\"#d8576b\"],[0.6666666666666666,\"#ed7953\"],[0.7777777777777778,\"#fb9f3a\"],[0.8888888888888888,\"#fdca26\"],[1.0,\"#f0f921\"]],\"sequentialminus\":[[0.0,\"#0d0887\"],[0.1111111111111111,\"#46039f\"],[0.2222222222222222,\"#7201a8\"],[0.3333333333333333,\"#9c179e\"],[0.4444444444444444,\"#bd3786\"],[0.5555555555555556,\"#d8576b\"],[0.6666666666666666,\"#ed7953\"],[0.7777777777777778,\"#fb9f3a\"],[0.8888888888888888,\"#fdca26\"],[1.0,\"#f0f921\"]],\"diverging\":[[0,\"#8e0152\"],[0.1,\"#c51b7d\"],[0.2,\"#de77ae\"],[0.3,\"#f1b6da\"],[0.4,\"#fde0ef\"],[0.5,\"#f7f7f7\"],[0.6,\"#e6f5d0\"],[0.7,\"#b8e186\"],[0.8,\"#7fbc41\"],[0.9,\"#4d9221\"],[1,\"#276419\"]]},\"xaxis\":{\"gridcolor\":\"white\",\"linecolor\":\"white\",\"ticks\":\"\",\"title\":{\"standoff\":15},\"zerolinecolor\":\"white\",\"automargin\":true,\"zerolinewidth\":2},\"yaxis\":{\"gridcolor\":\"white\",\"linecolor\":\"white\",\"ticks\":\"\",\"title\":{\"standoff\":15},\"zerolinecolor\":\"white\",\"automargin\":true,\"zerolinewidth\":2},\"scene\":{\"xaxis\":{\"backgroundcolor\":\"#E5ECF6\",\"gridcolor\":\"white\",\"linecolor\":\"white\",\"showbackground\":true,\"ticks\":\"\",\"zerolinecolor\":\"white\",\"gridwidth\":2},\"yaxis\":{\"backgroundcolor\":\"#E5ECF6\",\"gridcolor\":\"white\",\"linecolor\":\"white\",\"showbackground\":true,\"ticks\":\"\",\"zerolinecolor\":\"white\",\"gridwidth\":2},\"zaxis\":{\"backgroundcolor\":\"#E5ECF6\",\"gridcolor\":\"white\",\"linecolor\":\"white\",\"showbackground\":true,\"ticks\":\"\",\"zerolinecolor\":\"white\",\"gridwidth\":2}},\"shapedefaults\":{\"line\":{\"color\":\"#2a3f5f\"}},\"annotationdefaults\":{\"arrowcolor\":\"#2a3f5f\",\"arrowhead\":0,\"arrowwidth\":1},\"geo\":{\"bgcolor\":\"white\",\"landcolor\":\"#E5ECF6\",\"subunitcolor\":\"white\",\"showland\":true,\"showlakes\":true,\"lakecolor\":\"white\"},\"title\":{\"x\":0.05},\"mapbox\":{\"style\":\"light\"}}},\"title\":{\"text\":\"Stock Price vs. Movie Views (2024)\",\"font\":{\"color\":\"black\"}},\"xaxis\":{\"title\":{\"text\":\"Date\",\"font\":{\"color\":\"black\"}},\"tickfont\":{\"color\":\"black\"},\"rangeslider\":{\"visible\":true},\"range\":[\"2024-01-01T00:00:00\",\"2024-06-30T00:00:00\"]},\"yaxis\":{\"title\":{\"text\":\"Stock Price\",\"font\":{\"color\":\"black\"}},\"tickfont\":{\"color\":\"black\"},\"range\":[5.99,11.2],\"side\":\"left\",\"showgrid\":false},\"yaxis2\":{\"title\":{\"text\":\"Views\",\"font\":{\"color\":\"black\"}},\"tickfont\":{\"color\":\"black\"},\"range\":[0,1000000],\"overlaying\":\"y\",\"side\":\"right\",\"showgrid\":false},\"legend\":{\"font\":{\"color\":\"black\"}},\"plot_bgcolor\":\"white\",\"paper_bgcolor\":\"white\",\"height\":800},                        {\"responsive\": true}                    ).then(function(){\n",
       "                            \n",
       "var gd = document.getElementById('b7165be7-5713-4b3a-bbcf-cc459f8c823b');\n",
       "var x = new MutationObserver(function (mutations, observer) {{\n",
       "        var display = window.getComputedStyle(gd).display;\n",
       "        if (!display || display === 'none') {{\n",
       "            console.log([gd, 'removed!']);\n",
       "            Plotly.purge(gd);\n",
       "            observer.disconnect();\n",
       "        }}\n",
       "}});\n",
       "\n",
       "// Listen for the removal of the full notebook cells\n",
       "var notebookContainer = gd.closest('#notebook-container');\n",
       "if (notebookContainer) {{\n",
       "    x.observe(notebookContainer, {childList: true});\n",
       "}}\n",
       "\n",
       "// Listen for the clearing of the current output cell\n",
       "var outputEl = gd.closest('.output');\n",
       "if (outputEl) {{\n",
       "    x.observe(outputEl, {childList: true});\n",
       "}}\n",
       "\n",
       "                        })                };                });            </script>        </div>"
      ]
     },
     "metadata": {},
     "output_type": "display_data"
    }
   ],
   "source": [
    "fig = go.Figure()\n",
    "\n",
    "bar_colors = {\n",
    "    'JokerDB': '#009427',\n",
    "    'BeetleJuiceDB': '#94008f',\n",
    "    'DuneDB': '#d16200',\n",
    "    'GxKDB': '#e6e600'\n",
    "}\n",
    "\n",
    "data = pd.DataFrame({\n",
    "    'Date': pd.concat([\n",
    "        pd.Series(JokerDB_views.index),\n",
    "        pd.Series(BeetleJuiceDB_views.index),\n",
    "        pd.Series(DuneDB_views.index),\n",
    "        pd.Series(GxKDB_views.index)\n",
    "    ]),\n",
    "    'View Count': pd.concat([\n",
    "        pd.Series(JokerDB_views.values),\n",
    "        pd.Series(BeetleJuiceDB_views.values),\n",
    "        pd.Series(DuneDB_views.values),\n",
    "        pd.Series(GxKDB_views.values)\n",
    "    ]),\n",
    "    'Movie': (['JokerDB'] * len(JokerDB_views) +\n",
    "              ['BeetleJuiceDB'] * len(BeetleJuiceDB_views) +\n",
    "              ['DuneDB'] * len(DuneDB_views) +\n",
    "              ['GxKDB'] * len(GxKDB_views))\n",
    "})\n",
    "\n",
    "for movie_name in data['Movie'].unique():\n",
    "    fig.add_trace(go.Bar(\n",
    "        x=data[data['Movie'] == movie_name]['Date'],\n",
    "        y=data[data['Movie'] == movie_name]['View Count'],\n",
    "        name=movie_name,\n",
    "        yaxis=\"y2\",\n",
    "        marker=dict(color=bar_colors.get(movie_name, 'lightblue')),\n",
    "        visible=\"legendonly\"\n",
    "    ))\n",
    "\n",
    "data_sorted = data.sort_values(by=\"Date\")\n",
    "data_sorted['Trend'] = data_sorted['View Count'].rolling(window=2000, min_periods=1).mean()\n",
    "\n",
    "fig.add_trace(go.Scatter(\n",
    "    x=data_sorted['Date'],\n",
    "    y=data_sorted['Trend'],\n",
    "    mode='lines',\n",
    "    name='Views Trend (Moving Average)',\n",
    "    line=dict(width=4, color='blue'),\n",
    "    yaxis=\"y2\"\n",
    "))\n",
    "\n",
    "fig.add_trace(go.Scatter(\n",
    "    x=WBStockFull[WBStockFull['Date'].dt.year == 2024]['Date'],\n",
    "    y=WBStockFull[WBStockFull['Date'].dt.year == 2024]['Open'],\n",
    "    mode='lines',\n",
    "    name='Stock Price (2024)',\n",
    "    line=dict(width=3, color='rgba(100, 100, 100, 0.5)'),\n",
    "    yaxis=\"y1\"\n",
    "))\n",
    "\n",
    "fig.update_layout(\n",
    "    title=\"Stock Price vs. Movie Views (2024)\",\n",
    "    title_font=dict(color=\"black\"),\n",
    "    xaxis_title=\"Date\",\n",
    "    xaxis=dict(\n",
    "        title=\"Date\",\n",
    "        title_font=dict(color=\"black\"),\n",
    "        tickfont=dict(color=\"black\"),\n",
    "        range=[\n",
    "            pd.Timestamp(\"2024-01-01\"),\n",
    "            pd.Timestamp(\"2024-06-30\")\n",
    "        ],\n",
    "        rangeslider=dict(visible=True),\n",
    "    ),\n",
    "    yaxis=dict(\n",
    "        title=\"Stock Price\",\n",
    "        title_font=dict(color=\"black\"),\n",
    "        tickfont=dict(color=\"black\"),\n",
    "        range=[WBStockFull[WBStockFull['Date'].dt.year == 2024]['Open'].min() - 0.3, WBStockFull[WBStockFull['Date'].dt.year == 2024]['Open'].max() + 0.2],\n",
    "        side=\"left\",\n",
    "        showgrid=False\n",
    "    ),\n",
    "    yaxis2=dict(\n",
    "        title=\"Views\",\n",
    "        title_font=dict(color=\"black\"),\n",
    "        tickfont=dict(color=\"black\"),\n",
    "        range=[0, 1000000],\n",
    "        overlaying=\"y\",\n",
    "        side=\"right\",\n",
    "        showgrid=False\n",
    "    ),\n",
    "    legend=dict(font=dict(color=\"black\")),\n",
    "    plot_bgcolor=\"white\",\n",
    "    paper_bgcolor=\"white\",\n",
    "    height=800\n",
    ")\n",
    "\n",
    "\n",
    "html_file = '2024Graph.html'\n",
    "fig.write_html(html_file)\n",
    "fig.show()"
   ]
  },
  {
   "cell_type": "code",
   "execution_count": 42,
   "id": "921de212-3084-4a7d-9a8c-8ebe8641b999",
   "metadata": {},
   "outputs": [
    {
     "data": {
      "application/vnd.plotly.v1+json": {
       "config": {
        "plotlyServerURL": "https://plot.ly"
       },
       "data": [
        {
         "marker": {
          "color": "#ff0099"
         },
         "name": "BarbieDB",
         "type": "bar",
         "visible": "legendonly",
         "x": [
          "2023-04-04",
          "2023-05-25",
          "2023-05-26",
          "2023-05-30",
          "2023-06-05",
          "2023-06-07",
          "2023-06-12",
          "2023-06-17",
          "2023-06-20",
          "2023-06-21",
          "2023-06-22",
          "2023-06-23",
          "2023-06-24",
          "2023-06-25",
          "2023-06-26",
          "2023-06-28",
          "2023-06-29",
          "2023-06-30",
          "2023-07-02",
          "2023-07-07",
          "2023-07-10",
          "2023-07-11",
          "2023-07-14",
          "2023-07-16",
          "2023-07-17",
          "2023-07-18",
          "2023-07-19",
          "2023-07-20",
          "2023-07-21",
          "2023-07-22",
          "2023-07-23",
          "2023-07-24",
          "2023-07-25",
          "2023-07-26",
          "2023-07-27",
          "2023-07-29",
          "2023-08-01",
          "2023-08-02",
          "2023-08-03",
          "2023-08-04",
          "2023-08-06",
          "2023-08-07",
          "2023-08-09",
          "2023-08-11",
          "2023-08-21",
          "2023-08-23",
          "2023-08-25",
          "2023-09-05",
          "2023-09-07",
          "2023-09-10",
          "2023-09-12",
          "2023-09-14",
          "2023-09-15",
          "2023-09-16",
          "2023-09-17",
          "2023-09-18",
          "2023-09-20",
          "2023-09-21",
          "2023-09-22",
          "2023-09-23",
          "2023-09-28",
          "2023-10-03",
          "2023-10-05",
          "2023-10-16",
          "2023-10-17",
          "2023-10-18",
          "2023-10-25",
          "2023-10-27",
          "2023-10-29",
          "2023-11-03",
          "2023-11-10",
          "2023-11-13",
          "2023-11-14",
          "2023-11-17",
          "2023-12-13",
          "2023-12-19",
          "2023-12-21"
         ],
         "y": [
          38324839,
          7897135,
          539118,
          170691,
          102983,
          258083,
          762732,
          38062,
          391943,
          573287,
          75182,
          246379,
          3568316,
          200238,
          261048,
          103183,
          204300,
          19704013,
          1016256,
          3147427,
          9245622,
          161755,
          110644,
          108594,
          343232,
          95706,
          12240602,
          928828,
          2066474,
          642115,
          776140,
          682724,
          255494,
          353106,
          915272,
          829878,
          1644768,
          251070,
          155154,
          144540,
          385345,
          85727,
          79734,
          112918,
          51357,
          439159,
          44830,
          157455,
          44554,
          31724,
          63486,
          60103,
          74441,
          54487,
          5351337,
          22732,
          138106,
          33359,
          85263,
          25000,
          50597,
          65194,
          45437,
          39307,
          68069,
          17314,
          38441,
          26700,
          29964,
          22094,
          32694,
          42241,
          15776,
          276909,
          67358,
          90579,
          33336
         ],
         "yaxis": "y2"
        },
        {
         "marker": {
          "color": "#0003d1"
         },
         "name": "BlueBeetleDB",
         "type": "bar",
         "visible": "legendonly",
         "x": [
          "2023-04-02",
          "2023-04-03",
          "2023-06-08",
          "2023-07-09",
          "2023-07-10",
          "2023-07-11",
          "2023-07-13",
          "2023-07-15",
          "2023-07-17",
          "2023-07-18",
          "2023-07-19",
          "2023-07-20",
          "2023-07-21",
          "2023-07-22",
          "2023-07-24",
          "2023-07-25",
          "2023-07-26",
          "2023-07-28",
          "2023-07-29",
          "2023-07-30",
          "2023-08-01",
          "2023-08-03",
          "2023-08-04",
          "2023-08-05",
          "2023-08-07",
          "2023-08-08",
          "2023-08-09",
          "2023-08-10",
          "2023-08-11",
          "2023-08-12",
          "2023-08-13",
          "2023-08-14",
          "2023-08-15",
          "2023-08-16",
          "2023-08-17",
          "2023-08-18",
          "2023-08-19",
          "2023-08-21",
          "2023-08-22",
          "2023-08-23",
          "2023-08-25",
          "2023-08-27",
          "2023-08-28",
          "2023-08-30",
          "2023-09-01",
          "2023-09-19",
          "2023-09-25",
          "2023-09-26",
          "2023-09-29",
          "2023-10-04",
          "2023-10-12",
          "2023-10-17",
          "2023-10-19",
          "2023-10-24",
          "2023-11-01",
          "2023-11-03",
          "2023-11-08"
         ],
         "y": [
          2087804,
          13257806,
          567322,
          2968402,
          1468999,
          879680,
          105110,
          153875,
          29379,
          171092,
          156002,
          55063,
          83432,
          53083,
          158249,
          167045,
          59860,
          131787,
          92791,
          1131958,
          623764,
          29624,
          331615,
          50160,
          520654,
          146629,
          312442,
          20495,
          71786,
          33013,
          63679,
          2975333,
          31911,
          403754,
          1274668,
          81305,
          189797,
          72363,
          367312,
          61335,
          82920,
          38398,
          37212,
          58029,
          71582,
          134760,
          31959,
          109337,
          32457,
          22701,
          25858,
          203396,
          16300,
          23413,
          13429,
          11671,
          19237
         ],
         "yaxis": "y2"
        },
        {
         "marker": {
          "color": "#d10026"
         },
         "name": "ShazamDB",
         "type": "bar",
         "visible": "legendonly",
         "x": [
          "2023-01-25",
          "2023-01-26",
          "2023-02-06",
          "2023-02-12",
          "2023-02-15",
          "2023-02-16",
          "2023-02-17",
          "2023-02-18",
          "2023-02-19",
          "2023-02-23",
          "2023-02-24",
          "2023-03-03",
          "2023-03-04",
          "2023-03-06",
          "2023-03-07",
          "2023-03-08",
          "2023-03-09",
          "2023-03-10",
          "2023-03-11",
          "2023-03-12",
          "2023-03-13",
          "2023-03-14",
          "2023-03-15",
          "2023-03-16",
          "2023-03-17",
          "2023-03-18",
          "2023-03-19",
          "2023-03-22",
          "2023-03-24",
          "2023-03-25",
          "2023-03-26",
          "2023-04-03",
          "2023-04-06",
          "2023-04-07",
          "2023-04-10",
          "2023-04-21",
          "2023-04-23",
          "2023-04-25",
          "2023-04-27",
          "2023-05-16",
          "2023-05-22",
          "2023-05-23"
         ],
         "y": [
          325937,
          1656813,
          105517,
          107610,
          51028,
          267404,
          30165,
          35260,
          180149,
          26036,
          121471,
          87478,
          126064,
          48398,
          161999,
          54249,
          44151,
          66531,
          86047,
          135895,
          41814,
          39809,
          87261,
          49058,
          207039,
          176862,
          78268,
          23139,
          28814,
          27713,
          28585,
          180166,
          344867,
          165884,
          32170,
          20923,
          27432,
          44264,
          16777,
          14286,
          15919,
          46929
         ],
         "yaxis": "y2"
        },
        {
         "marker": {
          "color": "#8a00a6"
         },
         "name": "WonkaDB",
         "type": "bar",
         "visible": "legendonly",
         "x": [
          "2023-07-11",
          "2023-10-17",
          "2023-10-18",
          "2023-10-24",
          "2023-10-31",
          "2023-11-08",
          "2023-11-10",
          "2023-11-13",
          "2023-11-14",
          "2023-11-15",
          "2023-11-17",
          "2023-12-13",
          "2023-12-14",
          "2023-12-15",
          "2023-12-16",
          "2023-12-17",
          "2023-12-18",
          "2023-12-22",
          "2023-12-23",
          "2023-12-26",
          "2023-12-27",
          "2023-12-30",
          "2023-12-31"
         ],
         "y": [
          4510720,
          26580,
          49011,
          19219,
          267076,
          45451,
          27240,
          222342,
          17347,
          1052367,
          61746,
          26876,
          43542,
          97705,
          36180,
          16880,
          121838,
          23802,
          14783,
          14550,
          34732,
          13690,
          22164
         ],
         "yaxis": "y2"
        },
        {
         "line": {
          "color": "blue",
          "width": 4
         },
         "mode": "lines",
         "name": "Views Trend (Moving Average)",
         "type": "scatter",
         "x": [
          "2023-01-25",
          "2023-01-26",
          "2023-02-06",
          "2023-02-12",
          "2023-02-15",
          "2023-02-16",
          "2023-02-17",
          "2023-02-18",
          "2023-02-19",
          "2023-02-23",
          "2023-02-24",
          "2023-03-03",
          "2023-03-04",
          "2023-03-06",
          "2023-03-07",
          "2023-03-08",
          "2023-03-09",
          "2023-03-10",
          "2023-03-11",
          "2023-03-12",
          "2023-03-13",
          "2023-03-14",
          "2023-03-15",
          "2023-03-16",
          "2023-03-17",
          "2023-03-18",
          "2023-03-19",
          "2023-03-22",
          "2023-03-24",
          "2023-03-25",
          "2023-03-26",
          "2023-04-02",
          "2023-04-03",
          "2023-04-03",
          "2023-04-04",
          "2023-04-06",
          "2023-04-07",
          "2023-04-10",
          "2023-04-21",
          "2023-04-23",
          "2023-04-25",
          "2023-04-27",
          "2023-05-16",
          "2023-05-22",
          "2023-05-23",
          "2023-05-25",
          "2023-05-26",
          "2023-05-30",
          "2023-06-05",
          "2023-06-07",
          "2023-06-08",
          "2023-06-12",
          "2023-06-17",
          "2023-06-20",
          "2023-06-21",
          "2023-06-22",
          "2023-06-23",
          "2023-06-24",
          "2023-06-25",
          "2023-06-26",
          "2023-06-28",
          "2023-06-29",
          "2023-06-30",
          "2023-07-02",
          "2023-07-07",
          "2023-07-09",
          "2023-07-10",
          "2023-07-10",
          "2023-07-11",
          "2023-07-11",
          "2023-07-11",
          "2023-07-13",
          "2023-07-14",
          "2023-07-15",
          "2023-07-16",
          "2023-07-17",
          "2023-07-17",
          "2023-07-18",
          "2023-07-18",
          "2023-07-19",
          "2023-07-19",
          "2023-07-20",
          "2023-07-20",
          "2023-07-21",
          "2023-07-21",
          "2023-07-22",
          "2023-07-22",
          "2023-07-23",
          "2023-07-24",
          "2023-07-24",
          "2023-07-25",
          "2023-07-25",
          "2023-07-26",
          "2023-07-26",
          "2023-07-27",
          "2023-07-28",
          "2023-07-29",
          "2023-07-29",
          "2023-07-30",
          "2023-08-01",
          "2023-08-01",
          "2023-08-02",
          "2023-08-03",
          "2023-08-03",
          "2023-08-04",
          "2023-08-04",
          "2023-08-05",
          "2023-08-06",
          "2023-08-07",
          "2023-08-07",
          "2023-08-08",
          "2023-08-09",
          "2023-08-09",
          "2023-08-10",
          "2023-08-11",
          "2023-08-11",
          "2023-08-12",
          "2023-08-13",
          "2023-08-14",
          "2023-08-15",
          "2023-08-16",
          "2023-08-17",
          "2023-08-18",
          "2023-08-19",
          "2023-08-21",
          "2023-08-21",
          "2023-08-22",
          "2023-08-23",
          "2023-08-23",
          "2023-08-25",
          "2023-08-25",
          "2023-08-27",
          "2023-08-28",
          "2023-08-30",
          "2023-09-01",
          "2023-09-05",
          "2023-09-07",
          "2023-09-10",
          "2023-09-12",
          "2023-09-14",
          "2023-09-15",
          "2023-09-16",
          "2023-09-17",
          "2023-09-18",
          "2023-09-19",
          "2023-09-20",
          "2023-09-21",
          "2023-09-22",
          "2023-09-23",
          "2023-09-25",
          "2023-09-26",
          "2023-09-28",
          "2023-09-29",
          "2023-10-03",
          "2023-10-04",
          "2023-10-05",
          "2023-10-12",
          "2023-10-16",
          "2023-10-17",
          "2023-10-17",
          "2023-10-17",
          "2023-10-18",
          "2023-10-18",
          "2023-10-19",
          "2023-10-24",
          "2023-10-24",
          "2023-10-25",
          "2023-10-27",
          "2023-10-29",
          "2023-10-31",
          "2023-11-01",
          "2023-11-03",
          "2023-11-03",
          "2023-11-08",
          "2023-11-08",
          "2023-11-10",
          "2023-11-10",
          "2023-11-13",
          "2023-11-13",
          "2023-11-14",
          "2023-11-14",
          "2023-11-15",
          "2023-11-17",
          "2023-11-17",
          "2023-12-13",
          "2023-12-13",
          "2023-12-14",
          "2023-12-15",
          "2023-12-16",
          "2023-12-17",
          "2023-12-18",
          "2023-12-19",
          "2023-12-21",
          "2023-12-22",
          "2023-12-23",
          "2023-12-26",
          "2023-12-27",
          "2023-12-30",
          "2023-12-31"
         ],
         "y": [
          325937,
          991375,
          696089,
          548969.25,
          449381,
          419051.5,
          363496.28571428574,
          322466.75,
          306653.6666666667,
          278591.9,
          264308.1818181818,
          249572.33333333334,
          240071.6923076923,
          226380.7142857143,
          222088.6,
          211598.625,
          201748.76470588235,
          194236.66666666666,
          188542.47368421053,
          185910.1,
          179048.38095238095,
          172719.31818181818,
          169003.73913043478,
          164006,
          165727.32,
          166155.57692307694,
          162900.4814814815,
          157909,
          153457.44827586206,
          149265.96666666667,
          145373.03225806452,
          206074,
          205288.9090909091,
          589186.4705882353,
          1667347.9714285715,
          1630612.388888889,
          1591025.1351351351,
          1550002.6315789474,
          1510795.4615384615,
          1473711.375,
          1438846.8048780488,
          1404988,
          1372646.0930232557,
          1341811.3863636365,
          1313036.2222222222,
          1456168.8043478262,
          1436657.085106383,
          1410282.7916666667,
          1383603.2040816327,
          1361092.8,
          1345528.6666666667,
          1334321.0384615385,
          1309863.3207547169,
          1292864.7962962964,
          1279781.5636363637,
          1258270.857142857,
          1240518.3684210526,
          1280652.8103448276,
          1262340.6949152541,
          1245652.4833333334,
          1226923.475409836,
          1210429.5483870967,
          1503978.492063492,
          1496357.828125,
          1521758.8923076922,
          1543677.7272727273,
          1542563.119402985,
          1655843.3970588236,
          1644594.652173913,
          1685539.3,
          1664077.5492957747,
          1642425.2222222222,
          1621441.917808219,
          1601609.9324324324,
          1581703.0533333332,
          1561277.7368421052,
          1545458.961038961,
          1526872.3846153845,
          1509710.6075949366,
          1643846.75,
          1625478.2962962964,
          1616982.5609756098,
          1598164.253012048,
          1603739.369047619,
          1585853.4,
          1574879.6976744186,
          1557387.7816091955,
          1548509.9659090908,
          1538782.0337078653,
          1523442.7777777778,
          1509509.2747252746,
          1494917.2717391304,
          1479486.5483870967,
          1467503.7765957448,
          1461690.8105263158,
          1447837.6458333333,
          1441466.9278350514,
          1427704.9285714286,
          1424717.5858585858,
          1416708.05,
          1418966.0693069308,
          1407516.1078431373,
          1394138.5145631067,
          1382225.201923077,
          1372219.3904761905,
          1360637.5094339622,
          1348390.0560747664,
          1339472.9722222222,
          1327970.7155963304,
          1320631.4727272727,
          1310054.8738738738,
          1301147.6160714286,
          1290338.646017699,
          1279199.6666666667,
          1269058.0869565217,
          1258736.7758620689,
          1248260.5042735043,
          1238221.6779661018,
          1252819.2521008404,
          1242645.0166666666,
          1235712.0330578513,
          1236031.3442622952,
          1226643.325203252,
          1218281.6612903227,
          1208946.264,
          1199925.761904762,
          1193369.748031496,
          1187477.4765625,
          1178747.6899224806,
          1170318.2461538462,
          1161726.7328244275,
          1153216.6666666667,
          1144825.6541353383,
          1136715.2313432836,
          1128825.3555555556,
          1121682.9264705882,
          1113820.6715328468,
          1105979.391304348,
          1098479.4388489209,
          1091062.4642857143,
          1083852.3829787234,
          1076603.3309859154,
          1106496.5734265735,
          1098970.4305555555,
          1092320.7034482758,
          1085784.98630137,
          1078625.6258503401,
          1071913.7162162163,
          1064887.4496644295,
          1058001.26,
          1051718.715231788,
          1045132.3881578947,
          1038513.5947712419,
          1032193.3376623377,
          1025680.4838709678,
          1019396.8717948718,
          1013068.5987261146,
          1006905.5506329114,
          1000739.9811320754,
          994910.7875,
          989994.546583851,
          983990.3456790124,
          978254.2760736196,
          972388.7012195121,
          966611.9151515152,
          960929.9939759036,
          955406.1077844312,
          949878.0952380953,
          944434.8165680474,
          940450.3529411765,
          935029.1754385965,
          929660.8139534884,
          924414.7630057803,
          919212.591954023,
          914219.6685714286,
          909180.0113636364,
          904228.1129943503,
          900397.2921348314,
          895603.1229050279,
          890723.9222222222,
          885889.955801105,
          886804.6648351648,
          882296.1475409836,
          879006,
          874618.7135135136,
          870060.9569892474,
          865641.0695187165,
          861556.3031914893,
          857189.2328042329,
          852766.552631579,
          848939.7015706806,
          844989.90625,
          840784.4455958549,
          836573.1958762887,
          832358.8871794872,
          828186.3928571428,
          824158.7055837563,
          820065.4292929292,
          816055.8743718592
         ],
         "yaxis": "y2"
        },
        {
         "line": {
          "color": "rgba(100, 100, 100, 0.5)",
          "width": 3
         },
         "mode": "lines",
         "name": "Stock Price (2023)",
         "type": "scatter",
         "x": [
          "2023-12-14T00:00:00",
          "2023-12-11T00:00:00",
          "2023-12-05T00:00:00",
          "2023-11-30T00:00:00",
          "2023-11-17T00:00:00",
          "2023-11-13T00:00:00",
          "2023-11-09T00:00:00",
          "2023-10-26T00:00:00",
          "2023-10-23T00:00:00",
          "2023-10-17T00:00:00",
          "2023-10-04T00:00:00",
          "2023-09-29T00:00:00",
          "2023-09-28T00:00:00",
          "2023-09-25T00:00:00",
          "2023-09-11T00:00:00",
          "2023-09-06T00:00:00",
          "2023-09-05T00:00:00",
          "2023-08-16T00:00:00",
          "2023-08-08T00:00:00",
          "2023-08-07T00:00:00",
          "2023-08-03T00:00:00",
          "2023-07-31T00:00:00",
          "2023-07-26T00:00:00",
          "2023-07-20T00:00:00",
          "2023-07-19T00:00:00",
          "2023-07-05T00:00:00",
          "2023-06-28T00:00:00",
          "2023-06-26T00:00:00",
          "2023-06-19T00:00:00",
          "2023-06-09T00:00:00",
          "2023-06-07T00:00:00",
          "2023-06-06T00:00:00",
          "2023-05-31T00:00:00",
          "2023-05-22T00:00:00",
          "2023-05-19T00:00:00",
          "2023-05-05T00:00:00",
          "2023-05-04T00:00:00",
          "2023-04-20T00:00:00",
          "2023-04-13T00:00:00",
          "2023-04-05T00:00:00",
          "2023-04-03T00:00:00",
          "2023-03-29T00:00:00",
          "2023-03-22T00:00:00",
          "2023-03-17T00:00:00",
          "2023-03-14T00:00:00",
          "2023-03-07T00:00:00",
          "2023-02-20T00:00:00",
          "2023-02-09T00:00:00",
          "2023-02-08T00:00:00",
          "2023-02-06T00:00:00",
          "2023-02-03T00:00:00",
          "2023-02-02T00:00:00",
          "2023-01-31T00:00:00"
         ],
         "y": [
          10.95,
          10.78,
          10.55,
          9.82,
          9.58,
          9.36,
          9.07,
          9.17,
          9.58,
          10.22,
          9.88,
          10.37,
          10.43,
          10.51,
          10.91,
          10.94,
          11.04,
          12.24,
          13,
          12.74,
          11.51,
          11.67,
          11.26,
          11.65,
          11.53,
          11.69,
          11.23,
          10.78,
          11.66,
          12.89,
          11.41,
          10.78,
          10.62,
          11.31,
          11.4,
          11.25,
          11.25,
          12.85,
          12.97,
          13.67,
          13.82,
          13.4,
          13.86,
          13.9,
          13.14,
          14.22,
          14.32,
          13.68,
          14.04,
          14.02,
          14.48,
          14.24,
          13.3
         ],
         "yaxis": "y"
        }
       ],
       "layout": {
        "autosize": true,
        "legend": {
         "font": {
          "color": "black"
         }
        },
        "paper_bgcolor": "white",
        "plot_bgcolor": "white",
        "template": {
         "data": {
          "bar": [
           {
            "error_x": {
             "color": "#2a3f5f"
            },
            "error_y": {
             "color": "#2a3f5f"
            },
            "marker": {
             "line": {
              "color": "#E5ECF6",
              "width": 0.5
             },
             "pattern": {
              "fillmode": "overlay",
              "size": 10,
              "solidity": 0.2
             }
            },
            "type": "bar"
           }
          ],
          "barpolar": [
           {
            "marker": {
             "line": {
              "color": "#E5ECF6",
              "width": 0.5
             },
             "pattern": {
              "fillmode": "overlay",
              "size": 10,
              "solidity": 0.2
             }
            },
            "type": "barpolar"
           }
          ],
          "carpet": [
           {
            "aaxis": {
             "endlinecolor": "#2a3f5f",
             "gridcolor": "white",
             "linecolor": "white",
             "minorgridcolor": "white",
             "startlinecolor": "#2a3f5f"
            },
            "baxis": {
             "endlinecolor": "#2a3f5f",
             "gridcolor": "white",
             "linecolor": "white",
             "minorgridcolor": "white",
             "startlinecolor": "#2a3f5f"
            },
            "type": "carpet"
           }
          ],
          "choropleth": [
           {
            "colorbar": {
             "outlinewidth": 0,
             "ticks": ""
            },
            "type": "choropleth"
           }
          ],
          "contour": [
           {
            "colorbar": {
             "outlinewidth": 0,
             "ticks": ""
            },
            "colorscale": [
             [
              0,
              "#0d0887"
             ],
             [
              0.1111111111111111,
              "#46039f"
             ],
             [
              0.2222222222222222,
              "#7201a8"
             ],
             [
              0.3333333333333333,
              "#9c179e"
             ],
             [
              0.4444444444444444,
              "#bd3786"
             ],
             [
              0.5555555555555556,
              "#d8576b"
             ],
             [
              0.6666666666666666,
              "#ed7953"
             ],
             [
              0.7777777777777778,
              "#fb9f3a"
             ],
             [
              0.8888888888888888,
              "#fdca26"
             ],
             [
              1,
              "#f0f921"
             ]
            ],
            "type": "contour"
           }
          ],
          "contourcarpet": [
           {
            "colorbar": {
             "outlinewidth": 0,
             "ticks": ""
            },
            "type": "contourcarpet"
           }
          ],
          "heatmap": [
           {
            "colorbar": {
             "outlinewidth": 0,
             "ticks": ""
            },
            "colorscale": [
             [
              0,
              "#0d0887"
             ],
             [
              0.1111111111111111,
              "#46039f"
             ],
             [
              0.2222222222222222,
              "#7201a8"
             ],
             [
              0.3333333333333333,
              "#9c179e"
             ],
             [
              0.4444444444444444,
              "#bd3786"
             ],
             [
              0.5555555555555556,
              "#d8576b"
             ],
             [
              0.6666666666666666,
              "#ed7953"
             ],
             [
              0.7777777777777778,
              "#fb9f3a"
             ],
             [
              0.8888888888888888,
              "#fdca26"
             ],
             [
              1,
              "#f0f921"
             ]
            ],
            "type": "heatmap"
           }
          ],
          "heatmapgl": [
           {
            "colorbar": {
             "outlinewidth": 0,
             "ticks": ""
            },
            "colorscale": [
             [
              0,
              "#0d0887"
             ],
             [
              0.1111111111111111,
              "#46039f"
             ],
             [
              0.2222222222222222,
              "#7201a8"
             ],
             [
              0.3333333333333333,
              "#9c179e"
             ],
             [
              0.4444444444444444,
              "#bd3786"
             ],
             [
              0.5555555555555556,
              "#d8576b"
             ],
             [
              0.6666666666666666,
              "#ed7953"
             ],
             [
              0.7777777777777778,
              "#fb9f3a"
             ],
             [
              0.8888888888888888,
              "#fdca26"
             ],
             [
              1,
              "#f0f921"
             ]
            ],
            "type": "heatmapgl"
           }
          ],
          "histogram": [
           {
            "marker": {
             "pattern": {
              "fillmode": "overlay",
              "size": 10,
              "solidity": 0.2
             }
            },
            "type": "histogram"
           }
          ],
          "histogram2d": [
           {
            "colorbar": {
             "outlinewidth": 0,
             "ticks": ""
            },
            "colorscale": [
             [
              0,
              "#0d0887"
             ],
             [
              0.1111111111111111,
              "#46039f"
             ],
             [
              0.2222222222222222,
              "#7201a8"
             ],
             [
              0.3333333333333333,
              "#9c179e"
             ],
             [
              0.4444444444444444,
              "#bd3786"
             ],
             [
              0.5555555555555556,
              "#d8576b"
             ],
             [
              0.6666666666666666,
              "#ed7953"
             ],
             [
              0.7777777777777778,
              "#fb9f3a"
             ],
             [
              0.8888888888888888,
              "#fdca26"
             ],
             [
              1,
              "#f0f921"
             ]
            ],
            "type": "histogram2d"
           }
          ],
          "histogram2dcontour": [
           {
            "colorbar": {
             "outlinewidth": 0,
             "ticks": ""
            },
            "colorscale": [
             [
              0,
              "#0d0887"
             ],
             [
              0.1111111111111111,
              "#46039f"
             ],
             [
              0.2222222222222222,
              "#7201a8"
             ],
             [
              0.3333333333333333,
              "#9c179e"
             ],
             [
              0.4444444444444444,
              "#bd3786"
             ],
             [
              0.5555555555555556,
              "#d8576b"
             ],
             [
              0.6666666666666666,
              "#ed7953"
             ],
             [
              0.7777777777777778,
              "#fb9f3a"
             ],
             [
              0.8888888888888888,
              "#fdca26"
             ],
             [
              1,
              "#f0f921"
             ]
            ],
            "type": "histogram2dcontour"
           }
          ],
          "mesh3d": [
           {
            "colorbar": {
             "outlinewidth": 0,
             "ticks": ""
            },
            "type": "mesh3d"
           }
          ],
          "parcoords": [
           {
            "line": {
             "colorbar": {
              "outlinewidth": 0,
              "ticks": ""
             }
            },
            "type": "parcoords"
           }
          ],
          "pie": [
           {
            "automargin": true,
            "type": "pie"
           }
          ],
          "scatter": [
           {
            "fillpattern": {
             "fillmode": "overlay",
             "size": 10,
             "solidity": 0.2
            },
            "type": "scatter"
           }
          ],
          "scatter3d": [
           {
            "line": {
             "colorbar": {
              "outlinewidth": 0,
              "ticks": ""
             }
            },
            "marker": {
             "colorbar": {
              "outlinewidth": 0,
              "ticks": ""
             }
            },
            "type": "scatter3d"
           }
          ],
          "scattercarpet": [
           {
            "marker": {
             "colorbar": {
              "outlinewidth": 0,
              "ticks": ""
             }
            },
            "type": "scattercarpet"
           }
          ],
          "scattergeo": [
           {
            "marker": {
             "colorbar": {
              "outlinewidth": 0,
              "ticks": ""
             }
            },
            "type": "scattergeo"
           }
          ],
          "scattergl": [
           {
            "marker": {
             "colorbar": {
              "outlinewidth": 0,
              "ticks": ""
             }
            },
            "type": "scattergl"
           }
          ],
          "scattermapbox": [
           {
            "marker": {
             "colorbar": {
              "outlinewidth": 0,
              "ticks": ""
             }
            },
            "type": "scattermapbox"
           }
          ],
          "scatterpolar": [
           {
            "marker": {
             "colorbar": {
              "outlinewidth": 0,
              "ticks": ""
             }
            },
            "type": "scatterpolar"
           }
          ],
          "scatterpolargl": [
           {
            "marker": {
             "colorbar": {
              "outlinewidth": 0,
              "ticks": ""
             }
            },
            "type": "scatterpolargl"
           }
          ],
          "scatterternary": [
           {
            "marker": {
             "colorbar": {
              "outlinewidth": 0,
              "ticks": ""
             }
            },
            "type": "scatterternary"
           }
          ],
          "surface": [
           {
            "colorbar": {
             "outlinewidth": 0,
             "ticks": ""
            },
            "colorscale": [
             [
              0,
              "#0d0887"
             ],
             [
              0.1111111111111111,
              "#46039f"
             ],
             [
              0.2222222222222222,
              "#7201a8"
             ],
             [
              0.3333333333333333,
              "#9c179e"
             ],
             [
              0.4444444444444444,
              "#bd3786"
             ],
             [
              0.5555555555555556,
              "#d8576b"
             ],
             [
              0.6666666666666666,
              "#ed7953"
             ],
             [
              0.7777777777777778,
              "#fb9f3a"
             ],
             [
              0.8888888888888888,
              "#fdca26"
             ],
             [
              1,
              "#f0f921"
             ]
            ],
            "type": "surface"
           }
          ],
          "table": [
           {
            "cells": {
             "fill": {
              "color": "#EBF0F8"
             },
             "line": {
              "color": "white"
             }
            },
            "header": {
             "fill": {
              "color": "#C8D4E3"
             },
             "line": {
              "color": "white"
             }
            },
            "type": "table"
           }
          ]
         },
         "layout": {
          "annotationdefaults": {
           "arrowcolor": "#2a3f5f",
           "arrowhead": 0,
           "arrowwidth": 1
          },
          "autotypenumbers": "strict",
          "coloraxis": {
           "colorbar": {
            "outlinewidth": 0,
            "ticks": ""
           }
          },
          "colorscale": {
           "diverging": [
            [
             0,
             "#8e0152"
            ],
            [
             0.1,
             "#c51b7d"
            ],
            [
             0.2,
             "#de77ae"
            ],
            [
             0.3,
             "#f1b6da"
            ],
            [
             0.4,
             "#fde0ef"
            ],
            [
             0.5,
             "#f7f7f7"
            ],
            [
             0.6,
             "#e6f5d0"
            ],
            [
             0.7,
             "#b8e186"
            ],
            [
             0.8,
             "#7fbc41"
            ],
            [
             0.9,
             "#4d9221"
            ],
            [
             1,
             "#276419"
            ]
           ],
           "sequential": [
            [
             0,
             "#0d0887"
            ],
            [
             0.1111111111111111,
             "#46039f"
            ],
            [
             0.2222222222222222,
             "#7201a8"
            ],
            [
             0.3333333333333333,
             "#9c179e"
            ],
            [
             0.4444444444444444,
             "#bd3786"
            ],
            [
             0.5555555555555556,
             "#d8576b"
            ],
            [
             0.6666666666666666,
             "#ed7953"
            ],
            [
             0.7777777777777778,
             "#fb9f3a"
            ],
            [
             0.8888888888888888,
             "#fdca26"
            ],
            [
             1,
             "#f0f921"
            ]
           ],
           "sequentialminus": [
            [
             0,
             "#0d0887"
            ],
            [
             0.1111111111111111,
             "#46039f"
            ],
            [
             0.2222222222222222,
             "#7201a8"
            ],
            [
             0.3333333333333333,
             "#9c179e"
            ],
            [
             0.4444444444444444,
             "#bd3786"
            ],
            [
             0.5555555555555556,
             "#d8576b"
            ],
            [
             0.6666666666666666,
             "#ed7953"
            ],
            [
             0.7777777777777778,
             "#fb9f3a"
            ],
            [
             0.8888888888888888,
             "#fdca26"
            ],
            [
             1,
             "#f0f921"
            ]
           ]
          },
          "colorway": [
           "#636efa",
           "#EF553B",
           "#00cc96",
           "#ab63fa",
           "#FFA15A",
           "#19d3f3",
           "#FF6692",
           "#B6E880",
           "#FF97FF",
           "#FECB52"
          ],
          "font": {
           "color": "#2a3f5f"
          },
          "geo": {
           "bgcolor": "white",
           "lakecolor": "white",
           "landcolor": "#E5ECF6",
           "showlakes": true,
           "showland": true,
           "subunitcolor": "white"
          },
          "hoverlabel": {
           "align": "left"
          },
          "hovermode": "closest",
          "mapbox": {
           "style": "light"
          },
          "paper_bgcolor": "white",
          "plot_bgcolor": "#E5ECF6",
          "polar": {
           "angularaxis": {
            "gridcolor": "white",
            "linecolor": "white",
            "ticks": ""
           },
           "bgcolor": "#E5ECF6",
           "radialaxis": {
            "gridcolor": "white",
            "linecolor": "white",
            "ticks": ""
           }
          },
          "scene": {
           "xaxis": {
            "backgroundcolor": "#E5ECF6",
            "gridcolor": "white",
            "gridwidth": 2,
            "linecolor": "white",
            "showbackground": true,
            "ticks": "",
            "zerolinecolor": "white"
           },
           "yaxis": {
            "backgroundcolor": "#E5ECF6",
            "gridcolor": "white",
            "gridwidth": 2,
            "linecolor": "white",
            "showbackground": true,
            "ticks": "",
            "zerolinecolor": "white"
           },
           "zaxis": {
            "backgroundcolor": "#E5ECF6",
            "gridcolor": "white",
            "gridwidth": 2,
            "linecolor": "white",
            "showbackground": true,
            "ticks": "",
            "zerolinecolor": "white"
           }
          },
          "shapedefaults": {
           "line": {
            "color": "#2a3f5f"
           }
          },
          "ternary": {
           "aaxis": {
            "gridcolor": "white",
            "linecolor": "white",
            "ticks": ""
           },
           "baxis": {
            "gridcolor": "white",
            "linecolor": "white",
            "ticks": ""
           },
           "bgcolor": "#E5ECF6",
           "caxis": {
            "gridcolor": "white",
            "linecolor": "white",
            "ticks": ""
           }
          },
          "title": {
           "x": 0.05
          },
          "xaxis": {
           "automargin": true,
           "gridcolor": "white",
           "linecolor": "white",
           "ticks": "",
           "title": {
            "standoff": 15
           },
           "zerolinecolor": "white",
           "zerolinewidth": 2
          },
          "yaxis": {
           "automargin": true,
           "gridcolor": "white",
           "linecolor": "white",
           "ticks": "",
           "title": {
            "standoff": 15
           },
           "zerolinecolor": "white",
           "zerolinewidth": 2
          }
         }
        },
        "title": {
         "font": {
          "color": "black"
         },
         "text": "Stock Price vs. Movie Views (2023)"
        },
        "xaxis": {
         "range": [
          "2023-01-01T00:00:00",
          "2023-06-30T00:00:00"
         ],
         "rangeslider": {
          "autorange": true,
          "range": [
           "2023-01-01",
           "2023-12-31"
          ],
          "visible": true,
          "yaxis": {
           "_template": null,
           "rangemode": "match"
          },
          "yaxis2": {
           "_template": null,
           "rangemode": "match"
          }
         },
         "tickfont": {
          "color": "black"
         },
         "title": {
          "font": {
           "color": "black"
          },
          "text": "Date"
         },
         "type": "date"
        },
        "yaxis": {
         "range": [
          8.77,
          14.68
         ],
         "showgrid": false,
         "side": "left",
         "tickfont": {
          "color": "black"
         },
         "title": {
          "font": {
           "color": "black"
          },
          "text": "Stock Price"
         },
         "type": "linear"
        },
        "yaxis2": {
         "overlaying": "y",
         "range": [
          0,
          2000000
         ],
         "showgrid": false,
         "side": "right",
         "tickfont": {
          "color": "black"
         },
         "title": {
          "font": {
           "color": "black"
          },
          "text": "Views"
         },
         "type": "linear"
        }
       }
      },
      "image/png": "[encoded data removed]",
      "text/html": [
       "<div>                            <div id=\"d4978986-e410-45d7-ae39-f28dd561a94b\" class=\"plotly-graph-div\" style=\"height:800px; width:100%;\"></div>            <script type=\"text/javascript\">                require([\"plotly\"], function(Plotly) {                    window.PLOTLYENV=window.PLOTLYENV || {};                                    if (document.getElementById(\"d4978986-e410-45d7-ae39-f28dd561a94b\")) {                    Plotly.newPlot(                        \"d4978986-e410-45d7-ae39-f28dd561a94b\",                        [{\"marker\":{\"color\":\"#ff0099\"},\"name\":\"BarbieDB\",\"visible\":\"legendonly\",\"x\":[\"2023-04-04\",\"2023-05-25\",\"2023-05-26\",\"2023-05-30\",\"2023-06-05\",\"2023-06-07\",\"2023-06-12\",\"2023-06-17\",\"2023-06-20\",\"2023-06-21\",\"2023-06-22\",\"2023-06-23\",\"2023-06-24\",\"2023-06-25\",\"2023-06-26\",\"2023-06-28\",\"2023-06-29\",\"2023-06-30\",\"2023-07-02\",\"2023-07-07\",\"2023-07-10\",\"2023-07-11\",\"2023-07-14\",\"2023-07-16\",\"2023-07-17\",\"2023-07-18\",\"2023-07-19\",\"2023-07-20\",\"2023-07-21\",\"2023-07-22\",\"2023-07-23\",\"2023-07-24\",\"2023-07-25\",\"2023-07-26\",\"2023-07-27\",\"2023-07-29\",\"2023-08-01\",\"2023-08-02\",\"2023-08-03\",\"2023-08-04\",\"2023-08-06\",\"2023-08-07\",\"2023-08-09\",\"2023-08-11\",\"2023-08-21\",\"2023-08-23\",\"2023-08-25\",\"2023-09-05\",\"2023-09-07\",\"2023-09-10\",\"2023-09-12\",\"2023-09-14\",\"2023-09-15\",\"2023-09-16\",\"2023-09-17\",\"2023-09-18\",\"2023-09-20\",\"2023-09-21\",\"2023-09-22\",\"2023-09-23\",\"2023-09-28\",\"2023-10-03\",\"2023-10-05\",\"2023-10-16\",\"2023-10-17\",\"2023-10-18\",\"2023-10-25\",\"2023-10-27\",\"2023-10-29\",\"2023-11-03\",\"2023-11-10\",\"2023-11-13\",\"2023-11-14\",\"2023-11-17\",\"2023-12-13\",\"2023-12-19\",\"2023-12-21\"],\"y\":[38324839.0,7897135.0,539118.0,170691.0,102983.0,258083.0,762732.0,38062.0,391943.0,573287.0,75182.0,246379.0,3568316.0,200238.0,261048.0,103183.0,204300.0,19704013.0,1016256.0,3147427.0,9245622.0,161755.0,110644.0,108594.0,343232.0,95706.0,12240602.0,928828.0,2066474.0,642115.0,776140.0,682724.0,255494.0,353106.0,915272.0,829878.0,1644768.0,251070.0,155154.0,144540.0,385345.0,85727.0,79734.0,112918.0,51357.0,439159.0,44830.0,157455.0,44554.0,31724.0,63486.0,60103.0,74441.0,54487.0,5351337.0,22732.0,138106.0,33359.0,85263.0,25000.0,50597.0,65194.0,45437.0,39307.0,68069.0,17314.0,38441.0,26700.0,29964.0,22094.0,32694.0,42241.0,15776.0,276909.0,67358.0,90579.0,33336.0],\"yaxis\":\"y2\",\"type\":\"bar\"},{\"marker\":{\"color\":\"#0003d1\"},\"name\":\"BlueBeetleDB\",\"visible\":\"legendonly\",\"x\":[\"2023-04-02\",\"2023-04-03\",\"2023-06-08\",\"2023-07-09\",\"2023-07-10\",\"2023-07-11\",\"2023-07-13\",\"2023-07-15\",\"2023-07-17\",\"2023-07-18\",\"2023-07-19\",\"2023-07-20\",\"2023-07-21\",\"2023-07-22\",\"2023-07-24\",\"2023-07-25\",\"2023-07-26\",\"2023-07-28\",\"2023-07-29\",\"2023-07-30\",\"2023-08-01\",\"2023-08-03\",\"2023-08-04\",\"2023-08-05\",\"2023-08-07\",\"2023-08-08\",\"2023-08-09\",\"2023-08-10\",\"2023-08-11\",\"2023-08-12\",\"2023-08-13\",\"2023-08-14\",\"2023-08-15\",\"2023-08-16\",\"2023-08-17\",\"2023-08-18\",\"2023-08-19\",\"2023-08-21\",\"2023-08-22\",\"2023-08-23\",\"2023-08-25\",\"2023-08-27\",\"2023-08-28\",\"2023-08-30\",\"2023-09-01\",\"2023-09-19\",\"2023-09-25\",\"2023-09-26\",\"2023-09-29\",\"2023-10-04\",\"2023-10-12\",\"2023-10-17\",\"2023-10-19\",\"2023-10-24\",\"2023-11-01\",\"2023-11-03\",\"2023-11-08\"],\"y\":[2087804.0,13257806.0,567322.0,2968402.0,1468999.0,879680.0,105110.0,153875.0,29379.0,171092.0,156002.0,55063.0,83432.0,53083.0,158249.0,167045.0,59860.0,131787.0,92791.0,1131958.0,623764.0,29624.0,331615.0,50160.0,520654.0,146629.0,312442.0,20495.0,71786.0,33013.0,63679.0,2975333.0,31911.0,403754.0,1274668.0,81305.0,189797.0,72363.0,367312.0,61335.0,82920.0,38398.0,37212.0,58029.0,71582.0,134760.0,31959.0,109337.0,32457.0,22701.0,25858.0,203396.0,16300.0,23413.0,13429.0,11671.0,19237.0],\"yaxis\":\"y2\",\"type\":\"bar\"},{\"marker\":{\"color\":\"#d10026\"},\"name\":\"ShazamDB\",\"visible\":\"legendonly\",\"x\":[\"2023-01-25\",\"2023-01-26\",\"2023-02-06\",\"2023-02-12\",\"2023-02-15\",\"2023-02-16\",\"2023-02-17\",\"2023-02-18\",\"2023-02-19\",\"2023-02-23\",\"2023-02-24\",\"2023-03-03\",\"2023-03-04\",\"2023-03-06\",\"2023-03-07\",\"2023-03-08\",\"2023-03-09\",\"2023-03-10\",\"2023-03-11\",\"2023-03-12\",\"2023-03-13\",\"2023-03-14\",\"2023-03-15\",\"2023-03-16\",\"2023-03-17\",\"2023-03-18\",\"2023-03-19\",\"2023-03-22\",\"2023-03-24\",\"2023-03-25\",\"2023-03-26\",\"2023-04-03\",\"2023-04-06\",\"2023-04-07\",\"2023-04-10\",\"2023-04-21\",\"2023-04-23\",\"2023-04-25\",\"2023-04-27\",\"2023-05-16\",\"2023-05-22\",\"2023-05-23\"],\"y\":[325937.0,1656813.0,105517.0,107610.0,51028.0,267404.0,30165.0,35260.0,180149.0,26036.0,121471.0,87478.0,126064.0,48398.0,161999.0,54249.0,44151.0,66531.0,86047.0,135895.0,41814.0,39809.0,87261.0,49058.0,207039.0,176862.0,78268.0,23139.0,28814.0,27713.0,28585.0,180166.0,344867.0,165884.0,32170.0,20923.0,27432.0,44264.0,16777.0,14286.0,15919.0,46929.0],\"yaxis\":\"y2\",\"type\":\"bar\"},{\"marker\":{\"color\":\"#8a00a6\"},\"name\":\"WonkaDB\",\"visible\":\"legendonly\",\"x\":[\"2023-07-11\",\"2023-10-17\",\"2023-10-18\",\"2023-10-24\",\"2023-10-31\",\"2023-11-08\",\"2023-11-10\",\"2023-11-13\",\"2023-11-14\",\"2023-11-15\",\"2023-11-17\",\"2023-12-13\",\"2023-12-14\",\"2023-12-15\",\"2023-12-16\",\"2023-12-17\",\"2023-12-18\",\"2023-12-22\",\"2023-12-23\",\"2023-12-26\",\"2023-12-27\",\"2023-12-30\",\"2023-12-31\"],\"y\":[4510720.0,26580.0,49011.0,19219.0,267076.0,45451.0,27240.0,222342.0,17347.0,1052367.0,61746.0,26876.0,43542.0,97705.0,36180.0,16880.0,121838.0,23802.0,14783.0,14550.0,34732.0,13690.0,22164.0],\"yaxis\":\"y2\",\"type\":\"bar\"},{\"line\":{\"color\":\"blue\",\"width\":4},\"mode\":\"lines\",\"name\":\"Views Trend (Moving Average)\",\"x\":[\"2023-01-25\",\"2023-01-26\",\"2023-02-06\",\"2023-02-12\",\"2023-02-15\",\"2023-02-16\",\"2023-02-17\",\"2023-02-18\",\"2023-02-19\",\"2023-02-23\",\"2023-02-24\",\"2023-03-03\",\"2023-03-04\",\"2023-03-06\",\"2023-03-07\",\"2023-03-08\",\"2023-03-09\",\"2023-03-10\",\"2023-03-11\",\"2023-03-12\",\"2023-03-13\",\"2023-03-14\",\"2023-03-15\",\"2023-03-16\",\"2023-03-17\",\"2023-03-18\",\"2023-03-19\",\"2023-03-22\",\"2023-03-24\",\"2023-03-25\",\"2023-03-26\",\"2023-04-02\",\"2023-04-03\",\"2023-04-03\",\"2023-04-04\",\"2023-04-06\",\"2023-04-07\",\"2023-04-10\",\"2023-04-21\",\"2023-04-23\",\"2023-04-25\",\"2023-04-27\",\"2023-05-16\",\"2023-05-22\",\"2023-05-23\",\"2023-05-25\",\"2023-05-26\",\"2023-05-30\",\"2023-06-05\",\"2023-06-07\",\"2023-06-08\",\"2023-06-12\",\"2023-06-17\",\"2023-06-20\",\"2023-06-21\",\"2023-06-22\",\"2023-06-23\",\"2023-06-24\",\"2023-06-25\",\"2023-06-26\",\"2023-06-28\",\"2023-06-29\",\"2023-06-30\",\"2023-07-02\",\"2023-07-07\",\"2023-07-09\",\"2023-07-10\",\"2023-07-10\",\"2023-07-11\",\"2023-07-11\",\"2023-07-11\",\"2023-07-13\",\"2023-07-14\",\"2023-07-15\",\"2023-07-16\",\"2023-07-17\",\"2023-07-17\",\"2023-07-18\",\"2023-07-18\",\"2023-07-19\",\"2023-07-19\",\"2023-07-20\",\"2023-07-20\",\"2023-07-21\",\"2023-07-21\",\"2023-07-22\",\"2023-07-22\",\"2023-07-23\",\"2023-07-24\",\"2023-07-24\",\"2023-07-25\",\"2023-07-25\",\"2023-07-26\",\"2023-07-26\",\"2023-07-27\",\"2023-07-28\",\"2023-07-29\",\"2023-07-29\",\"2023-07-30\",\"2023-08-01\",\"2023-08-01\",\"2023-08-02\",\"2023-08-03\",\"2023-08-03\",\"2023-08-04\",\"2023-08-04\",\"2023-08-05\",\"2023-08-06\",\"2023-08-07\",\"2023-08-07\",\"2023-08-08\",\"2023-08-09\",\"2023-08-09\",\"2023-08-10\",\"2023-08-11\",\"2023-08-11\",\"2023-08-12\",\"2023-08-13\",\"2023-08-14\",\"2023-08-15\",\"2023-08-16\",\"2023-08-17\",\"2023-08-18\",\"2023-08-19\",\"2023-08-21\",\"2023-08-21\",\"2023-08-22\",\"2023-08-23\",\"2023-08-23\",\"2023-08-25\",\"2023-08-25\",\"2023-08-27\",\"2023-08-28\",\"2023-08-30\",\"2023-09-01\",\"2023-09-05\",\"2023-09-07\",\"2023-09-10\",\"2023-09-12\",\"2023-09-14\",\"2023-09-15\",\"2023-09-16\",\"2023-09-17\",\"2023-09-18\",\"2023-09-19\",\"2023-09-20\",\"2023-09-21\",\"2023-09-22\",\"2023-09-23\",\"2023-09-25\",\"2023-09-26\",\"2023-09-28\",\"2023-09-29\",\"2023-10-03\",\"2023-10-04\",\"2023-10-05\",\"2023-10-12\",\"2023-10-16\",\"2023-10-17\",\"2023-10-17\",\"2023-10-17\",\"2023-10-18\",\"2023-10-18\",\"2023-10-19\",\"2023-10-24\",\"2023-10-24\",\"2023-10-25\",\"2023-10-27\",\"2023-10-29\",\"2023-10-31\",\"2023-11-01\",\"2023-11-03\",\"2023-11-03\",\"2023-11-08\",\"2023-11-08\",\"2023-11-10\",\"2023-11-10\",\"2023-11-13\",\"2023-11-13\",\"2023-11-14\",\"2023-11-14\",\"2023-11-15\",\"2023-11-17\",\"2023-11-17\",\"2023-12-13\",\"2023-12-13\",\"2023-12-14\",\"2023-12-15\",\"2023-12-16\",\"2023-12-17\",\"2023-12-18\",\"2023-12-19\",\"2023-12-21\",\"2023-12-22\",\"2023-12-23\",\"2023-12-26\",\"2023-12-27\",\"2023-12-30\",\"2023-12-31\"],\"y\":[325937.0,991375.0,696089.0,548969.25,449381.0,419051.5,363496.28571428574,322466.75,306653.6666666667,278591.9,264308.1818181818,249572.33333333334,240071.6923076923,226380.7142857143,222088.6,211598.625,201748.76470588235,194236.66666666666,188542.47368421053,185910.1,179048.38095238095,172719.31818181818,169003.73913043478,164006.0,165727.32,166155.57692307694,162900.4814814815,157909.0,153457.44827586206,149265.96666666667,145373.03225806452,206074.0,205288.9090909091,589186.4705882353,1667347.9714285715,1630612.388888889,1591025.1351351351,1550002.6315789474,1510795.4615384615,1473711.375,1438846.8048780488,1404988.0,1372646.0930232557,1341811.3863636365,1313036.2222222222,1456168.8043478262,1436657.085106383,1410282.7916666667,1383603.2040816327,1361092.8,1345528.6666666667,1334321.0384615385,1309863.3207547169,1292864.7962962964,1279781.5636363637,1258270.857142857,1240518.3684210526,1280652.8103448276,1262340.6949152541,1245652.4833333334,1226923.475409836,1210429.5483870967,1503978.492063492,1496357.828125,1521758.8923076922,1543677.7272727273,1542563.119402985,1655843.3970588236,1644594.652173913,1685539.3,1664077.5492957747,1642425.2222222222,1621441.917808219,1601609.9324324324,1581703.0533333332,1561277.7368421052,1545458.961038961,1526872.3846153845,1509710.6075949366,1643846.75,1625478.2962962964,1616982.5609756098,1598164.253012048,1603739.369047619,1585853.4,1574879.6976744186,1557387.7816091955,1548509.9659090908,1538782.0337078653,1523442.7777777778,1509509.2747252746,1494917.2717391304,1479486.5483870967,1467503.7765957448,1461690.8105263158,1447837.6458333333,1441466.9278350514,1427704.9285714286,1424717.5858585858,1416708.05,1418966.0693069308,1407516.1078431373,1394138.5145631067,1382225.201923077,1372219.3904761905,1360637.5094339622,1348390.0560747664,1339472.9722222222,1327970.7155963304,1320631.4727272727,1310054.8738738738,1301147.6160714286,1290338.646017699,1279199.6666666667,1269058.0869565217,1258736.7758620689,1248260.5042735043,1238221.6779661018,1252819.2521008404,1242645.0166666666,1235712.0330578513,1236031.3442622952,1226643.325203252,1218281.6612903227,1208946.264,1199925.761904762,1193369.748031496,1187477.4765625,1178747.6899224806,1170318.2461538462,1161726.7328244275,1153216.6666666667,1144825.6541353383,1136715.2313432836,1128825.3555555556,1121682.9264705882,1113820.6715328468,1105979.391304348,1098479.4388489209,1091062.4642857143,1083852.3829787234,1076603.3309859154,1106496.5734265735,1098970.4305555555,1092320.7034482758,1085784.98630137,1078625.6258503401,1071913.7162162163,1064887.4496644295,1058001.26,1051718.715231788,1045132.3881578947,1038513.5947712419,1032193.3376623377,1025680.4838709678,1019396.8717948718,1013068.5987261146,1006905.5506329114,1000739.9811320754,994910.7875,989994.546583851,983990.3456790124,978254.2760736196,972388.7012195121,966611.9151515152,960929.9939759036,955406.1077844312,949878.0952380953,944434.8165680474,940450.3529411765,935029.1754385965,929660.8139534884,924414.7630057803,919212.591954023,914219.6685714286,909180.0113636364,904228.1129943503,900397.2921348314,895603.1229050279,890723.9222222222,885889.955801105,886804.6648351648,882296.1475409836,879006.0,874618.7135135136,870060.9569892474,865641.0695187165,861556.3031914893,857189.2328042329,852766.552631579,848939.7015706806,844989.90625,840784.4455958549,836573.1958762887,832358.8871794872,828186.3928571428,824158.7055837563,820065.4292929292,816055.8743718592],\"yaxis\":\"y2\",\"type\":\"scatter\"},{\"line\":{\"color\":\"rgba(100, 100, 100, 0.5)\",\"width\":3},\"mode\":\"lines\",\"name\":\"Stock Price (2023)\",\"x\":[\"2023-12-14T00:00:00\",\"2023-12-11T00:00:00\",\"2023-12-05T00:00:00\",\"2023-11-30T00:00:00\",\"2023-11-17T00:00:00\",\"2023-11-13T00:00:00\",\"2023-11-09T00:00:00\",\"2023-10-26T00:00:00\",\"2023-10-23T00:00:00\",\"2023-10-17T00:00:00\",\"2023-10-04T00:00:00\",\"2023-09-29T00:00:00\",\"2023-09-28T00:00:00\",\"2023-09-25T00:00:00\",\"2023-09-11T00:00:00\",\"2023-09-06T00:00:00\",\"2023-09-05T00:00:00\",\"2023-08-16T00:00:00\",\"2023-08-08T00:00:00\",\"2023-08-07T00:00:00\",\"2023-08-03T00:00:00\",\"2023-07-31T00:00:00\",\"2023-07-26T00:00:00\",\"2023-07-20T00:00:00\",\"2023-07-19T00:00:00\",\"2023-07-05T00:00:00\",\"2023-06-28T00:00:00\",\"2023-06-26T00:00:00\",\"2023-06-19T00:00:00\",\"2023-06-09T00:00:00\",\"2023-06-07T00:00:00\",\"2023-06-06T00:00:00\",\"2023-05-31T00:00:00\",\"2023-05-22T00:00:00\",\"2023-05-19T00:00:00\",\"2023-05-05T00:00:00\",\"2023-05-04T00:00:00\",\"2023-04-20T00:00:00\",\"2023-04-13T00:00:00\",\"2023-04-05T00:00:00\",\"2023-04-03T00:00:00\",\"2023-03-29T00:00:00\",\"2023-03-22T00:00:00\",\"2023-03-17T00:00:00\",\"2023-03-14T00:00:00\",\"2023-03-07T00:00:00\",\"2023-02-20T00:00:00\",\"2023-02-09T00:00:00\",\"2023-02-08T00:00:00\",\"2023-02-06T00:00:00\",\"2023-02-03T00:00:00\",\"2023-02-02T00:00:00\",\"2023-01-31T00:00:00\"],\"y\":[10.95,10.78,10.55,9.82,9.58,9.36,9.07,9.17,9.58,10.22,9.88,10.37,10.43,10.51,10.91,10.94,11.04,12.24,13.0,12.74,11.51,11.67,11.26,11.65,11.53,11.69,11.23,10.78,11.66,12.89,11.41,10.78,10.62,11.31,11.4,11.25,11.25,12.85,12.97,13.67,13.82,13.4,13.86,13.9,13.14,14.22,14.32,13.68,14.04,14.02,14.48,14.24,13.3],\"yaxis\":\"y\",\"type\":\"scatter\"}],                        {\"template\":{\"data\":{\"histogram2dcontour\":[{\"type\":\"histogram2dcontour\",\"colorbar\":{\"outlinewidth\":0,\"ticks\":\"\"},\"colorscale\":[[0.0,\"#0d0887\"],[0.1111111111111111,\"#46039f\"],[0.2222222222222222,\"#7201a8\"],[0.3333333333333333,\"#9c179e\"],[0.4444444444444444,\"#bd3786\"],[0.5555555555555556,\"#d8576b\"],[0.6666666666666666,\"#ed7953\"],[0.7777777777777778,\"#fb9f3a\"],[0.8888888888888888,\"#fdca26\"],[1.0,\"#f0f921\"]]}],\"choropleth\":[{\"type\":\"choropleth\",\"colorbar\":{\"outlinewidth\":0,\"ticks\":\"\"}}],\"histogram2d\":[{\"type\":\"histogram2d\",\"colorbar\":{\"outlinewidth\":0,\"ticks\":\"\"},\"colorscale\":[[0.0,\"#0d0887\"],[0.1111111111111111,\"#46039f\"],[0.2222222222222222,\"#7201a8\"],[0.3333333333333333,\"#9c179e\"],[0.4444444444444444,\"#bd3786\"],[0.5555555555555556,\"#d8576b\"],[0.6666666666666666,\"#ed7953\"],[0.7777777777777778,\"#fb9f3a\"],[0.8888888888888888,\"#fdca26\"],[1.0,\"#f0f921\"]]}],\"heatmap\":[{\"type\":\"heatmap\",\"colorbar\":{\"outlinewidth\":0,\"ticks\":\"\"},\"colorscale\":[[0.0,\"#0d0887\"],[0.1111111111111111,\"#46039f\"],[0.2222222222222222,\"#7201a8\"],[0.3333333333333333,\"#9c179e\"],[0.4444444444444444,\"#bd3786\"],[0.5555555555555556,\"#d8576b\"],[0.6666666666666666,\"#ed7953\"],[0.7777777777777778,\"#fb9f3a\"],[0.8888888888888888,\"#fdca26\"],[1.0,\"#f0f921\"]]}],\"heatmapgl\":[{\"type\":\"heatmapgl\",\"colorbar\":{\"outlinewidth\":0,\"ticks\":\"\"},\"colorscale\":[[0.0,\"#0d0887\"],[0.1111111111111111,\"#46039f\"],[0.2222222222222222,\"#7201a8\"],[0.3333333333333333,\"#9c179e\"],[0.4444444444444444,\"#bd3786\"],[0.5555555555555556,\"#d8576b\"],[0.6666666666666666,\"#ed7953\"],[0.7777777777777778,\"#fb9f3a\"],[0.8888888888888888,\"#fdca26\"],[1.0,\"#f0f921\"]]}],\"contourcarpet\":[{\"type\":\"contourcarpet\",\"colorbar\":{\"outlinewidth\":0,\"ticks\":\"\"}}],\"contour\":[{\"type\":\"contour\",\"colorbar\":{\"outlinewidth\":0,\"ticks\":\"\"},\"colorscale\":[[0.0,\"#0d0887\"],[0.1111111111111111,\"#46039f\"],[0.2222222222222222,\"#7201a8\"],[0.3333333333333333,\"#9c179e\"],[0.4444444444444444,\"#bd3786\"],[0.5555555555555556,\"#d8576b\"],[0.6666666666666666,\"#ed7953\"],[0.7777777777777778,\"#fb9f3a\"],[0.8888888888888888,\"#fdca26\"],[1.0,\"#f0f921\"]]}],\"surface\":[{\"type\":\"surface\",\"colorbar\":{\"outlinewidth\":0,\"ticks\":\"\"},\"colorscale\":[[0.0,\"#0d0887\"],[0.1111111111111111,\"#46039f\"],[0.2222222222222222,\"#7201a8\"],[0.3333333333333333,\"#9c179e\"],[0.4444444444444444,\"#bd3786\"],[0.5555555555555556,\"#d8576b\"],[0.6666666666666666,\"#ed7953\"],[0.7777777777777778,\"#fb9f3a\"],[0.8888888888888888,\"#fdca26\"],[1.0,\"#f0f921\"]]}],\"mesh3d\":[{\"type\":\"mesh3d\",\"colorbar\":{\"outlinewidth\":0,\"ticks\":\"\"}}],\"scatter\":[{\"fillpattern\":{\"fillmode\":\"overlay\",\"size\":10,\"solidity\":0.2},\"type\":\"scatter\"}],\"parcoords\":[{\"type\":\"parcoords\",\"line\":{\"colorbar\":{\"outlinewidth\":0,\"ticks\":\"\"}}}],\"scatterpolargl\":[{\"type\":\"scatterpolargl\",\"marker\":{\"colorbar\":{\"outlinewidth\":0,\"ticks\":\"\"}}}],\"bar\":[{\"error_x\":{\"color\":\"#2a3f5f\"},\"error_y\":{\"color\":\"#2a3f5f\"},\"marker\":{\"line\":{\"color\":\"#E5ECF6\",\"width\":0.5},\"pattern\":{\"fillmode\":\"overlay\",\"size\":10,\"solidity\":0.2}},\"type\":\"bar\"}],\"scattergeo\":[{\"type\":\"scattergeo\",\"marker\":{\"colorbar\":{\"outlinewidth\":0,\"ticks\":\"\"}}}],\"scatterpolar\":[{\"type\":\"scatterpolar\",\"marker\":{\"colorbar\":{\"outlinewidth\":0,\"ticks\":\"\"}}}],\"histogram\":[{\"marker\":{\"pattern\":{\"fillmode\":\"overlay\",\"size\":10,\"solidity\":0.2}},\"type\":\"histogram\"}],\"scattergl\":[{\"type\":\"scattergl\",\"marker\":{\"colorbar\":{\"outlinewidth\":0,\"ticks\":\"\"}}}],\"scatter3d\":[{\"type\":\"scatter3d\",\"line\":{\"colorbar\":{\"outlinewidth\":0,\"ticks\":\"\"}},\"marker\":{\"colorbar\":{\"outlinewidth\":0,\"ticks\":\"\"}}}],\"scattermapbox\":[{\"type\":\"scattermapbox\",\"marker\":{\"colorbar\":{\"outlinewidth\":0,\"ticks\":\"\"}}}],\"scatterternary\":[{\"type\":\"scatterternary\",\"marker\":{\"colorbar\":{\"outlinewidth\":0,\"ticks\":\"\"}}}],\"scattercarpet\":[{\"type\":\"scattercarpet\",\"marker\":{\"colorbar\":{\"outlinewidth\":0,\"ticks\":\"\"}}}],\"carpet\":[{\"aaxis\":{\"endlinecolor\":\"#2a3f5f\",\"gridcolor\":\"white\",\"linecolor\":\"white\",\"minorgridcolor\":\"white\",\"startlinecolor\":\"#2a3f5f\"},\"baxis\":{\"endlinecolor\":\"#2a3f5f\",\"gridcolor\":\"white\",\"linecolor\":\"white\",\"minorgridcolor\":\"white\",\"startlinecolor\":\"#2a3f5f\"},\"type\":\"carpet\"}],\"table\":[{\"cells\":{\"fill\":{\"color\":\"#EBF0F8\"},\"line\":{\"color\":\"white\"}},\"header\":{\"fill\":{\"color\":\"#C8D4E3\"},\"line\":{\"color\":\"white\"}},\"type\":\"table\"}],\"barpolar\":[{\"marker\":{\"line\":{\"color\":\"#E5ECF6\",\"width\":0.5},\"pattern\":{\"fillmode\":\"overlay\",\"size\":10,\"solidity\":0.2}},\"type\":\"barpolar\"}],\"pie\":[{\"automargin\":true,\"type\":\"pie\"}]},\"layout\":{\"autotypenumbers\":\"strict\",\"colorway\":[\"#636efa\",\"#EF553B\",\"#00cc96\",\"#ab63fa\",\"#FFA15A\",\"#19d3f3\",\"#FF6692\",\"#B6E880\",\"#FF97FF\",\"#FECB52\"],\"font\":{\"color\":\"#2a3f5f\"},\"hovermode\":\"closest\",\"hoverlabel\":{\"align\":\"left\"},\"paper_bgcolor\":\"white\",\"plot_bgcolor\":\"#E5ECF6\",\"polar\":{\"bgcolor\":\"#E5ECF6\",\"angularaxis\":{\"gridcolor\":\"white\",\"linecolor\":\"white\",\"ticks\":\"\"},\"radialaxis\":{\"gridcolor\":\"white\",\"linecolor\":\"white\",\"ticks\":\"\"}},\"ternary\":{\"bgcolor\":\"#E5ECF6\",\"aaxis\":{\"gridcolor\":\"white\",\"linecolor\":\"white\",\"ticks\":\"\"},\"baxis\":{\"gridcolor\":\"white\",\"linecolor\":\"white\",\"ticks\":\"\"},\"caxis\":{\"gridcolor\":\"white\",\"linecolor\":\"white\",\"ticks\":\"\"}},\"coloraxis\":{\"colorbar\":{\"outlinewidth\":0,\"ticks\":\"\"}},\"colorscale\":{\"sequential\":[[0.0,\"#0d0887\"],[0.1111111111111111,\"#46039f\"],[0.2222222222222222,\"#7201a8\"],[0.3333333333333333,\"#9c179e\"],[0.4444444444444444,\"#bd3786\"],[0.5555555555555556,\"#d8576b\"],[0.6666666666666666,\"#ed7953\"],[0.7777777777777778,\"#fb9f3a\"],[0.8888888888888888,\"#fdca26\"],[1.0,\"#f0f921\"]],\"sequentialminus\":[[0.0,\"#0d0887\"],[0.1111111111111111,\"#46039f\"],[0.2222222222222222,\"#7201a8\"],[0.3333333333333333,\"#9c179e\"],[0.4444444444444444,\"#bd3786\"],[0.5555555555555556,\"#d8576b\"],[0.6666666666666666,\"#ed7953\"],[0.7777777777777778,\"#fb9f3a\"],[0.8888888888888888,\"#fdca26\"],[1.0,\"#f0f921\"]],\"diverging\":[[0,\"#8e0152\"],[0.1,\"#c51b7d\"],[0.2,\"#de77ae\"],[0.3,\"#f1b6da\"],[0.4,\"#fde0ef\"],[0.5,\"#f7f7f7\"],[0.6,\"#e6f5d0\"],[0.7,\"#b8e186\"],[0.8,\"#7fbc41\"],[0.9,\"#4d9221\"],[1,\"#276419\"]]},\"xaxis\":{\"gridcolor\":\"white\",\"linecolor\":\"white\",\"ticks\":\"\",\"title\":{\"standoff\":15},\"zerolinecolor\":\"white\",\"automargin\":true,\"zerolinewidth\":2},\"yaxis\":{\"gridcolor\":\"white\",\"linecolor\":\"white\",\"ticks\":\"\",\"title\":{\"standoff\":15},\"zerolinecolor\":\"white\",\"automargin\":true,\"zerolinewidth\":2},\"scene\":{\"xaxis\":{\"backgroundcolor\":\"#E5ECF6\",\"gridcolor\":\"white\",\"linecolor\":\"white\",\"showbackground\":true,\"ticks\":\"\",\"zerolinecolor\":\"white\",\"gridwidth\":2},\"yaxis\":{\"backgroundcolor\":\"#E5ECF6\",\"gridcolor\":\"white\",\"linecolor\":\"white\",\"showbackground\":true,\"ticks\":\"\",\"zerolinecolor\":\"white\",\"gridwidth\":2},\"zaxis\":{\"backgroundcolor\":\"#E5ECF6\",\"gridcolor\":\"white\",\"linecolor\":\"white\",\"showbackground\":true,\"ticks\":\"\",\"zerolinecolor\":\"white\",\"gridwidth\":2}},\"shapedefaults\":{\"line\":{\"color\":\"#2a3f5f\"}},\"annotationdefaults\":{\"arrowcolor\":\"#2a3f5f\",\"arrowhead\":0,\"arrowwidth\":1},\"geo\":{\"bgcolor\":\"white\",\"landcolor\":\"#E5ECF6\",\"subunitcolor\":\"white\",\"showland\":true,\"showlakes\":true,\"lakecolor\":\"white\"},\"title\":{\"x\":0.05},\"mapbox\":{\"style\":\"light\"}}},\"title\":{\"text\":\"Stock Price vs. Movie Views (2023)\",\"font\":{\"color\":\"black\"}},\"xaxis\":{\"title\":{\"text\":\"Date\",\"font\":{\"color\":\"black\"}},\"tickfont\":{\"color\":\"black\"},\"rangeslider\":{\"visible\":true},\"range\":[\"2023-01-01T00:00:00\",\"2023-06-30T00:00:00\"]},\"yaxis\":{\"title\":{\"text\":\"Stock Price\",\"font\":{\"color\":\"black\"}},\"tickfont\":{\"color\":\"black\"},\"range\":[8.77,14.68],\"side\":\"left\",\"showgrid\":false},\"yaxis2\":{\"title\":{\"text\":\"Views\",\"font\":{\"color\":\"black\"}},\"tickfont\":{\"color\":\"black\"},\"range\":[0,2000000],\"overlaying\":\"y\",\"side\":\"right\",\"showgrid\":false},\"legend\":{\"font\":{\"color\":\"black\"}},\"plot_bgcolor\":\"white\",\"paper_bgcolor\":\"white\",\"height\":800},                        {\"responsive\": true}                    ).then(function(){\n",
       "                            \n",
       "var gd = document.getElementById('d4978986-e410-45d7-ae39-f28dd561a94b');\n",
       "var x = new MutationObserver(function (mutations, observer) {{\n",
       "        var display = window.getComputedStyle(gd).display;\n",
       "        if (!display || display === 'none') {{\n",
       "            console.log([gd, 'removed!']);\n",
       "            Plotly.purge(gd);\n",
       "            observer.disconnect();\n",
       "        }}\n",
       "}});\n",
       "\n",
       "// Listen for the removal of the full notebook cells\n",
       "var notebookContainer = gd.closest('#notebook-container');\n",
       "if (notebookContainer) {{\n",
       "    x.observe(notebookContainer, {childList: true});\n",
       "}}\n",
       "\n",
       "// Listen for the clearing of the current output cell\n",
       "var outputEl = gd.closest('.output');\n",
       "if (outputEl) {{\n",
       "    x.observe(outputEl, {childList: true});\n",
       "}}\n",
       "\n",
       "                        })                };                });            </script>        </div>"
      ]
     },
     "metadata": {},
     "output_type": "display_data"
    }
   ],
   "source": [
    "fig = go.Figure()\n",
    "\n",
    "bar_colors = {\n",
    "    'BarbieDB': '#ff0099',\n",
    "    'BlueBeetleDB': '#0003d1',\n",
    "    'ShazamDB': '#d10026',\n",
    "    'WonkaDB': '#8a00a6'\n",
    "}\n",
    "\n",
    "data = pd.DataFrame({\n",
    "    'Date': pd.concat([\n",
    "        pd.Series(BarbieDB_views.index),\n",
    "        pd.Series(BlueBeetleDB_views.index),\n",
    "        pd.Series(ShazamDB_views.index),\n",
    "        pd.Series(WonkaDB_views.index)\n",
    "    ]),\n",
    "    'View Count': pd.concat([\n",
    "        pd.Series(BarbieDB_views.values),\n",
    "        pd.Series(BlueBeetleDB_views.values),\n",
    "        pd.Series(ShazamDB_views.values),\n",
    "        pd.Series(WonkaDB_views.values)\n",
    "    ]),\n",
    "    'Movie': (['BarbieDB'] * len(BarbieDB_views) +\n",
    "              ['BlueBeetleDB'] * len(BlueBeetleDB_views) +\n",
    "              ['ShazamDB'] * len(ShazamDB_views) +\n",
    "              ['WonkaDB'] * len(WonkaDB_views))\n",
    "})\n",
    "\n",
    "for movie_name in data['Movie'].unique():\n",
    "    fig.add_trace(go.Bar(\n",
    "        x=data[data['Movie'] == movie_name]['Date'],\n",
    "        y=data[data['Movie'] == movie_name]['View Count'],\n",
    "        name=movie_name,\n",
    "        yaxis=\"y2\",\n",
    "        marker=dict(color=bar_colors.get(movie_name, 'lightblue')),\n",
    "        visible=\"legendonly\"\n",
    "    ))\n",
    "\n",
    "data_sorted = data.sort_values(by=\"Date\")\n",
    "data_sorted['Trend'] = data_sorted['View Count'].rolling(window=2000, min_periods=1).mean()\n",
    "\n",
    "fig.add_trace(go.Scatter(\n",
    "    x=data_sorted['Date'],\n",
    "    y=data_sorted['Trend'],\n",
    "    mode='lines',\n",
    "    name='Views Trend (Moving Average)',\n",
    "    line=dict(width=4, color='blue'),\n",
    "    yaxis=\"y2\"\n",
    "))\n",
    "\n",
    "fig.add_trace(go.Scatter(\n",
    "    x=WBStockFull[WBStockFull['Date'].dt.year == 2023]['Date'],\n",
    "    y=WBStockFull[WBStockFull['Date'].dt.year == 2023]['Open'],\n",
    "    mode='lines',\n",
    "    name='Stock Price (2023)',\n",
    "    line=dict(width=3, color='rgba(100, 100, 100, 0.5)'),\n",
    "    yaxis=\"y1\"\n",
    "))\n",
    "\n",
    "fig.update_layout(\n",
    "    title=\"Stock Price vs. Movie Views (2023)\",\n",
    "    title_font=dict(color=\"black\"),\n",
    "    xaxis_title=\"Date\",\n",
    "    xaxis=dict(\n",
    "        title=\"Date\",\n",
    "        title_font=dict(color=\"black\"),\n",
    "        tickfont=dict(color=\"black\"),\n",
    "        range=[\n",
    "            pd.Timestamp(\"2023-01-01\"),\n",
    "            pd.Timestamp(\"2023-06-30\")\n",
    "        ],\n",
    "        rangeslider=dict(visible=True),\n",
    "    ),\n",
    "    yaxis=dict(\n",
    "        title=\"Stock Price\",\n",
    "        title_font=dict(color=\"black\"),\n",
    "        tickfont=dict(color=\"black\"),\n",
    "        range=[WBStockFull[WBStockFull['Date'].dt.year == 2023]['Open'].min() - 0.3, WBStockFull[WBStockFull['Date'].dt.year == 2023]['Open'].max() + 0.2],\n",
    "        side=\"left\",\n",
    "        showgrid=False\n",
    "    ),\n",
    "    yaxis2=dict(\n",
    "        title=\"Views\",\n",
    "        title_font=dict(color=\"black\"),\n",
    "        tickfont=dict(color=\"black\"),\n",
    "        range=[0, 2000000],\n",
    "        overlaying=\"y\",\n",
    "        side=\"right\",\n",
    "        showgrid=False\n",
    "    ),\n",
    "    legend=dict(font=dict(color=\"black\")),\n",
    "    plot_bgcolor=\"white\",\n",
    "    paper_bgcolor=\"white\",\n",
    "    height=800\n",
    ")\n",
    "\n",
    "html_file = '2023Graph.html'\n",
    "fig.write_html(html_file)\n",
    "\n",
    "\n",
    "fig.show()"
   ]
  },
  {
   "cell_type": "markdown",
   "id": "3542fb46-4e81-4f6f-be37-6800530e5a08",
   "metadata": {},
   "source": []
  },
  {
   "cell_type": "code",
   "execution_count": null,
   "id": "a2a452e2-24af-4724-b2e7-ad7d66d13b69",
   "metadata": {},
   "outputs": [],
   "source": []
  },
  {
   "cell_type": "code",
   "execution_count": null,
   "id": "e376da48-e22f-4cb2-9f8f-d6db82b0efb1",
   "metadata": {},
   "outputs": [],
   "source": []
  },
  {
   "cell_type": "code",
   "execution_count": 43,
   "id": "a7e9d5d3-0fe2-4eb0-a2ac-ae68c1631a1b",
   "metadata": {},
   "outputs": [
    {
     "data": {
      "application/vnd.plotly.v1+json": {
       "config": {
        "plotlyServerURL": "https://plot.ly"
       },
       "data": [
        {
         "customdata": [
          [
           "SupermanDB"
          ],
          [
           "ConjuringDB"
          ],
          [
           "F1DB"
          ],
          [
           "HTTYDDB"
          ]
         ],
         "domain": {
          "x": [
           0,
           1
          ],
          "y": [
           0,
           1
          ]
         },
         "hovertemplate": "Database=%{customdata[0]}<br>Average View Count=%{value}<extra></extra>",
         "labels": [
          "SupermanDB",
          "ConjuringDB",
          "F1DB",
          "HTTYDDB"
         ],
         "legendgroup": "",
         "marker": {
          "colors": [
           "#1900ff",
           "#200033",
           "#ff2a00",
           "#00ffff"
          ]
         },
         "name": "",
         "showlegend": true,
         "type": "pie",
         "values": [
          599775.144486692,
          78146.875,
          1619267.125,
          1274621
         ]
        }
       ],
       "layout": {
        "autosize": true,
        "legend": {
         "tracegroupgap": 0
        },
        "template": {
         "data": {
          "bar": [
           {
            "error_x": {
             "color": "#2a3f5f"
            },
            "error_y": {
             "color": "#2a3f5f"
            },
            "marker": {
             "line": {
              "color": "#E5ECF6",
              "width": 0.5
             },
             "pattern": {
              "fillmode": "overlay",
              "size": 10,
              "solidity": 0.2
             }
            },
            "type": "bar"
           }
          ],
          "barpolar": [
           {
            "marker": {
             "line": {
              "color": "#E5ECF6",
              "width": 0.5
             },
             "pattern": {
              "fillmode": "overlay",
              "size": 10,
              "solidity": 0.2
             }
            },
            "type": "barpolar"
           }
          ],
          "carpet": [
           {
            "aaxis": {
             "endlinecolor": "#2a3f5f",
             "gridcolor": "white",
             "linecolor": "white",
             "minorgridcolor": "white",
             "startlinecolor": "#2a3f5f"
            },
            "baxis": {
             "endlinecolor": "#2a3f5f",
             "gridcolor": "white",
             "linecolor": "white",
             "minorgridcolor": "white",
             "startlinecolor": "#2a3f5f"
            },
            "type": "carpet"
           }
          ],
          "choropleth": [
           {
            "colorbar": {
             "outlinewidth": 0,
             "ticks": ""
            },
            "type": "choropleth"
           }
          ],
          "contour": [
           {
            "colorbar": {
             "outlinewidth": 0,
             "ticks": ""
            },
            "colorscale": [
             [
              0,
              "#0d0887"
             ],
             [
              0.1111111111111111,
              "#46039f"
             ],
             [
              0.2222222222222222,
              "#7201a8"
             ],
             [
              0.3333333333333333,
              "#9c179e"
             ],
             [
              0.4444444444444444,
              "#bd3786"
             ],
             [
              0.5555555555555556,
              "#d8576b"
             ],
             [
              0.6666666666666666,
              "#ed7953"
             ],
             [
              0.7777777777777778,
              "#fb9f3a"
             ],
             [
              0.8888888888888888,
              "#fdca26"
             ],
             [
              1,
              "#f0f921"
             ]
            ],
            "type": "contour"
           }
          ],
          "contourcarpet": [
           {
            "colorbar": {
             "outlinewidth": 0,
             "ticks": ""
            },
            "type": "contourcarpet"
           }
          ],
          "heatmap": [
           {
            "colorbar": {
             "outlinewidth": 0,
             "ticks": ""
            },
            "colorscale": [
             [
              0,
              "#0d0887"
             ],
             [
              0.1111111111111111,
              "#46039f"
             ],
             [
              0.2222222222222222,
              "#7201a8"
             ],
             [
              0.3333333333333333,
              "#9c179e"
             ],
             [
              0.4444444444444444,
              "#bd3786"
             ],
             [
              0.5555555555555556,
              "#d8576b"
             ],
             [
              0.6666666666666666,
              "#ed7953"
             ],
             [
              0.7777777777777778,
              "#fb9f3a"
             ],
             [
              0.8888888888888888,
              "#fdca26"
             ],
             [
              1,
              "#f0f921"
             ]
            ],
            "type": "heatmap"
           }
          ],
          "heatmapgl": [
           {
            "colorbar": {
             "outlinewidth": 0,
             "ticks": ""
            },
            "colorscale": [
             [
              0,
              "#0d0887"
             ],
             [
              0.1111111111111111,
              "#46039f"
             ],
             [
              0.2222222222222222,
              "#7201a8"
             ],
             [
              0.3333333333333333,
              "#9c179e"
             ],
             [
              0.4444444444444444,
              "#bd3786"
             ],
             [
              0.5555555555555556,
              "#d8576b"
             ],
             [
              0.6666666666666666,
              "#ed7953"
             ],
             [
              0.7777777777777778,
              "#fb9f3a"
             ],
             [
              0.8888888888888888,
              "#fdca26"
             ],
             [
              1,
              "#f0f921"
             ]
            ],
            "type": "heatmapgl"
           }
          ],
          "histogram": [
           {
            "marker": {
             "pattern": {
              "fillmode": "overlay",
              "size": 10,
              "solidity": 0.2
             }
            },
            "type": "histogram"
           }
          ],
          "histogram2d": [
           {
            "colorbar": {
             "outlinewidth": 0,
             "ticks": ""
            },
            "colorscale": [
             [
              0,
              "#0d0887"
             ],
             [
              0.1111111111111111,
              "#46039f"
             ],
             [
              0.2222222222222222,
              "#7201a8"
             ],
             [
              0.3333333333333333,
              "#9c179e"
             ],
             [
              0.4444444444444444,
              "#bd3786"
             ],
             [
              0.5555555555555556,
              "#d8576b"
             ],
             [
              0.6666666666666666,
              "#ed7953"
             ],
             [
              0.7777777777777778,
              "#fb9f3a"
             ],
             [
              0.8888888888888888,
              "#fdca26"
             ],
             [
              1,
              "#f0f921"
             ]
            ],
            "type": "histogram2d"
           }
          ],
          "histogram2dcontour": [
           {
            "colorbar": {
             "outlinewidth": 0,
             "ticks": ""
            },
            "colorscale": [
             [
              0,
              "#0d0887"
             ],
             [
              0.1111111111111111,
              "#46039f"
             ],
             [
              0.2222222222222222,
              "#7201a8"
             ],
             [
              0.3333333333333333,
              "#9c179e"
             ],
             [
              0.4444444444444444,
              "#bd3786"
             ],
             [
              0.5555555555555556,
              "#d8576b"
             ],
             [
              0.6666666666666666,
              "#ed7953"
             ],
             [
              0.7777777777777778,
              "#fb9f3a"
             ],
             [
              0.8888888888888888,
              "#fdca26"
             ],
             [
              1,
              "#f0f921"
             ]
            ],
            "type": "histogram2dcontour"
           }
          ],
          "mesh3d": [
           {
            "colorbar": {
             "outlinewidth": 0,
             "ticks": ""
            },
            "type": "mesh3d"
           }
          ],
          "parcoords": [
           {
            "line": {
             "colorbar": {
              "outlinewidth": 0,
              "ticks": ""
             }
            },
            "type": "parcoords"
           }
          ],
          "pie": [
           {
            "automargin": true,
            "type": "pie"
           }
          ],
          "scatter": [
           {
            "fillpattern": {
             "fillmode": "overlay",
             "size": 10,
             "solidity": 0.2
            },
            "type": "scatter"
           }
          ],
          "scatter3d": [
           {
            "line": {
             "colorbar": {
              "outlinewidth": 0,
              "ticks": ""
             }
            },
            "marker": {
             "colorbar": {
              "outlinewidth": 0,
              "ticks": ""
             }
            },
            "type": "scatter3d"
           }
          ],
          "scattercarpet": [
           {
            "marker": {
             "colorbar": {
              "outlinewidth": 0,
              "ticks": ""
             }
            },
            "type": "scattercarpet"
           }
          ],
          "scattergeo": [
           {
            "marker": {
             "colorbar": {
              "outlinewidth": 0,
              "ticks": ""
             }
            },
            "type": "scattergeo"
           }
          ],
          "scattergl": [
           {
            "marker": {
             "colorbar": {
              "outlinewidth": 0,
              "ticks": ""
             }
            },
            "type": "scattergl"
           }
          ],
          "scattermapbox": [
           {
            "marker": {
             "colorbar": {
              "outlinewidth": 0,
              "ticks": ""
             }
            },
            "type": "scattermapbox"
           }
          ],
          "scatterpolar": [
           {
            "marker": {
             "colorbar": {
              "outlinewidth": 0,
              "ticks": ""
             }
            },
            "type": "scatterpolar"
           }
          ],
          "scatterpolargl": [
           {
            "marker": {
             "colorbar": {
              "outlinewidth": 0,
              "ticks": ""
             }
            },
            "type": "scatterpolargl"
           }
          ],
          "scatterternary": [
           {
            "marker": {
             "colorbar": {
              "outlinewidth": 0,
              "ticks": ""
             }
            },
            "type": "scatterternary"
           }
          ],
          "surface": [
           {
            "colorbar": {
             "outlinewidth": 0,
             "ticks": ""
            },
            "colorscale": [
             [
              0,
              "#0d0887"
             ],
             [
              0.1111111111111111,
              "#46039f"
             ],
             [
              0.2222222222222222,
              "#7201a8"
             ],
             [
              0.3333333333333333,
              "#9c179e"
             ],
             [
              0.4444444444444444,
              "#bd3786"
             ],
             [
              0.5555555555555556,
              "#d8576b"
             ],
             [
              0.6666666666666666,
              "#ed7953"
             ],
             [
              0.7777777777777778,
              "#fb9f3a"
             ],
             [
              0.8888888888888888,
              "#fdca26"
             ],
             [
              1,
              "#f0f921"
             ]
            ],
            "type": "surface"
           }
          ],
          "table": [
           {
            "cells": {
             "fill": {
              "color": "#EBF0F8"
             },
             "line": {
              "color": "white"
             }
            },
            "header": {
             "fill": {
              "color": "#C8D4E3"
             },
             "line": {
              "color": "white"
             }
            },
            "type": "table"
           }
          ]
         },
         "layout": {
          "annotationdefaults": {
           "arrowcolor": "#2a3f5f",
           "arrowhead": 0,
           "arrowwidth": 1
          },
          "autotypenumbers": "strict",
          "coloraxis": {
           "colorbar": {
            "outlinewidth": 0,
            "ticks": ""
           }
          },
          "colorscale": {
           "diverging": [
            [
             0,
             "#8e0152"
            ],
            [
             0.1,
             "#c51b7d"
            ],
            [
             0.2,
             "#de77ae"
            ],
            [
             0.3,
             "#f1b6da"
            ],
            [
             0.4,
             "#fde0ef"
            ],
            [
             0.5,
             "#f7f7f7"
            ],
            [
             0.6,
             "#e6f5d0"
            ],
            [
             0.7,
             "#b8e186"
            ],
            [
             0.8,
             "#7fbc41"
            ],
            [
             0.9,
             "#4d9221"
            ],
            [
             1,
             "#276419"
            ]
           ],
           "sequential": [
            [
             0,
             "#0d0887"
            ],
            [
             0.1111111111111111,
             "#46039f"
            ],
            [
             0.2222222222222222,
             "#7201a8"
            ],
            [
             0.3333333333333333,
             "#9c179e"
            ],
            [
             0.4444444444444444,
             "#bd3786"
            ],
            [
             0.5555555555555556,
             "#d8576b"
            ],
            [
             0.6666666666666666,
             "#ed7953"
            ],
            [
             0.7777777777777778,
             "#fb9f3a"
            ],
            [
             0.8888888888888888,
             "#fdca26"
            ],
            [
             1,
             "#f0f921"
            ]
           ],
           "sequentialminus": [
            [
             0,
             "#0d0887"
            ],
            [
             0.1111111111111111,
             "#46039f"
            ],
            [
             0.2222222222222222,
             "#7201a8"
            ],
            [
             0.3333333333333333,
             "#9c179e"
            ],
            [
             0.4444444444444444,
             "#bd3786"
            ],
            [
             0.5555555555555556,
             "#d8576b"
            ],
            [
             0.6666666666666666,
             "#ed7953"
            ],
            [
             0.7777777777777778,
             "#fb9f3a"
            ],
            [
             0.8888888888888888,
             "#fdca26"
            ],
            [
             1,
             "#f0f921"
            ]
           ]
          },
          "colorway": [
           "#636efa",
           "#EF553B",
           "#00cc96",
           "#ab63fa",
           "#FFA15A",
           "#19d3f3",
           "#FF6692",
           "#B6E880",
           "#FF97FF",
           "#FECB52"
          ],
          "font": {
           "color": "#2a3f5f"
          },
          "geo": {
           "bgcolor": "white",
           "lakecolor": "white",
           "landcolor": "#E5ECF6",
           "showlakes": true,
           "showland": true,
           "subunitcolor": "white"
          },
          "hoverlabel": {
           "align": "left"
          },
          "hovermode": "closest",
          "mapbox": {
           "style": "light"
          },
          "paper_bgcolor": "white",
          "plot_bgcolor": "#E5ECF6",
          "polar": {
           "angularaxis": {
            "gridcolor": "white",
            "linecolor": "white",
            "ticks": ""
           },
           "bgcolor": "#E5ECF6",
           "radialaxis": {
            "gridcolor": "white",
            "linecolor": "white",
            "ticks": ""
           }
          },
          "scene": {
           "xaxis": {
            "backgroundcolor": "#E5ECF6",
            "gridcolor": "white",
            "gridwidth": 2,
            "linecolor": "white",
            "showbackground": true,
            "ticks": "",
            "zerolinecolor": "white"
           },
           "yaxis": {
            "backgroundcolor": "#E5ECF6",
            "gridcolor": "white",
            "gridwidth": 2,
            "linecolor": "white",
            "showbackground": true,
            "ticks": "",
            "zerolinecolor": "white"
           },
           "zaxis": {
            "backgroundcolor": "#E5ECF6",
            "gridcolor": "white",
            "gridwidth": 2,
            "linecolor": "white",
            "showbackground": true,
            "ticks": "",
            "zerolinecolor": "white"
           }
          },
          "shapedefaults": {
           "line": {
            "color": "#2a3f5f"
           }
          },
          "ternary": {
           "aaxis": {
            "gridcolor": "white",
            "linecolor": "white",
            "ticks": ""
           },
           "baxis": {
            "gridcolor": "white",
            "linecolor": "white",
            "ticks": ""
           },
           "bgcolor": "#E5ECF6",
           "caxis": {
            "gridcolor": "white",
            "linecolor": "white",
            "ticks": ""
           }
          },
          "title": {
           "x": 0.05
          },
          "xaxis": {
           "automargin": true,
           "gridcolor": "white",
           "linecolor": "white",
           "ticks": "",
           "title": {
            "standoff": 15
           },
           "zerolinecolor": "white",
           "zerolinewidth": 2
          },
          "yaxis": {
           "automargin": true,
           "gridcolor": "white",
           "linecolor": "white",
           "ticks": "",
           "title": {
            "standoff": 15
           },
           "zerolinecolor": "white",
           "zerolinewidth": 2
          }
         }
        },
        "title": {
         "text": "Percentage of Total Views"
        }
       }
      },
      "image/png": "[encoded data removed]",
      "text/html": [
       "<div>                            <div id=\"357756a2-eaea-4912-8e7d-d0311e84c60c\" class=\"plotly-graph-div\" style=\"height:525px; width:100%;\"></div>            <script type=\"text/javascript\">                require([\"plotly\"], function(Plotly) {                    window.PLOTLYENV=window.PLOTLYENV || {};                                    if (document.getElementById(\"357756a2-eaea-4912-8e7d-d0311e84c60c\")) {                    Plotly.newPlot(                        \"357756a2-eaea-4912-8e7d-d0311e84c60c\",                        [{\"customdata\":[[\"SupermanDB\"],[\"ConjuringDB\"],[\"F1DB\"],[\"HTTYDDB\"]],\"domain\":{\"x\":[0.0,1.0],\"y\":[0.0,1.0]},\"hovertemplate\":\"Database=%{customdata[0]}\\u003cbr\\u003eAverage View Count=%{value}\\u003cextra\\u003e\\u003c\\u002fextra\\u003e\",\"labels\":[\"SupermanDB\",\"ConjuringDB\",\"F1DB\",\"HTTYDDB\"],\"legendgroup\":\"\",\"marker\":{\"colors\":[\"#1900ff\",\"#200033\",\"#ff2a00\",\"#00ffff\"]},\"name\":\"\",\"showlegend\":true,\"values\":[599775.144486692,78146.875,1619267.125,1274621.0],\"type\":\"pie\"}],                        {\"template\":{\"data\":{\"histogram2dcontour\":[{\"type\":\"histogram2dcontour\",\"colorbar\":{\"outlinewidth\":0,\"ticks\":\"\"},\"colorscale\":[[0.0,\"#0d0887\"],[0.1111111111111111,\"#46039f\"],[0.2222222222222222,\"#7201a8\"],[0.3333333333333333,\"#9c179e\"],[0.4444444444444444,\"#bd3786\"],[0.5555555555555556,\"#d8576b\"],[0.6666666666666666,\"#ed7953\"],[0.7777777777777778,\"#fb9f3a\"],[0.8888888888888888,\"#fdca26\"],[1.0,\"#f0f921\"]]}],\"choropleth\":[{\"type\":\"choropleth\",\"colorbar\":{\"outlinewidth\":0,\"ticks\":\"\"}}],\"histogram2d\":[{\"type\":\"histogram2d\",\"colorbar\":{\"outlinewidth\":0,\"ticks\":\"\"},\"colorscale\":[[0.0,\"#0d0887\"],[0.1111111111111111,\"#46039f\"],[0.2222222222222222,\"#7201a8\"],[0.3333333333333333,\"#9c179e\"],[0.4444444444444444,\"#bd3786\"],[0.5555555555555556,\"#d8576b\"],[0.6666666666666666,\"#ed7953\"],[0.7777777777777778,\"#fb9f3a\"],[0.8888888888888888,\"#fdca26\"],[1.0,\"#f0f921\"]]}],\"heatmap\":[{\"type\":\"heatmap\",\"colorbar\":{\"outlinewidth\":0,\"ticks\":\"\"},\"colorscale\":[[0.0,\"#0d0887\"],[0.1111111111111111,\"#46039f\"],[0.2222222222222222,\"#7201a8\"],[0.3333333333333333,\"#9c179e\"],[0.4444444444444444,\"#bd3786\"],[0.5555555555555556,\"#d8576b\"],[0.6666666666666666,\"#ed7953\"],[0.7777777777777778,\"#fb9f3a\"],[0.8888888888888888,\"#fdca26\"],[1.0,\"#f0f921\"]]}],\"heatmapgl\":[{\"type\":\"heatmapgl\",\"colorbar\":{\"outlinewidth\":0,\"ticks\":\"\"},\"colorscale\":[[0.0,\"#0d0887\"],[0.1111111111111111,\"#46039f\"],[0.2222222222222222,\"#7201a8\"],[0.3333333333333333,\"#9c179e\"],[0.4444444444444444,\"#bd3786\"],[0.5555555555555556,\"#d8576b\"],[0.6666666666666666,\"#ed7953\"],[0.7777777777777778,\"#fb9f3a\"],[0.8888888888888888,\"#fdca26\"],[1.0,\"#f0f921\"]]}],\"contourcarpet\":[{\"type\":\"contourcarpet\",\"colorbar\":{\"outlinewidth\":0,\"ticks\":\"\"}}],\"contour\":[{\"type\":\"contour\",\"colorbar\":{\"outlinewidth\":0,\"ticks\":\"\"},\"colorscale\":[[0.0,\"#0d0887\"],[0.1111111111111111,\"#46039f\"],[0.2222222222222222,\"#7201a8\"],[0.3333333333333333,\"#9c179e\"],[0.4444444444444444,\"#bd3786\"],[0.5555555555555556,\"#d8576b\"],[0.6666666666666666,\"#ed7953\"],[0.7777777777777778,\"#fb9f3a\"],[0.8888888888888888,\"#fdca26\"],[1.0,\"#f0f921\"]]}],\"surface\":[{\"type\":\"surface\",\"colorbar\":{\"outlinewidth\":0,\"ticks\":\"\"},\"colorscale\":[[0.0,\"#0d0887\"],[0.1111111111111111,\"#46039f\"],[0.2222222222222222,\"#7201a8\"],[0.3333333333333333,\"#9c179e\"],[0.4444444444444444,\"#bd3786\"],[0.5555555555555556,\"#d8576b\"],[0.6666666666666666,\"#ed7953\"],[0.7777777777777778,\"#fb9f3a\"],[0.8888888888888888,\"#fdca26\"],[1.0,\"#f0f921\"]]}],\"mesh3d\":[{\"type\":\"mesh3d\",\"colorbar\":{\"outlinewidth\":0,\"ticks\":\"\"}}],\"scatter\":[{\"fillpattern\":{\"fillmode\":\"overlay\",\"size\":10,\"solidity\":0.2},\"type\":\"scatter\"}],\"parcoords\":[{\"type\":\"parcoords\",\"line\":{\"colorbar\":{\"outlinewidth\":0,\"ticks\":\"\"}}}],\"scatterpolargl\":[{\"type\":\"scatterpolargl\",\"marker\":{\"colorbar\":{\"outlinewidth\":0,\"ticks\":\"\"}}}],\"bar\":[{\"error_x\":{\"color\":\"#2a3f5f\"},\"error_y\":{\"color\":\"#2a3f5f\"},\"marker\":{\"line\":{\"color\":\"#E5ECF6\",\"width\":0.5},\"pattern\":{\"fillmode\":\"overlay\",\"size\":10,\"solidity\":0.2}},\"type\":\"bar\"}],\"scattergeo\":[{\"type\":\"scattergeo\",\"marker\":{\"colorbar\":{\"outlinewidth\":0,\"ticks\":\"\"}}}],\"scatterpolar\":[{\"type\":\"scatterpolar\",\"marker\":{\"colorbar\":{\"outlinewidth\":0,\"ticks\":\"\"}}}],\"histogram\":[{\"marker\":{\"pattern\":{\"fillmode\":\"overlay\",\"size\":10,\"solidity\":0.2}},\"type\":\"histogram\"}],\"scattergl\":[{\"type\":\"scattergl\",\"marker\":{\"colorbar\":{\"outlinewidth\":0,\"ticks\":\"\"}}}],\"scatter3d\":[{\"type\":\"scatter3d\",\"line\":{\"colorbar\":{\"outlinewidth\":0,\"ticks\":\"\"}},\"marker\":{\"colorbar\":{\"outlinewidth\":0,\"ticks\":\"\"}}}],\"scattermapbox\":[{\"type\":\"scattermapbox\",\"marker\":{\"colorbar\":{\"outlinewidth\":0,\"ticks\":\"\"}}}],\"scatterternary\":[{\"type\":\"scatterternary\",\"marker\":{\"colorbar\":{\"outlinewidth\":0,\"ticks\":\"\"}}}],\"scattercarpet\":[{\"type\":\"scattercarpet\",\"marker\":{\"colorbar\":{\"outlinewidth\":0,\"ticks\":\"\"}}}],\"carpet\":[{\"aaxis\":{\"endlinecolor\":\"#2a3f5f\",\"gridcolor\":\"white\",\"linecolor\":\"white\",\"minorgridcolor\":\"white\",\"startlinecolor\":\"#2a3f5f\"},\"baxis\":{\"endlinecolor\":\"#2a3f5f\",\"gridcolor\":\"white\",\"linecolor\":\"white\",\"minorgridcolor\":\"white\",\"startlinecolor\":\"#2a3f5f\"},\"type\":\"carpet\"}],\"table\":[{\"cells\":{\"fill\":{\"color\":\"#EBF0F8\"},\"line\":{\"color\":\"white\"}},\"header\":{\"fill\":{\"color\":\"#C8D4E3\"},\"line\":{\"color\":\"white\"}},\"type\":\"table\"}],\"barpolar\":[{\"marker\":{\"line\":{\"color\":\"#E5ECF6\",\"width\":0.5},\"pattern\":{\"fillmode\":\"overlay\",\"size\":10,\"solidity\":0.2}},\"type\":\"barpolar\"}],\"pie\":[{\"automargin\":true,\"type\":\"pie\"}]},\"layout\":{\"autotypenumbers\":\"strict\",\"colorway\":[\"#636efa\",\"#EF553B\",\"#00cc96\",\"#ab63fa\",\"#FFA15A\",\"#19d3f3\",\"#FF6692\",\"#B6E880\",\"#FF97FF\",\"#FECB52\"],\"font\":{\"color\":\"#2a3f5f\"},\"hovermode\":\"closest\",\"hoverlabel\":{\"align\":\"left\"},\"paper_bgcolor\":\"white\",\"plot_bgcolor\":\"#E5ECF6\",\"polar\":{\"bgcolor\":\"#E5ECF6\",\"angularaxis\":{\"gridcolor\":\"white\",\"linecolor\":\"white\",\"ticks\":\"\"},\"radialaxis\":{\"gridcolor\":\"white\",\"linecolor\":\"white\",\"ticks\":\"\"}},\"ternary\":{\"bgcolor\":\"#E5ECF6\",\"aaxis\":{\"gridcolor\":\"white\",\"linecolor\":\"white\",\"ticks\":\"\"},\"baxis\":{\"gridcolor\":\"white\",\"linecolor\":\"white\",\"ticks\":\"\"},\"caxis\":{\"gridcolor\":\"white\",\"linecolor\":\"white\",\"ticks\":\"\"}},\"coloraxis\":{\"colorbar\":{\"outlinewidth\":0,\"ticks\":\"\"}},\"colorscale\":{\"sequential\":[[0.0,\"#0d0887\"],[0.1111111111111111,\"#46039f\"],[0.2222222222222222,\"#7201a8\"],[0.3333333333333333,\"#9c179e\"],[0.4444444444444444,\"#bd3786\"],[0.5555555555555556,\"#d8576b\"],[0.6666666666666666,\"#ed7953\"],[0.7777777777777778,\"#fb9f3a\"],[0.8888888888888888,\"#fdca26\"],[1.0,\"#f0f921\"]],\"sequentialminus\":[[0.0,\"#0d0887\"],[0.1111111111111111,\"#46039f\"],[0.2222222222222222,\"#7201a8\"],[0.3333333333333333,\"#9c179e\"],[0.4444444444444444,\"#bd3786\"],[0.5555555555555556,\"#d8576b\"],[0.6666666666666666,\"#ed7953\"],[0.7777777777777778,\"#fb9f3a\"],[0.8888888888888888,\"#fdca26\"],[1.0,\"#f0f921\"]],\"diverging\":[[0,\"#8e0152\"],[0.1,\"#c51b7d\"],[0.2,\"#de77ae\"],[0.3,\"#f1b6da\"],[0.4,\"#fde0ef\"],[0.5,\"#f7f7f7\"],[0.6,\"#e6f5d0\"],[0.7,\"#b8e186\"],[0.8,\"#7fbc41\"],[0.9,\"#4d9221\"],[1,\"#276419\"]]},\"xaxis\":{\"gridcolor\":\"white\",\"linecolor\":\"white\",\"ticks\":\"\",\"title\":{\"standoff\":15},\"zerolinecolor\":\"white\",\"automargin\":true,\"zerolinewidth\":2},\"yaxis\":{\"gridcolor\":\"white\",\"linecolor\":\"white\",\"ticks\":\"\",\"title\":{\"standoff\":15},\"zerolinecolor\":\"white\",\"automargin\":true,\"zerolinewidth\":2},\"scene\":{\"xaxis\":{\"backgroundcolor\":\"#E5ECF6\",\"gridcolor\":\"white\",\"linecolor\":\"white\",\"showbackground\":true,\"ticks\":\"\",\"zerolinecolor\":\"white\",\"gridwidth\":2},\"yaxis\":{\"backgroundcolor\":\"#E5ECF6\",\"gridcolor\":\"white\",\"linecolor\":\"white\",\"showbackground\":true,\"ticks\":\"\",\"zerolinecolor\":\"white\",\"gridwidth\":2},\"zaxis\":{\"backgroundcolor\":\"#E5ECF6\",\"gridcolor\":\"white\",\"linecolor\":\"white\",\"showbackground\":true,\"ticks\":\"\",\"zerolinecolor\":\"white\",\"gridwidth\":2}},\"shapedefaults\":{\"line\":{\"color\":\"#2a3f5f\"}},\"annotationdefaults\":{\"arrowcolor\":\"#2a3f5f\",\"arrowhead\":0,\"arrowwidth\":1},\"geo\":{\"bgcolor\":\"white\",\"landcolor\":\"#E5ECF6\",\"subunitcolor\":\"white\",\"showland\":true,\"showlakes\":true,\"lakecolor\":\"white\"},\"title\":{\"x\":0.05},\"mapbox\":{\"style\":\"light\"}}},\"legend\":{\"tracegroupgap\":0},\"title\":{\"text\":\"Percentage of Total Views\"}},                        {\"responsive\": true}                    ).then(function(){\n",
       "                            \n",
       "var gd = document.getElementById('357756a2-eaea-4912-8e7d-d0311e84c60c');\n",
       "var x = new MutationObserver(function (mutations, observer) {{\n",
       "        var display = window.getComputedStyle(gd).display;\n",
       "        if (!display || display === 'none') {{\n",
       "            console.log([gd, 'removed!']);\n",
       "            Plotly.purge(gd);\n",
       "            observer.disconnect();\n",
       "        }}\n",
       "}});\n",
       "\n",
       "// Listen for the removal of the full notebook cells\n",
       "var notebookContainer = gd.closest('#notebook-container');\n",
       "if (notebookContainer) {{\n",
       "    x.observe(notebookContainer, {childList: true});\n",
       "}}\n",
       "\n",
       "// Listen for the clearing of the current output cell\n",
       "var outputEl = gd.closest('.output');\n",
       "if (outputEl) {{\n",
       "    x.observe(outputEl, {childList: true});\n",
       "}}\n",
       "\n",
       "                        })                };                });            </script>        </div>"
      ]
     },
     "metadata": {},
     "output_type": "display_data"
    }
   ],
   "source": [
    "average_view_counts = {\n",
    "    \"SupermanDB\": SupermanDB['view_count'].mean(),\n",
    "    \"ConjuringDB\": ConjuringDB['view_count'].mean(),\n",
    "    \"F1DB\": F1DB['view_count'].mean(),\n",
    "    \"HTTYDDB\": HTTYDDB['view_count'].mean(),\n",
    "}\n",
    "\n",
    "view_counts_df = pd.DataFrame(\n",
    "    list(average_view_counts.items()),\n",
    "    columns=[\"Database\", \"Average View Count\"]\n",
    ")\n",
    "\n",
    "custom_colors = {\n",
    "    \"SupermanDB\": \"#1900ff\",\n",
    "    \"ConjuringDB\": \"#200033\",\n",
    "    \"F1DB\": \"#ff2a00\",\n",
    "    \"HTTYDDB\": \"#00ffff\"\n",
    "}\n",
    "\n",
    "view_counts_df['Database'] = pd.Categorical(\n",
    "    view_counts_df['Database'],\n",
    "    categories=[\"SupermanDB\", \"ConjuringDB\", \"F1DB\", \"HTTYDDB\"],\n",
    "    ordered=True\n",
    ")\n",
    "\n",
    "fig = px.pie(\n",
    "    view_counts_df,\n",
    "    values='Average View Count',\n",
    "    names='Database',\n",
    "    title='Percentage of Total Views',\n",
    "    color='Database',\n",
    "    color_discrete_map=custom_colors\n",
    ")\n",
    "\n",
    "html_file = '2025.html'\n",
    "fig.write_html(html_file)\n",
    "fig.show()"
   ]
  }
 ],
 "metadata": {
  "kernelspec": {
   "display_name": "Python 3 (ipykernel)",
   "language": "python",
   "name": "python3"
  },
  "language_info": {
   "codemirror_mode": {
    "name": "ipython",
    "version": 3
   },
   "file_extension": ".py",
   "mimetype": "text/x-python",
   "name": "python",
   "nbconvert_exporter": "python",
   "pygments_lexer": "ipython3",
   "version": "3.12.8"
  }
 },
 "nbformat": 4,
 "nbformat_minor": 5
}
